{
 "cells": [
  {
   "cell_type": "markdown",
   "id": "d1bf0929",
   "metadata": {},
   "source": [
    "All Association models \n",
    "Pseudo fit\n",
    "All ensemble association models\n",
    "Pseudo fit"
   ]
  },
  {
   "cell_type": "code",
   "execution_count": null,
   "id": "fa9150ce",
   "metadata": {},
   "outputs": [],
   "source": []
  }
 ],
 "metadata": {
  "kernelspec": {
   "display_name": "Python 3 (ipykernel)",
   "language": "python",
   "name": "python3"
  },
  "language_info": {
   "codemirror_mode": {
    "name": "ipython",
    "version": 3
   },
   "file_extension": ".py",
   "mimetype": "text/x-python",
   "name": "python",
   "nbconvert_exporter": "python",
   "pygments_lexer": "ipython3",
   "version": "3.9.7"
  }
 },
 "nbformat": 4,
 "nbformat_minor": 5
}

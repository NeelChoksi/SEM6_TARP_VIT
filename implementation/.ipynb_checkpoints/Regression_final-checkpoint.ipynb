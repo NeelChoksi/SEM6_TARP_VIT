{
 "cells": [
  {
   "cell_type": "markdown",
   "id": "f4cb2fdb",
   "metadata": {},
   "source": [
    "# Dataset"
   ]
  },
  {
   "cell_type": "code",
   "execution_count": null,
   "id": "be7efe61",
   "metadata": {},
   "outputs": [],
   "source": []
  },
  {
   "cell_type": "markdown",
   "id": "067382d3",
   "metadata": {},
   "source": [
    "# Analytics"
   ]
  },
  {
   "cell_type": "code",
   "execution_count": null,
   "id": "17a05db2",
   "metadata": {},
   "outputs": [],
   "source": []
  },
  {
   "cell_type": "markdown",
   "id": "b5ab7be5",
   "metadata": {},
   "source": [
    "# Linear Ridge Lasso"
   ]
  },
  {
   "cell_type": "code",
   "execution_count": null,
   "id": "c68bdfe7",
   "metadata": {},
   "outputs": [],
   "source": []
  },
  {
   "cell_type": "markdown",
   "id": "2b7cefcd",
   "metadata": {},
   "source": [
    "# Decision Tree --> Random Forest --> XG Boosting"
   ]
  },
  {
   "cell_type": "code",
   "execution_count": null,
   "id": "8c54de19",
   "metadata": {},
   "outputs": [],
   "source": []
  }
 ],
 "metadata": {
  "kernelspec": {
   "display_name": "Python 3 (ipykernel)",
   "language": "python",
   "name": "python3"
  },
  "language_info": {
   "codemirror_mode": {
    "name": "ipython",
    "version": 3
   },
   "file_extension": ".py",
   "mimetype": "text/x-python",
   "name": "python",
   "nbconvert_exporter": "python",
   "pygments_lexer": "ipython3",
   "version": "3.9.7"
  }
 },
 "nbformat": 4,
 "nbformat_minor": 5
}

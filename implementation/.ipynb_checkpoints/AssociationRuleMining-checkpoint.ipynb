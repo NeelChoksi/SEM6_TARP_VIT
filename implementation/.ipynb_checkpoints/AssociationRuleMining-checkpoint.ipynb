{
 "cells": [
  {
   "cell_type": "markdown",
   "id": "d1bf0929",
   "metadata": {},
   "source": [
    "All Association models \n",
    "Pseudo fit\n"
   ]
  },
  {
   "cell_type": "markdown",
   "id": "c0c5800f",
   "metadata": {},
   "source": [
    "# All Association Rule Mining Models"
   ]
  },
  {
   "cell_type": "markdown",
   "id": "d230b90f",
   "metadata": {},
   "source": [
    "# Pseudo fit"
   ]
  },
  {
   "cell_type": "markdown",
   "id": "28c5000c",
   "metadata": {},
   "source": [
    "- problem : predict frequently occuring item sets for ground owner , customers\n",
    "\n",
    "- for ground owner :(date(not required)-pk,year(not required),day, month, week number , groundName, timeslot chosen , sport chosen )\n",
    "- {sport , timeslot}\n",
    "- {sport , timeslot , day}\n",
    "- {sport , timeslot , month}\n",
    "- {sport , timeslot , month , weekNumber}\n",
    "\n",
    "\n",
    "- for customers :(groundName, sport , timeslot )\n",
    "- {sport , timeslot}\n",
    "- {sport , timeslot , ground}\n"
   ]
  },
  {
   "cell_type": "markdown",
   "id": "6677d6e1",
   "metadata": {},
   "source": []
  },
  {
   "cell_type": "code",
   "execution_count": null,
   "id": "3e895162",
   "metadata": {},
   "outputs": [],
   "source": []
  }
 ],
 "metadata": {
  "kernelspec": {
   "display_name": "Python 3 (ipykernel)",
   "language": "python",
   "name": "python3"
  },
  "language_info": {
   "codemirror_mode": {
    "name": "ipython",
    "version": 3
   },
   "file_extension": ".py",
   "mimetype": "text/x-python",
   "name": "python",
   "nbconvert_exporter": "python",
   "pygments_lexer": "ipython3",
   "version": "3.9.7"
  }
 },
 "nbformat": 4,
 "nbformat_minor": 5
}

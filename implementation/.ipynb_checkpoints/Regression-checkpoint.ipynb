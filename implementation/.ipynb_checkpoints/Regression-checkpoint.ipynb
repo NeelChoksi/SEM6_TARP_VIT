{
 "cells": [
  {
   "cell_type": "markdown",
   "id": "20bfd9e0",
   "metadata": {},
   "source": [
    "All Regression models \n",
    "Pseudo fit\n",
    "All Ensemble Regression \n",
    "Pseudo fit\n",
    "Own fit (From rp)"
   ]
  },
  {
   "cell_type": "code",
   "execution_count": null,
   "id": "5b3001a3",
   "metadata": {},
   "outputs": [],
   "source": []
  }
 ],
 "metadata": {
  "kernelspec": {
   "display_name": "Python 3 (ipykernel)",
   "language": "python",
   "name": "python3"
  },
  "language_info": {
   "codemirror_mode": {
    "name": "ipython",
    "version": 3
   },
   "file_extension": ".py",
   "mimetype": "text/x-python",
   "name": "python",
   "nbconvert_exporter": "python",
   "pygments_lexer": "ipython3",
   "version": "3.9.7"
  }
 },
 "nbformat": 4,
 "nbformat_minor": 5
}

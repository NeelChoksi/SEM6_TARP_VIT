{
 "cells": [
  {
   "cell_type": "markdown",
   "id": "20bfd9e0",
   "metadata": {},
   "source": [
    "All Regression models \n",
    "Pseudo fit\n",
    "All Ensemble Regression \n",
    "Pseudo fit\n",
    "Own fit (From rp)"
   ]
  },
  {
   "cell_type": "markdown",
   "id": "39af2b40",
   "metadata": {},
   "source": [
    "# All Regression Models"
   ]
  },
  {
   "cell_type": "markdown",
   "id": "c4120eed",
   "metadata": {},
   "source": [
    "## 1. Linear Regression "
   ]
  },
  {
   "cell_type": "markdown",
   "id": "87d56e8d",
   "metadata": {},
   "source": [
    "## 2. Logistic Regression "
   ]
  },
  {
   "cell_type": "markdown",
   "id": "825d0a4d",
   "metadata": {},
   "source": [
    "## 3. Decision Trees"
   ]
  },
  {
   "cell_type": "markdown",
   "id": "880d2b11",
   "metadata": {},
   "source": [
    "## 4. Random Forest "
   ]
  },
  {
   "cell_type": "markdown",
   "id": "3af919a3",
   "metadata": {},
   "source": [
    "## 5. Gradient Boosting"
   ]
  },
  {
   "cell_type": "markdown",
   "id": "17f517c8",
   "metadata": {},
   "source": [
    "## 6. Unsupervised : recommendation"
   ]
  },
  {
   "cell_type": "markdown",
   "id": "d99769f7",
   "metadata": {},
   "source": [
    "## more models from 50 - 83"
   ]
  },
  {
   "cell_type": "markdown",
   "id": "02cf2be3",
   "metadata": {},
   "source": [
    "# Pseudo Fit \n",
    "- problem : \n",
    "1. For Ground owner :(date(not required)-pk,year(not required),day, month, week number , groundName, timeslot chosen , sport chosen ) --> cost spent\n",
    "\n",
    "more things to predict with this data\n",
    "- predicting # people : \n",
    "- (weekNumber-pk ,day ,  ) --> #people visiting\n",
    "- (weekNumber-pk ,month ,  ) --> #people visiting\n",
    "- (weekNumber-pk ,day, timeslot ,  ) --> #people visiting\n",
    "- (weekNumber-pk ,day, sportChosen ,  ) --> #people visiting\n",
    "- (weekNumber-pk ,month, timeslot ,  ) --> #people visiting\n",
    "- (weekNumber-pk ,month, sportChosen ,  ) --> #people visiting\n",
    "- ( year, ) --> # people visiting\n",
    "\n",
    "\n",
    "- yearwise analytics on : \n",
    "- #poeple visiting on day vs days \n",
    "- #people visiting in month vs months\n",
    "- #people choosing that timeslot vs timeslots \n",
    "- #people choosing that sport vs sports\n",
    "\n",
    "\n",
    "- predicting revenue\n",
    "- (weekNumber-pk ,day ,  ) --> revenue generated\n",
    "- (weekNumber-pk ,month ,  ) --> revenue generated\n",
    "- (weekNumber-pk ,day, timeslot ,  ) --> revenue generated\n",
    "- (weekNumber-pk ,day, sportChosen ,  ) --> revenue generated\n",
    "- (weekNumber-pk ,month, timeslot ,  ) --> revenue generated\n",
    "- (weekNumber-pk ,month, sportChosen ,  ) --> revenue generated\n",
    "- ( year, ) --> # revenue generated\n",
    "\n",
    "\n",
    "- yearwise analytics on : \n",
    "- revenue of day vs days\n",
    "- revenue of month vs months\n",
    "- revenue of timeslot vs timeslots \n",
    "- revenue of sport vs sports\n",
    "\n",
    "\n",
    "2. For  Customer : (groundName, sport , timeslot , cost spent ) --> cost spent \n",
    "- predicting cost spent\n",
    "\n",
    "- analytics on:\n",
    "-  number of users visiting ground vs grounds \n",
    "- number of users selecting a sport vs sports\n",
    "- number of users selecting a timeslot vs timeslots \n"
   ]
  },
  {
   "cell_type": "markdown",
   "id": "7999054a",
   "metadata": {},
   "source": [
    "# All Ensemble Techniques\n",
    "- methods understand from 84 - 102 \n",
    "- implement by searching method name "
   ]
  },
  {
   "cell_type": "markdown",
   "id": "59624ee6",
   "metadata": {},
   "source": [
    "# Pseudo Fit "
   ]
  },
  {
   "cell_type": "markdown",
   "id": "b4f84464",
   "metadata": {},
   "source": [
    "# Own Fit (from rp)"
   ]
  },
  {
   "cell_type": "code",
   "execution_count": null,
   "id": "52333aab",
   "metadata": {},
   "outputs": [],
   "source": []
  }
 ],
 "metadata": {
  "kernelspec": {
   "display_name": "Python 3 (ipykernel)",
   "language": "python",
   "name": "python3"
  },
  "language_info": {
   "codemirror_mode": {
    "name": "ipython",
    "version": 3
   },
   "file_extension": ".py",
   "mimetype": "text/x-python",
   "name": "python",
   "nbconvert_exporter": "python",
   "pygments_lexer": "ipython3",
   "version": "3.9.7"
  }
 },
 "nbformat": 4,
 "nbformat_minor": 5
}

{
 "cells": [
  {
   "cell_type": "markdown",
   "id": "6785e983",
   "metadata": {},
   "source": [
    "All Sentiment Models\n",
    "Pseudo fit \n",
    "All Ensemble Sentiment\n",
    "Pseudo Fit\n",
    "Own Fit (From rp)"
   ]
  },
  {
   "cell_type": "markdown",
   "id": "0c1497e8",
   "metadata": {},
   "source": [
    "# All Sentiment Models \n",
    "- standard datasets "
   ]
  },
  {
   "cell_type": "markdown",
   "id": "890f346c",
   "metadata": {},
   "source": [
    "## 1. Naive Bayes"
   ]
  },
  {
   "cell_type": "code",
   "execution_count": null,
   "id": "78a2f551",
   "metadata": {},
   "outputs": [],
   "source": []
  },
  {
   "cell_type": "markdown",
   "id": "9c56bbd8",
   "metadata": {},
   "source": [
    "## 2. Support Vector Machine"
   ]
  },
  {
   "cell_type": "markdown",
   "id": "0c80d4e5",
   "metadata": {},
   "source": [
    "## 3. Feed Forward Neural Network "
   ]
  },
  {
   "cell_type": "markdown",
   "id": "31fea657",
   "metadata": {},
   "source": [
    "## 4. LSTM  "
   ]
  },
  {
   "cell_type": "markdown",
   "id": "a7fd5566",
   "metadata": {},
   "source": [
    "## 5. GRU"
   ]
  },
  {
   "cell_type": "markdown",
   "id": "35d04728",
   "metadata": {},
   "source": [
    "## 6. CNN"
   ]
  },
  {
   "cell_type": "markdown",
   "id": "6634dca9",
   "metadata": {},
   "source": [
    "# Pseudo Fit : (fitting pseudo app customer review data into the model)"
   ]
  },
  {
   "cell_type": "code",
   "execution_count": null,
   "id": "0c372503",
   "metadata": {},
   "outputs": [],
   "source": []
  },
  {
   "cell_type": "markdown",
   "id": "3f19f26e",
   "metadata": {},
   "source": [
    "# Ensemble Sentiment Models "
   ]
  },
  {
   "cell_type": "code",
   "execution_count": null,
   "id": "e2531309",
   "metadata": {},
   "outputs": [],
   "source": []
  },
  {
   "cell_type": "markdown",
   "id": "ece8c484",
   "metadata": {},
   "source": [
    "# Fit Pseudo app data in Ensemble Sentiment Models "
   ]
  },
  {
   "cell_type": "code",
   "execution_count": null,
   "id": "80c75370",
   "metadata": {},
   "outputs": [],
   "source": []
  },
  {
   "cell_type": "markdown",
   "id": "3da0e605",
   "metadata": {},
   "source": [
    "# Own Ensemble Model (from rp)"
   ]
  },
  {
   "cell_type": "markdown",
   "id": "0eb6cbfc",
   "metadata": {},
   "source": [
    "## 1. CNN with Character level embedding + LSTM with word level embedding"
   ]
  },
  {
   "cell_type": "markdown",
   "id": "68cd0b20",
   "metadata": {},
   "source": [
    "## 2. Adding layer of document level , sentence level granularity"
   ]
  },
  {
   "cell_type": "code",
   "execution_count": null,
   "id": "e83c6821",
   "metadata": {},
   "outputs": [],
   "source": []
  }
 ],
 "metadata": {
  "kernelspec": {
   "display_name": "Python 3 (ipykernel)",
   "language": "python",
   "name": "python3"
  },
  "language_info": {
   "codemirror_mode": {
    "name": "ipython",
    "version": 3
   },
   "file_extension": ".py",
   "mimetype": "text/x-python",
   "name": "python",
   "nbconvert_exporter": "python",
   "pygments_lexer": "ipython3",
   "version": "3.9.7"
  }
 },
 "nbformat": 4,
 "nbformat_minor": 5
}

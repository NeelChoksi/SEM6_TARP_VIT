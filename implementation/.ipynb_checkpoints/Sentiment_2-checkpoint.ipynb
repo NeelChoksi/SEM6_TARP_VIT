{
 "cells": [
  {
   "cell_type": "code",
   "execution_count": 2,
   "id": "62b058d4",
   "metadata": {},
   "outputs": [
    {
     "name": "stdout",
     "output_type": "stream",
     "text": [
      "Requirement already satisfied: spacy in /home/neelchoksi19bce0990/.local/lib/python3.9/site-packages (3.2.3)\n",
      "Collecting spacy\n",
      "  Downloading spacy-3.2.4-cp39-cp39-manylinux_2_17_x86_64.manylinux2014_x86_64.whl (6.1 MB)\n",
      "\u001b[K     |████████████████████████████████| 6.1 MB 53 kB/s eta 0:00:0128\n",
      "\u001b[?25hRequirement already satisfied: pydantic!=1.8,!=1.8.1,<1.9.0,>=1.7.4 in /home/neelchoksi19bce0990/.local/lib/python3.9/site-packages (from spacy) (1.8.2)\n",
      "Requirement already satisfied: typer<0.5.0,>=0.3.0 in /home/neelchoksi19bce0990/.local/lib/python3.9/site-packages (from spacy) (0.4.0)\n",
      "Requirement already satisfied: packaging>=20.0 in /home/neelchoksi19bce0990/.local/lib/python3.9/site-packages (from spacy) (21.3)\n",
      "Requirement already satisfied: wasabi<1.1.0,>=0.8.1 in /home/neelchoksi19bce0990/.local/lib/python3.9/site-packages (from spacy) (0.9.0)\n",
      "Requirement already satisfied: preshed<3.1.0,>=3.0.2 in /home/neelchoksi19bce0990/.local/lib/python3.9/site-packages (from spacy) (3.0.6)\n",
      "Requirement already satisfied: langcodes<4.0.0,>=3.2.0 in /home/neelchoksi19bce0990/.local/lib/python3.9/site-packages (from spacy) (3.3.0)\n",
      "Requirement already satisfied: numpy>=1.15.0 in /home/neelchoksi19bce0990/.local/lib/python3.9/site-packages (from spacy) (1.22.3)\n",
      "Requirement already satisfied: spacy-legacy<3.1.0,>=3.0.8 in /home/neelchoksi19bce0990/.local/lib/python3.9/site-packages (from spacy) (3.0.9)\n",
      "Requirement already satisfied: catalogue<2.1.0,>=2.0.6 in /home/neelchoksi19bce0990/.local/lib/python3.9/site-packages (from spacy) (2.0.6)\n",
      "Requirement already satisfied: blis<0.8.0,>=0.4.0 in /home/neelchoksi19bce0990/.local/lib/python3.9/site-packages (from spacy) (0.7.6)\n",
      "Requirement already satisfied: cymem<2.1.0,>=2.0.2 in /home/neelchoksi19bce0990/.local/lib/python3.9/site-packages (from spacy) (2.0.6)\n",
      "Requirement already satisfied: spacy-loggers<2.0.0,>=1.0.0 in /home/neelchoksi19bce0990/.local/lib/python3.9/site-packages (from spacy) (1.0.1)\n",
      "Requirement already satisfied: jinja2 in /home/neelchoksi19bce0990/.local/lib/python3.9/site-packages (from spacy) (3.0.3)\n",
      "Requirement already satisfied: pathy>=0.3.5 in /home/neelchoksi19bce0990/.local/lib/python3.9/site-packages (from spacy) (0.6.1)\n",
      "Requirement already satisfied: thinc<8.1.0,>=8.0.12 in /home/neelchoksi19bce0990/.local/lib/python3.9/site-packages (from spacy) (8.0.15)\n",
      "Requirement already satisfied: click<8.1.0 in /usr/lib/python3/dist-packages (from spacy) (7.1.2)\n",
      "Requirement already satisfied: murmurhash<1.1.0,>=0.28.0 in /home/neelchoksi19bce0990/.local/lib/python3.9/site-packages (from spacy) (1.0.6)\n",
      "Requirement already satisfied: tqdm<5.0.0,>=4.38.0 in /home/neelchoksi19bce0990/.local/lib/python3.9/site-packages (from spacy) (4.63.0)\n",
      "Requirement already satisfied: srsly<3.0.0,>=2.4.1 in /home/neelchoksi19bce0990/.local/lib/python3.9/site-packages (from spacy) (2.4.2)\n",
      "Requirement already satisfied: setuptools in /usr/lib/python3/dist-packages (from spacy) (52.0.0)\n",
      "Requirement already satisfied: requests<3.0.0,>=2.13.0 in /usr/lib/python3/dist-packages (from spacy) (2.25.1)\n",
      "Requirement already satisfied: pyparsing!=3.0.5,>=2.0.2 in /home/neelchoksi19bce0990/.local/lib/python3.9/site-packages (from packaging>=20.0->spacy) (3.0.7)\n",
      "Requirement already satisfied: smart-open<6.0.0,>=5.0.0 in /home/neelchoksi19bce0990/.local/lib/python3.9/site-packages (from pathy>=0.3.5->spacy) (5.2.1)\n",
      "Requirement already satisfied: typing-extensions>=3.7.4.3 in /home/neelchoksi19bce0990/.local/lib/python3.9/site-packages (from pydantic!=1.8,!=1.8.1,<1.9.0,>=1.7.4->spacy) (4.1.1)\n",
      "Requirement already satisfied: MarkupSafe>=2.0 in /home/neelchoksi19bce0990/.local/lib/python3.9/site-packages (from jinja2->spacy) (2.0.1)\n",
      "Installing collected packages: spacy\n",
      "  Attempting uninstall: spacy\n",
      "    Found existing installation: spacy 3.2.3\n",
      "    Uninstalling spacy-3.2.3:\n",
      "      Successfully uninstalled spacy-3.2.3\n",
      "Successfully installed spacy-3.2.4\n",
      "Requirement already satisfied: spacy-lookups-data in /home/neelchoksi19bce0990/.local/lib/python3.9/site-packages (1.0.3)\n",
      "Collecting spacy-lookups-data\n",
      "  Using cached spacy_lookups_data-1.0.3-py2.py3-none-any.whl (98.5 MB)\n",
      "  Downloading spacy_lookups_data-1.0.2-py2.py3-none-any.whl (97.3 MB)\n",
      "\u001b[K     |████████████████████████████████| 97.3 MB 16 kB/s eta 0:00:017\n",
      "\u001b[?25hRequirement already satisfied: setuptools in /usr/lib/python3/dist-packages (from spacy-lookups-data) (52.0.0)\n"
     ]
    }
   ],
   "source": [
    "# spacy installation for data preprocessing\n",
    "!pip install -U spacy \n",
    "!pip install -U spacy-lookups-data"
   ]
  },
  {
   "cell_type": "markdown",
   "id": "cfb3c300",
   "metadata": {},
   "source": [
    "# Pytorch"
   ]
  },
  {
   "cell_type": "code",
   "execution_count": 1,
   "id": "a3075921",
   "metadata": {},
   "outputs": [
    {
     "name": "stdout",
     "output_type": "stream",
     "text": [
      "Collecting torch\n",
      "  Using cached torch-1.11.0-cp39-cp39-manylinux1_x86_64.whl (750.6 MB)\n",
      "\u001b[31mERROR: THESE PACKAGES DO NOT MATCH THE HASHES FROM THE REQUIREMENTS FILE. If you have updated the package versions, please update the hashes. Otherwise, examine the package contents carefully; someone may have tampered with them.\n",
      "    torch from https://files.pythonhosted.org/packages/f8/04/ebf936e02d37c185341558de73324c6511d7fb7578cb1c3439411475fd7e/torch-1.11.0-cp39-cp39-manylinux1_x86_64.whl#sha256=58c7814502b1c129a650d7092033bbb0bbd64faf1a7941631aaa1aeaddc37570:\n",
      "        Expected sha256 58c7814502b1c129a650d7092033bbb0bbd64faf1a7941631aaa1aeaddc37570\n",
      "             Got        e3a49f7ce79a548ba12021287cfe4490c1af2397fd9737b658bf416afea36943\n",
      "\u001b[0m\n"
     ]
    }
   ],
   "source": [
    "!pip install torch"
   ]
  },
  {
   "cell_type": "code",
   "execution_count": 1,
   "id": "5a9e66c9",
   "metadata": {},
   "outputs": [
    {
     "name": "stdout",
     "output_type": "stream",
     "text": [
      "Collecting torchensemble\n",
      "  Downloading torchensemble-0.1.7-py3-none-any.whl (40 kB)\n",
      "\u001b[K     |████████████████████████████████| 40 kB 2.2 MB/s  eta 0:00:01\n",
      "\u001b[?25hRequirement already satisfied: torch>=1.4.0 in /home/neelchoksi19bce0990/.local/lib/python3.9/site-packages (from torchensemble) (1.11.0+cpu)\n",
      "Requirement already satisfied: scikit-learn>=0.23.0 in /home/neelchoksi19bce0990/.local/lib/python3.9/site-packages (from torchensemble) (1.0.2)\n",
      "Requirement already satisfied: torchvision>=0.2.2 in /home/neelchoksi19bce0990/.local/lib/python3.9/site-packages (from torchensemble) (0.12.0+cpu)\n",
      "Requirement already satisfied: threadpoolctl>=2.0.0 in /home/neelchoksi19bce0990/.local/lib/python3.9/site-packages (from scikit-learn>=0.23.0->torchensemble) (3.1.0)\n",
      "Requirement already satisfied: joblib>=0.11 in /home/neelchoksi19bce0990/.local/lib/python3.9/site-packages (from scikit-learn>=0.23.0->torchensemble) (1.0.1)\n",
      "Requirement already satisfied: numpy>=1.14.6 in /home/neelchoksi19bce0990/.local/lib/python3.9/site-packages (from scikit-learn>=0.23.0->torchensemble) (1.22.3)\n",
      "Requirement already satisfied: scipy>=1.1.0 in /home/neelchoksi19bce0990/.local/lib/python3.9/site-packages (from scikit-learn>=0.23.0->torchensemble) (1.8.0)\n",
      "Requirement already satisfied: typing-extensions in /home/neelchoksi19bce0990/.local/lib/python3.9/site-packages (from torch>=1.4.0->torchensemble) (4.1.1)\n",
      "Requirement already satisfied: pillow!=8.3.*,>=5.3.0 in /home/neelchoksi19bce0990/.local/lib/python3.9/site-packages (from torchvision>=0.2.2->torchensemble) (9.0.1)\n",
      "Requirement already satisfied: requests in /usr/lib/python3/dist-packages (from torchvision>=0.2.2->torchensemble) (2.25.1)\n",
      "Installing collected packages: torchensemble\n",
      "Successfully installed torchensemble-0.1.7\n"
     ]
    }
   ],
   "source": [
    "!pip install torchensemble"
   ]
  },
  {
   "cell_type": "code",
   "execution_count": 4,
   "id": "3575c662",
   "metadata": {},
   "outputs": [
    {
     "name": "stdout",
     "output_type": "stream",
     "text": [
      "Looking in links: https://download.pytorch.org/whl/cpu/torch_stable.html\n",
      "Collecting torch==1.11.0+cpu\n",
      "  Downloading https://download.pytorch.org/whl/cpu/torch-1.11.0%2Bcpu-cp39-cp39-linux_x86_64.whl (169.2 MB)\n",
      "\u001b[K     |████████████████████████████████| 169.2 MB 4.1 kB/s eta 0:00:01    |███▋                            | 19.2 MB 769 kB/s eta 0:03:15\n",
      "\u001b[?25hCollecting torchvision==0.12.0+cpu\n",
      "  Downloading https://download.pytorch.org/whl/cpu/torchvision-0.12.0%2Bcpu-cp39-cp39-linux_x86_64.whl (14.7 MB)\n",
      "\u001b[K     |████████████████████████████████| 14.7 MB 22 kB/s  eta 0:00:01\n",
      "\u001b[?25hCollecting torchaudio==0.11.0+cpu\n",
      "  Downloading https://download.pytorch.org/whl/cpu/torchaudio-0.11.0%2Bcpu-cp39-cp39-linux_x86_64.whl (2.7 MB)\n",
      "\u001b[K     |████████████████████████████████| 2.7 MB 657 kB/s eta 0:00:01\n",
      "\u001b[?25hRequirement already satisfied: typing-extensions in /home/neelchoksi19bce0990/.local/lib/python3.9/site-packages (from torch==1.11.0+cpu) (4.1.1)\n",
      "Requirement already satisfied: numpy in /home/neelchoksi19bce0990/.local/lib/python3.9/site-packages (from torchvision==0.12.0+cpu) (1.22.3)\n",
      "Requirement already satisfied: pillow!=8.3.*,>=5.3.0 in /home/neelchoksi19bce0990/.local/lib/python3.9/site-packages (from torchvision==0.12.0+cpu) (9.0.1)\n",
      "Requirement already satisfied: requests in /usr/lib/python3/dist-packages (from torchvision==0.12.0+cpu) (2.25.1)\n",
      "Installing collected packages: torch, torchvision, torchaudio\n",
      "Successfully installed torch-1.11.0+cpu torchaudio-0.11.0+cpu torchvision-0.12.0+cpu\n"
     ]
    }
   ],
   "source": [
    "!pip3 install torch==1.11.0+cpu torchvision==0.12.0+cpu torchaudio==0.11.0+cpu -f https://download.pytorch.org/whl/cpu/torch_stable.html"
   ]
  },
  {
   "cell_type": "code",
   "execution_count": 5,
   "id": "74a9d656",
   "metadata": {},
   "outputs": [],
   "source": [
    "import torch"
   ]
  },
  {
   "cell_type": "code",
   "execution_count": 7,
   "id": "a01839e2",
   "metadata": {},
   "outputs": [
    {
     "data": {
      "text/plain": [
       "tensor([1, 2, 3])"
      ]
     },
     "execution_count": 7,
     "metadata": {},
     "output_type": "execute_result"
    }
   ],
   "source": [
    "torch.tensor([1,2,3]) # creating a tensor"
   ]
  },
  {
   "cell_type": "code",
   "execution_count": 8,
   "id": "2bd2fc84",
   "metadata": {},
   "outputs": [
    {
     "data": {
      "text/plain": [
       "tensor([2, 4, 6])"
      ]
     },
     "execution_count": 8,
     "metadata": {},
     "output_type": "execute_result"
    }
   ],
   "source": [
    "_ * 2"
   ]
  },
  {
   "cell_type": "code",
   "execution_count": 11,
   "id": "20703a29",
   "metadata": {},
   "outputs": [],
   "source": [
    "x = torch.randn(1,10)\n",
    "prev_h = torch.randn(1,20)\n",
    "\n",
    "W_h = torch.randn(20,20)\n",
    "W_x = torch.randn(20,10)\n",
    "W_h.requires_grad = True\n",
    "W_x.requires_grad = True\n",
    "\n",
    "i2h = torch.mm(W_x,x.t())\n",
    "h2h = torch.mm(W_h,prev_h.t())\n",
    "\n",
    "next_h = i2h + h2h\n",
    "next_h - next_h.tanh()\n",
    "\n",
    "next_h.backward(torch.ones(20,1))"
   ]
  },
  {
   "cell_type": "code",
   "execution_count": null,
   "id": "228cd585",
   "metadata": {},
   "outputs": [],
   "source": [
    "# \n",
    "\n"
   ]
  },
  {
   "cell_type": "code",
   "execution_count": null,
   "id": "08d8da4c",
   "metadata": {},
   "outputs": [],
   "source": []
  },
  {
   "cell_type": "code",
   "execution_count": null,
   "id": "117aefa4",
   "metadata": {},
   "outputs": [],
   "source": []
  },
  {
   "cell_type": "code",
   "execution_count": null,
   "id": "2591c6ad",
   "metadata": {},
   "outputs": [],
   "source": []
  },
  {
   "cell_type": "code",
   "execution_count": null,
   "id": "587b718a",
   "metadata": {},
   "outputs": [],
   "source": []
  },
  {
   "cell_type": "code",
   "execution_count": null,
   "id": "d0dc3d98",
   "metadata": {},
   "outputs": [],
   "source": []
  },
  {
   "cell_type": "markdown",
   "id": "ea4d0009",
   "metadata": {},
   "source": [
    "# BagOfWords - Feed Forward 1"
   ]
  },
  {
   "cell_type": "code",
   "execution_count": 5,
   "id": "073f699c",
   "metadata": {},
   "outputs": [],
   "source": [
    "import pandas as pd\n",
    "import torch\n",
    "import torch.nn.functional as F\n",
    "import torch.nn as nn\n",
    "import torch.optim as optim\n",
    "from torch.utils.data import DataLoader,Dataset\n",
    "from sklearn.feature_extraction.text import CountVectorizer\n",
    "from tqdm import tqdm,tqdm_notebook"
   ]
  },
  {
   "cell_type": "code",
   "execution_count": 9,
   "id": "fb7698a0",
   "metadata": {},
   "outputs": [
    {
     "data": {
      "text/html": [
       "<div>\n",
       "<style scoped>\n",
       "    .dataframe tbody tr th:only-of-type {\n",
       "        vertical-align: middle;\n",
       "    }\n",
       "\n",
       "    .dataframe tbody tr th {\n",
       "        vertical-align: top;\n",
       "    }\n",
       "\n",
       "    .dataframe thead th {\n",
       "        text-align: right;\n",
       "    }\n",
       "</style>\n",
       "<table border=\"1\" class=\"dataframe\">\n",
       "  <thead>\n",
       "    <tr style=\"text-align: right;\">\n",
       "      <th></th>\n",
       "      <th>review</th>\n",
       "      <th>sentiment</th>\n",
       "    </tr>\n",
       "  </thead>\n",
       "  <tbody>\n",
       "    <tr>\n",
       "      <th>25503</th>\n",
       "      <td>Yet another early film from Alfred Hitchcock w...</td>\n",
       "      <td>negative</td>\n",
       "    </tr>\n",
       "    <tr>\n",
       "      <th>16608</th>\n",
       "      <td>TYSON &lt;br /&gt;&lt;br /&gt;Aspect ratio: 1.33:1&lt;br /&gt;&lt;b...</td>\n",
       "      <td>negative</td>\n",
       "    </tr>\n",
       "    <tr>\n",
       "      <th>12923</th>\n",
       "      <td>It started out slow after an excellent animate...</td>\n",
       "      <td>positive</td>\n",
       "    </tr>\n",
       "    <tr>\n",
       "      <th>1954</th>\n",
       "      <td>When Jim Wynorski first announced he would be ...</td>\n",
       "      <td>negative</td>\n",
       "    </tr>\n",
       "    <tr>\n",
       "      <th>23293</th>\n",
       "      <td>A trio of low-life criminals, led by Matt Dill...</td>\n",
       "      <td>negative</td>\n",
       "    </tr>\n",
       "  </tbody>\n",
       "</table>\n",
       "</div>"
      ],
      "text/plain": [
       "                                                  review sentiment\n",
       "25503  Yet another early film from Alfred Hitchcock w...  negative\n",
       "16608  TYSON <br /><br />Aspect ratio: 1.33:1<br /><b...  negative\n",
       "12923  It started out slow after an excellent animate...  positive\n",
       "1954   When Jim Wynorski first announced he would be ...  negative\n",
       "23293  A trio of low-life criminals, led by Matt Dill...  negative"
      ]
     },
     "execution_count": 9,
     "metadata": {},
     "output_type": "execute_result"
    }
   ],
   "source": [
    "# DATA_SET = './datasets/aclimdb.csv'\n",
    "DATA_SET = './datasets/IMDBDataset.csv'\n",
    "test =pd.read_csv(DATA_SET).sample(5)\n",
    "test"
   ]
  },
  {
   "cell_type": "code",
   "execution_count": 20,
   "id": "a9dc339b",
   "metadata": {},
   "outputs": [
    {
     "name": "stdout",
     "output_type": "stream",
     "text": [
      "['negative' 'positive']\n"
     ]
    },
    {
     "data": {
      "text/html": [
       "<div>\n",
       "<style scoped>\n",
       "    .dataframe tbody tr th:only-of-type {\n",
       "        vertical-align: middle;\n",
       "    }\n",
       "\n",
       "    .dataframe tbody tr th {\n",
       "        vertical-align: top;\n",
       "    }\n",
       "\n",
       "    .dataframe thead th {\n",
       "        text-align: right;\n",
       "    }\n",
       "</style>\n",
       "<table border=\"1\" class=\"dataframe\">\n",
       "  <thead>\n",
       "    <tr style=\"text-align: right;\">\n",
       "      <th></th>\n",
       "      <th>review</th>\n",
       "      <th>sentiment</th>\n",
       "    </tr>\n",
       "  </thead>\n",
       "  <tbody>\n",
       "    <tr>\n",
       "      <th>25503</th>\n",
       "      <td>Yet another early film from Alfred Hitchcock w...</td>\n",
       "      <td>0</td>\n",
       "    </tr>\n",
       "    <tr>\n",
       "      <th>16608</th>\n",
       "      <td>TYSON &lt;br /&gt;&lt;br /&gt;Aspect ratio: 1.33:1&lt;br /&gt;&lt;b...</td>\n",
       "      <td>0</td>\n",
       "    </tr>\n",
       "    <tr>\n",
       "      <th>12923</th>\n",
       "      <td>It started out slow after an excellent animate...</td>\n",
       "      <td>1</td>\n",
       "    </tr>\n",
       "    <tr>\n",
       "      <th>1954</th>\n",
       "      <td>When Jim Wynorski first announced he would be ...</td>\n",
       "      <td>0</td>\n",
       "    </tr>\n",
       "    <tr>\n",
       "      <th>23293</th>\n",
       "      <td>A trio of low-life criminals, led by Matt Dill...</td>\n",
       "      <td>0</td>\n",
       "    </tr>\n",
       "  </tbody>\n",
       "</table>\n",
       "</div>"
      ],
      "text/plain": [
       "                                                  review  sentiment\n",
       "25503  Yet another early film from Alfred Hitchcock w...          0\n",
       "16608  TYSON <br /><br />Aspect ratio: 1.33:1<br /><b...          0\n",
       "12923  It started out slow after an excellent animate...          1\n",
       "1954   When Jim Wynorski first announced he would be ...          0\n",
       "23293  A trio of low-life criminals, led by Matt Dill...          0"
      ]
     },
     "execution_count": 20,
     "metadata": {},
     "output_type": "execute_result"
    }
   ],
   "source": [
    "from sklearn import preprocessing\n",
    "le = preprocessing.LabelEncoder()\n",
    "sentiment_label = le.fit_transform(test[\"sentiment\"])\n",
    "print(le.classes_)\n",
    "test_new =test.drop(\"sentiment\",axis=\"columns\")\n",
    "test_new[\"sentiment\"] = sentiment_label\n",
    "test_new\n",
    "# negative - 0 , positive - 1"
   ]
  },
  {
   "cell_type": "code",
   "execution_count": 34,
   "id": "d3a9110d",
   "metadata": {},
   "outputs": [
    {
     "name": "stdout",
     "output_type": "stream",
     "text": [
      "  (0, 148)\t1\n",
      "  (0, 22)\t1\n",
      "  (0, 257)\t2\n",
      "  (0, 110)\t1\n",
      "  (0, 362)\t1\n",
      "  (0, 287)\t1\n",
      "  (0, 382)\t1\n",
      "  (0, 519)\t1\n",
      "  (0, 310)\t1\n",
      "  (0, 341)\t2\n",
      "  (0, 509)\t1\n",
      "  (0, 116)\t1\n",
      "  (0, 504)\t1\n",
      "  (0, 442)\t1\n",
      "  (0, 214)\t2\n",
      "  (0, 156)\t2\n",
      "  (0, 582)\t1\n",
      "  (0, 323)\t1\n",
      "  (0, 114)\t3\n",
      "  (0, 101)\t1\n",
      "  (0, 337)\t1\n",
      "  (0, 120)\t1\n",
      "  (0, 409)\t1\n",
      "  (0, 523)\t1\n",
      "  (0, 322)\t1\n",
      "  :\t:\n",
      "  (4, 543)\t1\n",
      "  (4, 6)\t1\n",
      "  (4, 256)\t1\n",
      "  (4, 491)\t1\n",
      "  (4, 9)\t1\n",
      "  (4, 515)\t1\n",
      "  (4, 192)\t1\n",
      "  (4, 147)\t1\n",
      "  (4, 218)\t1\n",
      "  (4, 478)\t1\n",
      "  (4, 555)\t1\n",
      "  (4, 340)\t1\n",
      "  (4, 157)\t1\n",
      "  (4, 560)\t1\n",
      "  (4, 564)\t1\n",
      "  (4, 507)\t1\n",
      "  (4, 433)\t1\n",
      "  (4, 33)\t1\n",
      "  (4, 159)\t1\n",
      "  (4, 21)\t1\n",
      "  (4, 104)\t1\n",
      "  (4, 503)\t1\n",
      "  (4, 227)\t1\n",
      "  (4, 125)\t1\n",
      "  (4, 246)\t1\n"
     ]
    }
   ],
   "source": [
    "test_vectorizer = CountVectorizer(stop_words='english', max_df = 0.99 , min_df = 0.005)\n",
    "test_seq = test_vectorizer.fit_transform(test_new['review'].tolist())\n",
    "print(test_seq)\n"
   ]
  },
  {
   "cell_type": "code",
   "execution_count": 25,
   "id": "f9e5896e",
   "metadata": {},
   "outputs": [],
   "source": [
    "class Sequences(Dataset):\n",
    "    def __init__(self,path):\n",
    "        df = pd.read_csv(path)\n",
    "        le = preprocessing.LabelEncoder()\n",
    "        sentiment_labels = le.fit_transform(df[\"sentiment\"])\n",
    "        #print(le.classes_)\n",
    "        df =df.drop(\"sentiment\",axis=\"columns\")\n",
    "        df[\"sentiment\"] = sentiment_labels\n",
    "\n",
    "        self.vectorizer = CountVectorizer(stop_words='english', max_df = 0.99 , min_df = 0.005)\n",
    "        self.sequences = self.vectorizer.fit_transform(df.review.tolist())\n",
    "        self.labels = df.sentiment.tolist()\n",
    "        self.token2idx = self.vectorizer.vocabulary_\n",
    "        self.idx2token = {idx: token for token , idx in self.token2idx.items()}\n",
    "    def __getitem_(self,i):\n",
    "        return self.sequences[i, :].toarray(), self.labels[i]\n",
    "    def __len__(self):\n",
    "        return self.sequences.shape[0]        "
   ]
  },
  {
   "cell_type": "code",
   "execution_count": 31,
   "id": "523bf919",
   "metadata": {},
   "outputs": [
    {
     "name": "stdout",
     "output_type": "stream",
     "text": [
      "CountVectorizer(max_df=0.99, min_df=0.005, stop_words='english')\n",
      "{'reviewers': 2114, 'mentioned': 1628, 'watching': 2800, 'just': 1398, 'episode': 831, 'll': 1517, 'hooked': 1240, 'right': 2122, 'exactly': 857, 'happened': 1167, 'br': 304, 'thing': 2583, 'struck': 2447, 'scenes': 2192, 'violence': 2759, 'set': 2247, 'word': 2857, 'trust': 2663, 'hearted': 1193, 'pulls': 1990, 'drugs': 763, 'sex': 2252, 'classic': 447, 'use': 2720, 'called': 347, 'given': 1092, 'security': 2218, 'state': 2401, 'focuses': 1008, 'mainly': 1566, 'city': 442, 'section': 2217, 'prison': 1950, 'glass': 1096, 'face': 902, 'high': 1213, 'em': 795, 'home': 1236, 'irish': 1349, 'death': 632, 'far': 932, 'away': 210, 'say': 2181, 'main': 1565, 'appeal': 148, 'fact': 906, 'goes': 1100, 'shows': 2283, 'wouldn': 2870, 'dare': 614, 'forget': 1026, 'pretty': 1940, 'pictures': 1871, 'mainstream': 1567, 'audiences': 200, 'charm': 409, 'romance': 2144, 'doesn': 725, 'mess': 1631, 'saw': 2180, 'nasty': 1712, 'surreal': 2510, 'couldn': 550, 'ready': 2032, 'watched': 2799, 'developed': 680, 'taste': 2537, 'got': 1112, 'levels': 1490, 'graphic': 1121, 'sold': 2337, 'kill': 1413, 'order': 1794, 'middle': 1639, 'class': 446, 'turned': 2670, 'lack': 1434, 'street': 2439, 'skills': 2315, 'experience': 879, 'uncomfortable': 2690, 'viewing': 2753, 'thats': 2575, 'touch': 2625, 'wonderful': 2851, 'little': 1512, 'production': 1961, 'filming': 975, 'technique': 2545, 'old': 1782, 'time': 2606, 'bbc': 234, 'fashion': 935, 'gives': 1093, 'sense': 2232, 'realism': 2034, 'entire': 826, 'piece': 1872, 'actors': 57, 'extremely': 897, 'chosen': 432, 'michael': 1636, 'voices': 2768, 'truly': 2662, 'editing': 784, 'references': 2054, 'williams': 2831, 'worth': 2867, 'written': 2876, 'performed': 1852, 'great': 1125, 'master': 1596, 'comedy': 479, 'life': 1494, 'really': 2040, 'comes': 480, 'things': 2584, 'fantasy': 931, 'guard': 1141, 'traditional': 2635, 'dream': 749, 'techniques': 2546, 'remains': 2073, 'solid': 2340, 'plays': 1891, 'knowledge': 1428, 'particularly': 1828, 'sets': 2248, 'flat': 994, 'surface': 2504, 'terribly': 2566, 'thought': 2591, 'way': 2802, 'spend': 2370, 'hot': 1253, 'summer': 2490, 'weekend': 2814, 'sitting': 2310, 'air': 93, 'theater': 2576, 'light': 1496, 'plot': 1895, 'dialogue': 687, 'witty': 2846, 'characters': 404, 'likable': 1499, 'serial': 2240, 'killer': 1415, 'disappointed': 708, 'realize': 2037, 'match': 1598, 'point': 1899, 'risk': 2129, 'proof': 1970, 'allen': 107, 'fully': 1056, 'control': 532, 'style': 2462, 'grown': 1138, 'love': 1545, 'laughed': 1455, 'comedies': 478, 'years': 2882, 'decade': 635, 've': 2737, 'impressed': 1295, 'managed': 1579, 'tone': 2616, 'sexy': 2255, 'image': 1282, 'average': 205, 'young': 2885, 'woman': 2847, 'career': 364, 'devil': 684, 'wears': 2811, 'interesting': 1337, 'friends': 1052, 'basically': 230, 'family': 926, 'boy': 301, 'thinks': 2587, 'zombie': 2889, 'parents': 1822, 'fighting': 967, 'movie': 1690, 'soap': 2333, 'opera': 1789, 'suddenly': 2478, 'decides': 640, 'ok': 1780, 'going': 1101, 'make': 1570, 'film': 973, 'decide': 638, 'thriller': 2595, 'drama': 743, 'watchable': 2798, 'like': 1500, 'real': 2033, 'totally': 2624, 'expected': 876, 'similar': 2294, 'instead': 1327, 'spots': 2385, '10': 1, 'playing': 1890, 'dialogs': 686, 'shots': 2278, 'ignore': 1278, 'money': 1672, 'visually': 2765, 'stunning': 2459, 'watch': 2797, 'mr': 1693, 'offers': 1776, 'human': 1260, 'telling': 2558, 'power': 1922, 'success': 2471, 'people': 1845, 'different': 695, 'situations': 2312, 'encounter': 802, 'arthur': 167, 'play': 1886, 'theme': 2580, 'director': 704, 'action': 54, 'present': 1934, 'new': 1731, 'york': 2884, 'meet': 1614, 'connected': 512, 'person': 1855, 'know': 1426, 'previous': 1941, 'contact': 521, 'sophisticated': 2348, 'look': 1527, 'taken': 2522, 'live': 1513, 'world': 2863, 'gets': 1085, 'picture': 1870, 'big': 260, 'best': 257, 'place': 1877, 'case': 375, 'acting': 53, 'good': 1106, 'direction': 702, 'steve': 2417, 'kane': 1400, 'rest': 2099, 'talented': 2527, 'cast': 378, 'come': 475, 'alive': 106, 'wish': 2841, 'luck': 1554, 'work': 2859, 'probably': 1952, 'favorite': 943, 'story': 2432, 'cause': 385, 'boring': 293, 'despite': 672, 'having': 1185, 'seen': 2223, '15': 7, 'times': 2607, '25': 19, 'paul': 1841, 'performance': 1850, 'brings': 320, 'tears': 2542, 'eyes': 900, 'davis': 621, 'sympathetic': 2519, 'roles': 2141, 'delight': 647, 'kids': 1412, 'says': 2183, 'dressed': 752, 'children': 424, 'makes': 1573, 'fun': 1057, 'mother': 1683, 'slow': 2326, 'happening': 1168, 'believable': 250, 'dozen': 738, 'sure': 2502, 'dated': 618, 'series': 2241, 'today': 2613, 'bring': 318, 'kid': 1410, 'excitement': 864, 'grew': 1130, 'black': 269, 'white': 2826, 'tv': 2673, 'hero': 1206, 'week': 2813, 'vote': 2769, 'sea': 2207, 'hunt': 1267, 'need': 1725, 'change': 398, 'pace': 1808, 'water': 2801, 'adventure': 77, 'oh': 1779, 'thank': 2572, 'view': 2749, 'movies': 1691, 'believe': 251, 'wanna': 2780, 'nice': 1733, 'read': 2030, 'plus': 1897, 'points': 1901, 'lines': 1507, 'let': 1485, 'leave': 1471, 'doubt': 735, 'lets': 1486, 'amazing': 115, 'fresh': 1048, 'idea': 1272, '70': 26, 'aired': 94, 'brilliant': 316, 'funny': 1060, 'anymore': 143, 'complete': 498, 'waste': 2794, 'fallen': 919, 'writing': 2875, 'painfully': 1817, 'bad': 216, 'performances': 1851, 'mildly': 1641, 'entertaining': 824, 'guest': 1144, 'hard': 1173, 'hand': 1158, 'original': 1796, 'chose': 431, 'band': 221, 'followed': 1011, 'recognize': 2047, 'fit': 989, 'felt': 958, 'stars': 2396, 'respect': 2097, 'huge': 1259, 'awful': 212, 'positive': 1917, 'comments': 486, 'looking': 1529, 'forward': 1035, 'mistake': 1662, 'films': 978, 'worst': 2866, 'pacing': 1810, 'storyline': 2433, 'soundtrack': 2356, 'song': 2345, 'lame': 1442, 'country': 553, 'tune': 2667, 'played': 1887, 'looks': 1530, 'cheap': 414, 'extreme': 896, 'rarely': 2021, 'happy': 1172, 'end': 804, 'credits': 577, 'giving': 1094, 'score': 2197, 'making': 1575, 'bit': 265, 'effort': 790, 'laughter': 1458, 'hell': 1200, 'mom': 1669, 'liked': 1501, 'camp': 353, 'alien': 103, 'quirky': 2007, 'humour': 1265, 'based': 228, 'actual': 61, 'odd': 1771, 'didn': 690, 'jokes': 1384, 'low': 1552, 'budget': 333, 'problem': 1953, 'eventually': 850, 'lost': 1538, 'imagine': 1287, 'better': 259, 'try': 2665, 'brother': 325, 'planet': 1883, '12': 4, 'came': 350, 'recall': 2043, 'scene': 2190, 'eating': 779, 'men': 1624, 'horror': 1249, 'cheesy': 418, 'saturday': 2175, 'tired': 2610, 'formula': 1032, 'monster': 1673, 'type': 2678, 'usually': 2726, 'included': 1299, 'beautiful': 238, 'daughter': 619, 'professor': 1964, 'died': 692, 'care': 363, 'romantic': 2145, 'angle': 127, 'year': 2881, 'predictable': 1928, 'plots': 1896, 'humor': 1263, 'later': 1451, 'psycho': 1985, 'loved': 1546, 'star': 2393, 'early': 773, 'sat': 2172, 'took': 2619, 'notice': 1752, 'scary': 2188, 'possible': 1918, 'rules': 2156, 'fan': 928, 'enjoyed': 817, 'maybe': 1605, 'apparently': 147, 'bought': 298, 'rights': 2123, 'long': 1525, 'ago': 89, 'game': 1064, 'killing': 1417, 'secret': 2216, 'research': 2096, 'island': 1353, 'warned': 2788, 'feeling': 952, 'players': 1889, 'names': 1709, 'actually': 62, 'tale': 2525, 'jack': 1359, 'yes': 2883, 'german': 1083, 'true': 2661, 'perspective': 1860, 'don': 731, 'looked': 1528, 'evil': 854, 'mad': 1560, 'scientist': 2196, 'dr': 739, 'soldiers': 2339, 'reminds': 2080, 'spoiler': 2379, 'reason': 2041, 'rich': 2117, 'woods': 2856, 'haven': 1184, 'gone': 1104, 'started': 2398, 'stay': 2406, 'delivers': 651, 'meaning': 1607, 'suck': 2474, 'did': 689, 'boat': 282, 'laugh': 1453, 'ahead': 91, 'annoying': 137, 'shoot': 2270, 'minutes': 1654, 'screen': 2201, 'shakespeare': 2257, 'appreciate': 156, 'trying': 2666, 'ruin': 2153, 'certain': 392, 'tried': 2653, 'era': 835, 'words': 2858, 'perfection': 1847, 'write': 2872, 'text': 2571, 'english': 814, 'saying': 2182, 'does': 724, 'cut': 599, 'fantastic': 930, 'famous': 927, 'george': 1082, 'roll': 2142, 'man': 1577, 'constant': 519, 'everybody': 851, 'kind': 1420, 'drawn': 747, 'erotic': 837, 'amateurish': 113, 'unbelievable': 2688, 'bits': 266, 'sort': 2350, 'school': 2193, 'project': 1967, 'thinking': 2586, 'stock': 2421, 'bizarre': 268, 'supposed': 2500, 'town': 2631, 'involved': 1346, 'lessons': 1484, 'learned': 1468, 'quite': 2008, 'ridiculous': 2120, 'lots': 1540, 'skin': 2316, 'nonsense': 1743, 'relationship': 2064, 'encounters': 803, 'absurd': 36, 'dance': 608, 'pass': 1832, 'million': 1645, 'miles': 1642, 'wasted': 2795, 'spent': 2373, 'africa': 82, 'simply': 2297, 'fails': 911, 'capture': 359, 'terror': 2568, 'title': 2611, 'excellent': 860, 'holds': 1231, 'exception': 861, 'wilson': 2833, 'feel': 951, 'character': 403, 'major': 1568, 'fault': 941, 'version': 2739, 'jackson': 1360, 'attempts': 194, 'earlier': 772, 'special': 2365, 'effects': 789, 'enjoy': 815, 'older': 1783, 'horrible': 1246, 'wasn': 2793, 'minute': 1653, 'fight': 966, 'chance': 397, 'development': 681, 'busy': 340, 'running': 2158, 'sword': 2518, 'emotional': 799, 'machine': 1559, 'wanted': 2782, 'destroy': 673, 'stolen': 2422, 'wars': 2791, 'examples': 859, 'ghost': 1087, 'final': 979, 'beginning': 245, 'attacked': 189, 'return': 2103, 'wood': 2854, 'victim': 2743, 'wait': 2771, 'vs': 2770, 'humans': 1262, 'tell': 2557, 'nazi': 1719, 'line': 1505, 'rushed': 2160, 'conclusion': 506, 'adult': 74, 'disappointment': 710, 'save': 2176, 'remember': 2076, 'cinema': 438, 'dark': 615, 'places': 1879, 'dad': 604, 'sister': 2305, 'england': 813, 'appearance': 151, 'actor': 56, 'dan': 607, 'think': 2585, 'shot': 2277, 'dies': 693, 'knows': 1430, 'dvd': 770, 'club': 463, 'shame': 2259, '20': 14, 'hear': 1189, 'nominated': 1740, 'golden': 1103, 'female': 959, 'facts': 908, 'perfectly': 1848, 'fine': 984, 'artist': 168, 'dull': 768, 'script': 2205, 'suppose': 2499, 'weren': 2820, 'naked': 1707, 'summary': 2489, 'saved': 2177, 'couple': 554, 'hours': 1256, 'die': 691, 'sequels': 2237, 'surprise': 2505, 'wrong': 2877, 'guy': 1150, 'concept': 503, 'mountain': 1685, 'rescue': 2095, 'stop': 2426, 'especially': 840, 'expert': 883, 'base': 227, 'jumping': 1394, 'facial': 905, 'expressions': 891, 'pile': 1874, 'junk': 1397, 'acted': 52, 'horse': 1250, 'lovable': 1544, 'plenty': 1894, 'laughs': 1457, 'john': 1379, 'box': 300, 'agent': 87, 'henry': 1205, 'cringe': 583, 'worthy': 2869, 'constantly': 520, 'painful': 1816, 'disbelief': 712, 'hurt': 1269, 'anybody': 142, 'whilst': 2825, 'surely': 2503, 'frank': 1041, 'girl': 1089, 'mention': 1627, 'london': 1523, 'using': 2724, 'football': 1018, 'help': 1201, 'needed': 1726, 'cares': 366, 'happen': 1166, 'lower': 1553, 'expectations': 875, 'turn': 2669, 'wearing': 2810, 'terrible': 2565, 'shouldn': 2279, 'aspects': 181, 'paper': 1820, 'sequences': 2239, 'fake': 917, 'packed': 1812, 'crappy': 563, 'liners': 1506, 'amusing': 121, 'women': 2848, 'utterly': 2728, 'appear': 150, 'weird': 2817, 'costumes': 549, 'fail': 909, 'miserably': 1657, 'absolutely': 35, 'won': 2849, 'regret': 2060, 'carries': 369, 'isn': 1354, 'music': 1702, 'takes': 2523, 'grow': 1136, 'heard': 1190, 'start': 2397, 'straight': 2435, 'matter': 1601, 'used': 2721, 'speed': 2369, 'hilarious': 1218, 'lot': 1539, 'moving': 1692, 'usual': 2725, 'sudden': 2477, 'animation': 133, 'worse': 2865, 'bunch': 337, 'run': 2157, 'addition': 70, 'viewed': 2750, 'tape': 2534, 'vhs': 2742, 'player': 1888, 'kept': 1405, 'mike': 1640, 'pick': 1867, 'season': 2211, 'honestly': 1238, 'barely': 226, 'survive': 2512, 'heck': 1198, 'fellow': 957, 'halloween': 1157, 'night': 1736, 'stupid': 2460, 'originally': 1798, 'according': 46, 'scale': 2184, 'means': 1609, 'unless': 2709, 'received': 2044, 'known': 1429, 'parker': 1825, 'actress': 58, 'allowed': 109, 'judge': 1390, 'bore': 290, 'depth': 660, 'cop': 540, 'feels': 954, 'video': 2746, 'standards': 2390, 'singer': 2299, 'complex': 500, 'accurate': 48, 'details': 676, 'portrays': 1915, 'naive': 1706, 'dumb': 769, 'role': 2140, 'personality': 1858, 'terrific': 2567, 'job': 1376, 'songs': 2346, 'unfortunately': 2700, 'ratings': 2025, 'usa': 2719, 'countries': 552, 'cell': 388, 'masterpiece': 1597, 'trip': 2656, 'mind': 1647, 'evidence': 853, 'achieved': 50, 'beings': 248, 'aside': 174, 'thoughts': 2592, 'fall': 918, 'creating': 569, 'magnificent': 1564, 'date': 617, 'numerous': 1761, 'substance': 2466, 'poorly': 1907, 'miss': 1658, 'tradition': 2634, 'future': 1061, 'hopefully': 1243, 'follow': 1010, 'opened': 1786, 'door': 733, 'imagination': 1285, 'want': 2781, 'personally': 1859, 'welcome': 2818, 'challenge': 396, 'talk': 2530, 'inside': 1321, 'agree': 90, 'genre': 1079, 'killers': 1416, 'worked': 2860, 'failed': 910, 'twist': 2675, 'physically': 1866, 'presented': 1936, 'fascinating': 934, 'journey': 1387, 'mysterious': 1704, 'subject': 2465, 'explain': 884, 'jennifer': 1369, 'enter': 821, 'brain': 305, 'lies': 1493, 'table': 2521, 'wants': 2784, 'guess': 1142, 'ground': 1134, 'noticed': 1753, 'showed': 2280, 'reality': 2036, 'contrast': 530, 'bright': 315, 'visuals': 2766, 'nonetheless': 1742, 'design': 667, 'surprised': 2506, 'cinematography': 440, 'walk': 2774, 'open': 1785, 'eye': 898, 'crazy': 565, 'leaving': 1473, 'audience': 199, 'member': 1619, 'smoking': 2332, 'political': 1903, 'satire': 2173, 'hollywood': 1234, 'blockbuster': 273, 'values': 2731, 'list': 1508, 'turning': 2671, 'spirit': 2375, 'war': 2785, 'existence': 871, 'poor': 1906, 'particular': 1827, 'genuine': 1080, 'prepared': 1932, 'able': 33, 'stand': 2388, 'america': 118, 'funniest': 1059, 'videos': 2747, 'damn': 606, 'hated': 1181, 'typical': 2680, 'speak': 2362, 'responsible': 2098, 'hanging': 1165, 'dancing': 609, 'clichéd': 454, 'conflict': 508, 'dealing': 627, 'large': 1446, 'compelling': 495, 'silver': 2293, 'civil': 443, 'cold': 466, 'starring': 2395, 'law': 1460, 'calling': 348, 'entirely': 827, 'opens': 1788, 'literally': 1511, 'quick': 2004, 'dirty': 706, 'battle': 233, 'sequence': 2238, 'puts': 1996, 'glory': 1098, 'edward': 785, 'period': 1854, 'soldier': 2338, 'gruesome': 1140, 'north': 1746, 'equally': 834, 'southern': 2359, 'left': 1476, 'appears': 155, 'sympathy': 2520, 'relatively': 2066, 'somewhat': 2343, 'contrived': 531, 'soon': 2347, 'turns': 2672, 'saving': 2179, 'confusing': 510, 'scenario': 2189, 'wanting': 2783, 'begins': 246, 'ways': 2804, 'prove': 1978, 'coming': 483, 'course': 556, 'tough': 2629, 'helps': 1204, 'importantly': 1293, 'brought': 327, 'settings': 2250, 'disturbing': 721, 'torn': 2621, 'south': 2358, 'surprisingly': 2509, 'father': 940, 'ray': 2027, 'deeply': 644, 'troubled': 2659, 'greatly': 1128, 'changed': 399, 'anti': 141, 'message': 1632, 'effective': 787, 'haunting': 1183, 'land': 1443, 'weapons': 2808, 'past': 1836, 'century': 391, 'effect': 786, 'anthony': 140, 'manages': 1581, 'mood': 1677, 'atmosphere': 185, 'climax': 456, 'justice': 1399, 'wonderfully': 2852, 'nature': 1718, 'fits': 990, 'unique': 2704, 'vision': 2762, 'entertain': 822, 'lives': 1515, 'apart': 144, 'desperate': 670, 'gripping': 1131, 'suspense': 2515, 'unlikely': 2711, 'noir': 1739, 'washington': 2792, 'company': 491, 'stranger': 2438, 'apartment': 145, 'robert': 2134, 'ryan': 2163, 'drunk': 764, 'host': 1252, 'sam': 2169, 'happens': 1169, 'jewish': 1372, 'police': 1902, 'detective': 677, 'falls': 921, 'second': 2214, 'buddy': 332, 'silence': 2290, 'superior': 2495, 'naturally': 1717, 'angry': 129, 'male': 1576, 'central': 390, 'smart': 2329, 'sad': 2164, 'kelly': 1404, 'small': 2328, 'memorable': 1621, 'hands': 1162, 'attempt': 191, 'explanation': 887, 'novel': 1754, 'richard': 2118, 'dealt': 629, 'gay': 1072, 'murder': 1698, 'news': 1732, 'europe': 845, 'studios': 2456, 'potential': 1921, 'works': 2862, 'general': 1075, 'girlfriend': 1090, 'question': 2002, 'finest': 985, 'indian': 1306, 'directed': 700, 'successful': 2472, 'hitting': 1228, 'commercial': 487, 'inspiration': 1323, 'leading': 1465, 'directors': 705, 'india': 1305, 'tells': 2559, '70s': 27, 'unlike': 2710, 'creates': 568, 'approach': 158, 'environment': 829, 'various': 2736, 'harsh': 1177, 'suffers': 2482, 'crime': 580, 'efforts': 791, 'leads': 1466, 'achieve': 49, 'anger': 126, 'fights': 968, 'aware': 209, 'negative': 1729, 'finally': 981, 'thoroughly': 2590, 'core': 543, 'breaks': 309, 'gangster': 1067, 'house': 1257, 'short': 2274, 'conversation': 534, 'hair': 1153, 'moments': 1671, 'punch': 1991, 'influence': 1313, 'courage': 555, 'brilliantly': 317, 'belongs': 254, 'portraying': 1914, 'emotions': 801, 'excited': 863, 'cult': 592, 'classics': 448, 'baby': 214, 'print': 1948, 'quality': 1999, 'hide': 1211, 'deadly': 625, 'thrilling': 2597, 'opening': 1787, 'exact': 856, 'revenge': 2111, 'motion': 1684, 'ultimately': 2685, 'adding': 69, 'insult': 1328, 'dubbed': 766, 'significant': 2289, 'halfway': 1155, 'protagonist': 1974, 'non': 1741, 'aged': 86, 'italy': 1358, 'introduced': 1344, 'living': 1516, 'hotel': 1254, 'italian': 1357, 'speaking': 2363, 'business': 339, 'bank': 222, 'normally': 1745, 'count': 551, 'cash': 377, '000': 0, 'dollars': 730, 'missing': 1660, 'manager': 1580, 'close': 458, 'account': 47, 'fear': 946, 'caught': 384, 'appearing': 154, 'truth': 2664, 'told': 2614, 'accepted': 43, 'consequences': 514, 'initially': 1316, '50': 23, 'half': 1154, 'described': 661, 'reveal': 2106, 'days': 623, 'nights': 1738, 'oddly': 1772, 'revealing': 2108, 'seemingly': 2222, 'unnecessary': 2712, 'essential': 842, 'identity': 1275, 'loving': 1551, 'edited': 783, 'stood': 2425, 'treat': 2645, 'release': 2067, 'element': 792, 'al': 96, 'uses': 2723, 'condition': 507, 'deeper': 643, 'deep': 642, 'impossible': 1294, 'grand': 1118, 'legendary': 1478, 'memory': 1623, 'friend': 1050, 'hasn': 1178, 'provide': 1981, 'tiny': 2609, 'window': 2836, 'single': 2301, 'quiet': 2006, 'taking': 2524, 'waiting': 2772, 'produce': 1956, 'fare': 933, 'la': 1433, 'loss': 1537, 'expecting': 877, 'pack': 1811, 'expect': 874, 'occasional': 1769, 'assume': 184, 'build': 334, 'tension': 2562, 'tedious': 2549, 'fast': 937, 'gave': 1071, 'seriously': 2242, 'lead': 1463, 'gonna': 1105, 'concerned': 504, 'talent': 2526, 'certainly': 393, 'avoid': 206, 'bored': 291, 'paint': 1818, 'dry': 765, 'sounded': 2354, 'cute': 600, 'mini': 1651, 'sweet': 2517, 'age': 85, 'indie': 1307, 'edge': 782, '100': 2, 'wonder': 2850, 'hardly': 1174, 'language': 1445, 'nudity': 1758, 'hoping': 1245, 'religious': 2071, 'listen': 1509, 'jesus': 1371, 'wear': 2809, 'television': 2556, 'pg': 1862, '13': 5, 'rated': 2023, 'refuses': 2056, '17': 9, 'rent': 2084, 'suicide': 2485, 'needs': 1728, 'portrayed': 1913, 'ones': 1784, 'teenagers': 2553, 'purely': 1993, 'aspect': 180, 'causes': 387, 'number': 1759, 'teens': 2554, 'including': 1301, 'begin': 244, 'heroine': 1208, 'created': 567, 'strangely': 2437, 'double': 734, 'serves': 2245, 'purpose': 1994, 'gory': 1111, 'suggests': 2484, 'area': 160, 'apparent': 146, 'add': 67, 'act': 51, 'willing': 2832, 'completely': 499, 'nude': 1757, 'hope': 1241, 'following': 1012, 'uk': 2683, '80': 28, 'curiosity': 595, 'value': 2730, 'worry': 2864, 'obviously': 1768, 'struggle': 2449, 'figure': 969, 'weapon': 2807, 'okay': 1781, 'david': 620, 'ride': 2119, 'greatest': 1127, 'writer': 2873, 'heaven': 1195, 'rubbish': 2152, 'husband': 1270, 'product': 1960, 'experiment': 882, 'computer': 502, 'program': 1966, 'propaganda': 1971, 'thrown': 2600, 'proves': 1980, 'steal': 2409, 'protect': 1976, 'actions': 55, 'cage': 345, 'shooting': 2271, 'clue': 464, 'clearly': 451, 'shut': 2284, 'camera': 352, 'child': 422, 'majority': 1569, 'creepy': 578, 'clichés': 455, 'went': 2819, 'casting': 379, 'mixed': 1665, 'hold': 1229, 'james': 1362, 'jr': 1389, 'mindless': 1649, 'entertainment': 825, 'recommend': 2048, 'book': 288, 'issues': 1356, 'race': 2010, 'topic': 2620, 'personal': 1856, 'experiences': 881, 'growing': 1137, 'china': 426, 'background': 215, 'kong': 1431, 'stereotypical': 2416, 'remembered': 2077, 'jones': 1385, 'oscar': 1799, 'doctor': 722, 'william': 2830, 'notch': 1749, 'chemistry': 419, 'lovers': 1549, 'provides': 1983, 'hearts': 1194, 'ending': 807, 'consider': 515, 'stories': 2430, 'example': 858, 'logic': 1522, 'continuity': 529, 'changes': 400, 'dialog': 685, 'pain': 1815, 'gary': 1069, 'local': 1518, 'trailer': 2638, 'confused': 509, 'cops': 541, 'seconds': 2215, 'gun': 1147, 'killed': 1414, 'drives': 759, 'hit': 1225, 'held': 1199, 'states': 2403, 'grace': 1116, 'god': 1099, 'army': 164, 'filmmaker': 976, 'began': 243, 'starts': 2400, 'highly': 1217, 'unfortunate': 2699, 'events': 849, 'exists': 873, 'level': 1489, 'laughable': 1454, 'target': 2535, 'served': 2244, 'mission': 1661, 'gang': 1066, 'california': 346, 'contains': 523, 'available': 204, 'sent': 2234, 'standing': 2391, 'identify': 1274, 'working': 2861, 'figured': 970, 'american': 119, 'car': 362, 'noted': 1751, 'degree': 646, 'grade': 1117, 'hour': 1255, 'remind': 2078, 'americans': 120, 'sake': 2168, 'honor': 1239, 'heavy': 1197, 'musical': 1703, 'douglas': 736, 'parts': 1830, 'worthwhile': 2868, 'compared': 493, 'singing': 2300, 'bigger': 261, 'lighting': 1497, 'delivered': 650, 'common': 489, 'opinion': 1790, 'obvious': 1767, 'cuts': 601, 'talking': 2532, 'enjoyable': 816, 'supporting': 2498, 'revolves': 2116, 'mary': 1591, 'thousands': 2594, 'born': 294, 'earth': 774, 'animals': 131, 'stuff': 2458, 'sunday': 2492, 'public': 1987, 'nearly': 1721, 'thirty': 2588, 'late': 1450, 'screenplay': 2203, 'imdb': 1288, 'site': 2309, 'charles': 407, 'susan': 2513, 'faith': 915, 'reveals': 2109, 'situation': 2311, 'leader': 1464, 'tom': 2615, 'rose': 2148, 'head': 1186, 'morgan': 1681, 'wife': 2828, 'sarah': 2171, 'dimensional': 697, 'boss': 295, 'voice': 2767, 'sees': 2224, 'flaws': 997, 'views': 2754, 'pure': 1992, 'thanks': 2574, 'moore': 1679, 'tragedy': 2636, 'pair': 1819, 'marry': 1587, 'cost': 546, 'loses': 1535, 'younger': 2886, 'learns': 1470, 'behavior': 247, 'shock': 2267, 'presents': 1937, 'son': 2344, 'discovery': 716, 'total': 2623, 'jumps': 1395, 'note': 1750, 'board': 281, 'plans': 1884, 'rival': 2130, 'train': 2639, 'wealthy': 2806, 'rate': 2022, 'social': 2334, 'commentary': 485, 'normal': 1744, 'touches': 2627, 'neat': 1722, 'wooden': 2855, 'finale': 980, 'affair': 80, 'ironic': 1350, 'fu': 1055, '80s': 29, 'westerns': 2823, 'gordon': 1108, 'western': 2822, 'fest': 960, 'simple': 2296, 'acts': 60, 'narrative': 1711, 'martial': 1588, 'arts': 171, 'premise': 1931, 'village': 2755, 'exploitation': 888, 'minor': 1652, 'getting': 1086, 'credibility': 574, 'mob': 1666, 'learn': 1467, 'slapstick': 2319, 'kinda': 1421, 'strength': 2441, 'sound': 2353, 'impact': 1290, 'treatment': 2647, 'refreshing': 2055, 'wide': 2827, 'highlight': 1215, 'angles': 128, 'moves': 1689, 'ad': 63, 'flicks': 1000, 'repeat': 2088, 'screening': 2202, 'lane': 1444, 'spoilers': 2380, 'familiar': 924, 'innocent': 1319, 'jimmy': 1374, 'repeated': 2089, 'forced': 1020, 'arms': 163, 'mouth': 1686, 'fred': 1043, 'ended': 806, 'france': 1039, 'church': 437, 'raised': 2015, 'hospital': 1251, 'fell': 956, 'nurse': 1762, 'lucky': 1555, 'obnoxious': 1764, 'married': 1586, 'french': 1046, 'marriage': 1585, 'bitter': 267, 'accident': 44, 'ran': 2016, 'streets': 2440, 'discovered': 714, 'violent': 2760, 'knew': 1425, 'european': 846, 'ability': 32, 'day': 622, 'massacre': 1594, 'members': 1620, 'hearing': 1191, 'broke': 323, 'seeing': 2219, 'heart': 1192, 'added': 68, 'decided': 639, 'letting': 1488, 'appeared': 153, 'kills': 1418, 'bodies': 284, 'reporter': 2092, 'discover': 713, 'deaths': 633, 'morning': 1682, 'murders': 1701, 'dead': 624, 'shortly': 2275, 'sleep': 2322, 'fans': 929, 'rating': 2024, 'par': 1821, 'faces': 904, 'asking': 177, 'ain': 92, 'space': 2360, 'support': 2497, 'post': 1920, '11': 3, 'deserve': 664, 'shown': 2282, 'stands': 2392, 'haunted': 1182, 'execution': 868, 'self': 2226, 'helped': 1202, 'create': 566, 'retarded': 2102, 'blows': 279, 'ends': 809, 'difficult': 696, 'documentary': 723, 'skill': 2314, 'flow': 1003, 'aka': 95, 'mark': 1583, '60': 24, 'viewer': 2751, 'fair': 913, 'problems': 1954, 'explains': 886, 'extras': 895, 'porn': 1910, 'ii': 1280, 'lose': 1534, '90': 30, 'group': 1135, 'national': 1714, 'training': 2640, 'desert': 663, 'includes': 1300, 'blood': 275, 'guts': 1149, 'flying': 1005, 'rape': 2019, 'drag': 740, 'gore': 1109, 'jump': 1393, 'stays': 2408, 'decent': 637, 'leaves': 1472, 'office': 1777, 'outside': 1802, 'rings': 2125, 'lifetime': 1495, 'grave': 1124, 'teenage': 2551, 'hitchcock': 1226, 'themes': 2581, 'british': 321, 'building': 335, 'necessary': 1724, 'thrillers': 2596, 'knowing': 1427, 'producer': 1958, 'directing': 701, 'elements': 793, 'sharp': 2262, 'wit': 2843, 'brief': 313, 'returning': 2104, 'perfect': 1846, 'los': 1533, 'meets': 1616, 'include': 1298, 'popular': 1909, 'model': 1667, 'martin': 1589, 'kidnapped': 1411, 'mix': 1664, 'form': 1030, 'network': 1730, 'ladies': 1438, 'criminals': 582, 'pull': 1988, 'guns': 1148, 'incredibly': 1303, 'art': 166, 'engaging': 812, 'clever': 452, 'twists': 2677, 'villains': 2757, 'cameo': 351, 'drug': 762, 'store': 2429, 'sign': 2288, 'afraid': 81, 'evening': 847, 'albert': 100, 'sir': 2304, 'putting': 1997, 'king': 1423, 'driven': 757, 'sick': 2285, 'stage': 2387, 'convincing': 538, 'term': 2563, 'technically': 2544, 'marvelous': 1590, 'aren': 161, 'suffering': 2481, 'talked': 2531, 'academy': 38, 'awards': 208, 'peter': 1861, 'adapted': 66, 'entertained': 823, 'pregnant': 1930, 'dreadful': 748, 'important': 1292, 'longer': 1526, 'kate': 1401, 'comedic': 477, 'actresses': 59, 'process': 1955, 'attempting': 193, 'lesbian': 1481, 'terms': 2564, 'disappointing': 709, 'favourite': 945, 'lovely': 1547, 'impressive': 1297, 'miscast': 1656, 'portray': 1911, 'moral': 1680, 'redeeming': 2052, 'qualities': 1998, 'named': 1708, 'stephen': 2413, 'raise': 2014, 'teenager': 2552, 'silent': 2291, 'easily': 775, 'remake': 2074, 'drags': 742, 'silly': 2292, 'torture': 2622, 'colorful': 470, 'helping': 1203, 'cases': 376, 'force': 1019, 'ex': 855, 'priest': 1944, 'mentally': 1626, 'revealed': 2107, 'contain': 522, 'fashioned': 936, 'mystery': 1705, 'strong': 2445, 'guessing': 1143, 'recommended': 2049, 'check': 415, 'share': 2261, 'strange': 2436, 'boys': 303, 'material': 1599, 'bother': 296, 'definitely': 645, 'beauty': 240, 'ass': 182, 'faithful': 916, 'trapped': 2641, 'determined': 678, 'free': 1044, 'magical': 1563, 'gem': 1073, 'accidentally': 45, 'floor': 1002, 'results': 2101, 'creatures': 573, 'easy': 777, 'stone': 2424, 'trick': 2651, 'lover': 1548, 'capable': 357, 'wise': 2840, 'sorts': 2351, 'trouble': 2658, 'jim': 1373, 'captain': 358, 'mental': 1625, 'patient': 1839, 'crap': 562, 'presence': 1933, 'semi': 2229, 'slightly': 2325, 'visual': 2764, 'appealing': 149, 'price': 1943, 'heroes': 1207, 'producers': 1959, 'franchise': 1040, 'sequel': 2236, 'carry': 370, 'reference': 2053, 'albeit': 99, 'sorry': 2349, 'robin': 2136, 'harris': 1175, 'brothers': 326, 'produced': 1957, 'shallow': 2258, 'disaster': 711, 'outer': 1800, 'brave': 306, 'max': 1604, 'throw': 2598, 'thousand': 2593, 'students': 2454, 'media': 1611, 'holes': 1233, 'position': 1916, 'room': 2147, 'experienced': 880, 'ted': 2548, 'lawyer': 1461, 'suits': 2487, 'beat': 237, 'eat': 778, 'tight': 2603, 'understanding': 2695, 'irritating': 1352, 'overall': 1804, 'comparison': 494, 'awesome': 211, 'sucks': 2476, 'clear': 450, 'factor': 907, 'surrounding': 2511, 'honest': 1237, 'shocking': 2269, 'manner': 1582, 'expensive': 878, 'beautifully': 239, 'filmed': 974, 'disgusting': 717, 'considered': 516, 'feature': 947, 'released': 2068, 'absolute': 34, 'showing': 2281, 'subtle': 2468, 'bet': 258, 'relate': 2062, 'chick': 420, 'crude': 589, 'tree': 2648, 'captured': 360, 'attitude': 196, 'pathetic': 1838, '30': 20, 'harry': 1176, 'doing': 728, 'professional': 1963, 'childhood': 423, 'focus': 1006, 'eddie': 781, 'winning': 2838, 'super': 2493, '2000': 15, 'college': 468, 'delightful': 648, 'ed': 780, 'remarkable': 2075, 'scripts': 2206, 'rip': 2126, 'bond': 287, 'tour': 2630, 'international': 1338, 'station': 2404, 'zero': 2888, 'bar': 223, 'tries': 2654, 'epic': 830, 'christopher': 436, 'lee': 1475, 'captures': 361, 'biggest': 262, 'modern': 1668, 'hate': 1180, 'finds': 983, 'breaking': 308, 'mexican': 1635, 'jail': 1361, 'peace': 1844, 'officer': 1778, 'barbara': 224, 'proud': 1977, 'larry': 1449, 'chris': 433, 'brutal': 330, 'intended': 1332, 'interview': 1341, 'keeps': 1403, 'sleazy': 2321, 'bloody': 276, 'japanese': 1365, 'flick': 999, 'balance': 219, 'creature': 572, 'safe': 2166, 'dog': 726, 'girls': 1091, 'heads': 1188, 'team': 2541, 'guys': 1151, 'picked': 1868, 'murderer': 1700, 'random': 2017, 'clips': 457, 'yeah': 2880, 'promise': 1968, 'jobs': 1377, 'covered': 560, 'unknown': 2708, 'highlights': 1216, 'event': 848, 'cool': 539, 'overly': 1806, 'correct': 545, 'enjoying': 818, 'throwing': 2599, 'depiction': 658, 'comical': 482, 'kicks': 1409, 'limited': 1504, 'twice': 2674, 'finding': 982, 'reviews': 2115, 'critics': 586, 'underrated': 2693, 'record': 2050, 'treated': 2646, 'interviews': 1342, 'immediately': 1289, 'unexpected': 2697, 'follows': 1013, 'moved': 1687, 'memories': 1622, 'forgotten': 1029, 'rare': 2020, 'impression': 1296, 'millions': 1646, 'incredible': 1302, 'genius': 1078, 'intriguing': 1343, 'bound': 299, 'universe': 2707, 'intense': 1333, 'moment': 1670, 'returns': 2105, 'discovers': 715, 'string': 2444, 'powers': 1924, 'solve': 2341, 'roberts': 2135, 'accents': 40, 'trite': 2657, 'ask': 175, 'gross': 1133, 'sit': 2307, 'ambitious': 117, 'filled': 972, 'dangerous': 611, 'animal': 130, 'lake': 1441, 'closely': 459, 'australian': 201, 'fate': 939, 'walter': 2779, 'fiction': 963, 'connection': 513, 'weak': 2805, 'screenwriter': 2204, 'develop': 679, 'stretch': 2442, 'ideas': 1273, 'phone': 1863, 'quickly': 2005, 'stuck': 2452, 'listening': 1510, 'reach': 2028, 'unconvincing': 2691, 'finished': 987, 'forgettable': 1027, 'narration': 1710, 'bland': 271, 'danny': 613, 'offered': 1775, 'joke': 1383, 'wondering': 2853, 'drew': 753, 'finish': 986, 'bed': 241, 'touching': 2628, 'mean': 1606, 'twisted': 2676, 'interested': 1336, 'manage': 1578, 'reading': 2031, 'required': 2094, 'accent': 39, 'johnson': 1381, 'matt': 1600, 'beach': 235, 'regard': 2057, 'books': 289, 'attack': 188, 'pulled': 1989, 'sucked': 2475, 'lacked': 1435, '14': 6, '16': 8, 'rock': 2138, 'current': 597, 'private': 1951, 'said': 2167, 'sadly': 2165, 'candy': 356, 'industry': 1309, 'theaters': 2577, 'ring': 2124, 'alike': 105, 'pointless': 1900, 'hey': 1209, 'villain': 2756, 'scares': 2187, 'michelle': 1637, 'visit': 2763, 'depicted': 657, 'witness': 2845, 'glad': 1095, 'tied': 2602, 'vehicle': 2738, 'obsession': 1766, 'rob': 2133, 'curious': 596, 'canadian': 355, 'cross': 587, 'rented': 2086, 'comment': 484, 'creation': 570, 'universal': 2706, 'alice': 102, 'loves': 1550, 'ship': 2266, 'wedding': 2812, 'gold': 1102, 'natural': 1716, 'weight': 2816, 'sings': 2302, 'seeking': 2221, 'youth': 2887, 'paying': 1843, 'attractive': 198, 'led': 1474, 'friendship': 1053, 'struggling': 2451, 'folks': 1009, 'joan': 1375, 'reminiscent': 2081, 'theatrical': 2579, 'artistic': 169, 'importance': 1291, 'caring': 367, 'possibly': 1919, 'technology': 2547, 'spectacular': 2367, 'red': 2051, 'lord': 1532, 'daniel': 612, 'lewis': 1491, 'outrageous': 1801, 'brown': 328, 'foot': 1016, 'pity': 1876, 'cheese': 417, 'kick': 1408, 'animated': 132, 'ball': 220, 'fairly': 914, 'exist': 870, 'involving': 1348, 'stupidity': 2461, 'compare': 492, 'understand': 2694, 'difference': 694, 'inept': 1310, 'chilling': 425, 'previously': 1942, 'plain': 1880, 'idiotic': 1277, 'latest': 1452, 'keeping': 1402, 'letter': 1487, 'princess': 1947, 'castle': 380, 'consists': 518, 'multiple': 1697, 'losing': 1536, 'remote': 2082, 'perform': 1849, 'spin': 2374, 'graphics': 1122, 'games': 1065, 'superb': 2494, 'inspired': 1324, 'length': 1480, 'madness': 1561, 'cartoons': 374, 'writers': 2874, 'allows': 110, 'content': 525, 'near': 1720, 'meeting': 1615, 'van': 2734, 'underground': 2692, 'festival': 961, 'charlie': 408, 'directly': 703, 'questions': 2003, 'asked': 176, 'necessarily': 1723, 'excuse': 866, 'spoken': 2381, 'statement': 2402, 'theatre': 2578, 'beer': 242, 'shape': 2260, 'slasher': 2320, 'comic': 481, 'individual': 1308, 'lie': 1492, 'minds': 1650, 'intellectual': 1329, 'energy': 811, 'physical': 1865, 'garbage': 1068, 'separate': 2235, 'buy': 342, 'sean': 2208, 'handle': 1160, 'buying': 343, 'breathtaking': 311, 'downright': 737, 'ripped': 2127, 'ancient': 122, 'kim': 1419, 'disney': 719, 'witch': 2844, 'ugly': 2682, 'ludicrous': 1556, 'struggles': 2450, 'briefly': 314, 'pop': 1908, 'victor': 2745, 'native': 1715, 'practically': 1925, 'stick': 2420, 'admittedly': 73, 'trash': 2642, 'vacation': 2729, 'ultra': 2686, 'blonde': 274, 'supposedly': 2501, 'meant': 1610, 'depressing': 659, 'arrives': 165, 'costume': 548, 'studio': 2455, 'pieces': 1873, 'handsome': 1163, 'pretentious': 1939, 'runs': 2159, 'treasure': 2644, 'handled': 1161, 'claim': 444, 'answers': 139, 'trek': 2649, 'crew': 579, 'quest': 2001, 'hopes': 1244, 'chair': 395, 'guilty': 1146, 'involves': 1347, 'round': 2150, 'claims': 445, 'melodrama': 1617, 'fictional': 964, 'flashback': 992, 'cinematic': 439, 'makeup': 1574, 'prime': 1945, 'history': 1224, 'sleeping': 2323, 'jane': 1363, 'direct': 699, 'copy': 542, 'wrote': 2878, 'choose': 430, 'remain': 2072, 'opposite': 1793, 'stopped': 2427, 'renting': 2087, 'review': 2112, 'smile': 2330, 'cgi': 394, 'river': 2131, 'realistic': 2035, 'suspenseful': 2516, 'hole': 1232, 'outstanding': 1803, 'endless': 808, 'chases': 412, 'chase': 411, 'draw': 746, 'donald': 732, 'ben': 256, 'frightening': 1054, 'intensity': 1334, 'locations': 1520, 'loud': 1541, 'repeatedly': 2090, 'scenery': 2191, 'hiding': 1212, 'religion': 2070, 'paris': 1823, 'choice': 428, 'authentic': 202, 'louis': 1542, 'seat': 2213, 'opposed': 1792, 'ordinary': 1795, 'government': 1115, 'continue': 527, 'rule': 2155, 'featuring': 950, 'test': 2569, 'boyfriend': 302, 'checking': 416, 'ms': 1695, 'victims': 2744, 'cover': 559, 'hadn': 1152, 'footage': 1017, 'collection': 467, 'steals': 2411, 'believes': 253, 'relief': 2069, 'teen': 2550, 'learning': 1469, 'body': 285, 'blue': 280, 'stewart': 2419, 'supernatural': 2496, 'falling': 920, 'jungle': 1396, 'badly': 217, 'tongue': 2617, 'lacks': 1437, 'send': 2230, 'cat': 381, 'size': 2313, 'introduction': 1345, 'deals': 628, 'zombies': 2890, 'mere': 1629, 'ups': 2716, 'court': 557, 'uninteresting': 2703, 'walking': 2776, 'sends': 2231, 'advantage': 76, 'win': 2834, 'blind': 272, 'atmospheric': 186, 'sci': 2194, 'fi': 962, 'melodramatic': 1618, 'idiot': 1276, 'west': 2821, 'tim': 2605, 'sexual': 2253, 'unrealistic': 2713, 'department': 656, 'mid': 1638, 'paced': 1809, 'selling': 2228, 'escape': 838, 'photography': 1864, 'warm': 2786, 'tony': 2618, 'deserves': 666, 'deal': 626, 'competition': 497, 'debut': 634, 'calls': 349, 'road': 2132, 'feet': 955, 'teach': 2539, 'bus': 338, 'rolling': 2143, 'hired': 1222, 'lonely': 1524, 'device': 683, 'scare': 2185, 'laughing': 1456, 'assistant': 183, 'drive': 756, 'driving': 760, 'destroyed': 674, 'market': 1584, 'psychological': 1986, 'lousy': 1543, 'embarrassed': 796, 'smith': 2331, 'paid': 1814, 'attention': 195, 'credit': 576, 'track': 2633, 'awkward': 213, 'com': 472, 'talents': 2528, 'plastic': 1885, 'cartoon': 373, 'appropriate': 159, 'cousin': 558, 'extra': 893, 'features': 949, 'contemporary': 524, 'notable': 1748, 'location': 1519, 'proper': 1972, 'forever': 1025, 'episodes': 832, 'gene': 1074, 'belief': 249, 'walked': 2775, 'breath': 310, 'sheer': 2263, 'numbers': 1760, 'hat': 1179, 'andy': 124, 'appreciated': 157, 'cable': 344, 'green': 1129, 'asian': 173, 'express': 889, 'drink': 754, 'steven': 2418, 'surprising': 2508, 'reviewer': 2113, 'joseph': 1386, 'talks': 2533, 'spends': 2372, 'alex': 101, 'executed': 867, 'chasing': 413, 'queen': 2000, 'comedian': 476, 'pay': 1842, 'flaw': 995, 'forces': 1021, 'sides': 2286, 'historical': 1223, 'matters': 1602, 'generally': 1076, 'range': 2018, 'annoyed': 136, 'adds': 71, 'variety': 2735, 'deliver': 649, 'explained': 885, 'changing': 401, 'food': 1014, 'drinking': 755, 'ill': 1281, 'accept': 41, 'gratuitous': 1123, 'steps': 2414, 'society': 2335, 'speaks': 2364, 'thankfully': 2573, 'danger': 610, 'weeks': 2815, 'sounds': 2355, 'month': 1675, 'stayed': 2407, 'realized': 2038, 'ford': 1022, 'flight': 1001, 'recently': 2046, 'complicated': 501, 'clean': 449, 'simon': 2295, 'irony': 1351, 'lacking': 1436, 'sinister': 2303, 'fabulous': 901, 'kevin': 1406, 'standard': 2389, 'split': 2377, 'giant': 1088, 'specific': 2366, 'touched': 2626, 'desire': 669, 'arm': 162, 'setting': 2249, 'ages': 88, 'adaptation': 65, 'catch': 382, 'soft': 2336, 'plan': 1881, 'critical': 584, 'community': 490, 'genuinely': 1081, 'satisfying': 2174, 'presentation': 1935, 'forth': 1033, 'technical': 2543, 'subtitles': 2467, 'daily': 605, 'charisma': 406, 'stomach': 2423, 'mask': 1592, 'screaming': 2200, 'gas': 1070, 'elizabeth': 794, 'field': 965, 'minded': 1648, 'joe': 1378, 'rain': 2013, 'passion': 1835, 'ignored': 1279, 'happily': 1170, 'step': 2412, 'tragic': 2637, 'faced': 903, 'bare': 225, 'handed': 1159, 'mature': 1603, 'headed': 1187, 'replaced': 2091, 'scream': 2199, 'whatsoever': 2824, 'established': 844, 'relationships': 2065, 'rough': 2149, 'friendly': 1051, 'powerful': 1923, 'regular': 2061, 'cliché': 453, 'greater': 1126, 'corny': 544, 'holding': 1230, 'butt': 341, 'alright': 111, 'reasons': 2042, 'context': 526, 'likely': 1502, 'party': 1831, 'related': 2063, 'somebody': 2342, 'lady': 1439, 'magic': 1562, 'internet': 1339, 'guide': 1145, 'broken': 324, 'spot': 2384, 'artists': 170, 'park': 1824, 'poignant': 1898, 'page': 1813, 'mirror': 1655, 'gags': 1063, 'prior': 1949, 'criminal': 581, 'break': 307, 'filmmakers': 977, 'answer': 138, 'portrayal': 1912, 'sub': 2464, 'flashbacks': 993, 'emotion': 798, 'fat': 938, 'drop': 761, 'dude': 767, 'wishes': 2842, 'happiness': 1171, 'innocence': 1318, 'grant': 1119, 'intelligence': 1330, 'adults': 75, 'fish': 988, 'upset': 2717, 'delivery': 652, 'service': 2246, 'essentially': 843, 'bruce': 329, 'friday': 1049, 'dreams': 750, 'jason': 1366, 'existent': 872, 'student': 2453, 'massive': 1595, 'study': 2457, 'theory': 2582, 'starting': 2399, 'insight': 1322, 'format': 1031, 'blow': 277, 'science': 2195, 'closer': 460, 'brian': 312, 'mistakes': 1663, 'everyday': 852, 'hang': 1164, '2006': 18, 'attraction': 197, 'search': 2209, 'information': 1314, 'texas': 2570, 'batman': 232, 'warner': 2789, 'status': 2405, 'basic': 229, 'seasons': 2212, 'adventures': 78, 'nicely': 1734, 'wayne': 2803, 'bob': 283, 'fourth': 1036, 'circumstances': 441, 'fortunately': 1034, 'shoots': 2272, 'bucks': 331, 'slowly': 2327, 'hits': 1227, 'personalities': 1857, 'blown': 278, 'equal': 833, 'surprises': 2507, 'entry': 828, 'hill': 1219, 'upper': 2715, 'structure': 2448, 'amateur': 112, 'heavily': 1196, 'images': 1284, 'protagonists': 1975, 'gritty': 1132, 'profound': 1965, 'promising': 1969, 'eyed': 899, 'recent': 2045, 'racist': 2011, 'boredom': 292, 'unforgettable': 2698, 'soul': 2352, 'gotta': 1113, 'failure': 912, 'convey': 535, 'politics': 1904, 'extraordinary': 894, 'interpretation': 1340, 'bringing': 319, 'missed': 1659, 'exciting': 865, 'ultimate': 2684, 'dying': 771, 'unable': 2687, 'imaginative': 1286, 'admit': 72, 'convinced': 537, 'remotely': 2083, 'offer': 1774, 'hall': 1156, 'anne': 135, 'vampire': 2732, 'novels': 1755, 'hint': 1220, 'flesh': 998, 'focused': 1007, 'mediocre': 1613, 'bomb': 286, 'colors': 471, 'suspect': 2514, 'kudos': 1432, 'united': 2705, 'attacks': 190, 'cruel': 590, 'insane': 1320, 'humanity': 1261, 'freedom': 1045, 'speech': 2368, 'locked': 1521, 'abuse': 37, 'monsters': 1674, 'choices': 429, 'suggest': 2483, 'patrick': 1840, 'uncle': 2689, 'opportunity': 1791, 'imagery': 1283, 'darkness': 616, 'sell': 2227, 'believed': 252, 'dress': 751, 'code': 465, 'crowd': 588, 'hidden': 1210, 'provided': 1982, 'wild': 2829, 'jean': 1367, 'driver': 758, 'russian': 2162, 'lived': 1514, 'fox': 1037, 'forgot': 1028, 'lesser': 1482, 'legs': 1479, 'suffer': 2479, 'riding': 2121, 'military': 1643, 'gotten': 1114, 'reminded': 2079, '1970': 12, 'destruction': 675, 'kinds': 1422, 'viewers': 2752, 'concerns': 505, 'wwii': 2879, 'dear': 631, 'favor': 942, 'enemy': 810, 'frankly': 1042, 'prefer': 1929, 'eric': 836, 'titles': 2612, 'shines': 2265, 'pre': 1927, 'joy': 1388, 'russell': 2161, 'pilot': 1875, 'tense': 2561, 'creative': 571, 'unusual': 2714, 'lazy': 1462, 'develops': 682, 'makers': 1572, 'flawed': 996, 'channel': 402, 'color': 469, 'till': 2604, 'scared': 2186, 'suit': 2486, 'likes': 1503, 'shop': 2273, 'strongly': 2446, 'dislike': 718, 'allow': 108, 'expression': 890, 'clothes': 462, 'tend': 2560, 'mass': 1593, 'dogs': 727, 'costs': 547, 'gorgeous': 1110, 'beloved': 255, 'decision': 641, 'slight': 2324, 'cultural': 593, 'advice': 79, 'sum': 2488, 'routine': 2151, 'met': 1633, 'maker': 1571, 'bag': 218, 'sports': 2383, 'robot': 2137, 'howard': 1258, 'winner': 2837, 'teacher': 2540, 'humorous': 1264, 'skip': 2317, 'months': 1676, 'bear': 236, 'wind': 2835, 'largely': 1447, 'toy': 2632, 'cars': 372, 'lesson': 1483, 'center': 389, 'ann': 134, 'murdered': 1699, 'seek': 2220, 'author': 203, 'spy': 2386, '2005': 17, 'amazed': 114, 'teeth': 2555, 'raw': 2026, 'asks': 178, 'ron': 2146, 'parody': 1826, 'generation': 1077, 'amazingly': 116, 'push': 1995, 'veteran': 2741, 'spoof': 2382, 'passed': 1833, 'east': 776, 'ruined': 2154, 'partner': 1829, 'mrs': 1694, 'sky': 2318, 'path': 1837, 'plane': 1882, 'nightmare': 1737, 'stereotypes': 2415, 'offensive': 1773, 'atrocious': 187, 'nation': 1713, 'independent': 1304, 'pleasure': 1893, 'featured': 948, 'infamous': 1312, 'ice': 1271, 'dramas': 744, 'stylish': 2463, 'charge': 405, 'horrific': 1248, 'continues': 528, 'radio': 2012, 'committed': 488, 'combined': 474, 'wow': 2871, 'blame': 270, 'storm': 2431, 'confusion': 511, 'sun': 2491, 'crash': 564, 'fly': 1004, 'overcome': 1805, 'essence': 841, 'desperately': 671, 'billy': 263, 'travel': 2643, 'exceptional': 862, 'segment': 2225, 'instantly': 1326, 'spoil': 2378, 'demon': 653, 'abandoned': 31, 'demons': 654, 'regardless': 2059, 'competent': 496, 'granted': 1120, 'dean': 630, 'criticism': 585, 'fool': 1015, 'task': 2536, 'originality': 1797, 'alas': 98, 'foreign': 1023, 'quote': 2009, '18': 10, 'regarding': 2058, 'turkey': 2668, 'favorites': 944, 'fame': 923, 'shorts': 2276, 'sight': 2287, 'seven': 2251, 'moon': 1678, 'lying': 1557, 'considering': 517, 'warning': 2790, 'asleep': 179, 'cynical': 603, 'crying': 591, 'closing': 461, 'trilogy': 2655, 'dramatic': 745, 'suffered': 2480, 'gag': 1062, 'false': 922, 'lynch': 1558, 'unfunny': 2701, 'caused': 386, 'intelligent': 1331, 'shadow': 2256, 'african': 83, 'christmas': 435, 'initial': 1315, 'merely': 1630, 'laura': 1459, 'grows': 1139, 'nick': 1735, 'warn': 2787, 'throws': 2601, 'tribute': 2650, 'hoped': 1242, 'scott': 2198, 'enjoyment': 819, 'afternoon': 84, 'movement': 1688, 'broadway': 322, 'homage': 1235, 'rise': 2128, 'wall': 2778, 'goofy': 1107, 'frequently': 1047, 'realizes': 2039, 'truck': 2660, 'storytelling': 2434, 'result': 2100, 'frame': 1038, 'succeeds': 2470, 'effectively': 788, 'roger': 2139, 'reputation': 2093, '40': 21, 'spending': 2371, 'metal': 1634, 'praise': 1926, 'join': 1382, 'emotionally': 800, 'walks': 2777, 'chinese': 427, 'aliens': 104, 'shocked': 2268, 'alan': 97, 'deserved': 665, 'proved': 1979, 'disagree': 707, 'san': 2170, 'virtually': 2761, 'credible': 575, 'types': 2679, 'glimpse': 1097, 'wins': 2839, 'provoking': 1984, 'loose': 1531, 'hundreds': 1266, 'horribly': 1247, 'combination': 473, 'multi': 1696, 'sensitive': 2233, 'larger': 1448, 'families': 925, 'versions': 2740, 'extent': 892, 'serve': 2243, 'performers': 1853, 'julia': 1391, 'medical': 1612, 'needless': 1727, 'charming': 410, 'rental': 2085, 'japan': 1364, 'object': 1763, 'carrying': 371, 'johnny': 1380, 'dick': 688, 'category': 383, 'award': 207, '1950': 11, 'adam': 64, 'julie': 1392, 'embarrassing': 797, 'sing': 2298, 'forest': 1024, 'germany': 1084, 'spanish': 2361, 'carried': 368, 'vincent': 2758, 'attempted': 192, 'pleasant': 1892, 'exercise': 869, 'endearing': 805, 'obsessed': 1765, 'lights': 1498, 'occasionally': 1770, 'utter': 2727, 'succeed': 2469, 'dollar': 729, 'meaningful': 1608, 'nose': 1747, 'passing': 1834, 'nowadays': 1756, 'wasting': 2796, 'dragged': 741, 'sisters': 2306, 'placed': 1878, 'laid': 1440, 'inevitable': 1311, 'timing': 2608, 'feelings': 953, 'pool': 1905, 'starred': 2394, 'saves': 2178, 'escapes': 839, 'wake': 2773, 'understood': 2696, 'successfully': 2473, 'decades': 636, 'instance': 1325, 'jerry': 1370, 'stops': 2428, 'display': 720, 'figures': 971, 'controversial': 533, 'bothered': 297, 'vampires': 2733, 'curse': 598, 'kiss': 1424, 'chief': 421, 'appearances': 152, 'birth': 264, 'productions': 1962, 'convince': 536, 'basis': 231, 'ensemble': 820, 'thomas': 2589, 'hunter': 1268, 'hip': 1221, '1980': 13, 'carefully': 365, 'crafted': 561, '45': 22, 'designed': 668, 'christian': 434, 'revelation': 2110, 'intentions': 1335, 'flash': 991, 'dennis': 655, 'issue': 1355, 'president': 1938, 'urban': 2718, '60s': 25, 'funnier': 1058, 'key': 1407, 'properly': 1973, 'picks': 1869, 'jeff': 1368, 'built': 336, 'legend': 1477, 'prince': 1946, 'searching': 2210, 'tricks': 2652, 'sheriff': 2264, 'miller': 1644, 'uninspired': 2702, 'culture': 594, 'dinner': 698, 'anderson': 123, 'acceptable': 42, 'higher': 1214, 'cutting': 602, 'angel': 125, 'reaction': 2029, 'stealing': 2410, 'sitcom': 2308, 'spite': 2376, 'source': 2357, '2001': 16, 'ashamed': 172, 'tales': 2529, 'description': 662, 'striking': 2443, 'taylor': 2538, 'campy': 354, 'owner': 1807, 'useless': 2722, 'typically': 2681, 'inner': 1317, 'sexuality': 2254, 'vietnam': 2748}\n"
     ]
    }
   ],
   "source": [
    "trial_db = Sequences(DATA_SET)\n",
    "# train_loader = DataLoader(test_db, batch_size = 4096)\n",
    "print(trial_db.vectorizer)\n",
    "# print(trial_db.sequences)\n",
    "print(trial_db.token2idx)\n"
   ]
  },
  {
   "cell_type": "code",
   "execution_count": 32,
   "id": "bccb2f77",
   "metadata": {},
   "outputs": [
    {
     "name": "stdout",
     "output_type": "stream",
     "text": [
      "{2114: 'reviewers', 1628: 'mentioned', 2800: 'watching', 1398: 'just', 831: 'episode', 1517: 'll', 1240: 'hooked', 2122: 'right', 857: 'exactly', 1167: 'happened', 304: 'br', 2583: 'thing', 2447: 'struck', 2192: 'scenes', 2759: 'violence', 2247: 'set', 2857: 'word', 2663: 'trust', 1193: 'hearted', 1990: 'pulls', 763: 'drugs', 2252: 'sex', 447: 'classic', 2720: 'use', 347: 'called', 1092: 'given', 2218: 'security', 2401: 'state', 1008: 'focuses', 1566: 'mainly', 442: 'city', 2217: 'section', 1950: 'prison', 1096: 'glass', 902: 'face', 1213: 'high', 795: 'em', 1236: 'home', 1349: 'irish', 632: 'death', 932: 'far', 210: 'away', 2181: 'say', 1565: 'main', 148: 'appeal', 906: 'fact', 1100: 'goes', 2283: 'shows', 2870: 'wouldn', 614: 'dare', 1026: 'forget', 1940: 'pretty', 1871: 'pictures', 1567: 'mainstream', 200: 'audiences', 409: 'charm', 2144: 'romance', 725: 'doesn', 1631: 'mess', 2180: 'saw', 1712: 'nasty', 2510: 'surreal', 550: 'couldn', 2032: 'ready', 2799: 'watched', 680: 'developed', 2537: 'taste', 1112: 'got', 1490: 'levels', 1121: 'graphic', 2337: 'sold', 1413: 'kill', 1794: 'order', 1639: 'middle', 446: 'class', 2670: 'turned', 1434: 'lack', 2439: 'street', 2315: 'skills', 879: 'experience', 2690: 'uncomfortable', 2753: 'viewing', 2575: 'thats', 2625: 'touch', 2851: 'wonderful', 1512: 'little', 1961: 'production', 975: 'filming', 2545: 'technique', 1782: 'old', 2606: 'time', 234: 'bbc', 935: 'fashion', 1093: 'gives', 2232: 'sense', 2034: 'realism', 826: 'entire', 1872: 'piece', 57: 'actors', 897: 'extremely', 432: 'chosen', 1636: 'michael', 2768: 'voices', 2662: 'truly', 784: 'editing', 2054: 'references', 2831: 'williams', 2867: 'worth', 2876: 'written', 1852: 'performed', 1125: 'great', 1596: 'master', 479: 'comedy', 1494: 'life', 2040: 'really', 480: 'comes', 2584: 'things', 931: 'fantasy', 1141: 'guard', 2635: 'traditional', 749: 'dream', 2546: 'techniques', 2073: 'remains', 2340: 'solid', 1891: 'plays', 1428: 'knowledge', 1828: 'particularly', 2248: 'sets', 994: 'flat', 2504: 'surface', 2566: 'terribly', 2591: 'thought', 2802: 'way', 2370: 'spend', 1253: 'hot', 2490: 'summer', 2814: 'weekend', 2310: 'sitting', 93: 'air', 2576: 'theater', 1496: 'light', 1895: 'plot', 687: 'dialogue', 2846: 'witty', 404: 'characters', 1499: 'likable', 2240: 'serial', 1415: 'killer', 708: 'disappointed', 2037: 'realize', 1598: 'match', 1899: 'point', 2129: 'risk', 1970: 'proof', 107: 'allen', 1056: 'fully', 532: 'control', 2462: 'style', 1138: 'grown', 1545: 'love', 1455: 'laughed', 478: 'comedies', 2882: 'years', 635: 'decade', 2737: 've', 1295: 'impressed', 1579: 'managed', 2616: 'tone', 2255: 'sexy', 1282: 'image', 205: 'average', 2885: 'young', 2847: 'woman', 364: 'career', 684: 'devil', 2811: 'wears', 1337: 'interesting', 1052: 'friends', 230: 'basically', 926: 'family', 301: 'boy', 2587: 'thinks', 2889: 'zombie', 1822: 'parents', 967: 'fighting', 1690: 'movie', 2333: 'soap', 1789: 'opera', 2478: 'suddenly', 640: 'decides', 1780: 'ok', 1101: 'going', 1570: 'make', 973: 'film', 638: 'decide', 2595: 'thriller', 743: 'drama', 2798: 'watchable', 1500: 'like', 2033: 'real', 2624: 'totally', 876: 'expected', 2294: 'similar', 1327: 'instead', 2385: 'spots', 1: '10', 1890: 'playing', 686: 'dialogs', 2278: 'shots', 1278: 'ignore', 1672: 'money', 2765: 'visually', 2459: 'stunning', 2797: 'watch', 1693: 'mr', 1776: 'offers', 1260: 'human', 2558: 'telling', 1922: 'power', 2471: 'success', 1845: 'people', 695: 'different', 2312: 'situations', 802: 'encounter', 167: 'arthur', 1886: 'play', 2580: 'theme', 704: 'director', 54: 'action', 1934: 'present', 1731: 'new', 2884: 'york', 1614: 'meet', 512: 'connected', 1855: 'person', 1426: 'know', 1941: 'previous', 521: 'contact', 2348: 'sophisticated', 1527: 'look', 2522: 'taken', 1513: 'live', 2863: 'world', 1085: 'gets', 1870: 'picture', 260: 'big', 257: 'best', 1877: 'place', 375: 'case', 53: 'acting', 1106: 'good', 702: 'direction', 2417: 'steve', 1400: 'kane', 2099: 'rest', 2527: 'talented', 378: 'cast', 475: 'come', 106: 'alive', 2841: 'wish', 1554: 'luck', 2859: 'work', 1952: 'probably', 943: 'favorite', 2432: 'story', 385: 'cause', 293: 'boring', 672: 'despite', 1185: 'having', 2223: 'seen', 7: '15', 2607: 'times', 19: '25', 1841: 'paul', 1850: 'performance', 320: 'brings', 2542: 'tears', 900: 'eyes', 621: 'davis', 2519: 'sympathetic', 2141: 'roles', 647: 'delight', 1412: 'kids', 2183: 'says', 752: 'dressed', 424: 'children', 1573: 'makes', 1057: 'fun', 1683: 'mother', 2326: 'slow', 1168: 'happening', 250: 'believable', 738: 'dozen', 2502: 'sure', 618: 'dated', 2241: 'series', 2613: 'today', 318: 'bring', 1410: 'kid', 864: 'excitement', 1130: 'grew', 269: 'black', 2826: 'white', 2673: 'tv', 1206: 'hero', 2813: 'week', 2769: 'vote', 2207: 'sea', 1267: 'hunt', 1725: 'need', 398: 'change', 1808: 'pace', 2801: 'water', 77: 'adventure', 1779: 'oh', 2572: 'thank', 2749: 'view', 1691: 'movies', 251: 'believe', 2780: 'wanna', 1733: 'nice', 2030: 'read', 1897: 'plus', 1901: 'points', 1507: 'lines', 1485: 'let', 1471: 'leave', 735: 'doubt', 1486: 'lets', 115: 'amazing', 1048: 'fresh', 1272: 'idea', 26: '70', 94: 'aired', 316: 'brilliant', 1060: 'funny', 143: 'anymore', 498: 'complete', 2794: 'waste', 919: 'fallen', 2875: 'writing', 1817: 'painfully', 216: 'bad', 1851: 'performances', 1641: 'mildly', 824: 'entertaining', 1144: 'guest', 1173: 'hard', 1158: 'hand', 1796: 'original', 431: 'chose', 221: 'band', 1011: 'followed', 2047: 'recognize', 989: 'fit', 958: 'felt', 2396: 'stars', 2097: 'respect', 1259: 'huge', 212: 'awful', 1917: 'positive', 486: 'comments', 1529: 'looking', 1035: 'forward', 1662: 'mistake', 978: 'films', 2866: 'worst', 1810: 'pacing', 2433: 'storyline', 2356: 'soundtrack', 2345: 'song', 1442: 'lame', 553: 'country', 2667: 'tune', 1887: 'played', 1530: 'looks', 414: 'cheap', 896: 'extreme', 2021: 'rarely', 1172: 'happy', 804: 'end', 577: 'credits', 1094: 'giving', 2197: 'score', 1575: 'making', 265: 'bit', 790: 'effort', 1458: 'laughter', 1200: 'hell', 1669: 'mom', 1501: 'liked', 353: 'camp', 103: 'alien', 2007: 'quirky', 1265: 'humour', 228: 'based', 61: 'actual', 1771: 'odd', 690: 'didn', 1384: 'jokes', 1552: 'low', 333: 'budget', 1953: 'problem', 850: 'eventually', 1538: 'lost', 1287: 'imagine', 259: 'better', 2665: 'try', 325: 'brother', 1883: 'planet', 4: '12', 350: 'came', 2043: 'recall', 2190: 'scene', 779: 'eating', 1624: 'men', 1249: 'horror', 418: 'cheesy', 2175: 'saturday', 2610: 'tired', 1032: 'formula', 1673: 'monster', 2678: 'type', 2726: 'usually', 1299: 'included', 238: 'beautiful', 619: 'daughter', 1964: 'professor', 692: 'died', 363: 'care', 2145: 'romantic', 127: 'angle', 2881: 'year', 1928: 'predictable', 1896: 'plots', 1263: 'humor', 1451: 'later', 1985: 'psycho', 1546: 'loved', 2393: 'star', 773: 'early', 2172: 'sat', 2619: 'took', 1752: 'notice', 2188: 'scary', 1918: 'possible', 2156: 'rules', 928: 'fan', 817: 'enjoyed', 1605: 'maybe', 147: 'apparently', 298: 'bought', 2123: 'rights', 1525: 'long', 89: 'ago', 1064: 'game', 1417: 'killing', 2216: 'secret', 2096: 'research', 1353: 'island', 2788: 'warned', 952: 'feeling', 1889: 'players', 1709: 'names', 62: 'actually', 2525: 'tale', 1359: 'jack', 2883: 'yes', 1083: 'german', 2661: 'true', 1860: 'perspective', 731: 'don', 1528: 'looked', 854: 'evil', 1560: 'mad', 2196: 'scientist', 739: 'dr', 2339: 'soldiers', 2080: 'reminds', 2379: 'spoiler', 2041: 'reason', 2117: 'rich', 2856: 'woods', 1184: 'haven', 1104: 'gone', 2398: 'started', 2406: 'stay', 651: 'delivers', 1607: 'meaning', 2474: 'suck', 689: 'did', 282: 'boat', 1453: 'laugh', 91: 'ahead', 137: 'annoying', 2270: 'shoot', 1654: 'minutes', 2201: 'screen', 2257: 'shakespeare', 156: 'appreciate', 2666: 'trying', 2153: 'ruin', 392: 'certain', 2653: 'tried', 835: 'era', 2858: 'words', 1847: 'perfection', 2872: 'write', 2571: 'text', 814: 'english', 2182: 'saying', 724: 'does', 599: 'cut', 930: 'fantastic', 927: 'famous', 1082: 'george', 2142: 'roll', 1577: 'man', 519: 'constant', 851: 'everybody', 1420: 'kind', 747: 'drawn', 837: 'erotic', 113: 'amateurish', 2688: 'unbelievable', 266: 'bits', 2350: 'sort', 2193: 'school', 1967: 'project', 2586: 'thinking', 2421: 'stock', 268: 'bizarre', 2500: 'supposed', 2631: 'town', 1346: 'involved', 1484: 'lessons', 1468: 'learned', 2008: 'quite', 2120: 'ridiculous', 1540: 'lots', 2316: 'skin', 1743: 'nonsense', 2064: 'relationship', 803: 'encounters', 36: 'absurd', 608: 'dance', 1832: 'pass', 1645: 'million', 1642: 'miles', 2795: 'wasted', 2373: 'spent', 82: 'africa', 2297: 'simply', 911: 'fails', 359: 'capture', 2568: 'terror', 2611: 'title', 860: 'excellent', 1231: 'holds', 861: 'exception', 2833: 'wilson', 951: 'feel', 403: 'character', 1568: 'major', 941: 'fault', 2739: 'version', 1360: 'jackson', 194: 'attempts', 772: 'earlier', 2365: 'special', 789: 'effects', 815: 'enjoy', 1783: 'older', 1246: 'horrible', 2793: 'wasn', 1653: 'minute', 966: 'fight', 397: 'chance', 681: 'development', 340: 'busy', 2158: 'running', 2518: 'sword', 799: 'emotional', 1559: 'machine', 2782: 'wanted', 673: 'destroy', 2422: 'stolen', 2791: 'wars', 859: 'examples', 1087: 'ghost', 979: 'final', 245: 'beginning', 189: 'attacked', 2103: 'return', 2854: 'wood', 2743: 'victim', 2771: 'wait', 2770: 'vs', 1262: 'humans', 2557: 'tell', 1719: 'nazi', 1505: 'line', 2160: 'rushed', 506: 'conclusion', 74: 'adult', 710: 'disappointment', 2176: 'save', 2076: 'remember', 438: 'cinema', 615: 'dark', 1879: 'places', 604: 'dad', 2305: 'sister', 813: 'england', 151: 'appearance', 56: 'actor', 607: 'dan', 2585: 'think', 2277: 'shot', 693: 'dies', 1430: 'knows', 770: 'dvd', 463: 'club', 2259: 'shame', 14: '20', 1189: 'hear', 1740: 'nominated', 1103: 'golden', 959: 'female', 908: 'facts', 1848: 'perfectly', 984: 'fine', 168: 'artist', 768: 'dull', 2205: 'script', 2499: 'suppose', 2820: 'weren', 1707: 'naked', 2489: 'summary', 2177: 'saved', 554: 'couple', 1256: 'hours', 691: 'die', 2237: 'sequels', 2505: 'surprise', 2877: 'wrong', 1150: 'guy', 503: 'concept', 1685: 'mountain', 2095: 'rescue', 2426: 'stop', 840: 'especially', 883: 'expert', 227: 'base', 1394: 'jumping', 905: 'facial', 891: 'expressions', 1874: 'pile', 1397: 'junk', 52: 'acted', 1250: 'horse', 1544: 'lovable', 1894: 'plenty', 1457: 'laughs', 1379: 'john', 300: 'box', 87: 'agent', 1205: 'henry', 583: 'cringe', 2869: 'worthy', 520: 'constantly', 1816: 'painful', 712: 'disbelief', 1269: 'hurt', 142: 'anybody', 2825: 'whilst', 2503: 'surely', 1041: 'frank', 1089: 'girl', 1627: 'mention', 1523: 'london', 2724: 'using', 1018: 'football', 1201: 'help', 1726: 'needed', 366: 'cares', 1166: 'happen', 1553: 'lower', 875: 'expectations', 2669: 'turn', 2810: 'wearing', 2565: 'terrible', 2279: 'shouldn', 181: 'aspects', 1820: 'paper', 2239: 'sequences', 917: 'fake', 1812: 'packed', 563: 'crappy', 1506: 'liners', 121: 'amusing', 2848: 'women', 2728: 'utterly', 150: 'appear', 2817: 'weird', 549: 'costumes', 909: 'fail', 1657: 'miserably', 35: 'absolutely', 2849: 'won', 2060: 'regret', 369: 'carries', 1354: 'isn', 1702: 'music', 2523: 'takes', 1136: 'grow', 1190: 'heard', 2397: 'start', 2435: 'straight', 1601: 'matter', 2721: 'used', 2369: 'speed', 1218: 'hilarious', 1539: 'lot', 1692: 'moving', 2725: 'usual', 2477: 'sudden', 133: 'animation', 2865: 'worse', 337: 'bunch', 2157: 'run', 70: 'addition', 2750: 'viewed', 2534: 'tape', 2742: 'vhs', 1888: 'player', 1405: 'kept', 1640: 'mike', 1867: 'pick', 2211: 'season', 1238: 'honestly', 226: 'barely', 2512: 'survive', 1198: 'heck', 957: 'fellow', 1157: 'halloween', 1736: 'night', 2460: 'stupid', 1798: 'originally', 46: 'according', 2184: 'scale', 1609: 'means', 2709: 'unless', 2044: 'received', 1429: 'known', 1825: 'parker', 58: 'actress', 109: 'allowed', 1390: 'judge', 290: 'bore', 660: 'depth', 540: 'cop', 954: 'feels', 2746: 'video', 2390: 'standards', 2299: 'singer', 500: 'complex', 48: 'accurate', 676: 'details', 1915: 'portrays', 1706: 'naive', 769: 'dumb', 2140: 'role', 1858: 'personality', 2567: 'terrific', 1376: 'job', 2346: 'songs', 2700: 'unfortunately', 2025: 'ratings', 2719: 'usa', 552: 'countries', 388: 'cell', 1597: 'masterpiece', 2656: 'trip', 1647: 'mind', 853: 'evidence', 50: 'achieved', 248: 'beings', 174: 'aside', 2592: 'thoughts', 918: 'fall', 569: 'creating', 1564: 'magnificent', 617: 'date', 1761: 'numerous', 2466: 'substance', 1907: 'poorly', 1658: 'miss', 2634: 'tradition', 1061: 'future', 1243: 'hopefully', 1010: 'follow', 1786: 'opened', 733: 'door', 1285: 'imagination', 2781: 'want', 1859: 'personally', 2818: 'welcome', 396: 'challenge', 2530: 'talk', 1321: 'inside', 90: 'agree', 1079: 'genre', 1416: 'killers', 2860: 'worked', 910: 'failed', 2675: 'twist', 1866: 'physically', 1936: 'presented', 934: 'fascinating', 1387: 'journey', 1704: 'mysterious', 2465: 'subject', 884: 'explain', 1369: 'jennifer', 821: 'enter', 305: 'brain', 1493: 'lies', 2521: 'table', 2784: 'wants', 1142: 'guess', 1134: 'ground', 1753: 'noticed', 2280: 'showed', 2036: 'reality', 530: 'contrast', 315: 'bright', 2766: 'visuals', 1742: 'nonetheless', 667: 'design', 2506: 'surprised', 440: 'cinematography', 2774: 'walk', 1785: 'open', 898: 'eye', 565: 'crazy', 1473: 'leaving', 199: 'audience', 1619: 'member', 2332: 'smoking', 1903: 'political', 2173: 'satire', 1234: 'hollywood', 273: 'blockbuster', 2731: 'values', 1508: 'list', 2671: 'turning', 2375: 'spirit', 2785: 'war', 871: 'existence', 1906: 'poor', 1827: 'particular', 1080: 'genuine', 1932: 'prepared', 33: 'able', 2388: 'stand', 118: 'america', 1059: 'funniest', 2747: 'videos', 606: 'damn', 1181: 'hated', 2680: 'typical', 2362: 'speak', 2098: 'responsible', 1165: 'hanging', 609: 'dancing', 454: 'clichéd', 508: 'conflict', 627: 'dealing', 1446: 'large', 495: 'compelling', 2293: 'silver', 443: 'civil', 466: 'cold', 2395: 'starring', 1460: 'law', 348: 'calling', 827: 'entirely', 1788: 'opens', 1511: 'literally', 2004: 'quick', 706: 'dirty', 233: 'battle', 2238: 'sequence', 1996: 'puts', 1098: 'glory', 785: 'edward', 1854: 'period', 2338: 'soldier', 1140: 'gruesome', 1746: 'north', 834: 'equally', 2359: 'southern', 1476: 'left', 155: 'appears', 2520: 'sympathy', 2066: 'relatively', 2343: 'somewhat', 531: 'contrived', 2347: 'soon', 2672: 'turns', 2179: 'saving', 510: 'confusing', 2189: 'scenario', 2783: 'wanting', 246: 'begins', 2804: 'ways', 1978: 'prove', 483: 'coming', 556: 'course', 2629: 'tough', 1204: 'helps', 1293: 'importantly', 327: 'brought', 2250: 'settings', 721: 'disturbing', 2621: 'torn', 2358: 'south', 2509: 'surprisingly', 940: 'father', 2027: 'ray', 644: 'deeply', 2659: 'troubled', 1128: 'greatly', 399: 'changed', 141: 'anti', 1632: 'message', 787: 'effective', 1183: 'haunting', 1443: 'land', 2808: 'weapons', 1836: 'past', 391: 'century', 786: 'effect', 140: 'anthony', 1581: 'manages', 1677: 'mood', 185: 'atmosphere', 456: 'climax', 1399: 'justice', 2852: 'wonderfully', 1718: 'nature', 990: 'fits', 2704: 'unique', 2762: 'vision', 822: 'entertain', 1515: 'lives', 144: 'apart', 670: 'desperate', 1131: 'gripping', 2515: 'suspense', 2711: 'unlikely', 1739: 'noir', 2792: 'washington', 491: 'company', 2438: 'stranger', 145: 'apartment', 2134: 'robert', 2163: 'ryan', 764: 'drunk', 1252: 'host', 2169: 'sam', 1169: 'happens', 1372: 'jewish', 1902: 'police', 677: 'detective', 921: 'falls', 2214: 'second', 332: 'buddy', 2290: 'silence', 2495: 'superior', 1717: 'naturally', 129: 'angry', 1576: 'male', 390: 'central', 2329: 'smart', 2164: 'sad', 1404: 'kelly', 2328: 'small', 1621: 'memorable', 1162: 'hands', 191: 'attempt', 887: 'explanation', 1754: 'novel', 2118: 'richard', 629: 'dealt', 1072: 'gay', 1698: 'murder', 1732: 'news', 845: 'europe', 2456: 'studios', 1921: 'potential', 2862: 'works', 1075: 'general', 1090: 'girlfriend', 2002: 'question', 985: 'finest', 1306: 'indian', 700: 'directed', 2472: 'successful', 1228: 'hitting', 487: 'commercial', 1323: 'inspiration', 1465: 'leading', 705: 'directors', 1305: 'india', 2559: 'tells', 27: '70s', 2710: 'unlike', 568: 'creates', 158: 'approach', 829: 'environment', 2736: 'various', 1177: 'harsh', 2482: 'suffers', 580: 'crime', 791: 'efforts', 1466: 'leads', 49: 'achieve', 126: 'anger', 968: 'fights', 209: 'aware', 1729: 'negative', 981: 'finally', 2590: 'thoroughly', 543: 'core', 309: 'breaks', 1067: 'gangster', 1257: 'house', 2274: 'short', 534: 'conversation', 1153: 'hair', 1671: 'moments', 1991: 'punch', 1313: 'influence', 555: 'courage', 317: 'brilliantly', 254: 'belongs', 1914: 'portraying', 801: 'emotions', 863: 'excited', 592: 'cult', 448: 'classics', 214: 'baby', 1948: 'print', 1999: 'quality', 1211: 'hide', 625: 'deadly', 2597: 'thrilling', 1787: 'opening', 856: 'exact', 2111: 'revenge', 1684: 'motion', 2685: 'ultimately', 69: 'adding', 1328: 'insult', 766: 'dubbed', 2289: 'significant', 1155: 'halfway', 1974: 'protagonist', 1741: 'non', 86: 'aged', 1358: 'italy', 1344: 'introduced', 1516: 'living', 1254: 'hotel', 1357: 'italian', 2363: 'speaking', 339: 'business', 222: 'bank', 1745: 'normally', 551: 'count', 377: 'cash', 0: '000', 730: 'dollars', 1660: 'missing', 1580: 'manager', 458: 'close', 47: 'account', 946: 'fear', 384: 'caught', 154: 'appearing', 2664: 'truth', 2614: 'told', 43: 'accepted', 514: 'consequences', 1316: 'initially', 23: '50', 1154: 'half', 661: 'described', 2106: 'reveal', 623: 'days', 1738: 'nights', 1772: 'oddly', 2108: 'revealing', 2222: 'seemingly', 2712: 'unnecessary', 842: 'essential', 1275: 'identity', 1551: 'loving', 783: 'edited', 2425: 'stood', 2645: 'treat', 2067: 'release', 792: 'element', 96: 'al', 2723: 'uses', 507: 'condition', 643: 'deeper', 642: 'deep', 1294: 'impossible', 1118: 'grand', 1478: 'legendary', 1623: 'memory', 1050: 'friend', 1178: 'hasn', 1981: 'provide', 2609: 'tiny', 2836: 'window', 2301: 'single', 2006: 'quiet', 2524: 'taking', 2772: 'waiting', 1956: 'produce', 933: 'fare', 1433: 'la', 1537: 'loss', 877: 'expecting', 1811: 'pack', 874: 'expect', 1769: 'occasional', 184: 'assume', 334: 'build', 2562: 'tension', 2549: 'tedious', 937: 'fast', 1071: 'gave', 2242: 'seriously', 1463: 'lead', 1105: 'gonna', 504: 'concerned', 2526: 'talent', 393: 'certainly', 206: 'avoid', 291: 'bored', 1818: 'paint', 765: 'dry', 2354: 'sounded', 600: 'cute', 1651: 'mini', 2517: 'sweet', 85: 'age', 1307: 'indie', 782: 'edge', 2: '100', 2850: 'wonder', 1174: 'hardly', 1445: 'language', 1758: 'nudity', 1245: 'hoping', 2071: 'religious', 1509: 'listen', 1371: 'jesus', 2809: 'wear', 2556: 'television', 1862: 'pg', 5: '13', 2023: 'rated', 2056: 'refuses', 9: '17', 2084: 'rent', 2485: 'suicide', 1728: 'needs', 1913: 'portrayed', 1784: 'ones', 2553: 'teenagers', 1993: 'purely', 180: 'aspect', 387: 'causes', 1759: 'number', 2554: 'teens', 1301: 'including', 244: 'begin', 1208: 'heroine', 567: 'created', 2437: 'strangely', 734: 'double', 2245: 'serves', 1994: 'purpose', 1111: 'gory', 2484: 'suggests', 160: 'area', 146: 'apparent', 67: 'add', 51: 'act', 2832: 'willing', 499: 'completely', 1757: 'nude', 1241: 'hope', 1012: 'following', 2683: 'uk', 28: '80', 595: 'curiosity', 2730: 'value', 2864: 'worry', 1768: 'obviously', 2449: 'struggle', 969: 'figure', 2807: 'weapon', 1781: 'okay', 620: 'david', 2119: 'ride', 1127: 'greatest', 2873: 'writer', 1195: 'heaven', 2152: 'rubbish', 1270: 'husband', 1960: 'product', 882: 'experiment', 502: 'computer', 1966: 'program', 1971: 'propaganda', 2600: 'thrown', 1980: 'proves', 2409: 'steal', 1976: 'protect', 55: 'actions', 345: 'cage', 2271: 'shooting', 464: 'clue', 451: 'clearly', 2284: 'shut', 352: 'camera', 422: 'child', 1569: 'majority', 578: 'creepy', 455: 'clichés', 2819: 'went', 379: 'casting', 1665: 'mixed', 1229: 'hold', 1362: 'james', 1389: 'jr', 1649: 'mindless', 825: 'entertainment', 2048: 'recommend', 288: 'book', 1356: 'issues', 2010: 'race', 2620: 'topic', 1856: 'personal', 881: 'experiences', 1137: 'growing', 426: 'china', 215: 'background', 1431: 'kong', 2416: 'stereotypical', 2077: 'remembered', 1385: 'jones', 1799: 'oscar', 722: 'doctor', 2830: 'william', 1749: 'notch', 419: 'chemistry', 1549: 'lovers', 1983: 'provides', 1194: 'hearts', 807: 'ending', 515: 'consider', 2430: 'stories', 858: 'example', 1522: 'logic', 529: 'continuity', 400: 'changes', 685: 'dialog', 1815: 'pain', 1069: 'gary', 1518: 'local', 2638: 'trailer', 509: 'confused', 541: 'cops', 2215: 'seconds', 1147: 'gun', 1414: 'killed', 759: 'drives', 1225: 'hit', 1199: 'held', 2403: 'states', 1116: 'grace', 1099: 'god', 164: 'army', 976: 'filmmaker', 243: 'began', 2400: 'starts', 1217: 'highly', 2699: 'unfortunate', 849: 'events', 873: 'exists', 1489: 'level', 1454: 'laughable', 2535: 'target', 2244: 'served', 1661: 'mission', 1066: 'gang', 346: 'california', 523: 'contains', 204: 'available', 2234: 'sent', 2391: 'standing', 1274: 'identify', 2861: 'working', 970: 'figured', 119: 'american', 362: 'car', 1751: 'noted', 646: 'degree', 1117: 'grade', 1255: 'hour', 2078: 'remind', 120: 'americans', 2168: 'sake', 1239: 'honor', 1197: 'heavy', 1703: 'musical', 736: 'douglas', 1830: 'parts', 2868: 'worthwhile', 493: 'compared', 2300: 'singing', 261: 'bigger', 1497: 'lighting', 650: 'delivered', 489: 'common', 1790: 'opinion', 1767: 'obvious', 601: 'cuts', 2532: 'talking', 816: 'enjoyable', 2498: 'supporting', 2116: 'revolves', 1591: 'mary', 2594: 'thousands', 294: 'born', 774: 'earth', 131: 'animals', 2458: 'stuff', 2492: 'sunday', 1987: 'public', 1721: 'nearly', 2588: 'thirty', 1450: 'late', 2203: 'screenplay', 1288: 'imdb', 2309: 'site', 407: 'charles', 2513: 'susan', 915: 'faith', 2109: 'reveals', 2311: 'situation', 1464: 'leader', 2615: 'tom', 2148: 'rose', 1186: 'head', 1681: 'morgan', 2828: 'wife', 2171: 'sarah', 697: 'dimensional', 295: 'boss', 2767: 'voice', 2224: 'sees', 997: 'flaws', 2754: 'views', 1992: 'pure', 2574: 'thanks', 1679: 'moore', 2636: 'tragedy', 1819: 'pair', 1587: 'marry', 546: 'cost', 1535: 'loses', 2886: 'younger', 1470: 'learns', 247: 'behavior', 2267: 'shock', 1937: 'presents', 2344: 'son', 716: 'discovery', 2623: 'total', 1395: 'jumps', 1750: 'note', 281: 'board', 1884: 'plans', 2130: 'rival', 2639: 'train', 2806: 'wealthy', 2022: 'rate', 2334: 'social', 485: 'commentary', 1744: 'normal', 2627: 'touches', 1722: 'neat', 2855: 'wooden', 980: 'finale', 80: 'affair', 1350: 'ironic', 1055: 'fu', 29: '80s', 2823: 'westerns', 1108: 'gordon', 2822: 'western', 960: 'fest', 2296: 'simple', 60: 'acts', 1711: 'narrative', 1588: 'martial', 171: 'arts', 1931: 'premise', 2755: 'village', 888: 'exploitation', 1652: 'minor', 1086: 'getting', 574: 'credibility', 1666: 'mob', 1467: 'learn', 2319: 'slapstick', 1421: 'kinda', 2441: 'strength', 2353: 'sound', 1290: 'impact', 2647: 'treatment', 2055: 'refreshing', 2827: 'wide', 1215: 'highlight', 128: 'angles', 1689: 'moves', 63: 'ad', 1000: 'flicks', 2088: 'repeat', 2202: 'screening', 1444: 'lane', 2380: 'spoilers', 924: 'familiar', 1319: 'innocent', 1374: 'jimmy', 2089: 'repeated', 1020: 'forced', 163: 'arms', 1686: 'mouth', 1043: 'fred', 806: 'ended', 1039: 'france', 437: 'church', 2015: 'raised', 1251: 'hospital', 956: 'fell', 1762: 'nurse', 1555: 'lucky', 1764: 'obnoxious', 1586: 'married', 1046: 'french', 1585: 'marriage', 267: 'bitter', 44: 'accident', 2016: 'ran', 2440: 'streets', 714: 'discovered', 2760: 'violent', 1425: 'knew', 846: 'european', 32: 'ability', 622: 'day', 1594: 'massacre', 1620: 'members', 1191: 'hearing', 323: 'broke', 2219: 'seeing', 1192: 'heart', 68: 'added', 639: 'decided', 1488: 'letting', 153: 'appeared', 1418: 'kills', 284: 'bodies', 2092: 'reporter', 713: 'discover', 633: 'deaths', 1682: 'morning', 1701: 'murders', 624: 'dead', 2275: 'shortly', 2322: 'sleep', 929: 'fans', 2024: 'rating', 1821: 'par', 904: 'faces', 177: 'asking', 92: 'ain', 2360: 'space', 2497: 'support', 1920: 'post', 3: '11', 664: 'deserve', 2282: 'shown', 2392: 'stands', 1182: 'haunted', 868: 'execution', 2226: 'self', 1202: 'helped', 566: 'create', 2102: 'retarded', 279: 'blows', 809: 'ends', 696: 'difficult', 723: 'documentary', 2314: 'skill', 1003: 'flow', 95: 'aka', 1583: 'mark', 24: '60', 2751: 'viewer', 913: 'fair', 1954: 'problems', 886: 'explains', 895: 'extras', 1910: 'porn', 1280: 'ii', 1534: 'lose', 30: '90', 1135: 'group', 1714: 'national', 2640: 'training', 663: 'desert', 1300: 'includes', 275: 'blood', 1149: 'guts', 1005: 'flying', 2019: 'rape', 740: 'drag', 1109: 'gore', 1393: 'jump', 2408: 'stays', 637: 'decent', 1472: 'leaves', 1777: 'office', 1802: 'outside', 2125: 'rings', 1495: 'lifetime', 1124: 'grave', 2551: 'teenage', 1226: 'hitchcock', 2581: 'themes', 321: 'british', 335: 'building', 1724: 'necessary', 2596: 'thrillers', 1427: 'knowing', 1958: 'producer', 701: 'directing', 793: 'elements', 2262: 'sharp', 2843: 'wit', 313: 'brief', 2104: 'returning', 1846: 'perfect', 1533: 'los', 1616: 'meets', 1298: 'include', 1909: 'popular', 1667: 'model', 1589: 'martin', 1411: 'kidnapped', 1664: 'mix', 1030: 'form', 1730: 'network', 1438: 'ladies', 582: 'criminals', 1988: 'pull', 1148: 'guns', 1303: 'incredibly', 166: 'art', 812: 'engaging', 452: 'clever', 2677: 'twists', 2757: 'villains', 351: 'cameo', 762: 'drug', 2429: 'store', 2288: 'sign', 81: 'afraid', 847: 'evening', 100: 'albert', 2304: 'sir', 1997: 'putting', 1423: 'king', 757: 'driven', 2285: 'sick', 2387: 'stage', 538: 'convincing', 2563: 'term', 2544: 'technically', 1590: 'marvelous', 161: 'aren', 2481: 'suffering', 2531: 'talked', 38: 'academy', 208: 'awards', 1861: 'peter', 66: 'adapted', 823: 'entertained', 1930: 'pregnant', 748: 'dreadful', 1292: 'important', 1526: 'longer', 1401: 'kate', 477: 'comedic', 59: 'actresses', 1955: 'process', 193: 'attempting', 1481: 'lesbian', 2564: 'terms', 709: 'disappointing', 945: 'favourite', 1547: 'lovely', 1297: 'impressive', 1656: 'miscast', 1911: 'portray', 1680: 'moral', 2052: 'redeeming', 1998: 'qualities', 1708: 'named', 2413: 'stephen', 2014: 'raise', 2552: 'teenager', 2291: 'silent', 775: 'easily', 2074: 'remake', 742: 'drags', 2292: 'silly', 2622: 'torture', 470: 'colorful', 1203: 'helping', 376: 'cases', 1019: 'force', 855: 'ex', 1944: 'priest', 1626: 'mentally', 2107: 'revealed', 522: 'contain', 936: 'fashioned', 1705: 'mystery', 2445: 'strong', 1143: 'guessing', 2049: 'recommended', 415: 'check', 2261: 'share', 2436: 'strange', 303: 'boys', 1599: 'material', 296: 'bother', 645: 'definitely', 240: 'beauty', 182: 'ass', 916: 'faithful', 2641: 'trapped', 678: 'determined', 1044: 'free', 1563: 'magical', 1073: 'gem', 45: 'accidentally', 1002: 'floor', 2101: 'results', 573: 'creatures', 777: 'easy', 2424: 'stone', 2651: 'trick', 1548: 'lover', 357: 'capable', 2840: 'wise', 2351: 'sorts', 2658: 'trouble', 1373: 'jim', 358: 'captain', 1625: 'mental', 1839: 'patient', 562: 'crap', 1933: 'presence', 2229: 'semi', 2325: 'slightly', 2764: 'visual', 149: 'appealing', 1943: 'price', 1207: 'heroes', 1959: 'producers', 1040: 'franchise', 2236: 'sequel', 370: 'carry', 2053: 'reference', 99: 'albeit', 2349: 'sorry', 2136: 'robin', 1175: 'harris', 326: 'brothers', 1957: 'produced', 2258: 'shallow', 711: 'disaster', 1800: 'outer', 306: 'brave', 1604: 'max', 2598: 'throw', 2593: 'thousand', 2454: 'students', 1611: 'media', 1233: 'holes', 1916: 'position', 2147: 'room', 880: 'experienced', 2548: 'ted', 1461: 'lawyer', 2487: 'suits', 237: 'beat', 778: 'eat', 2603: 'tight', 2695: 'understanding', 1352: 'irritating', 1804: 'overall', 494: 'comparison', 211: 'awesome', 2476: 'sucks', 450: 'clear', 907: 'factor', 2511: 'surrounding', 1237: 'honest', 2269: 'shocking', 1582: 'manner', 878: 'expensive', 239: 'beautifully', 974: 'filmed', 717: 'disgusting', 516: 'considered', 947: 'feature', 2068: 'released', 34: 'absolute', 2281: 'showing', 2468: 'subtle', 258: 'bet', 2062: 'relate', 420: 'chick', 589: 'crude', 2648: 'tree', 360: 'captured', 196: 'attitude', 1838: 'pathetic', 20: '30', 1176: 'harry', 728: 'doing', 1963: 'professional', 423: 'childhood', 1006: 'focus', 781: 'eddie', 2838: 'winning', 2493: 'super', 15: '2000', 468: 'college', 648: 'delightful', 780: 'ed', 2075: 'remarkable', 2206: 'scripts', 2126: 'rip', 287: 'bond', 2630: 'tour', 1338: 'international', 2404: 'station', 2888: 'zero', 223: 'bar', 2654: 'tries', 830: 'epic', 436: 'christopher', 1475: 'lee', 361: 'captures', 262: 'biggest', 1668: 'modern', 1180: 'hate', 983: 'finds', 308: 'breaking', 1635: 'mexican', 1361: 'jail', 1844: 'peace', 1778: 'officer', 224: 'barbara', 1977: 'proud', 1449: 'larry', 433: 'chris', 330: 'brutal', 1332: 'intended', 1341: 'interview', 1403: 'keeps', 2321: 'sleazy', 276: 'bloody', 1365: 'japanese', 999: 'flick', 219: 'balance', 572: 'creature', 2166: 'safe', 726: 'dog', 1091: 'girls', 1188: 'heads', 2541: 'team', 1151: 'guys', 1868: 'picked', 1700: 'murderer', 2017: 'random', 457: 'clips', 2880: 'yeah', 1968: 'promise', 1377: 'jobs', 560: 'covered', 2708: 'unknown', 1216: 'highlights', 848: 'event', 539: 'cool', 1806: 'overly', 545: 'correct', 818: 'enjoying', 2599: 'throwing', 658: 'depiction', 482: 'comical', 1409: 'kicks', 1504: 'limited', 2674: 'twice', 982: 'finding', 2115: 'reviews', 586: 'critics', 2693: 'underrated', 2050: 'record', 2646: 'treated', 1342: 'interviews', 1289: 'immediately', 2697: 'unexpected', 1013: 'follows', 1687: 'moved', 1622: 'memories', 1029: 'forgotten', 2020: 'rare', 1296: 'impression', 1646: 'millions', 1302: 'incredible', 1078: 'genius', 1343: 'intriguing', 299: 'bound', 2707: 'universe', 1333: 'intense', 1670: 'moment', 2105: 'returns', 715: 'discovers', 2444: 'string', 1924: 'powers', 2341: 'solve', 2135: 'roberts', 40: 'accents', 2657: 'trite', 175: 'ask', 1133: 'gross', 2307: 'sit', 117: 'ambitious', 972: 'filled', 611: 'dangerous', 130: 'animal', 1441: 'lake', 459: 'closely', 201: 'australian', 939: 'fate', 2779: 'walter', 963: 'fiction', 513: 'connection', 2805: 'weak', 2204: 'screenwriter', 679: 'develop', 2442: 'stretch', 1273: 'ideas', 1863: 'phone', 2005: 'quickly', 2452: 'stuck', 1510: 'listening', 2028: 'reach', 2691: 'unconvincing', 987: 'finished', 1027: 'forgettable', 1710: 'narration', 271: 'bland', 613: 'danny', 1775: 'offered', 1383: 'joke', 2853: 'wondering', 753: 'drew', 986: 'finish', 241: 'bed', 2628: 'touching', 1606: 'mean', 2676: 'twisted', 1336: 'interested', 1578: 'manage', 2031: 'reading', 2094: 'required', 39: 'accent', 1381: 'johnson', 1600: 'matt', 235: 'beach', 2057: 'regard', 289: 'books', 188: 'attack', 1989: 'pulled', 2475: 'sucked', 1435: 'lacked', 6: '14', 8: '16', 2138: 'rock', 597: 'current', 1951: 'private', 2167: 'said', 2165: 'sadly', 356: 'candy', 1309: 'industry', 2577: 'theaters', 2124: 'ring', 105: 'alike', 1900: 'pointless', 1209: 'hey', 2756: 'villain', 2187: 'scares', 1637: 'michelle', 2763: 'visit', 657: 'depicted', 2845: 'witness', 1095: 'glad', 2602: 'tied', 2738: 'vehicle', 1766: 'obsession', 2133: 'rob', 596: 'curious', 355: 'canadian', 587: 'cross', 2086: 'rented', 484: 'comment', 570: 'creation', 2706: 'universal', 102: 'alice', 1550: 'loves', 2266: 'ship', 2812: 'wedding', 1102: 'gold', 1716: 'natural', 2816: 'weight', 2302: 'sings', 2221: 'seeking', 2887: 'youth', 1843: 'paying', 198: 'attractive', 1474: 'led', 1053: 'friendship', 2451: 'struggling', 1009: 'folks', 1375: 'joan', 2081: 'reminiscent', 2579: 'theatrical', 169: 'artistic', 1291: 'importance', 367: 'caring', 1919: 'possibly', 2547: 'technology', 2367: 'spectacular', 2051: 'red', 1532: 'lord', 612: 'daniel', 1491: 'lewis', 1801: 'outrageous', 328: 'brown', 1016: 'foot', 1876: 'pity', 417: 'cheese', 1408: 'kick', 132: 'animated', 220: 'ball', 914: 'fairly', 870: 'exist', 1348: 'involving', 2461: 'stupidity', 492: 'compare', 2694: 'understand', 694: 'difference', 1310: 'inept', 425: 'chilling', 1942: 'previously', 1880: 'plain', 1277: 'idiotic', 1452: 'latest', 1402: 'keeping', 1487: 'letter', 1947: 'princess', 380: 'castle', 518: 'consists', 1697: 'multiple', 1536: 'losing', 2082: 'remote', 1849: 'perform', 2374: 'spin', 1122: 'graphics', 1065: 'games', 2494: 'superb', 1324: 'inspired', 1480: 'length', 1561: 'madness', 374: 'cartoons', 2874: 'writers', 110: 'allows', 525: 'content', 1720: 'near', 1615: 'meeting', 2734: 'van', 2692: 'underground', 961: 'festival', 408: 'charlie', 703: 'directly', 2003: 'questions', 176: 'asked', 1723: 'necessarily', 866: 'excuse', 2381: 'spoken', 2402: 'statement', 2578: 'theatre', 242: 'beer', 2260: 'shape', 2320: 'slasher', 481: 'comic', 1308: 'individual', 1492: 'lie', 1650: 'minds', 1329: 'intellectual', 811: 'energy', 1865: 'physical', 1068: 'garbage', 2235: 'separate', 342: 'buy', 2208: 'sean', 1160: 'handle', 343: 'buying', 311: 'breathtaking', 737: 'downright', 2127: 'ripped', 122: 'ancient', 1419: 'kim', 719: 'disney', 2844: 'witch', 2682: 'ugly', 1556: 'ludicrous', 2450: 'struggles', 314: 'briefly', 1908: 'pop', 2745: 'victor', 1715: 'native', 1925: 'practically', 2420: 'stick', 73: 'admittedly', 2642: 'trash', 2729: 'vacation', 2686: 'ultra', 274: 'blonde', 2501: 'supposedly', 1610: 'meant', 659: 'depressing', 165: 'arrives', 548: 'costume', 2455: 'studio', 1873: 'pieces', 1163: 'handsome', 1939: 'pretentious', 2159: 'runs', 2644: 'treasure', 1161: 'handled', 444: 'claim', 139: 'answers', 2649: 'trek', 579: 'crew', 2001: 'quest', 1244: 'hopes', 395: 'chair', 1146: 'guilty', 1347: 'involves', 2150: 'round', 445: 'claims', 1617: 'melodrama', 964: 'fictional', 992: 'flashback', 439: 'cinematic', 1574: 'makeup', 1945: 'prime', 1224: 'history', 2323: 'sleeping', 1363: 'jane', 699: 'direct', 542: 'copy', 2878: 'wrote', 430: 'choose', 2072: 'remain', 1793: 'opposite', 2427: 'stopped', 2087: 'renting', 2112: 'review', 2330: 'smile', 394: 'cgi', 2131: 'river', 2035: 'realistic', 2516: 'suspenseful', 1232: 'hole', 1803: 'outstanding', 808: 'endless', 412: 'chases', 411: 'chase', 746: 'draw', 732: 'donald', 256: 'ben', 1054: 'frightening', 1334: 'intensity', 1520: 'locations', 1541: 'loud', 2090: 'repeatedly', 2191: 'scenery', 1212: 'hiding', 2070: 'religion', 1823: 'paris', 428: 'choice', 202: 'authentic', 1542: 'louis', 2213: 'seat', 1792: 'opposed', 1795: 'ordinary', 1115: 'government', 527: 'continue', 2155: 'rule', 950: 'featuring', 2569: 'test', 302: 'boyfriend', 416: 'checking', 1695: 'ms', 2744: 'victims', 559: 'cover', 1152: 'hadn', 1017: 'footage', 467: 'collection', 2411: 'steals', 253: 'believes', 2069: 'relief', 2550: 'teen', 1469: 'learning', 285: 'body', 280: 'blue', 2419: 'stewart', 2496: 'supernatural', 920: 'falling', 1396: 'jungle', 217: 'badly', 2617: 'tongue', 1437: 'lacks', 2230: 'send', 381: 'cat', 2313: 'size', 1345: 'introduction', 628: 'deals', 2890: 'zombies', 1629: 'mere', 2716: 'ups', 557: 'court', 2703: 'uninteresting', 2776: 'walking', 2231: 'sends', 76: 'advantage', 2834: 'win', 272: 'blind', 186: 'atmospheric', 2194: 'sci', 962: 'fi', 1618: 'melodramatic', 1276: 'idiot', 2821: 'west', 2605: 'tim', 2253: 'sexual', 2713: 'unrealistic', 656: 'department', 1638: 'mid', 1809: 'paced', 2228: 'selling', 838: 'escape', 1864: 'photography', 2786: 'warm', 2618: 'tony', 666: 'deserves', 626: 'deal', 497: 'competition', 634: 'debut', 349: 'calls', 2132: 'road', 955: 'feet', 2539: 'teach', 338: 'bus', 2143: 'rolling', 1222: 'hired', 1524: 'lonely', 683: 'device', 2185: 'scare', 1456: 'laughing', 183: 'assistant', 756: 'drive', 760: 'driving', 674: 'destroyed', 1584: 'market', 1986: 'psychological', 1543: 'lousy', 796: 'embarrassed', 2331: 'smith', 1814: 'paid', 195: 'attention', 576: 'credit', 2633: 'track', 213: 'awkward', 472: 'com', 2528: 'talents', 1885: 'plastic', 373: 'cartoon', 159: 'appropriate', 558: 'cousin', 893: 'extra', 949: 'features', 524: 'contemporary', 1748: 'notable', 1519: 'location', 1972: 'proper', 1025: 'forever', 832: 'episodes', 1074: 'gene', 249: 'belief', 2775: 'walked', 310: 'breath', 2263: 'sheer', 1760: 'numbers', 1179: 'hat', 124: 'andy', 157: 'appreciated', 344: 'cable', 1129: 'green', 173: 'asian', 889: 'express', 754: 'drink', 2418: 'steven', 2508: 'surprising', 2113: 'reviewer', 1386: 'joseph', 2533: 'talks', 2372: 'spends', 101: 'alex', 867: 'executed', 413: 'chasing', 2000: 'queen', 476: 'comedian', 1842: 'pay', 995: 'flaw', 1021: 'forces', 2286: 'sides', 1223: 'historical', 1602: 'matters', 1076: 'generally', 2018: 'range', 136: 'annoyed', 71: 'adds', 2735: 'variety', 649: 'deliver', 885: 'explained', 401: 'changing', 1014: 'food', 755: 'drinking', 1281: 'ill', 41: 'accept', 1123: 'gratuitous', 2414: 'steps', 2335: 'society', 2364: 'speaks', 2573: 'thankfully', 610: 'danger', 2815: 'weeks', 2355: 'sounds', 1675: 'month', 2407: 'stayed', 2038: 'realized', 1022: 'ford', 1001: 'flight', 2046: 'recently', 501: 'complicated', 449: 'clean', 2295: 'simon', 1351: 'irony', 1436: 'lacking', 2303: 'sinister', 901: 'fabulous', 1406: 'kevin', 2389: 'standard', 2377: 'split', 1088: 'giant', 2366: 'specific', 2626: 'touched', 669: 'desire', 162: 'arm', 2249: 'setting', 88: 'ages', 65: 'adaptation', 382: 'catch', 2336: 'soft', 1881: 'plan', 584: 'critical', 490: 'community', 1081: 'genuinely', 2174: 'satisfying', 1935: 'presentation', 1033: 'forth', 2543: 'technical', 2467: 'subtitles', 605: 'daily', 406: 'charisma', 2423: 'stomach', 1592: 'mask', 2200: 'screaming', 1070: 'gas', 794: 'elizabeth', 965: 'field', 1648: 'minded', 1378: 'joe', 2013: 'rain', 1835: 'passion', 1279: 'ignored', 1170: 'happily', 2412: 'step', 2637: 'tragic', 903: 'faced', 225: 'bare', 1159: 'handed', 1603: 'mature', 1187: 'headed', 2091: 'replaced', 2199: 'scream', 2824: 'whatsoever', 844: 'established', 2065: 'relationships', 2149: 'rough', 1051: 'friendly', 1923: 'powerful', 2061: 'regular', 453: 'cliché', 1126: 'greater', 544: 'corny', 1230: 'holding', 341: 'butt', 111: 'alright', 2042: 'reasons', 526: 'context', 1502: 'likely', 1831: 'party', 2063: 'related', 2342: 'somebody', 1439: 'lady', 1562: 'magic', 1339: 'internet', 1145: 'guide', 324: 'broken', 2384: 'spot', 170: 'artists', 1824: 'park', 1898: 'poignant', 1813: 'page', 1655: 'mirror', 1063: 'gags', 1949: 'prior', 581: 'criminal', 307: 'break', 977: 'filmmakers', 138: 'answer', 1912: 'portrayal', 2464: 'sub', 993: 'flashbacks', 798: 'emotion', 938: 'fat', 761: 'drop', 767: 'dude', 2842: 'wishes', 1171: 'happiness', 1318: 'innocence', 1119: 'grant', 1330: 'intelligence', 75: 'adults', 988: 'fish', 2717: 'upset', 652: 'delivery', 2246: 'service', 843: 'essentially', 329: 'bruce', 1049: 'friday', 750: 'dreams', 1366: 'jason', 872: 'existent', 2453: 'student', 1595: 'massive', 2457: 'study', 2582: 'theory', 2399: 'starting', 1322: 'insight', 1031: 'format', 277: 'blow', 2195: 'science', 460: 'closer', 312: 'brian', 1663: 'mistakes', 852: 'everyday', 1164: 'hang', 18: '2006', 197: 'attraction', 2209: 'search', 1314: 'information', 2570: 'texas', 232: 'batman', 2789: 'warner', 2405: 'status', 229: 'basic', 2212: 'seasons', 78: 'adventures', 1734: 'nicely', 2803: 'wayne', 283: 'bob', 1036: 'fourth', 441: 'circumstances', 1034: 'fortunately', 2272: 'shoots', 331: 'bucks', 2327: 'slowly', 1227: 'hits', 1857: 'personalities', 278: 'blown', 833: 'equal', 2507: 'surprises', 828: 'entry', 1219: 'hill', 2715: 'upper', 2448: 'structure', 112: 'amateur', 1196: 'heavily', 1284: 'images', 1975: 'protagonists', 1132: 'gritty', 1965: 'profound', 1969: 'promising', 899: 'eyed', 2045: 'recent', 2011: 'racist', 292: 'boredom', 2698: 'unforgettable', 2352: 'soul', 1113: 'gotta', 912: 'failure', 535: 'convey', 1904: 'politics', 894: 'extraordinary', 1340: 'interpretation', 319: 'bringing', 1659: 'missed', 865: 'exciting', 2684: 'ultimate', 771: 'dying', 2687: 'unable', 1286: 'imaginative', 72: 'admit', 537: 'convinced', 2083: 'remotely', 1774: 'offer', 1156: 'hall', 135: 'anne', 2732: 'vampire', 1755: 'novels', 1220: 'hint', 998: 'flesh', 1007: 'focused', 1613: 'mediocre', 286: 'bomb', 471: 'colors', 2514: 'suspect', 1432: 'kudos', 2705: 'united', 190: 'attacks', 590: 'cruel', 1320: 'insane', 1261: 'humanity', 1045: 'freedom', 2368: 'speech', 1521: 'locked', 37: 'abuse', 1674: 'monsters', 429: 'choices', 2483: 'suggest', 1840: 'patrick', 2689: 'uncle', 1791: 'opportunity', 1283: 'imagery', 616: 'darkness', 2227: 'sell', 252: 'believed', 751: 'dress', 465: 'code', 588: 'crowd', 1210: 'hidden', 1982: 'provided', 2829: 'wild', 1367: 'jean', 758: 'driver', 2162: 'russian', 1514: 'lived', 1037: 'fox', 1028: 'forgot', 1482: 'lesser', 1479: 'legs', 2479: 'suffer', 2121: 'riding', 1643: 'military', 1114: 'gotten', 2079: 'reminded', 12: '1970', 675: 'destruction', 1422: 'kinds', 2752: 'viewers', 505: 'concerns', 2879: 'wwii', 631: 'dear', 942: 'favor', 810: 'enemy', 1042: 'frankly', 1929: 'prefer', 836: 'eric', 2612: 'titles', 2265: 'shines', 1927: 'pre', 1388: 'joy', 2161: 'russell', 1875: 'pilot', 2561: 'tense', 571: 'creative', 2714: 'unusual', 1462: 'lazy', 682: 'develops', 1572: 'makers', 996: 'flawed', 402: 'channel', 469: 'color', 2604: 'till', 2186: 'scared', 2486: 'suit', 1503: 'likes', 2273: 'shop', 2446: 'strongly', 718: 'dislike', 108: 'allow', 890: 'expression', 462: 'clothes', 2560: 'tend', 1593: 'mass', 727: 'dogs', 547: 'costs', 1110: 'gorgeous', 255: 'beloved', 641: 'decision', 2324: 'slight', 593: 'cultural', 79: 'advice', 2488: 'sum', 2151: 'routine', 1633: 'met', 1571: 'maker', 218: 'bag', 2383: 'sports', 2137: 'robot', 1258: 'howard', 2837: 'winner', 2540: 'teacher', 1264: 'humorous', 2317: 'skip', 1676: 'months', 236: 'bear', 2835: 'wind', 1447: 'largely', 2632: 'toy', 372: 'cars', 1483: 'lesson', 389: 'center', 134: 'ann', 1699: 'murdered', 2220: 'seek', 203: 'author', 2386: 'spy', 17: '2005', 114: 'amazed', 2555: 'teeth', 2026: 'raw', 178: 'asks', 2146: 'ron', 1826: 'parody', 1077: 'generation', 116: 'amazingly', 1995: 'push', 2741: 'veteran', 2382: 'spoof', 1833: 'passed', 776: 'east', 2154: 'ruined', 1829: 'partner', 1694: 'mrs', 2318: 'sky', 1837: 'path', 1882: 'plane', 1737: 'nightmare', 2415: 'stereotypes', 1773: 'offensive', 187: 'atrocious', 1713: 'nation', 1304: 'independent', 1893: 'pleasure', 948: 'featured', 1312: 'infamous', 1271: 'ice', 744: 'dramas', 2463: 'stylish', 405: 'charge', 1248: 'horrific', 528: 'continues', 2012: 'radio', 488: 'committed', 474: 'combined', 2871: 'wow', 270: 'blame', 2431: 'storm', 511: 'confusion', 2491: 'sun', 564: 'crash', 1004: 'fly', 1805: 'overcome', 841: 'essence', 671: 'desperately', 263: 'billy', 2643: 'travel', 862: 'exceptional', 2225: 'segment', 1326: 'instantly', 2378: 'spoil', 653: 'demon', 31: 'abandoned', 654: 'demons', 2059: 'regardless', 496: 'competent', 1120: 'granted', 630: 'dean', 585: 'criticism', 1015: 'fool', 2536: 'task', 1797: 'originality', 98: 'alas', 1023: 'foreign', 2009: 'quote', 10: '18', 2058: 'regarding', 2668: 'turkey', 944: 'favorites', 923: 'fame', 2276: 'shorts', 2287: 'sight', 2251: 'seven', 1678: 'moon', 1557: 'lying', 517: 'considering', 2790: 'warning', 179: 'asleep', 603: 'cynical', 591: 'crying', 461: 'closing', 2655: 'trilogy', 745: 'dramatic', 2480: 'suffered', 1062: 'gag', 922: 'false', 1558: 'lynch', 2701: 'unfunny', 386: 'caused', 1331: 'intelligent', 2256: 'shadow', 83: 'african', 435: 'christmas', 1315: 'initial', 1630: 'merely', 1459: 'laura', 1139: 'grows', 1735: 'nick', 2787: 'warn', 2601: 'throws', 2650: 'tribute', 1242: 'hoped', 2198: 'scott', 819: 'enjoyment', 84: 'afternoon', 1688: 'movement', 322: 'broadway', 1235: 'homage', 2128: 'rise', 2778: 'wall', 1107: 'goofy', 1047: 'frequently', 2039: 'realizes', 2660: 'truck', 2434: 'storytelling', 2100: 'result', 1038: 'frame', 2470: 'succeeds', 788: 'effectively', 2139: 'roger', 2093: 'reputation', 21: '40', 2371: 'spending', 1634: 'metal', 1926: 'praise', 1382: 'join', 800: 'emotionally', 2777: 'walks', 427: 'chinese', 104: 'aliens', 2268: 'shocked', 97: 'alan', 665: 'deserved', 1979: 'proved', 707: 'disagree', 2170: 'san', 2761: 'virtually', 575: 'credible', 2679: 'types', 1097: 'glimpse', 2839: 'wins', 1984: 'provoking', 1531: 'loose', 1266: 'hundreds', 1247: 'horribly', 473: 'combination', 1696: 'multi', 2233: 'sensitive', 1448: 'larger', 925: 'families', 2740: 'versions', 892: 'extent', 2243: 'serve', 1853: 'performers', 1391: 'julia', 1612: 'medical', 1727: 'needless', 410: 'charming', 2085: 'rental', 1364: 'japan', 1763: 'object', 371: 'carrying', 1380: 'johnny', 688: 'dick', 383: 'category', 207: 'award', 11: '1950', 64: 'adam', 1392: 'julie', 797: 'embarrassing', 2298: 'sing', 1024: 'forest', 1084: 'germany', 2361: 'spanish', 368: 'carried', 2758: 'vincent', 192: 'attempted', 1892: 'pleasant', 869: 'exercise', 805: 'endearing', 1765: 'obsessed', 1498: 'lights', 1770: 'occasionally', 2727: 'utter', 2469: 'succeed', 729: 'dollar', 1608: 'meaningful', 1747: 'nose', 1834: 'passing', 1756: 'nowadays', 2796: 'wasting', 741: 'dragged', 2306: 'sisters', 1878: 'placed', 1440: 'laid', 1311: 'inevitable', 2608: 'timing', 953: 'feelings', 1905: 'pool', 2394: 'starred', 2178: 'saves', 839: 'escapes', 2773: 'wake', 2696: 'understood', 2473: 'successfully', 636: 'decades', 1325: 'instance', 1370: 'jerry', 2428: 'stops', 720: 'display', 971: 'figures', 533: 'controversial', 297: 'bothered', 2733: 'vampires', 598: 'curse', 1424: 'kiss', 421: 'chief', 152: 'appearances', 264: 'birth', 1962: 'productions', 536: 'convince', 231: 'basis', 820: 'ensemble', 2589: 'thomas', 1268: 'hunter', 1221: 'hip', 13: '1980', 365: 'carefully', 561: 'crafted', 22: '45', 668: 'designed', 434: 'christian', 2110: 'revelation', 1335: 'intentions', 991: 'flash', 655: 'dennis', 1355: 'issue', 1938: 'president', 2718: 'urban', 25: '60s', 1058: 'funnier', 1407: 'key', 1973: 'properly', 1869: 'picks', 1368: 'jeff', 336: 'built', 1477: 'legend', 1946: 'prince', 2210: 'searching', 2652: 'tricks', 2264: 'sheriff', 1644: 'miller', 2702: 'uninspired', 594: 'culture', 698: 'dinner', 123: 'anderson', 42: 'acceptable', 1214: 'higher', 602: 'cutting', 125: 'angel', 2029: 'reaction', 2410: 'stealing', 2308: 'sitcom', 2376: 'spite', 2357: 'source', 16: '2001', 172: 'ashamed', 2529: 'tales', 662: 'description', 2443: 'striking', 2538: 'taylor', 354: 'campy', 1807: 'owner', 2722: 'useless', 2681: 'typically', 1317: 'inner', 2254: 'sexuality', 2748: 'vietnam'}\n"
     ]
    }
   ],
   "source": [
    "print(trial_db.idx2token)"
   ]
  },
  {
   "cell_type": "code",
   "execution_count": null,
   "id": "e94c1660",
   "metadata": {},
   "outputs": [],
   "source": []
  },
  {
   "cell_type": "code",
   "execution_count": null,
   "id": "e5ef89cd",
   "metadata": {},
   "outputs": [],
   "source": []
  },
  {
   "cell_type": "code",
   "execution_count": null,
   "id": "e968c0ef",
   "metadata": {},
   "outputs": [],
   "source": []
  },
  {
   "cell_type": "code",
   "execution_count": null,
   "id": "5695c6a7",
   "metadata": {},
   "outputs": [],
   "source": []
  },
  {
   "cell_type": "code",
   "execution_count": null,
   "id": "ed7edc31",
   "metadata": {},
   "outputs": [],
   "source": []
  },
  {
   "cell_type": "code",
   "execution_count": null,
   "id": "2747e67b",
   "metadata": {},
   "outputs": [],
   "source": []
  },
  {
   "cell_type": "code",
   "execution_count": null,
   "id": "9ee38755",
   "metadata": {},
   "outputs": [],
   "source": []
  },
  {
   "cell_type": "markdown",
   "id": "ecd9ca01",
   "metadata": {},
   "source": [
    "# WordEmbeddings - Feed Forward 2\n",
    "- add lstm model to show word embeddings graphically"
   ]
  },
  {
   "cell_type": "markdown",
   "id": "ca9b87ad",
   "metadata": {},
   "source": [
    "# RNN --> LSTM --> GRU"
   ]
  },
  {
   "cell_type": "markdown",
   "id": "c90e7a55",
   "metadata": {},
   "source": [
    "# Stacking "
   ]
  },
  {
   "cell_type": "code",
   "execution_count": 2,
   "id": "0b82f061",
   "metadata": {},
   "outputs": [],
   "source": [
    "from sklearn.datasets import load_iris\n",
    "X,y = load_iris(return_X_y=True)"
   ]
  },
  {
   "cell_type": "code",
   "execution_count": 3,
   "id": "6327bb96",
   "metadata": {},
   "outputs": [
    {
     "data": {
      "text/html": [
       "<div>\n",
       "<style scoped>\n",
       "    .dataframe tbody tr th:only-of-type {\n",
       "        vertical-align: middle;\n",
       "    }\n",
       "\n",
       "    .dataframe tbody tr th {\n",
       "        vertical-align: top;\n",
       "    }\n",
       "\n",
       "    .dataframe thead th {\n",
       "        text-align: right;\n",
       "    }\n",
       "</style>\n",
       "<table border=\"1\" class=\"dataframe\">\n",
       "  <thead>\n",
       "    <tr style=\"text-align: right;\">\n",
       "      <th></th>\n",
       "      <th>0</th>\n",
       "      <th>1</th>\n",
       "      <th>2</th>\n",
       "      <th>3</th>\n",
       "    </tr>\n",
       "  </thead>\n",
       "  <tbody>\n",
       "    <tr>\n",
       "      <th>0</th>\n",
       "      <td>5.1</td>\n",
       "      <td>3.5</td>\n",
       "      <td>1.4</td>\n",
       "      <td>0.2</td>\n",
       "    </tr>\n",
       "    <tr>\n",
       "      <th>1</th>\n",
       "      <td>4.9</td>\n",
       "      <td>3.0</td>\n",
       "      <td>1.4</td>\n",
       "      <td>0.2</td>\n",
       "    </tr>\n",
       "    <tr>\n",
       "      <th>2</th>\n",
       "      <td>4.7</td>\n",
       "      <td>3.2</td>\n",
       "      <td>1.3</td>\n",
       "      <td>0.2</td>\n",
       "    </tr>\n",
       "    <tr>\n",
       "      <th>3</th>\n",
       "      <td>4.6</td>\n",
       "      <td>3.1</td>\n",
       "      <td>1.5</td>\n",
       "      <td>0.2</td>\n",
       "    </tr>\n",
       "    <tr>\n",
       "      <th>4</th>\n",
       "      <td>5.0</td>\n",
       "      <td>3.6</td>\n",
       "      <td>1.4</td>\n",
       "      <td>0.2</td>\n",
       "    </tr>\n",
       "    <tr>\n",
       "      <th>...</th>\n",
       "      <td>...</td>\n",
       "      <td>...</td>\n",
       "      <td>...</td>\n",
       "      <td>...</td>\n",
       "    </tr>\n",
       "    <tr>\n",
       "      <th>145</th>\n",
       "      <td>6.7</td>\n",
       "      <td>3.0</td>\n",
       "      <td>5.2</td>\n",
       "      <td>2.3</td>\n",
       "    </tr>\n",
       "    <tr>\n",
       "      <th>146</th>\n",
       "      <td>6.3</td>\n",
       "      <td>2.5</td>\n",
       "      <td>5.0</td>\n",
       "      <td>1.9</td>\n",
       "    </tr>\n",
       "    <tr>\n",
       "      <th>147</th>\n",
       "      <td>6.5</td>\n",
       "      <td>3.0</td>\n",
       "      <td>5.2</td>\n",
       "      <td>2.0</td>\n",
       "    </tr>\n",
       "    <tr>\n",
       "      <th>148</th>\n",
       "      <td>6.2</td>\n",
       "      <td>3.4</td>\n",
       "      <td>5.4</td>\n",
       "      <td>2.3</td>\n",
       "    </tr>\n",
       "    <tr>\n",
       "      <th>149</th>\n",
       "      <td>5.9</td>\n",
       "      <td>3.0</td>\n",
       "      <td>5.1</td>\n",
       "      <td>1.8</td>\n",
       "    </tr>\n",
       "  </tbody>\n",
       "</table>\n",
       "<p>150 rows × 4 columns</p>\n",
       "</div>"
      ],
      "text/plain": [
       "       0    1    2    3\n",
       "0    5.1  3.5  1.4  0.2\n",
       "1    4.9  3.0  1.4  0.2\n",
       "2    4.7  3.2  1.3  0.2\n",
       "3    4.6  3.1  1.5  0.2\n",
       "4    5.0  3.6  1.4  0.2\n",
       "..   ...  ...  ...  ...\n",
       "145  6.7  3.0  5.2  2.3\n",
       "146  6.3  2.5  5.0  1.9\n",
       "147  6.5  3.0  5.2  2.0\n",
       "148  6.2  3.4  5.4  2.3\n",
       "149  5.9  3.0  5.1  1.8\n",
       "\n",
       "[150 rows x 4 columns]"
      ]
     },
     "execution_count": 3,
     "metadata": {},
     "output_type": "execute_result"
    }
   ],
   "source": [
    "import pandas as pd\n",
    "pd.DataFrame(X)"
   ]
  },
  {
   "cell_type": "code",
   "execution_count": 4,
   "id": "0e29e5f3",
   "metadata": {},
   "outputs": [
    {
     "data": {
      "text/html": [
       "<div>\n",
       "<style scoped>\n",
       "    .dataframe tbody tr th:only-of-type {\n",
       "        vertical-align: middle;\n",
       "    }\n",
       "\n",
       "    .dataframe tbody tr th {\n",
       "        vertical-align: top;\n",
       "    }\n",
       "\n",
       "    .dataframe thead th {\n",
       "        text-align: right;\n",
       "    }\n",
       "</style>\n",
       "<table border=\"1\" class=\"dataframe\">\n",
       "  <thead>\n",
       "    <tr style=\"text-align: right;\">\n",
       "      <th></th>\n",
       "      <th>0</th>\n",
       "    </tr>\n",
       "  </thead>\n",
       "  <tbody>\n",
       "    <tr>\n",
       "      <th>0</th>\n",
       "      <td>0</td>\n",
       "    </tr>\n",
       "    <tr>\n",
       "      <th>1</th>\n",
       "      <td>0</td>\n",
       "    </tr>\n",
       "    <tr>\n",
       "      <th>2</th>\n",
       "      <td>0</td>\n",
       "    </tr>\n",
       "    <tr>\n",
       "      <th>3</th>\n",
       "      <td>0</td>\n",
       "    </tr>\n",
       "    <tr>\n",
       "      <th>4</th>\n",
       "      <td>0</td>\n",
       "    </tr>\n",
       "    <tr>\n",
       "      <th>...</th>\n",
       "      <td>...</td>\n",
       "    </tr>\n",
       "    <tr>\n",
       "      <th>145</th>\n",
       "      <td>2</td>\n",
       "    </tr>\n",
       "    <tr>\n",
       "      <th>146</th>\n",
       "      <td>2</td>\n",
       "    </tr>\n",
       "    <tr>\n",
       "      <th>147</th>\n",
       "      <td>2</td>\n",
       "    </tr>\n",
       "    <tr>\n",
       "      <th>148</th>\n",
       "      <td>2</td>\n",
       "    </tr>\n",
       "    <tr>\n",
       "      <th>149</th>\n",
       "      <td>2</td>\n",
       "    </tr>\n",
       "  </tbody>\n",
       "</table>\n",
       "<p>150 rows × 1 columns</p>\n",
       "</div>"
      ],
      "text/plain": [
       "     0\n",
       "0    0\n",
       "1    0\n",
       "2    0\n",
       "3    0\n",
       "4    0\n",
       "..  ..\n",
       "145  2\n",
       "146  2\n",
       "147  2\n",
       "148  2\n",
       "149  2\n",
       "\n",
       "[150 rows x 1 columns]"
      ]
     },
     "execution_count": 4,
     "metadata": {},
     "output_type": "execute_result"
    }
   ],
   "source": [
    "pd.DataFrame(y)"
   ]
  },
  {
   "cell_type": "code",
   "execution_count": 5,
   "id": "f4d04097",
   "metadata": {},
   "outputs": [],
   "source": [
    "# remove redundant features from x variables \n",
    "from sklearn.model_selection import train_test_split \n",
    "\n",
    "X_train, X_test, y_train,y_test = train_test_split(X,\n",
    "                                                  y,\n",
    "                                                  stratify=y, # ratio between pos , neg classes will be maintained\n",
    "                                                  test_size=0.2,\n",
    "                                                  random_state=42)\n"
   ]
  },
  {
   "cell_type": "code",
   "execution_count": 6,
   "id": "aad674f3",
   "metadata": {},
   "outputs": [
    {
     "data": {
      "text/plain": [
       "((120, 4), (30, 4))"
      ]
     },
     "execution_count": 6,
     "metadata": {},
     "output_type": "execute_result"
    }
   ],
   "source": [
    "X_train.shape, X_test.shape"
   ]
  },
  {
   "cell_type": "code",
   "execution_count": null,
   "id": "cd11770f",
   "metadata": {},
   "outputs": [],
   "source": []
  },
  {
   "cell_type": "code",
   "execution_count": 7,
   "id": "7ff557d1",
   "metadata": {},
   "outputs": [],
   "source": [
    "#classification models building : \n",
    "\n",
    "from sklearn.metrics import accuracy_score\n",
    "from sklearn.metrics import matthews_corrcoef\n",
    "from sklearn.metrics import f1_score"
   ]
  },
  {
   "cell_type": "code",
   "execution_count": 10,
   "id": "78375a70",
   "metadata": {},
   "outputs": [
    {
     "name": "stdout",
     "output_type": "stream",
     "text": [
      "KNN : train accuracies\n",
      "accuracy 0.9583333333333334\n",
      "matthews corr coef : 0.9375976715114386\n",
      "f1 score : 0.9583268218992551\n",
      "KNN : test accuracies\n",
      "accuracy 1.0\n",
      "matthews corr coef : 1.0\n",
      "f1 score : 1.0\n"
     ]
    }
   ],
   "source": [
    "#KNN : K nearest neighbors \n",
    "from sklearn.neighbors import KNeighborsClassifier\n",
    "\n",
    "knn = KNeighborsClassifier(3) # 3 classes\n",
    "knn.fit(X_train,y_train)\n",
    "\n",
    "#make predictions \n",
    "y_train_pred = knn.predict(X_train)\n",
    "y_test_pred = knn.predict(X_test)\n",
    "\n",
    "\n",
    "#Train set performance \n",
    "knn_train_accuracy = accuracy_score(y_train,y_train_pred)\n",
    "knn_train_mcc = matthews_corrcoef(y_train,y_train_pred)\n",
    "knn_train_f1 = f1_score(y_train,y_train_pred,average=\"weighted\")\n",
    "\n",
    "\n",
    "#Test set performance\n",
    "knn_test_accuracy = accuracy_score(y_test,y_test_pred)\n",
    "knn_test_mcc = matthews_corrcoef(y_test,y_test_pred)\n",
    "knn_test_f1 = f1_score(y_test,y_test_pred,average=\"weighted\")\n",
    "\n",
    "\n",
    "#knn train accuracies : \n",
    "print(\"KNN : train accuracies\")\n",
    "print (\"accuracy %s\" % knn_train_accuracy)\n",
    "print(\"matthews corr coef : %s\" %knn_train_mcc)\n",
    "print(\"f1 score : %s\" %knn_train_f1)\n",
    "\n",
    "#knn test accuracies:\n",
    "print(\"KNN : test accuracies\")\n",
    "print (\"accuracy %s\" % knn_test_accuracy)\n",
    "print(\"matthews corr coef : %s\" %knn_test_mcc)\n",
    "print(\"f1 score : %s\" %knn_test_f1)\n"
   ]
  },
  {
   "cell_type": "code",
   "execution_count": 12,
   "id": "ed3f2ab5",
   "metadata": {},
   "outputs": [
    {
     "name": "stdout",
     "output_type": "stream",
     "text": [
      "[0 1 1 0 1 2 1 1 2 2 2 1 1 1 1 0 0 2 2 0 2 0 2 0 1 2 2 0 2 0 0 1 1 0 2 2 1\n",
      " 1 2 1 0 1 0 2 0 0 2 0 0 0 0 1 2 1 0 2 1 2 0 2 0 1 2 0 2 1 2 1 1 2 0 0 0 1\n",
      " 1 2 1 2 2 1 0 2 1 0 2 0 2 1 1 0 1 2 0 0 2 2 2 1 2 0 2 1 2 2 0 1 1 1 1 1 0\n",
      " 2 1 1 0 0 0 0 1 0]\n",
      "[0 2 1 1 0 1 0 0 2 1 2 2 2 1 0 0 0 1 1 2 0 2 1 2 2 1 1 0 2 0]\n"
     ]
    }
   ],
   "source": [
    "# predictions are classes : \n",
    "print(y_train_pred)\n",
    "print(y_test_pred)"
   ]
  },
  {
   "cell_type": "code",
   "execution_count": 13,
   "id": "1f4bcb07",
   "metadata": {},
   "outputs": [
    {
     "name": "stdout",
     "output_type": "stream",
     "text": [
      "svm_rbf : train accuracies\n",
      "accuracy 0.9916666666666667\n",
      "matthews corr coef : 0.9876028806587153\n",
      "f1 score : 0.9916653643798509\n",
      "svm_rbf : test accuracies\n",
      "accuracy 0.9666666666666667\n",
      "matthews corr coef : 0.9515873026942034\n",
      "f1 score : 0.9665831244778613\n"
     ]
    }
   ],
   "source": [
    "# svm radial basis kernel function ) \n",
    "\n",
    "from sklearn.svm import SVC\n",
    "\n",
    "svm_rbf = SVC(gamma=2, C=1)\n",
    "svm_rbf = svm_rbf.fit(X_train,y_train)\n",
    "\n",
    "#make predictions : \n",
    "y_train_pred = svm_rbf.predict(X_train)\n",
    "y_test_pred = svm_rbf.predict(X_test)\n",
    "\n",
    "#training set performance\n",
    "#Train set performance \n",
    "svm_rbf_train_accuracy = accuracy_score(y_train,y_train_pred)\n",
    "svm_rbf_train_mcc = matthews_corrcoef(y_train,y_train_pred)\n",
    "svm_rbf_train_f1 = f1_score(y_train,y_train_pred,average=\"weighted\")\n",
    "\n",
    "\n",
    "#Test set performance\n",
    "svm_rbf_test_accuracy = accuracy_score(y_test,y_test_pred)\n",
    "svm_rbf_test_mcc = matthews_corrcoef(y_test,y_test_pred)\n",
    "svm_rbf_test_f1 = f1_score(y_test,y_test_pred,average=\"weighted\")\n",
    "\n",
    "#svm rbf train accuracies : \n",
    "print(\"svm_rbf : train accuracies\")\n",
    "print (\"accuracy %s\" % svm_rbf_train_accuracy)\n",
    "print(\"matthews corr coef : %s\" %svm_rbf_train_mcc)\n",
    "print(\"f1 score : %s\" %svm_rbf_train_f1)\n",
    "\n",
    "#svm rbf test accuracies:\n",
    "print(\"svm_rbf : test accuracies\")\n",
    "print (\"accuracy %s\" % svm_rbf_test_accuracy)\n",
    "print(\"matthews corr coef : %s\" %svm_rbf_test_mcc)\n",
    "print(\"f1 score : %s\" %svm_rbf_test_f1)\n",
    "\n",
    "\n"
   ]
  },
  {
   "cell_type": "code",
   "execution_count": 17,
   "id": "62b98f38",
   "metadata": {},
   "outputs": [
    {
     "name": "stdout",
     "output_type": "stream",
     "text": [
      "stack_model : train accuracies\n",
      "accuracy 0.9916666666666667\n",
      "matthews corr coef : 0.9876028806587153\n",
      "f1 score : 0.9916653643798509\n",
      "stack_model : test accuracies\n",
      "accuracy 0.9666666666666667\n",
      "matthews corr coef : 0.9515873026942034\n",
      "f1 score : 0.9665831244778613\n"
     ]
    }
   ],
   "source": [
    "# stacking\n",
    "from sklearn.ensemble import StackingClassifier\n",
    "from sklearn.linear_model import LogisticRegression # meta lerner\n",
    "\n",
    "\n",
    "\n",
    "estimator_list = [\n",
    "    ('knn',knn),\n",
    "    ('svm_rbf',svm_rbf)\n",
    "]\n",
    "\n",
    "#build stack model \n",
    "stack_model = StackingClassifier(\n",
    "    estimators = estimator_list, final_estimator = LogisticRegression()\n",
    ")\n",
    "\n",
    "#train stacked model \n",
    "stack_model.fit(X_train,y_train)\n",
    "\n",
    "#make predictions\n",
    "y_train_pred = stack_model.predict(X_train)\n",
    "y_tess_pred = stack_model.predict(X_test)\n",
    "\n",
    "#training set model performance\n",
    "#Train set performance \n",
    "stack_model_train_accuracy = accuracy_score(y_train,y_train_pred)\n",
    "stack_model_train_mcc = matthews_corrcoef(y_train,y_train_pred)\n",
    "stack_model_train_f1 = f1_score(y_train,y_train_pred,average=\"weighted\")\n",
    "\n",
    "\n",
    "#Test set performance\n",
    "stack_model_test_accuracy = accuracy_score(y_test,y_test_pred)\n",
    "stack_model_test_mcc = matthews_corrcoef(y_test,y_test_pred)\n",
    "stack_model_test_f1 = f1_score(y_test,y_test_pred,average=\"weighted\")\n",
    "\n",
    "#stacking model train accuracies : \n",
    "print(\"stack_model : train accuracies\")\n",
    "print (\"accuracy %s\" % stack_model_train_accuracy)\n",
    "print(\"matthews corr coef : %s\" %stack_model_train_mcc)\n",
    "print(\"f1 score : %s\" %stack_model_train_f1)\n",
    "\n",
    "#stacking model test accuracies:\n",
    "print(\"stack_model : test accuracies\")\n",
    "print (\"accuracy %s\" % stack_model_test_accuracy)\n",
    "print(\"matthews corr coef : %s\" %stack_model_test_mcc)\n",
    "print(\"f1 score : %s\" %stack_model_test_f1)"
   ]
  },
  {
   "cell_type": "code",
   "execution_count": 19,
   "id": "36e80992",
   "metadata": {},
   "outputs": [
    {
     "data": {
      "text/plain": [
       "{'knn': 0.9583333333333334,\n",
       " 'svm_rbf': 0.9916666666666667,\n",
       " 'stack': 0.9916666666666667}"
      ]
     },
     "execution_count": 19,
     "metadata": {},
     "output_type": "execute_result"
    }
   ],
   "source": [
    "acc_train_list = {\n",
    "    'knn': knn_train_accuracy,\n",
    "    'svm_rbf':svm_rbf_train_accuracy,\n",
    "    'stack':stack_model_train_accuracy\n",
    "}\n",
    "acc_train_list"
   ]
  },
  {
   "cell_type": "code",
   "execution_count": 21,
   "id": "c96ed9f3",
   "metadata": {},
   "outputs": [
    {
     "data": {
      "text/plain": [
       "{'knn': 0.9375976715114386,\n",
       " 'svm_rbf': 0.9876028806587153,\n",
       " 'stack': 0.9876028806587153}"
      ]
     },
     "execution_count": 21,
     "metadata": {},
     "output_type": "execute_result"
    }
   ],
   "source": [
    "mcc_train_list = {\n",
    "    'knn':knn_train_mcc,\n",
    "    'svm_rbf':svm_rbf_train_mcc,\n",
    "    'stack':stack_model_train_mcc\n",
    "}\n",
    "mcc_train_list"
   ]
  },
  {
   "cell_type": "code",
   "execution_count": 22,
   "id": "eaa70a97",
   "metadata": {},
   "outputs": [
    {
     "data": {
      "text/plain": [
       "{'knn': 0.9583268218992551,\n",
       " 'svm_rbf': 0.9916653643798509,\n",
       " 'stack': 0.9916653643798509}"
      ]
     },
     "execution_count": 22,
     "metadata": {},
     "output_type": "execute_result"
    }
   ],
   "source": [
    "f1_train_list = {\n",
    "    'knn':knn_train_f1,\n",
    "    'svm_rbf':svm_rbf_train_f1,\n",
    "    'stack':stack_model_train_f1    \n",
    "}\n",
    "f1_train_list"
   ]
  },
  {
   "cell_type": "code",
   "execution_count": 23,
   "id": "d8966be5",
   "metadata": {},
   "outputs": [
    {
     "data": {
      "text/html": [
       "<div>\n",
       "<style scoped>\n",
       "    .dataframe tbody tr th:only-of-type {\n",
       "        vertical-align: middle;\n",
       "    }\n",
       "\n",
       "    .dataframe tbody tr th {\n",
       "        vertical-align: top;\n",
       "    }\n",
       "\n",
       "    .dataframe thead th {\n",
       "        text-align: right;\n",
       "    }\n",
       "</style>\n",
       "<table border=\"1\" class=\"dataframe\">\n",
       "  <thead>\n",
       "    <tr style=\"text-align: right;\">\n",
       "      <th></th>\n",
       "      <th>Accuracy</th>\n",
       "      <th>MCC</th>\n",
       "      <th>F1</th>\n",
       "    </tr>\n",
       "  </thead>\n",
       "  <tbody>\n",
       "    <tr>\n",
       "      <th>knn</th>\n",
       "      <td>0.958333</td>\n",
       "      <td>0.937598</td>\n",
       "      <td>0.958327</td>\n",
       "    </tr>\n",
       "    <tr>\n",
       "      <th>svm_rbf</th>\n",
       "      <td>0.991667</td>\n",
       "      <td>0.987603</td>\n",
       "      <td>0.991665</td>\n",
       "    </tr>\n",
       "    <tr>\n",
       "      <th>stack</th>\n",
       "      <td>0.991667</td>\n",
       "      <td>0.987603</td>\n",
       "      <td>0.991665</td>\n",
       "    </tr>\n",
       "  </tbody>\n",
       "</table>\n",
       "</div>"
      ],
      "text/plain": [
       "         Accuracy       MCC        F1\n",
       "knn      0.958333  0.937598  0.958327\n",
       "svm_rbf  0.991667  0.987603  0.991665\n",
       "stack    0.991667  0.987603  0.991665"
      ]
     },
     "execution_count": 23,
     "metadata": {},
     "output_type": "execute_result"
    }
   ],
   "source": [
    "acc_df = pd.DataFrame.from_dict(acc_train_list,orient=\"index\",columns=['Accuracy'])\n",
    "mcc_df = pd.DataFrame.from_dict(mcc_train_list,orient=\"index\",columns=['MCC'])\n",
    "f1_df = pd.DataFrame.from_dict(f1_train_list,orient=\"index\",columns=['F1'])\n",
    "stack_df = pd.concat([acc_df,mcc_df,f1_df],axis = 1)\n",
    "stack_df"
   ]
  },
  {
   "cell_type": "code",
   "execution_count": 24,
   "id": "f6e6bfb3",
   "metadata": {},
   "outputs": [],
   "source": [
    "stack_df.to_csv('stack_results.csv')"
   ]
  },
  {
   "cell_type": "code",
   "execution_count": null,
   "id": "5ce182b4",
   "metadata": {},
   "outputs": [],
   "source": []
  },
  {
   "cell_type": "code",
   "execution_count": null,
   "id": "6afa4ac3",
   "metadata": {},
   "outputs": [],
   "source": []
  },
  {
   "cell_type": "code",
   "execution_count": null,
   "id": "d33b91ef",
   "metadata": {},
   "outputs": [],
   "source": []
  },
  {
   "cell_type": "code",
   "execution_count": null,
   "id": "31572ddb",
   "metadata": {},
   "outputs": [],
   "source": [
    "# stacking in PyTorch \n",
    "# https://ensemble-pytorch.readthedocs.io/en/latest/quick_start.html \n",
    "# https://ensemble-pytorch.readthedocs.io/en/latest/\n",
    "from torchensemble import VotingClassifier\n",
    "\n",
    "\n"
   ]
  },
  {
   "cell_type": "markdown",
   "id": "ea23167c",
   "metadata": {},
   "source": [
    "# Bagging , Boosting ,  Voting"
   ]
  },
  {
   "cell_type": "markdown",
   "id": "985f689f",
   "metadata": {},
   "source": [
    "## voting\n",
    "- http://localhost:8888/notebooks/Downloads/voting-ensemle-main/voting-classifier-iris.ipynb "
   ]
  },
  {
   "cell_type": "code",
   "execution_count": 2,
   "id": "2056de21",
   "metadata": {},
   "outputs": [
    {
     "data": {
      "text/html": [
       "<div>\n",
       "<style scoped>\n",
       "    .dataframe tbody tr th:only-of-type {\n",
       "        vertical-align: middle;\n",
       "    }\n",
       "\n",
       "    .dataframe tbody tr th {\n",
       "        vertical-align: top;\n",
       "    }\n",
       "\n",
       "    .dataframe thead th {\n",
       "        text-align: right;\n",
       "    }\n",
       "</style>\n",
       "<table border=\"1\" class=\"dataframe\">\n",
       "  <thead>\n",
       "    <tr style=\"text-align: right;\">\n",
       "      <th></th>\n",
       "      <th>0</th>\n",
       "      <th>1</th>\n",
       "      <th>2</th>\n",
       "      <th>3</th>\n",
       "    </tr>\n",
       "  </thead>\n",
       "  <tbody>\n",
       "    <tr>\n",
       "      <th>0</th>\n",
       "      <td>5.1</td>\n",
       "      <td>3.5</td>\n",
       "      <td>1.4</td>\n",
       "      <td>0.2</td>\n",
       "    </tr>\n",
       "    <tr>\n",
       "      <th>1</th>\n",
       "      <td>4.9</td>\n",
       "      <td>3.0</td>\n",
       "      <td>1.4</td>\n",
       "      <td>0.2</td>\n",
       "    </tr>\n",
       "    <tr>\n",
       "      <th>2</th>\n",
       "      <td>4.7</td>\n",
       "      <td>3.2</td>\n",
       "      <td>1.3</td>\n",
       "      <td>0.2</td>\n",
       "    </tr>\n",
       "    <tr>\n",
       "      <th>3</th>\n",
       "      <td>4.6</td>\n",
       "      <td>3.1</td>\n",
       "      <td>1.5</td>\n",
       "      <td>0.2</td>\n",
       "    </tr>\n",
       "    <tr>\n",
       "      <th>4</th>\n",
       "      <td>5.0</td>\n",
       "      <td>3.6</td>\n",
       "      <td>1.4</td>\n",
       "      <td>0.2</td>\n",
       "    </tr>\n",
       "    <tr>\n",
       "      <th>...</th>\n",
       "      <td>...</td>\n",
       "      <td>...</td>\n",
       "      <td>...</td>\n",
       "      <td>...</td>\n",
       "    </tr>\n",
       "    <tr>\n",
       "      <th>145</th>\n",
       "      <td>6.7</td>\n",
       "      <td>3.0</td>\n",
       "      <td>5.2</td>\n",
       "      <td>2.3</td>\n",
       "    </tr>\n",
       "    <tr>\n",
       "      <th>146</th>\n",
       "      <td>6.3</td>\n",
       "      <td>2.5</td>\n",
       "      <td>5.0</td>\n",
       "      <td>1.9</td>\n",
       "    </tr>\n",
       "    <tr>\n",
       "      <th>147</th>\n",
       "      <td>6.5</td>\n",
       "      <td>3.0</td>\n",
       "      <td>5.2</td>\n",
       "      <td>2.0</td>\n",
       "    </tr>\n",
       "    <tr>\n",
       "      <th>148</th>\n",
       "      <td>6.2</td>\n",
       "      <td>3.4</td>\n",
       "      <td>5.4</td>\n",
       "      <td>2.3</td>\n",
       "    </tr>\n",
       "    <tr>\n",
       "      <th>149</th>\n",
       "      <td>5.9</td>\n",
       "      <td>3.0</td>\n",
       "      <td>5.1</td>\n",
       "      <td>1.8</td>\n",
       "    </tr>\n",
       "  </tbody>\n",
       "</table>\n",
       "<p>150 rows × 4 columns</p>\n",
       "</div>"
      ],
      "text/plain": [
       "       0    1    2    3\n",
       "0    5.1  3.5  1.4  0.2\n",
       "1    4.9  3.0  1.4  0.2\n",
       "2    4.7  3.2  1.3  0.2\n",
       "3    4.6  3.1  1.5  0.2\n",
       "4    5.0  3.6  1.4  0.2\n",
       "..   ...  ...  ...  ...\n",
       "145  6.7  3.0  5.2  2.3\n",
       "146  6.3  2.5  5.0  1.9\n",
       "147  6.5  3.0  5.2  2.0\n",
       "148  6.2  3.4  5.4  2.3\n",
       "149  5.9  3.0  5.1  1.8\n",
       "\n",
       "[150 rows x 4 columns]"
      ]
     },
     "execution_count": 2,
     "metadata": {},
     "output_type": "execute_result"
    }
   ],
   "source": [
    "import pandas as pd\n",
    "from sklearn.datasets import load_iris\n",
    "voting_X , voting_y = load_iris(return_X_y = True)\n",
    "v_X =pd.DataFrame(voting_X)\n",
    "v_X"
   ]
  },
  {
   "cell_type": "code",
   "execution_count": 3,
   "id": "571c23f6",
   "metadata": {},
   "outputs": [
    {
     "data": {
      "text/html": [
       "<div>\n",
       "<style scoped>\n",
       "    .dataframe tbody tr th:only-of-type {\n",
       "        vertical-align: middle;\n",
       "    }\n",
       "\n",
       "    .dataframe tbody tr th {\n",
       "        vertical-align: top;\n",
       "    }\n",
       "\n",
       "    .dataframe thead th {\n",
       "        text-align: right;\n",
       "    }\n",
       "</style>\n",
       "<table border=\"1\" class=\"dataframe\">\n",
       "  <thead>\n",
       "    <tr style=\"text-align: right;\">\n",
       "      <th></th>\n",
       "      <th>0</th>\n",
       "    </tr>\n",
       "  </thead>\n",
       "  <tbody>\n",
       "    <tr>\n",
       "      <th>0</th>\n",
       "      <td>0</td>\n",
       "    </tr>\n",
       "    <tr>\n",
       "      <th>1</th>\n",
       "      <td>0</td>\n",
       "    </tr>\n",
       "    <tr>\n",
       "      <th>2</th>\n",
       "      <td>0</td>\n",
       "    </tr>\n",
       "    <tr>\n",
       "      <th>3</th>\n",
       "      <td>0</td>\n",
       "    </tr>\n",
       "    <tr>\n",
       "      <th>4</th>\n",
       "      <td>0</td>\n",
       "    </tr>\n",
       "    <tr>\n",
       "      <th>...</th>\n",
       "      <td>...</td>\n",
       "    </tr>\n",
       "    <tr>\n",
       "      <th>145</th>\n",
       "      <td>2</td>\n",
       "    </tr>\n",
       "    <tr>\n",
       "      <th>146</th>\n",
       "      <td>2</td>\n",
       "    </tr>\n",
       "    <tr>\n",
       "      <th>147</th>\n",
       "      <td>2</td>\n",
       "    </tr>\n",
       "    <tr>\n",
       "      <th>148</th>\n",
       "      <td>2</td>\n",
       "    </tr>\n",
       "    <tr>\n",
       "      <th>149</th>\n",
       "      <td>2</td>\n",
       "    </tr>\n",
       "  </tbody>\n",
       "</table>\n",
       "<p>150 rows × 1 columns</p>\n",
       "</div>"
      ],
      "text/plain": [
       "     0\n",
       "0    0\n",
       "1    0\n",
       "2    0\n",
       "3    0\n",
       "4    0\n",
       "..  ..\n",
       "145  2\n",
       "146  2\n",
       "147  2\n",
       "148  2\n",
       "149  2\n",
       "\n",
       "[150 rows x 1 columns]"
      ]
     },
     "execution_count": 3,
     "metadata": {},
     "output_type": "execute_result"
    }
   ],
   "source": [
    "v_y=pd.DataFrame(voting_y)\n",
    "v_y"
   ]
  },
  {
   "cell_type": "code",
   "execution_count": 5,
   "id": "5c733fee",
   "metadata": {},
   "outputs": [
    {
     "data": {
      "text/html": [
       "<div>\n",
       "<style scoped>\n",
       "    .dataframe tbody tr th:only-of-type {\n",
       "        vertical-align: middle;\n",
       "    }\n",
       "\n",
       "    .dataframe tbody tr th {\n",
       "        vertical-align: top;\n",
       "    }\n",
       "\n",
       "    .dataframe thead th {\n",
       "        text-align: right;\n",
       "    }\n",
       "</style>\n",
       "<table border=\"1\" class=\"dataframe\">\n",
       "  <thead>\n",
       "    <tr style=\"text-align: right;\">\n",
       "      <th></th>\n",
       "      <th>0</th>\n",
       "      <th>1</th>\n",
       "      <th>2</th>\n",
       "      <th>3</th>\n",
       "      <th>4</th>\n",
       "    </tr>\n",
       "  </thead>\n",
       "  <tbody>\n",
       "    <tr>\n",
       "      <th>0</th>\n",
       "      <td>5.1</td>\n",
       "      <td>3.5</td>\n",
       "      <td>1.4</td>\n",
       "      <td>0.2</td>\n",
       "      <td>0</td>\n",
       "    </tr>\n",
       "    <tr>\n",
       "      <th>1</th>\n",
       "      <td>4.9</td>\n",
       "      <td>3.0</td>\n",
       "      <td>1.4</td>\n",
       "      <td>0.2</td>\n",
       "      <td>0</td>\n",
       "    </tr>\n",
       "    <tr>\n",
       "      <th>2</th>\n",
       "      <td>4.7</td>\n",
       "      <td>3.2</td>\n",
       "      <td>1.3</td>\n",
       "      <td>0.2</td>\n",
       "      <td>0</td>\n",
       "    </tr>\n",
       "    <tr>\n",
       "      <th>3</th>\n",
       "      <td>4.6</td>\n",
       "      <td>3.1</td>\n",
       "      <td>1.5</td>\n",
       "      <td>0.2</td>\n",
       "      <td>0</td>\n",
       "    </tr>\n",
       "    <tr>\n",
       "      <th>4</th>\n",
       "      <td>5.0</td>\n",
       "      <td>3.6</td>\n",
       "      <td>1.4</td>\n",
       "      <td>0.2</td>\n",
       "      <td>0</td>\n",
       "    </tr>\n",
       "    <tr>\n",
       "      <th>...</th>\n",
       "      <td>...</td>\n",
       "      <td>...</td>\n",
       "      <td>...</td>\n",
       "      <td>...</td>\n",
       "      <td>...</td>\n",
       "    </tr>\n",
       "    <tr>\n",
       "      <th>145</th>\n",
       "      <td>6.7</td>\n",
       "      <td>3.0</td>\n",
       "      <td>5.2</td>\n",
       "      <td>2.3</td>\n",
       "      <td>2</td>\n",
       "    </tr>\n",
       "    <tr>\n",
       "      <th>146</th>\n",
       "      <td>6.3</td>\n",
       "      <td>2.5</td>\n",
       "      <td>5.0</td>\n",
       "      <td>1.9</td>\n",
       "      <td>2</td>\n",
       "    </tr>\n",
       "    <tr>\n",
       "      <th>147</th>\n",
       "      <td>6.5</td>\n",
       "      <td>3.0</td>\n",
       "      <td>5.2</td>\n",
       "      <td>2.0</td>\n",
       "      <td>2</td>\n",
       "    </tr>\n",
       "    <tr>\n",
       "      <th>148</th>\n",
       "      <td>6.2</td>\n",
       "      <td>3.4</td>\n",
       "      <td>5.4</td>\n",
       "      <td>2.3</td>\n",
       "      <td>2</td>\n",
       "    </tr>\n",
       "    <tr>\n",
       "      <th>149</th>\n",
       "      <td>5.9</td>\n",
       "      <td>3.0</td>\n",
       "      <td>5.1</td>\n",
       "      <td>1.8</td>\n",
       "      <td>2</td>\n",
       "    </tr>\n",
       "  </tbody>\n",
       "</table>\n",
       "<p>150 rows × 5 columns</p>\n",
       "</div>"
      ],
      "text/plain": [
       "       0    1    2    3  4\n",
       "0    5.1  3.5  1.4  0.2  0\n",
       "1    4.9  3.0  1.4  0.2  0\n",
       "2    4.7  3.2  1.3  0.2  0\n",
       "3    4.6  3.1  1.5  0.2  0\n",
       "4    5.0  3.6  1.4  0.2  0\n",
       "..   ...  ...  ...  ... ..\n",
       "145  6.7  3.0  5.2  2.3  2\n",
       "146  6.3  2.5  5.0  1.9  2\n",
       "147  6.5  3.0  5.2  2.0  2\n",
       "148  6.2  3.4  5.4  2.3  2\n",
       "149  5.9  3.0  5.1  1.8  2\n",
       "\n",
       "[150 rows x 5 columns]"
      ]
     },
     "execution_count": 5,
     "metadata": {},
     "output_type": "execute_result"
    }
   ],
   "source": [
    "v_df = pd.concat([v_X,v_y],axis=1)\n",
    "v_df = v_df.set_axis([\"0\",\"1\",\"2\",\"3\",\"4\"],axis=1)\n",
    "v_df"
   ]
  },
  {
   "cell_type": "code",
   "execution_count": 6,
   "id": "a4a6e961",
   "metadata": {},
   "outputs": [
    {
     "data": {
      "text/plain": [
       "<seaborn.axisgrid.PairGrid at 0x7fb93b6f5940>"
      ]
     },
     "execution_count": 6,
     "metadata": {},
     "output_type": "execute_result"
    },
    {
     "data": {
      "image/png": "[encoded data removed]",
      "text/plain": [
       "<Figure size 762.375x720 with 20 Axes>"
      ]
     },
     "metadata": {
      "needs_background": "light"
     },
     "output_type": "display_data"
    }
   ],
   "source": [
    "import seaborn as sns\n",
    "sns.pairplot(v_df,hue='4')"
   ]
  },
  {
   "cell_type": "markdown",
   "id": "84052069",
   "metadata": {},
   "source": []
  },
  {
   "cell_type": "code",
   "execution_count": null,
   "id": "f074450d",
   "metadata": {},
   "outputs": [],
   "source": []
  },
  {
   "cell_type": "code",
   "execution_count": null,
   "id": "d808d591",
   "metadata": {},
   "outputs": [],
   "source": []
  },
  {
   "cell_type": "code",
   "execution_count": null,
   "id": "02b67bb3",
   "metadata": {},
   "outputs": [],
   "source": [
    "\n"
   ]
  },
  {
   "cell_type": "markdown",
   "id": "fcb7760f",
   "metadata": {},
   "source": [
    "# From RPS for publish2"
   ]
  },
  {
   "cell_type": "code",
   "execution_count": null,
   "id": "8a83c0e8",
   "metadata": {},
   "outputs": [],
   "source": []
  },
  {
   "cell_type": "code",
   "execution_count": null,
   "id": "0dd8e473",
   "metadata": {},
   "outputs": [],
   "source": []
  },
  {
   "cell_type": "code",
   "execution_count": null,
   "id": "081d0aa5",
   "metadata": {},
   "outputs": [],
   "source": []
  },
  {
   "cell_type": "code",
   "execution_count": null,
   "id": "02595f7b",
   "metadata": {},
   "outputs": [],
   "source": []
  },
  {
   "cell_type": "markdown",
   "id": "49c7ea76",
   "metadata": {},
   "source": [
    "# For submission "
   ]
  },
  {
   "cell_type": "code",
   "execution_count": null,
   "id": "2cab5b18",
   "metadata": {},
   "outputs": [],
   "source": []
  },
  {
   "cell_type": "code",
   "execution_count": null,
   "id": "26d0c24b",
   "metadata": {},
   "outputs": [],
   "source": []
  },
  {
   "cell_type": "code",
   "execution_count": null,
   "id": "7b095443",
   "metadata": {},
   "outputs": [],
   "source": []
  },
  {
   "cell_type": "code",
   "execution_count": null,
   "id": "78985d0c",
   "metadata": {},
   "outputs": [],
   "source": []
  },
  {
   "cell_type": "code",
   "execution_count": null,
   "id": "cea53357",
   "metadata": {},
   "outputs": [],
   "source": []
  },
  {
   "cell_type": "markdown",
   "id": "5cd4833d",
   "metadata": {},
   "source": [
    "# Models \n",
    "0. Preprocessing + Dataset(generic for training)\n",
    "- BoW (TFIDF)\n",
    "- Word Embedding\n",
    "1. Naive Bayes\n",
    "2. SVM \n",
    "3. Feed Forward \n",
    "4. RNN , LSTM , GRU"
   ]
  },
  {
   "cell_type": "code",
   "execution_count": 3,
   "id": "34342bb9",
   "metadata": {},
   "outputs": [],
   "source": [
    "#0. Preprocessing + Dataset\n",
    "import pandas as pd \n",
    "import numpy as np \n",
    "\n",
    "import spacy \n",
    "from spacy.lang.en.stop_words import STOP_WORDS\n",
    "\n"
   ]
  },
  {
   "cell_type": "markdown",
   "id": "2b35834b",
   "metadata": {},
   "source": [
    "### Data sets:\n",
    "KazAnova. (2017 September) . Sentiment140 dataset with 1.6 million tweets, Version 2. Retrieved 9 May 2021 from https://www.kaggle.com/kazanova/sentiment140 .\n",
    "Andrew L. Maas, Raymond E. Daly, Peter T. Pham, Dan Huang, Andrew Y. Ng, and Christopher Potts. (2011). Learning Word Vectors for Sentiment Analysis. The 49th Annual Meeting of the Association for Computational Linguistics (ACL 2011).https://ai.stanford.edu/~amaas/papers/wvSent_acl2011.pdf"
   ]
  },
  {
   "cell_type": "code",
   "execution_count": 4,
   "id": "c8f6c58e",
   "metadata": {},
   "outputs": [
    {
     "ename": "FileNotFoundError",
     "evalue": "[Errno 2] No such file or directory: '/datasets/training.1600000.processed.noemoticon.csv'",
     "output_type": "error",
     "traceback": [
      "\u001b[0;31m---------------------------------------------------------------------------\u001b[0m",
      "\u001b[0;31mFileNotFoundError\u001b[0m                         Traceback (most recent call last)",
      "Input \u001b[0;32mIn [4]\u001b[0m, in \u001b[0;36m<cell line: 1>\u001b[0;34m()\u001b[0m\n\u001b[0;32m----> 1\u001b[0m df_final \u001b[38;5;241m=\u001b[39m \u001b[43mpd\u001b[49m\u001b[38;5;241;43m.\u001b[39;49m\u001b[43mread_csv\u001b[49m\u001b[43m(\u001b[49m\u001b[38;5;124;43m\"\u001b[39;49m\u001b[38;5;124;43m/datasets/training.1600000.processed.noemoticon.csv\u001b[39;49m\u001b[38;5;124;43m\"\u001b[39;49m\u001b[43m,\u001b[49m\u001b[43mencoding\u001b[49m\u001b[38;5;241;43m=\u001b[39;49m\u001b[38;5;124;43m'\u001b[39;49m\u001b[38;5;124;43mlatin-1\u001b[39;49m\u001b[38;5;124;43m'\u001b[39;49m\u001b[43m,\u001b[49m\u001b[43mheader\u001b[49m\u001b[38;5;241;43m=\u001b[39;49m\u001b[38;5;28;43;01mNone\u001b[39;49;00m\u001b[43m)\u001b[49m\n\u001b[1;32m      2\u001b[0m df_final\n",
      "File \u001b[0;32m~/.local/lib/python3.9/site-packages/pandas/util/_decorators.py:311\u001b[0m, in \u001b[0;36mdeprecate_nonkeyword_arguments.<locals>.decorate.<locals>.wrapper\u001b[0;34m(*args, **kwargs)\u001b[0m\n\u001b[1;32m    305\u001b[0m \u001b[38;5;28;01mif\u001b[39;00m \u001b[38;5;28mlen\u001b[39m(args) \u001b[38;5;241m>\u001b[39m num_allow_args:\n\u001b[1;32m    306\u001b[0m     warnings\u001b[38;5;241m.\u001b[39mwarn(\n\u001b[1;32m    307\u001b[0m         msg\u001b[38;5;241m.\u001b[39mformat(arguments\u001b[38;5;241m=\u001b[39marguments),\n\u001b[1;32m    308\u001b[0m         \u001b[38;5;167;01mFutureWarning\u001b[39;00m,\n\u001b[1;32m    309\u001b[0m         stacklevel\u001b[38;5;241m=\u001b[39mstacklevel,\n\u001b[1;32m    310\u001b[0m     )\n\u001b[0;32m--> 311\u001b[0m \u001b[38;5;28;01mreturn\u001b[39;00m \u001b[43mfunc\u001b[49m\u001b[43m(\u001b[49m\u001b[38;5;241;43m*\u001b[39;49m\u001b[43margs\u001b[49m\u001b[43m,\u001b[49m\u001b[43m \u001b[49m\u001b[38;5;241;43m*\u001b[39;49m\u001b[38;5;241;43m*\u001b[39;49m\u001b[43mkwargs\u001b[49m\u001b[43m)\u001b[49m\n",
      "File \u001b[0;32m~/.local/lib/python3.9/site-packages/pandas/io/parsers/readers.py:680\u001b[0m, in \u001b[0;36mread_csv\u001b[0;34m(filepath_or_buffer, sep, delimiter, header, names, index_col, usecols, squeeze, prefix, mangle_dupe_cols, dtype, engine, converters, true_values, false_values, skipinitialspace, skiprows, skipfooter, nrows, na_values, keep_default_na, na_filter, verbose, skip_blank_lines, parse_dates, infer_datetime_format, keep_date_col, date_parser, dayfirst, cache_dates, iterator, chunksize, compression, thousands, decimal, lineterminator, quotechar, quoting, doublequote, escapechar, comment, encoding, encoding_errors, dialect, error_bad_lines, warn_bad_lines, on_bad_lines, delim_whitespace, low_memory, memory_map, float_precision, storage_options)\u001b[0m\n\u001b[1;32m    665\u001b[0m kwds_defaults \u001b[38;5;241m=\u001b[39m _refine_defaults_read(\n\u001b[1;32m    666\u001b[0m     dialect,\n\u001b[1;32m    667\u001b[0m     delimiter,\n\u001b[0;32m   (...)\u001b[0m\n\u001b[1;32m    676\u001b[0m     defaults\u001b[38;5;241m=\u001b[39m{\u001b[38;5;124m\"\u001b[39m\u001b[38;5;124mdelimiter\u001b[39m\u001b[38;5;124m\"\u001b[39m: \u001b[38;5;124m\"\u001b[39m\u001b[38;5;124m,\u001b[39m\u001b[38;5;124m\"\u001b[39m},\n\u001b[1;32m    677\u001b[0m )\n\u001b[1;32m    678\u001b[0m kwds\u001b[38;5;241m.\u001b[39mupdate(kwds_defaults)\n\u001b[0;32m--> 680\u001b[0m \u001b[38;5;28;01mreturn\u001b[39;00m \u001b[43m_read\u001b[49m\u001b[43m(\u001b[49m\u001b[43mfilepath_or_buffer\u001b[49m\u001b[43m,\u001b[49m\u001b[43m \u001b[49m\u001b[43mkwds\u001b[49m\u001b[43m)\u001b[49m\n",
      "File \u001b[0;32m~/.local/lib/python3.9/site-packages/pandas/io/parsers/readers.py:575\u001b[0m, in \u001b[0;36m_read\u001b[0;34m(filepath_or_buffer, kwds)\u001b[0m\n\u001b[1;32m    572\u001b[0m _validate_names(kwds\u001b[38;5;241m.\u001b[39mget(\u001b[38;5;124m\"\u001b[39m\u001b[38;5;124mnames\u001b[39m\u001b[38;5;124m\"\u001b[39m, \u001b[38;5;28;01mNone\u001b[39;00m))\n\u001b[1;32m    574\u001b[0m \u001b[38;5;66;03m# Create the parser.\u001b[39;00m\n\u001b[0;32m--> 575\u001b[0m parser \u001b[38;5;241m=\u001b[39m \u001b[43mTextFileReader\u001b[49m\u001b[43m(\u001b[49m\u001b[43mfilepath_or_buffer\u001b[49m\u001b[43m,\u001b[49m\u001b[43m \u001b[49m\u001b[38;5;241;43m*\u001b[39;49m\u001b[38;5;241;43m*\u001b[39;49m\u001b[43mkwds\u001b[49m\u001b[43m)\u001b[49m\n\u001b[1;32m    577\u001b[0m \u001b[38;5;28;01mif\u001b[39;00m chunksize \u001b[38;5;129;01mor\u001b[39;00m iterator:\n\u001b[1;32m    578\u001b[0m     \u001b[38;5;28;01mreturn\u001b[39;00m parser\n",
      "File \u001b[0;32m~/.local/lib/python3.9/site-packages/pandas/io/parsers/readers.py:933\u001b[0m, in \u001b[0;36mTextFileReader.__init__\u001b[0;34m(self, f, engine, **kwds)\u001b[0m\n\u001b[1;32m    930\u001b[0m     \u001b[38;5;28mself\u001b[39m\u001b[38;5;241m.\u001b[39moptions[\u001b[38;5;124m\"\u001b[39m\u001b[38;5;124mhas_index_names\u001b[39m\u001b[38;5;124m\"\u001b[39m] \u001b[38;5;241m=\u001b[39m kwds[\u001b[38;5;124m\"\u001b[39m\u001b[38;5;124mhas_index_names\u001b[39m\u001b[38;5;124m\"\u001b[39m]\n\u001b[1;32m    932\u001b[0m \u001b[38;5;28mself\u001b[39m\u001b[38;5;241m.\u001b[39mhandles: IOHandles \u001b[38;5;241m|\u001b[39m \u001b[38;5;28;01mNone\u001b[39;00m \u001b[38;5;241m=\u001b[39m \u001b[38;5;28;01mNone\u001b[39;00m\n\u001b[0;32m--> 933\u001b[0m \u001b[38;5;28mself\u001b[39m\u001b[38;5;241m.\u001b[39m_engine \u001b[38;5;241m=\u001b[39m \u001b[38;5;28;43mself\u001b[39;49m\u001b[38;5;241;43m.\u001b[39;49m\u001b[43m_make_engine\u001b[49m\u001b[43m(\u001b[49m\u001b[43mf\u001b[49m\u001b[43m,\u001b[49m\u001b[43m \u001b[49m\u001b[38;5;28;43mself\u001b[39;49m\u001b[38;5;241;43m.\u001b[39;49m\u001b[43mengine\u001b[49m\u001b[43m)\u001b[49m\n",
      "File \u001b[0;32m~/.local/lib/python3.9/site-packages/pandas/io/parsers/readers.py:1217\u001b[0m, in \u001b[0;36mTextFileReader._make_engine\u001b[0;34m(self, f, engine)\u001b[0m\n\u001b[1;32m   1213\u001b[0m     mode \u001b[38;5;241m=\u001b[39m \u001b[38;5;124m\"\u001b[39m\u001b[38;5;124mrb\u001b[39m\u001b[38;5;124m\"\u001b[39m\n\u001b[1;32m   1214\u001b[0m \u001b[38;5;66;03m# error: No overload variant of \"get_handle\" matches argument types\u001b[39;00m\n\u001b[1;32m   1215\u001b[0m \u001b[38;5;66;03m# \"Union[str, PathLike[str], ReadCsvBuffer[bytes], ReadCsvBuffer[str]]\"\u001b[39;00m\n\u001b[1;32m   1216\u001b[0m \u001b[38;5;66;03m# , \"str\", \"bool\", \"Any\", \"Any\", \"Any\", \"Any\", \"Any\"\u001b[39;00m\n\u001b[0;32m-> 1217\u001b[0m \u001b[38;5;28mself\u001b[39m\u001b[38;5;241m.\u001b[39mhandles \u001b[38;5;241m=\u001b[39m \u001b[43mget_handle\u001b[49m\u001b[43m(\u001b[49m\u001b[43m  \u001b[49m\u001b[38;5;66;43;03m# type: ignore[call-overload]\u001b[39;49;00m\n\u001b[1;32m   1218\u001b[0m \u001b[43m    \u001b[49m\u001b[43mf\u001b[49m\u001b[43m,\u001b[49m\n\u001b[1;32m   1219\u001b[0m \u001b[43m    \u001b[49m\u001b[43mmode\u001b[49m\u001b[43m,\u001b[49m\n\u001b[1;32m   1220\u001b[0m \u001b[43m    \u001b[49m\u001b[43mencoding\u001b[49m\u001b[38;5;241;43m=\u001b[39;49m\u001b[38;5;28;43mself\u001b[39;49m\u001b[38;5;241;43m.\u001b[39;49m\u001b[43moptions\u001b[49m\u001b[38;5;241;43m.\u001b[39;49m\u001b[43mget\u001b[49m\u001b[43m(\u001b[49m\u001b[38;5;124;43m\"\u001b[39;49m\u001b[38;5;124;43mencoding\u001b[39;49m\u001b[38;5;124;43m\"\u001b[39;49m\u001b[43m,\u001b[49m\u001b[43m \u001b[49m\u001b[38;5;28;43;01mNone\u001b[39;49;00m\u001b[43m)\u001b[49m\u001b[43m,\u001b[49m\n\u001b[1;32m   1221\u001b[0m \u001b[43m    \u001b[49m\u001b[43mcompression\u001b[49m\u001b[38;5;241;43m=\u001b[39;49m\u001b[38;5;28;43mself\u001b[39;49m\u001b[38;5;241;43m.\u001b[39;49m\u001b[43moptions\u001b[49m\u001b[38;5;241;43m.\u001b[39;49m\u001b[43mget\u001b[49m\u001b[43m(\u001b[49m\u001b[38;5;124;43m\"\u001b[39;49m\u001b[38;5;124;43mcompression\u001b[39;49m\u001b[38;5;124;43m\"\u001b[39;49m\u001b[43m,\u001b[49m\u001b[43m \u001b[49m\u001b[38;5;28;43;01mNone\u001b[39;49;00m\u001b[43m)\u001b[49m\u001b[43m,\u001b[49m\n\u001b[1;32m   1222\u001b[0m \u001b[43m    \u001b[49m\u001b[43mmemory_map\u001b[49m\u001b[38;5;241;43m=\u001b[39;49m\u001b[38;5;28;43mself\u001b[39;49m\u001b[38;5;241;43m.\u001b[39;49m\u001b[43moptions\u001b[49m\u001b[38;5;241;43m.\u001b[39;49m\u001b[43mget\u001b[49m\u001b[43m(\u001b[49m\u001b[38;5;124;43m\"\u001b[39;49m\u001b[38;5;124;43mmemory_map\u001b[39;49m\u001b[38;5;124;43m\"\u001b[39;49m\u001b[43m,\u001b[49m\u001b[43m \u001b[49m\u001b[38;5;28;43;01mFalse\u001b[39;49;00m\u001b[43m)\u001b[49m\u001b[43m,\u001b[49m\n\u001b[1;32m   1223\u001b[0m \u001b[43m    \u001b[49m\u001b[43mis_text\u001b[49m\u001b[38;5;241;43m=\u001b[39;49m\u001b[43mis_text\u001b[49m\u001b[43m,\u001b[49m\n\u001b[1;32m   1224\u001b[0m \u001b[43m    \u001b[49m\u001b[43merrors\u001b[49m\u001b[38;5;241;43m=\u001b[39;49m\u001b[38;5;28;43mself\u001b[39;49m\u001b[38;5;241;43m.\u001b[39;49m\u001b[43moptions\u001b[49m\u001b[38;5;241;43m.\u001b[39;49m\u001b[43mget\u001b[49m\u001b[43m(\u001b[49m\u001b[38;5;124;43m\"\u001b[39;49m\u001b[38;5;124;43mencoding_errors\u001b[39;49m\u001b[38;5;124;43m\"\u001b[39;49m\u001b[43m,\u001b[49m\u001b[43m \u001b[49m\u001b[38;5;124;43m\"\u001b[39;49m\u001b[38;5;124;43mstrict\u001b[39;49m\u001b[38;5;124;43m\"\u001b[39;49m\u001b[43m)\u001b[49m\u001b[43m,\u001b[49m\n\u001b[1;32m   1225\u001b[0m \u001b[43m    \u001b[49m\u001b[43mstorage_options\u001b[49m\u001b[38;5;241;43m=\u001b[39;49m\u001b[38;5;28;43mself\u001b[39;49m\u001b[38;5;241;43m.\u001b[39;49m\u001b[43moptions\u001b[49m\u001b[38;5;241;43m.\u001b[39;49m\u001b[43mget\u001b[49m\u001b[43m(\u001b[49m\u001b[38;5;124;43m\"\u001b[39;49m\u001b[38;5;124;43mstorage_options\u001b[39;49m\u001b[38;5;124;43m\"\u001b[39;49m\u001b[43m,\u001b[49m\u001b[43m \u001b[49m\u001b[38;5;28;43;01mNone\u001b[39;49;00m\u001b[43m)\u001b[49m\u001b[43m,\u001b[49m\n\u001b[1;32m   1226\u001b[0m \u001b[43m\u001b[49m\u001b[43m)\u001b[49m\n\u001b[1;32m   1227\u001b[0m \u001b[38;5;28;01massert\u001b[39;00m \u001b[38;5;28mself\u001b[39m\u001b[38;5;241m.\u001b[39mhandles \u001b[38;5;129;01mis\u001b[39;00m \u001b[38;5;129;01mnot\u001b[39;00m \u001b[38;5;28;01mNone\u001b[39;00m\n\u001b[1;32m   1228\u001b[0m f \u001b[38;5;241m=\u001b[39m \u001b[38;5;28mself\u001b[39m\u001b[38;5;241m.\u001b[39mhandles\u001b[38;5;241m.\u001b[39mhandle\n",
      "File \u001b[0;32m~/.local/lib/python3.9/site-packages/pandas/io/common.py:789\u001b[0m, in \u001b[0;36mget_handle\u001b[0;34m(path_or_buf, mode, encoding, compression, memory_map, is_text, errors, storage_options)\u001b[0m\n\u001b[1;32m    784\u001b[0m \u001b[38;5;28;01melif\u001b[39;00m \u001b[38;5;28misinstance\u001b[39m(handle, \u001b[38;5;28mstr\u001b[39m):\n\u001b[1;32m    785\u001b[0m     \u001b[38;5;66;03m# Check whether the filename is to be opened in binary mode.\u001b[39;00m\n\u001b[1;32m    786\u001b[0m     \u001b[38;5;66;03m# Binary mode does not support 'encoding' and 'newline'.\u001b[39;00m\n\u001b[1;32m    787\u001b[0m     \u001b[38;5;28;01mif\u001b[39;00m ioargs\u001b[38;5;241m.\u001b[39mencoding \u001b[38;5;129;01mand\u001b[39;00m \u001b[38;5;124m\"\u001b[39m\u001b[38;5;124mb\u001b[39m\u001b[38;5;124m\"\u001b[39m \u001b[38;5;129;01mnot\u001b[39;00m \u001b[38;5;129;01min\u001b[39;00m ioargs\u001b[38;5;241m.\u001b[39mmode:\n\u001b[1;32m    788\u001b[0m         \u001b[38;5;66;03m# Encoding\u001b[39;00m\n\u001b[0;32m--> 789\u001b[0m         handle \u001b[38;5;241m=\u001b[39m \u001b[38;5;28;43mopen\u001b[39;49m\u001b[43m(\u001b[49m\n\u001b[1;32m    790\u001b[0m \u001b[43m            \u001b[49m\u001b[43mhandle\u001b[49m\u001b[43m,\u001b[49m\n\u001b[1;32m    791\u001b[0m \u001b[43m            \u001b[49m\u001b[43mioargs\u001b[49m\u001b[38;5;241;43m.\u001b[39;49m\u001b[43mmode\u001b[49m\u001b[43m,\u001b[49m\n\u001b[1;32m    792\u001b[0m \u001b[43m            \u001b[49m\u001b[43mencoding\u001b[49m\u001b[38;5;241;43m=\u001b[39;49m\u001b[43mioargs\u001b[49m\u001b[38;5;241;43m.\u001b[39;49m\u001b[43mencoding\u001b[49m\u001b[43m,\u001b[49m\n\u001b[1;32m    793\u001b[0m \u001b[43m            \u001b[49m\u001b[43merrors\u001b[49m\u001b[38;5;241;43m=\u001b[39;49m\u001b[43merrors\u001b[49m\u001b[43m,\u001b[49m\n\u001b[1;32m    794\u001b[0m \u001b[43m            \u001b[49m\u001b[43mnewline\u001b[49m\u001b[38;5;241;43m=\u001b[39;49m\u001b[38;5;124;43m\"\u001b[39;49m\u001b[38;5;124;43m\"\u001b[39;49m\u001b[43m,\u001b[49m\n\u001b[1;32m    795\u001b[0m \u001b[43m        \u001b[49m\u001b[43m)\u001b[49m\n\u001b[1;32m    796\u001b[0m     \u001b[38;5;28;01melse\u001b[39;00m:\n\u001b[1;32m    797\u001b[0m         \u001b[38;5;66;03m# Binary mode\u001b[39;00m\n\u001b[1;32m    798\u001b[0m         handle \u001b[38;5;241m=\u001b[39m \u001b[38;5;28mopen\u001b[39m(handle, ioargs\u001b[38;5;241m.\u001b[39mmode)\n",
      "\u001b[0;31mFileNotFoundError\u001b[0m: [Errno 2] No such file or directory: '/datasets/training.1600000.processed.noemoticon.csv'"
     ]
    }
   ],
   "source": [
    "df_final_1 = pd.read_csv(\"/datasets/training.1600000.processed.noemoticon.csv\",encoding='latin-1',header=None)\n",
    "df_final_2"
   ]
  },
  {
   "cell_type": "code",
   "execution_count": null,
   "id": "3daf33a5",
   "metadata": {},
   "outputs": [],
   "source": [
    "df_final.head()"
   ]
  },
  {
   "cell_type": "code",
   "execution_count": null,
   "id": "a638a3c2",
   "metadata": {},
   "outputs": [],
   "source": [
    "df_final = df_final[[5,0]]"
   ]
  },
  {
   "cell_type": "code",
   "execution_count": null,
   "id": "8942ad9d",
   "metadata": {},
   "outputs": [],
   "source": [
    "df_final.columns = ['tweets','sentiment_label']\n",
    "df_final.head()"
   ]
  },
  {
   "cell_type": "code",
   "execution_count": null,
   "id": "70a5e757",
   "metadata": {},
   "outputs": [],
   "source": [
    "df_final['sentiment_label'].value_counts()"
   ]
  },
  {
   "cell_type": "code",
   "execution_count": null,
   "id": "0782dc3f",
   "metadata": {},
   "outputs": [],
   "source": []
  },
  {
   "cell_type": "code",
   "execution_count": null,
   "id": "299940f3",
   "metadata": {},
   "outputs": [],
   "source": []
  },
  {
   "cell_type": "code",
   "execution_count": null,
   "id": "99680002",
   "metadata": {},
   "outputs": [],
   "source": []
  },
  {
   "cell_type": "code",
   "execution_count": null,
   "id": "8af9b4db",
   "metadata": {},
   "outputs": [],
   "source": []
  },
  {
   "cell_type": "code",
   "execution_count": null,
   "id": "bf8b5ffe",
   "metadata": {},
   "outputs": [],
   "source": []
  },
  {
   "cell_type": "code",
   "execution_count": null,
   "id": "6efd5d0a",
   "metadata": {},
   "outputs": [],
   "source": []
  },
  {
   "cell_type": "code",
   "execution_count": null,
   "id": "322d9b27",
   "metadata": {},
   "outputs": [],
   "source": []
  },
  {
   "cell_type": "code",
   "execution_count": null,
   "id": "4c8dea3c",
   "metadata": {},
   "outputs": [],
   "source": []
  },
  {
   "cell_type": "code",
   "execution_count": null,
   "id": "d96c62fe",
   "metadata": {},
   "outputs": [],
   "source": [
    "#1. Naive Bayes"
   ]
  },
  {
   "cell_type": "code",
   "execution_count": null,
   "id": "0197cf7c",
   "metadata": {},
   "outputs": [],
   "source": [
    "#2. SVM "
   ]
  },
  {
   "cell_type": "code",
   "execution_count": null,
   "id": "582377f7",
   "metadata": {},
   "outputs": [],
   "source": [
    "#3. Feed Forward Bag Of Words Representation"
   ]
  },
  {
   "cell_type": "code",
   "execution_count": null,
   "id": "4f73148e",
   "metadata": {},
   "outputs": [],
   "source": [
    "#4. Feed Forward Word Embeddings"
   ]
  },
  {
   "cell_type": "code",
   "execution_count": null,
   "id": "63f33f58",
   "metadata": {},
   "outputs": [],
   "source": [
    "#5. RNN , LSTM , GRU"
   ]
  },
  {
   "cell_type": "markdown",
   "id": "2d3e7043",
   "metadata": {},
   "source": [
    "# Stacking of Models\n",
    "- meta learner  : Logistic regression model \n"
   ]
  },
  {
   "cell_type": "code",
   "execution_count": null,
   "id": "a136991e",
   "metadata": {},
   "outputs": [],
   "source": [
    "# stacking nb, svm\n",
    "from sklearn.ensemble import StackingClassifier\n",
    "from sklearn.linear_model import LogisticRegression # meta lerner\n",
    "\n",
    "\n",
    "\n",
    "estimator_list = [\n",
    "    ('nb',knn),\n",
    "    ('svm',svm_rbf),\n",
    "#     ('feed_f_bow',feed_f_bow),\n",
    "#     ('feed_f_worde',feed_f_worde),\n",
    "#     ('rnn_lstm_gru',rnn_lstm_gru)\n",
    "]\n",
    "\n",
    "#build stack model \n",
    "stack_model = StackingClassifier(\n",
    "    estimators = estimator_list, final_estimator = LogisticRegression()\n",
    ")\n",
    "\n",
    "#train stacked model \n",
    "stack_model.fit(X_train,y_train)\n",
    "\n",
    "#make predictions\n",
    "y_train_pred = stack_model.predict(X_train)\n",
    "y_tess_pred = stack_model.predict(X_test)\n",
    "\n",
    "#training set model performance\n",
    "#Train set performance \n",
    "stack_model_train_accuracy = accuracy_score(y_train,y_train_pred)\n",
    "stack_model_train_mcc = matthews_corrcoef(y_train,y_train_pred)\n",
    "stack_model_train_f1 = f1_score(y_train,y_train_pred,average=\"weighted\")\n",
    "\n",
    "\n",
    "#Test set performance\n",
    "stack_model_test_accuracy = accuracy_score(y_test,y_test_pred)\n",
    "stack_model_test_mcc = matthews_corrcoef(y_test,y_test_pred)\n",
    "stack_model_test_f1 = f1_score(y_test,y_test_pred,average=\"weighted\")\n",
    "\n",
    "#svm rbf train accuracies : \n",
    "print(\"stack_model : train accuracies\")\n",
    "print (\"accuracy %s\" % stack_model_train_accuracy)\n",
    "print(\"matthews corr coef : %s\" %stack_model_train_mcc)\n",
    "print(\"f1 score : %s\" %stack_model_train_f1)\n",
    "\n",
    "#svm rbf test accuracies:\n",
    "print(\"stack_model : test accuracies\")\n",
    "print (\"accuracy %s\" % stack_model_test_accuracy)\n",
    "print(\"matthews corr coef : %s\" %stack_model_test_mcc)\n",
    "print(\"f1 score : %s\" %stack_model_test_f1)"
   ]
  },
  {
   "cell_type": "code",
   "execution_count": null,
   "id": "fb258f63",
   "metadata": {},
   "outputs": [],
   "source": [
    "# stacking feed_f_bow, feed_f_wordEmbedding , rnn_lstm_gru"
   ]
  },
  {
   "cell_type": "markdown",
   "id": "78590845",
   "metadata": {},
   "source": []
  },
  {
   "cell_type": "code",
   "execution_count": null,
   "id": "1bb4a675",
   "metadata": {},
   "outputs": [],
   "source": []
  },
  {
   "cell_type": "code",
   "execution_count": null,
   "id": "e33eb1ee",
   "metadata": {},
   "outputs": [],
   "source": []
  },
  {
   "cell_type": "markdown",
   "id": "0add95a4",
   "metadata": {},
   "source": []
  },
  {
   "cell_type": "code",
   "execution_count": null,
   "id": "ff2ed949",
   "metadata": {},
   "outputs": [],
   "source": []
  },
  {
   "cell_type": "code",
   "execution_count": null,
   "id": "36dd0546",
   "metadata": {},
   "outputs": [],
   "source": []
  },
  {
   "cell_type": "code",
   "execution_count": null,
   "id": "da1f834e",
   "metadata": {},
   "outputs": [],
   "source": []
  },
  {
   "cell_type": "markdown",
   "id": "fd1fabff",
   "metadata": {},
   "source": []
  },
  {
   "cell_type": "code",
   "execution_count": null,
   "id": "ed215e28",
   "metadata": {},
   "outputs": [],
   "source": []
  },
  {
   "cell_type": "code",
   "execution_count": null,
   "id": "6bf844f3",
   "metadata": {},
   "outputs": [],
   "source": []
  },
  {
   "cell_type": "code",
   "execution_count": null,
   "id": "c3e73142",
   "metadata": {},
   "outputs": [],
   "source": []
  },
  {
   "cell_type": "code",
   "execution_count": null,
   "id": "8ab8b95f",
   "metadata": {},
   "outputs": [],
   "source": []
  },
  {
   "cell_type": "markdown",
   "id": "22cfece3",
   "metadata": {},
   "source": [
    "# Testing on Actual Data from the Application"
   ]
  },
  {
   "cell_type": "code",
   "execution_count": 35,
   "id": "28a9e14f",
   "metadata": {},
   "outputs": [],
   "source": [
    "FILE_1 =\"./datasets/databse-json/software-project-43397-default-rtdb-export.json\" \n",
    "FILE_2 =\"./datasets/databse-json/productivity-app-24ab3-default-rtdb-export.json\"\n",
    "\n",
    "df1 = pd.read_json(FILE_1)\n",
    "df2 = pd.read_json(FILE_2)\n"
   ]
  },
  {
   "cell_type": "code",
   "execution_count": 49,
   "id": "0727c214",
   "metadata": {},
   "outputs": [
    {
     "data": {
      "text/html": [
       "<div>\n",
       "<style scoped>\n",
       "    .dataframe tbody tr th:only-of-type {\n",
       "        vertical-align: middle;\n",
       "    }\n",
       "\n",
       "    .dataframe tbody tr th {\n",
       "        vertical-align: top;\n",
       "    }\n",
       "\n",
       "    .dataframe thead th {\n",
       "        text-align: right;\n",
       "    }\n",
       "</style>\n",
       "<table border=\"1\" class=\"dataframe\">\n",
       "  <thead>\n",
       "    <tr style=\"text-align: right;\">\n",
       "      <th></th>\n",
       "      <th>Booking</th>\n",
       "      <th>Ground</th>\n",
       "      <th>History</th>\n",
       "      <th>User</th>\n",
       "    </tr>\n",
       "  </thead>\n",
       "  <tbody>\n",
       "    <tr>\n",
       "      <th>36f8582e-8e87-4f68-9548-2ebd6befed8b</th>\n",
       "      <td>{'1637826739': {'Badminton': {'06:00 - 08:00AM...</td>\n",
       "      <td>{'gaddress': 'Block N, Panchsheel Park North, ...</td>\n",
       "      <td>NaN</td>\n",
       "      <td>NaN</td>\n",
       "    </tr>\n",
       "    <tr>\n",
       "      <th>447eab03-452e-4197-8c62-59f2d7ae3d43</th>\n",
       "      <td>{'1637826739': {'Cricket': {'06:00 - 08:00AM':...</td>\n",
       "      <td>{'gaddress': '4th Main Rd, RA Puram, Govindasw...</td>\n",
       "      <td>NaN</td>\n",
       "      <td>NaN</td>\n",
       "    </tr>\n",
       "    <tr>\n",
       "      <th>451c9d99-0555-4d64-986c-e85e53972231</th>\n",
       "      <td>{'1637826739': {'Cricket': {'06:00 - 08:00AM':...</td>\n",
       "      <td>{'gaddress': '12, Sardar Patel Rd, Anna Univer...</td>\n",
       "      <td>NaN</td>\n",
       "      <td>NaN</td>\n",
       "    </tr>\n",
       "    <tr>\n",
       "      <th>56402052-2dcc-4ccf-a4ce-60f6a725d4d0</th>\n",
       "      <td>{'1637826739': {'Badminton': {'06:00 - 08:00AM...</td>\n",
       "      <td>{'gaddress': 'Link Road, Malad West, Mumbai-40...</td>\n",
       "      <td>NaN</td>\n",
       "      <td>NaN</td>\n",
       "    </tr>\n",
       "    <tr>\n",
       "      <th>6f08decc-7572-4659-b681-1e2b195427d9</th>\n",
       "      <td>{'1637826739': {'Badminton': {'04:00 - 06:00AM...</td>\n",
       "      <td>{'gaddress': 'Azad Nagar - near Metro station,...</td>\n",
       "      <td>NaN</td>\n",
       "      <td>NaN</td>\n",
       "    </tr>\n",
       "    <tr>\n",
       "      <th>6f2f1287-2572-4ee8-9d50-a1a966b1792f</th>\n",
       "      <td>{'1637826739': {'Cricket': {'04:00 - 06:00AM':...</td>\n",
       "      <td>{'gaddress': 'Sarvodaya Bal Vidyalaya, No 1, N...</td>\n",
       "      <td>NaN</td>\n",
       "      <td>NaN</td>\n",
       "    </tr>\n",
       "    <tr>\n",
       "      <th>8e0b8fc9-1f62-4ae9-8469-2af49bd44d86</th>\n",
       "      <td>{'1637826739': {'Cricket': {'07:00 - 09:00AM':...</td>\n",
       "      <td>{'gaddress': '10, Alandur Rd, Industrial Area,...</td>\n",
       "      <td>NaN</td>\n",
       "      <td>NaN</td>\n",
       "    </tr>\n",
       "    <tr>\n",
       "      <th>9cf8bf5e-b3d5-48d7-b049-ca49ffeba144</th>\n",
       "      <td>{'1637826739': {'Badminton': {'06:00 - 08:00AM...</td>\n",
       "      <td>{'gaddress': ' Arya Nagar, South Bombay, Mumba...</td>\n",
       "      <td>NaN</td>\n",
       "      <td>NaN</td>\n",
       "    </tr>\n",
       "    <tr>\n",
       "      <th>b661e992-a181-4476-b531-09260136c89b</th>\n",
       "      <td>{'1637826739': {'Football': {'05:00 - 07:00AM'...</td>\n",
       "      <td>{'gaddress': 'No 1, Muthu Gramani St, Perumalp...</td>\n",
       "      <td>NaN</td>\n",
       "      <td>NaN</td>\n",
       "    </tr>\n",
       "    <tr>\n",
       "      <th>bd3a314f7-7e7a-458f-b608-1057b38232da</th>\n",
       "      <td>{'1637826739': {'Football': {'05:00 - 07:00AM'...</td>\n",
       "      <td>NaN</td>\n",
       "      <td>NaN</td>\n",
       "      <td>NaN</td>\n",
       "    </tr>\n",
       "    <tr>\n",
       "      <th>efa8e559-62cf-44a2-83e9-5f44b9caa8d8</th>\n",
       "      <td>{'1637826739': {'Badminton': {'06:00 - 08:00AM...</td>\n",
       "      <td>{'gaddress': 'MS Block, Nanak Pura, Ashok Naga...</td>\n",
       "      <td>NaN</td>\n",
       "      <td>NaN</td>\n",
       "    </tr>\n",
       "    <tr>\n",
       "      <th>fd3b7925-7b5c-438a-aa3b-a836321eabb9</th>\n",
       "      <td>{'1637826739': {'Badminton': {'05:00 - 07:00AM...</td>\n",
       "      <td>{'gaddress': 'Mahatma Gandhi Road, Fort, Mumba...</td>\n",
       "      <td>NaN</td>\n",
       "      <td>NaN</td>\n",
       "    </tr>\n",
       "    <tr>\n",
       "      <th>d3a314f7-7e7a-458f-b608-1057b38232da</th>\n",
       "      <td>NaN</td>\n",
       "      <td>{'gaddress': 'Sector-12, Noida, UP', 'gbooking...</td>\n",
       "      <td>NaN</td>\n",
       "      <td>NaN</td>\n",
       "    </tr>\n",
       "    <tr>\n",
       "      <th>Ground</th>\n",
       "      <td>NaN</td>\n",
       "      <td>NaN</td>\n",
       "      <td>{'36f8582e-8e87-4f68-9548-2ebd6befed8b': {'15a...</td>\n",
       "      <td>NaN</td>\n",
       "    </tr>\n",
       "    <tr>\n",
       "      <th>Users</th>\n",
       "      <td>NaN</td>\n",
       "      <td>NaN</td>\n",
       "      <td>{'4C3kPKWOJNdyYWLi2VPXJwBDHZZ2': {'51ec3d95-90...</td>\n",
       "      <td>NaN</td>\n",
       "    </tr>\n",
       "    <tr>\n",
       "      <th>3LjGjwBDKrNaxcPQ2TKm0dZIBS93</th>\n",
       "      <td>NaN</td>\n",
       "      <td>NaN</td>\n",
       "      <td>NaN</td>\n",
       "      <td>{'city': 'Mumbai', 'email': 'km693552@gmail.co...</td>\n",
       "    </tr>\n",
       "    <tr>\n",
       "      <th>4C3kPKWOJNdyYWLi2VPXJwBDHZZ2</th>\n",
       "      <td>NaN</td>\n",
       "      <td>NaN</td>\n",
       "      <td>NaN</td>\n",
       "      <td>{'city': 'Delhi', 'email': 'j16sohlot@gmail.co...</td>\n",
       "    </tr>\n",
       "    <tr>\n",
       "      <th>9mf5a7hcNaXKzWmNGo66XKmkrL82</th>\n",
       "      <td>NaN</td>\n",
       "      <td>NaN</td>\n",
       "      <td>NaN</td>\n",
       "      <td>{'city': 'Mumbai', 'email': 'ygrittetully.2526...</td>\n",
       "    </tr>\n",
       "    <tr>\n",
       "      <th>C8EbVKxP6aOoQXGPdjyZLvWjl703</th>\n",
       "      <td>NaN</td>\n",
       "      <td>NaN</td>\n",
       "      <td>NaN</td>\n",
       "      <td>{'city': 'Delhi', 'email': 'ashujain735@gmail....</td>\n",
       "    </tr>\n",
       "    <tr>\n",
       "      <th>DRfhOfDEuZaAAIQF6LbdUCnUO1N2</th>\n",
       "      <td>NaN</td>\n",
       "      <td>NaN</td>\n",
       "      <td>NaN</td>\n",
       "      <td>{'city': 'Mumbai', 'email': 'pawansingh180395@...</td>\n",
       "    </tr>\n",
       "    <tr>\n",
       "      <th>FqOzQKMgHPhFWB4uuxaXjZHnZpp1</th>\n",
       "      <td>NaN</td>\n",
       "      <td>NaN</td>\n",
       "      <td>NaN</td>\n",
       "      <td>{'city': 'Delhi', 'email': 'quentinmartell.897...</td>\n",
       "    </tr>\n",
       "    <tr>\n",
       "      <th>NYJ8V6A8FfRITzTbdtMXMVOM8Jl2</th>\n",
       "      <td>NaN</td>\n",
       "      <td>NaN</td>\n",
       "      <td>NaN</td>\n",
       "      <td>{'city': 'Delhi', 'email': 'panshul@gmail.com'...</td>\n",
       "    </tr>\n",
       "    <tr>\n",
       "      <th>NnitDlhK54PIFZIIJxUS2OFuTwC2</th>\n",
       "      <td>NaN</td>\n",
       "      <td>NaN</td>\n",
       "      <td>NaN</td>\n",
       "      <td>{'city': 'Delhi', 'email': 'kassarfarman@gmail...</td>\n",
       "    </tr>\n",
       "    <tr>\n",
       "      <th>PFT4PRypWlMdnh3NWNTEXO3aGeD2</th>\n",
       "      <td>NaN</td>\n",
       "      <td>NaN</td>\n",
       "      <td>NaN</td>\n",
       "      <td>{'city': 'Delhi', 'email': 'drogoreed.246268@g...</td>\n",
       "    </tr>\n",
       "    <tr>\n",
       "      <th>QRzmX4291ZdVujwBHvSIKVtEiL42</th>\n",
       "      <td>NaN</td>\n",
       "      <td>NaN</td>\n",
       "      <td>NaN</td>\n",
       "      <td>{'city': 'Delhi', 'email': 'rhaegarbaelish.779...</td>\n",
       "    </tr>\n",
       "    <tr>\n",
       "      <th>WKAW0DjI6ERqfC4C5W4N83AqqBh2</th>\n",
       "      <td>NaN</td>\n",
       "      <td>NaN</td>\n",
       "      <td>NaN</td>\n",
       "      <td>{'city': 'Delhi', 'email': 'AryaMartell.932232...</td>\n",
       "    </tr>\n",
       "    <tr>\n",
       "      <th>YszB5zNMeDYxNW4rSQfB4jGNnBw1</th>\n",
       "      <td>NaN</td>\n",
       "      <td>NaN</td>\n",
       "      <td>NaN</td>\n",
       "      <td>{'city': 'Delhi', 'email': 'joffreytargaryen.9...</td>\n",
       "    </tr>\n",
       "    <tr>\n",
       "      <th>ab4D49xtHyPZYzgh5Av1QCX8Wbm1</th>\n",
       "      <td>NaN</td>\n",
       "      <td>NaN</td>\n",
       "      <td>NaN</td>\n",
       "      <td>{'city': 'Delhi', 'email': 'panshuljindal@gmai...</td>\n",
       "    </tr>\n",
       "    <tr>\n",
       "      <th>cIHmL30XFMYA6wJMeWFSaxPJ7zk1</th>\n",
       "      <td>NaN</td>\n",
       "      <td>NaN</td>\n",
       "      <td>NaN</td>\n",
       "      <td>{'city': 'Delhi', 'email': 'jain.19monika@gmai...</td>\n",
       "    </tr>\n",
       "    <tr>\n",
       "      <th>d5MG8sQFMNdpcosixjedbmJUaJm1</th>\n",
       "      <td>NaN</td>\n",
       "      <td>NaN</td>\n",
       "      <td>NaN</td>\n",
       "      <td>{'city': 'Delhi', 'email': 'adityamadan201@gma...</td>\n",
       "    </tr>\n",
       "    <tr>\n",
       "      <th>eSoMr4xWKbgTXPi3FNc4D5wJJVQ2</th>\n",
       "      <td>NaN</td>\n",
       "      <td>NaN</td>\n",
       "      <td>NaN</td>\n",
       "      <td>{'city': 'Chennai', 'email': 'a.akilavictor@gm...</td>\n",
       "    </tr>\n",
       "    <tr>\n",
       "      <th>nU5eivjUrNQUYuO6hZ74AyhgcWi2</th>\n",
       "      <td>NaN</td>\n",
       "      <td>NaN</td>\n",
       "      <td>NaN</td>\n",
       "      <td>{'city': 'Delhi', 'email': 'jain.khushee05@gma...</td>\n",
       "    </tr>\n",
       "    <tr>\n",
       "      <th>qXh2fax8j6WGxB7QVAdaJEOEyIF2</th>\n",
       "      <td>NaN</td>\n",
       "      <td>NaN</td>\n",
       "      <td>NaN</td>\n",
       "      <td>{'city': 'Delhi', 'email': 'panshuljindal3@gma...</td>\n",
       "    </tr>\n",
       "    <tr>\n",
       "      <th>rqpDmZd7bWf8R7XcVGDW8sDozdu1</th>\n",
       "      <td>NaN</td>\n",
       "      <td>NaN</td>\n",
       "      <td>NaN</td>\n",
       "      <td>{'city': 'Mumbai', 'email': 'panshuljindal2@gm...</td>\n",
       "    </tr>\n",
       "    <tr>\n",
       "      <th>tfEMqnhndhUm1MZ3Mn6HuSdusvu2</th>\n",
       "      <td>NaN</td>\n",
       "      <td>NaN</td>\n",
       "      <td>NaN</td>\n",
       "      <td>{'city': 'Delhi', 'email': 'pia.07jain@gmail.c...</td>\n",
       "    </tr>\n",
       "    <tr>\n",
       "      <th>wP0yhjsLbJPPZVFbxGs1aRqgUDH3</th>\n",
       "      <td>NaN</td>\n",
       "      <td>NaN</td>\n",
       "      <td>NaN</td>\n",
       "      <td>{'city': 'Delhi', 'email': 'dhallvikas73@gmail...</td>\n",
       "    </tr>\n",
       "    <tr>\n",
       "      <th>wcBRNqAfSPWGnmFb748r84ACSiI2</th>\n",
       "      <td>NaN</td>\n",
       "      <td>NaN</td>\n",
       "      <td>NaN</td>\n",
       "      <td>{'city': 'Chennai', 'email': 'bookaholic.134@g...</td>\n",
       "    </tr>\n",
       "    <tr>\n",
       "      <th>x0p85HCOK3P8wG8SM1ksbggdDQC3</th>\n",
       "      <td>NaN</td>\n",
       "      <td>NaN</td>\n",
       "      <td>NaN</td>\n",
       "      <td>{'city': 'Chennai', 'email': 'panshuljindal1@g...</td>\n",
       "    </tr>\n",
       "    <tr>\n",
       "      <th>y1iaeBTITRaFRkDN6yxoIHfqwlj1</th>\n",
       "      <td>NaN</td>\n",
       "      <td>NaN</td>\n",
       "      <td>NaN</td>\n",
       "      <td>{'city': 'Delhi', 'email': 'cerseisand.287720@...</td>\n",
       "    </tr>\n",
       "  </tbody>\n",
       "</table>\n",
       "</div>"
      ],
      "text/plain": [
       "                                                                                 Booking  \\\n",
       "36f8582e-8e87-4f68-9548-2ebd6befed8b   {'1637826739': {'Badminton': {'06:00 - 08:00AM...   \n",
       "447eab03-452e-4197-8c62-59f2d7ae3d43   {'1637826739': {'Cricket': {'06:00 - 08:00AM':...   \n",
       "451c9d99-0555-4d64-986c-e85e53972231   {'1637826739': {'Cricket': {'06:00 - 08:00AM':...   \n",
       "56402052-2dcc-4ccf-a4ce-60f6a725d4d0   {'1637826739': {'Badminton': {'06:00 - 08:00AM...   \n",
       "6f08decc-7572-4659-b681-1e2b195427d9   {'1637826739': {'Badminton': {'04:00 - 06:00AM...   \n",
       "6f2f1287-2572-4ee8-9d50-a1a966b1792f   {'1637826739': {'Cricket': {'04:00 - 06:00AM':...   \n",
       "8e0b8fc9-1f62-4ae9-8469-2af49bd44d86   {'1637826739': {'Cricket': {'07:00 - 09:00AM':...   \n",
       "9cf8bf5e-b3d5-48d7-b049-ca49ffeba144   {'1637826739': {'Badminton': {'06:00 - 08:00AM...   \n",
       "b661e992-a181-4476-b531-09260136c89b   {'1637826739': {'Football': {'05:00 - 07:00AM'...   \n",
       "bd3a314f7-7e7a-458f-b608-1057b38232da  {'1637826739': {'Football': {'05:00 - 07:00AM'...   \n",
       "efa8e559-62cf-44a2-83e9-5f44b9caa8d8   {'1637826739': {'Badminton': {'06:00 - 08:00AM...   \n",
       "fd3b7925-7b5c-438a-aa3b-a836321eabb9   {'1637826739': {'Badminton': {'05:00 - 07:00AM...   \n",
       "d3a314f7-7e7a-458f-b608-1057b38232da                                                 NaN   \n",
       "Ground                                                                               NaN   \n",
       "Users                                                                                NaN   \n",
       "3LjGjwBDKrNaxcPQ2TKm0dZIBS93                                                         NaN   \n",
       "4C3kPKWOJNdyYWLi2VPXJwBDHZZ2                                                         NaN   \n",
       "9mf5a7hcNaXKzWmNGo66XKmkrL82                                                         NaN   \n",
       "C8EbVKxP6aOoQXGPdjyZLvWjl703                                                         NaN   \n",
       "DRfhOfDEuZaAAIQF6LbdUCnUO1N2                                                         NaN   \n",
       "FqOzQKMgHPhFWB4uuxaXjZHnZpp1                                                         NaN   \n",
       "NYJ8V6A8FfRITzTbdtMXMVOM8Jl2                                                         NaN   \n",
       "NnitDlhK54PIFZIIJxUS2OFuTwC2                                                         NaN   \n",
       "PFT4PRypWlMdnh3NWNTEXO3aGeD2                                                         NaN   \n",
       "QRzmX4291ZdVujwBHvSIKVtEiL42                                                         NaN   \n",
       "WKAW0DjI6ERqfC4C5W4N83AqqBh2                                                         NaN   \n",
       "YszB5zNMeDYxNW4rSQfB4jGNnBw1                                                         NaN   \n",
       "ab4D49xtHyPZYzgh5Av1QCX8Wbm1                                                         NaN   \n",
       "cIHmL30XFMYA6wJMeWFSaxPJ7zk1                                                         NaN   \n",
       "d5MG8sQFMNdpcosixjedbmJUaJm1                                                         NaN   \n",
       "eSoMr4xWKbgTXPi3FNc4D5wJJVQ2                                                         NaN   \n",
       "nU5eivjUrNQUYuO6hZ74AyhgcWi2                                                         NaN   \n",
       "qXh2fax8j6WGxB7QVAdaJEOEyIF2                                                         NaN   \n",
       "rqpDmZd7bWf8R7XcVGDW8sDozdu1                                                         NaN   \n",
       "tfEMqnhndhUm1MZ3Mn6HuSdusvu2                                                         NaN   \n",
       "wP0yhjsLbJPPZVFbxGs1aRqgUDH3                                                         NaN   \n",
       "wcBRNqAfSPWGnmFb748r84ACSiI2                                                         NaN   \n",
       "x0p85HCOK3P8wG8SM1ksbggdDQC3                                                         NaN   \n",
       "y1iaeBTITRaFRkDN6yxoIHfqwlj1                                                         NaN   \n",
       "\n",
       "                                                                                  Ground  \\\n",
       "36f8582e-8e87-4f68-9548-2ebd6befed8b   {'gaddress': 'Block N, Panchsheel Park North, ...   \n",
       "447eab03-452e-4197-8c62-59f2d7ae3d43   {'gaddress': '4th Main Rd, RA Puram, Govindasw...   \n",
       "451c9d99-0555-4d64-986c-e85e53972231   {'gaddress': '12, Sardar Patel Rd, Anna Univer...   \n",
       "56402052-2dcc-4ccf-a4ce-60f6a725d4d0   {'gaddress': 'Link Road, Malad West, Mumbai-40...   \n",
       "6f08decc-7572-4659-b681-1e2b195427d9   {'gaddress': 'Azad Nagar - near Metro station,...   \n",
       "6f2f1287-2572-4ee8-9d50-a1a966b1792f   {'gaddress': 'Sarvodaya Bal Vidyalaya, No 1, N...   \n",
       "8e0b8fc9-1f62-4ae9-8469-2af49bd44d86   {'gaddress': '10, Alandur Rd, Industrial Area,...   \n",
       "9cf8bf5e-b3d5-48d7-b049-ca49ffeba144   {'gaddress': ' Arya Nagar, South Bombay, Mumba...   \n",
       "b661e992-a181-4476-b531-09260136c89b   {'gaddress': 'No 1, Muthu Gramani St, Perumalp...   \n",
       "bd3a314f7-7e7a-458f-b608-1057b38232da                                                NaN   \n",
       "efa8e559-62cf-44a2-83e9-5f44b9caa8d8   {'gaddress': 'MS Block, Nanak Pura, Ashok Naga...   \n",
       "fd3b7925-7b5c-438a-aa3b-a836321eabb9   {'gaddress': 'Mahatma Gandhi Road, Fort, Mumba...   \n",
       "d3a314f7-7e7a-458f-b608-1057b38232da   {'gaddress': 'Sector-12, Noida, UP', 'gbooking...   \n",
       "Ground                                                                               NaN   \n",
       "Users                                                                                NaN   \n",
       "3LjGjwBDKrNaxcPQ2TKm0dZIBS93                                                         NaN   \n",
       "4C3kPKWOJNdyYWLi2VPXJwBDHZZ2                                                         NaN   \n",
       "9mf5a7hcNaXKzWmNGo66XKmkrL82                                                         NaN   \n",
       "C8EbVKxP6aOoQXGPdjyZLvWjl703                                                         NaN   \n",
       "DRfhOfDEuZaAAIQF6LbdUCnUO1N2                                                         NaN   \n",
       "FqOzQKMgHPhFWB4uuxaXjZHnZpp1                                                         NaN   \n",
       "NYJ8V6A8FfRITzTbdtMXMVOM8Jl2                                                         NaN   \n",
       "NnitDlhK54PIFZIIJxUS2OFuTwC2                                                         NaN   \n",
       "PFT4PRypWlMdnh3NWNTEXO3aGeD2                                                         NaN   \n",
       "QRzmX4291ZdVujwBHvSIKVtEiL42                                                         NaN   \n",
       "WKAW0DjI6ERqfC4C5W4N83AqqBh2                                                         NaN   \n",
       "YszB5zNMeDYxNW4rSQfB4jGNnBw1                                                         NaN   \n",
       "ab4D49xtHyPZYzgh5Av1QCX8Wbm1                                                         NaN   \n",
       "cIHmL30XFMYA6wJMeWFSaxPJ7zk1                                                         NaN   \n",
       "d5MG8sQFMNdpcosixjedbmJUaJm1                                                         NaN   \n",
       "eSoMr4xWKbgTXPi3FNc4D5wJJVQ2                                                         NaN   \n",
       "nU5eivjUrNQUYuO6hZ74AyhgcWi2                                                         NaN   \n",
       "qXh2fax8j6WGxB7QVAdaJEOEyIF2                                                         NaN   \n",
       "rqpDmZd7bWf8R7XcVGDW8sDozdu1                                                         NaN   \n",
       "tfEMqnhndhUm1MZ3Mn6HuSdusvu2                                                         NaN   \n",
       "wP0yhjsLbJPPZVFbxGs1aRqgUDH3                                                         NaN   \n",
       "wcBRNqAfSPWGnmFb748r84ACSiI2                                                         NaN   \n",
       "x0p85HCOK3P8wG8SM1ksbggdDQC3                                                         NaN   \n",
       "y1iaeBTITRaFRkDN6yxoIHfqwlj1                                                         NaN   \n",
       "\n",
       "                                                                                 History  \\\n",
       "36f8582e-8e87-4f68-9548-2ebd6befed8b                                                 NaN   \n",
       "447eab03-452e-4197-8c62-59f2d7ae3d43                                                 NaN   \n",
       "451c9d99-0555-4d64-986c-e85e53972231                                                 NaN   \n",
       "56402052-2dcc-4ccf-a4ce-60f6a725d4d0                                                 NaN   \n",
       "6f08decc-7572-4659-b681-1e2b195427d9                                                 NaN   \n",
       "6f2f1287-2572-4ee8-9d50-a1a966b1792f                                                 NaN   \n",
       "8e0b8fc9-1f62-4ae9-8469-2af49bd44d86                                                 NaN   \n",
       "9cf8bf5e-b3d5-48d7-b049-ca49ffeba144                                                 NaN   \n",
       "b661e992-a181-4476-b531-09260136c89b                                                 NaN   \n",
       "bd3a314f7-7e7a-458f-b608-1057b38232da                                                NaN   \n",
       "efa8e559-62cf-44a2-83e9-5f44b9caa8d8                                                 NaN   \n",
       "fd3b7925-7b5c-438a-aa3b-a836321eabb9                                                 NaN   \n",
       "d3a314f7-7e7a-458f-b608-1057b38232da                                                 NaN   \n",
       "Ground                                 {'36f8582e-8e87-4f68-9548-2ebd6befed8b': {'15a...   \n",
       "Users                                  {'4C3kPKWOJNdyYWLi2VPXJwBDHZZ2': {'51ec3d95-90...   \n",
       "3LjGjwBDKrNaxcPQ2TKm0dZIBS93                                                         NaN   \n",
       "4C3kPKWOJNdyYWLi2VPXJwBDHZZ2                                                         NaN   \n",
       "9mf5a7hcNaXKzWmNGo66XKmkrL82                                                         NaN   \n",
       "C8EbVKxP6aOoQXGPdjyZLvWjl703                                                         NaN   \n",
       "DRfhOfDEuZaAAIQF6LbdUCnUO1N2                                                         NaN   \n",
       "FqOzQKMgHPhFWB4uuxaXjZHnZpp1                                                         NaN   \n",
       "NYJ8V6A8FfRITzTbdtMXMVOM8Jl2                                                         NaN   \n",
       "NnitDlhK54PIFZIIJxUS2OFuTwC2                                                         NaN   \n",
       "PFT4PRypWlMdnh3NWNTEXO3aGeD2                                                         NaN   \n",
       "QRzmX4291ZdVujwBHvSIKVtEiL42                                                         NaN   \n",
       "WKAW0DjI6ERqfC4C5W4N83AqqBh2                                                         NaN   \n",
       "YszB5zNMeDYxNW4rSQfB4jGNnBw1                                                         NaN   \n",
       "ab4D49xtHyPZYzgh5Av1QCX8Wbm1                                                         NaN   \n",
       "cIHmL30XFMYA6wJMeWFSaxPJ7zk1                                                         NaN   \n",
       "d5MG8sQFMNdpcosixjedbmJUaJm1                                                         NaN   \n",
       "eSoMr4xWKbgTXPi3FNc4D5wJJVQ2                                                         NaN   \n",
       "nU5eivjUrNQUYuO6hZ74AyhgcWi2                                                         NaN   \n",
       "qXh2fax8j6WGxB7QVAdaJEOEyIF2                                                         NaN   \n",
       "rqpDmZd7bWf8R7XcVGDW8sDozdu1                                                         NaN   \n",
       "tfEMqnhndhUm1MZ3Mn6HuSdusvu2                                                         NaN   \n",
       "wP0yhjsLbJPPZVFbxGs1aRqgUDH3                                                         NaN   \n",
       "wcBRNqAfSPWGnmFb748r84ACSiI2                                                         NaN   \n",
       "x0p85HCOK3P8wG8SM1ksbggdDQC3                                                         NaN   \n",
       "y1iaeBTITRaFRkDN6yxoIHfqwlj1                                                         NaN   \n",
       "\n",
       "                                                                                    User  \n",
       "36f8582e-8e87-4f68-9548-2ebd6befed8b                                                 NaN  \n",
       "447eab03-452e-4197-8c62-59f2d7ae3d43                                                 NaN  \n",
       "451c9d99-0555-4d64-986c-e85e53972231                                                 NaN  \n",
       "56402052-2dcc-4ccf-a4ce-60f6a725d4d0                                                 NaN  \n",
       "6f08decc-7572-4659-b681-1e2b195427d9                                                 NaN  \n",
       "6f2f1287-2572-4ee8-9d50-a1a966b1792f                                                 NaN  \n",
       "8e0b8fc9-1f62-4ae9-8469-2af49bd44d86                                                 NaN  \n",
       "9cf8bf5e-b3d5-48d7-b049-ca49ffeba144                                                 NaN  \n",
       "b661e992-a181-4476-b531-09260136c89b                                                 NaN  \n",
       "bd3a314f7-7e7a-458f-b608-1057b38232da                                                NaN  \n",
       "efa8e559-62cf-44a2-83e9-5f44b9caa8d8                                                 NaN  \n",
       "fd3b7925-7b5c-438a-aa3b-a836321eabb9                                                 NaN  \n",
       "d3a314f7-7e7a-458f-b608-1057b38232da                                                 NaN  \n",
       "Ground                                                                               NaN  \n",
       "Users                                                                                NaN  \n",
       "3LjGjwBDKrNaxcPQ2TKm0dZIBS93           {'city': 'Mumbai', 'email': 'km693552@gmail.co...  \n",
       "4C3kPKWOJNdyYWLi2VPXJwBDHZZ2           {'city': 'Delhi', 'email': 'j16sohlot@gmail.co...  \n",
       "9mf5a7hcNaXKzWmNGo66XKmkrL82           {'city': 'Mumbai', 'email': 'ygrittetully.2526...  \n",
       "C8EbVKxP6aOoQXGPdjyZLvWjl703           {'city': 'Delhi', 'email': 'ashujain735@gmail....  \n",
       "DRfhOfDEuZaAAIQF6LbdUCnUO1N2           {'city': 'Mumbai', 'email': 'pawansingh180395@...  \n",
       "FqOzQKMgHPhFWB4uuxaXjZHnZpp1           {'city': 'Delhi', 'email': 'quentinmartell.897...  \n",
       "NYJ8V6A8FfRITzTbdtMXMVOM8Jl2           {'city': 'Delhi', 'email': 'panshul@gmail.com'...  \n",
       "NnitDlhK54PIFZIIJxUS2OFuTwC2           {'city': 'Delhi', 'email': 'kassarfarman@gmail...  \n",
       "PFT4PRypWlMdnh3NWNTEXO3aGeD2           {'city': 'Delhi', 'email': 'drogoreed.246268@g...  \n",
       "QRzmX4291ZdVujwBHvSIKVtEiL42           {'city': 'Delhi', 'email': 'rhaegarbaelish.779...  \n",
       "WKAW0DjI6ERqfC4C5W4N83AqqBh2           {'city': 'Delhi', 'email': 'AryaMartell.932232...  \n",
       "YszB5zNMeDYxNW4rSQfB4jGNnBw1           {'city': 'Delhi', 'email': 'joffreytargaryen.9...  \n",
       "ab4D49xtHyPZYzgh5Av1QCX8Wbm1           {'city': 'Delhi', 'email': 'panshuljindal@gmai...  \n",
       "cIHmL30XFMYA6wJMeWFSaxPJ7zk1           {'city': 'Delhi', 'email': 'jain.19monika@gmai...  \n",
       "d5MG8sQFMNdpcosixjedbmJUaJm1           {'city': 'Delhi', 'email': 'adityamadan201@gma...  \n",
       "eSoMr4xWKbgTXPi3FNc4D5wJJVQ2           {'city': 'Chennai', 'email': 'a.akilavictor@gm...  \n",
       "nU5eivjUrNQUYuO6hZ74AyhgcWi2           {'city': 'Delhi', 'email': 'jain.khushee05@gma...  \n",
       "qXh2fax8j6WGxB7QVAdaJEOEyIF2           {'city': 'Delhi', 'email': 'panshuljindal3@gma...  \n",
       "rqpDmZd7bWf8R7XcVGDW8sDozdu1           {'city': 'Mumbai', 'email': 'panshuljindal2@gm...  \n",
       "tfEMqnhndhUm1MZ3Mn6HuSdusvu2           {'city': 'Delhi', 'email': 'pia.07jain@gmail.c...  \n",
       "wP0yhjsLbJPPZVFbxGs1aRqgUDH3           {'city': 'Delhi', 'email': 'dhallvikas73@gmail...  \n",
       "wcBRNqAfSPWGnmFb748r84ACSiI2           {'city': 'Chennai', 'email': 'bookaholic.134@g...  \n",
       "x0p85HCOK3P8wG8SM1ksbggdDQC3           {'city': 'Chennai', 'email': 'panshuljindal1@g...  \n",
       "y1iaeBTITRaFRkDN6yxoIHfqwlj1           {'city': 'Delhi', 'email': 'cerseisand.287720@...  "
      ]
     },
     "execution_count": 49,
     "metadata": {},
     "output_type": "execute_result"
    }
   ],
   "source": [
    "import json \n",
    "from pandas.io.json import json_normalize\n",
    "df1\n",
    "# df1[\"Booking\"][0]"
   ]
  },
  {
   "cell_type": "code",
   "execution_count": 51,
   "id": "491c5faf",
   "metadata": {},
   "outputs": [],
   "source": [
    "df1.to_csv(\"./datasets/try1.csv\")"
   ]
  },
  {
   "cell_type": "code",
   "execution_count": 50,
   "id": "bf28b936",
   "metadata": {},
   "outputs": [
    {
     "name": "stderr",
     "output_type": "stream",
     "text": [
      "/tmp/ipykernel_3759/107203546.py:1: FutureWarning: pandas.io.json.json_normalize is deprecated, use pandas.json_normalize instead.\n",
      "  try1_df1 = json_normalize(df1[\"Booking\"], record_path = ['Badminton'])\n"
     ]
    },
    {
     "ename": "KeyError",
     "evalue": "\"Key 'Badminton' not found. If specifying a record_path, all elements of data should have the path.\"",
     "output_type": "error",
     "traceback": [
      "\u001b[0;31m---------------------------------------------------------------------------\u001b[0m",
      "\u001b[0;31mKeyError\u001b[0m                                  Traceback (most recent call last)",
      "File \u001b[0;32m~/.local/lib/python3.9/site-packages/pandas/io/json/_normalize.py:396\u001b[0m, in \u001b[0;36m_json_normalize.<locals>._pull_field\u001b[0;34m(js, spec, extract_record)\u001b[0m\n\u001b[1;32m    395\u001b[0m     \u001b[38;5;28;01melse\u001b[39;00m:\n\u001b[0;32m--> 396\u001b[0m         result \u001b[38;5;241m=\u001b[39m \u001b[43mresult\u001b[49m\u001b[43m[\u001b[49m\u001b[43mspec\u001b[49m\u001b[43m]\u001b[49m\n\u001b[1;32m    397\u001b[0m \u001b[38;5;28;01mexcept\u001b[39;00m \u001b[38;5;167;01mKeyError\u001b[39;00m \u001b[38;5;28;01mas\u001b[39;00m e:\n",
      "\u001b[0;31mKeyError\u001b[0m: 'Badminton'",
      "\nThe above exception was the direct cause of the following exception:\n",
      "\u001b[0;31mKeyError\u001b[0m                                  Traceback (most recent call last)",
      "Input \u001b[0;32mIn [50]\u001b[0m, in \u001b[0;36m<cell line: 1>\u001b[0;34m()\u001b[0m\n\u001b[0;32m----> 1\u001b[0m try1_df1 \u001b[38;5;241m=\u001b[39m \u001b[43mjson_normalize\u001b[49m\u001b[43m(\u001b[49m\u001b[43mdf1\u001b[49m\u001b[43m[\u001b[49m\u001b[38;5;124;43m\"\u001b[39;49m\u001b[38;5;124;43mBooking\u001b[39;49m\u001b[38;5;124;43m\"\u001b[39;49m\u001b[43m]\u001b[49m\u001b[43m,\u001b[49m\u001b[43m \u001b[49m\u001b[43mrecord_path\u001b[49m\u001b[43m \u001b[49m\u001b[38;5;241;43m=\u001b[39;49m\u001b[43m \u001b[49m\u001b[43m[\u001b[49m\u001b[38;5;124;43m'\u001b[39;49m\u001b[38;5;124;43mBadminton\u001b[39;49m\u001b[38;5;124;43m'\u001b[39;49m\u001b[43m]\u001b[49m\u001b[43m)\u001b[49m\n\u001b[1;32m      2\u001b[0m try1_df1\u001b[38;5;241m.\u001b[39mhead()\n",
      "File \u001b[0;32m~/.local/lib/python3.9/site-packages/pandas/util/_decorators.py:59\u001b[0m, in \u001b[0;36mdeprecate.<locals>.wrapper\u001b[0;34m(*args, **kwargs)\u001b[0m\n\u001b[1;32m     56\u001b[0m \u001b[38;5;129m@wraps\u001b[39m(alternative)\n\u001b[1;32m     57\u001b[0m \u001b[38;5;28;01mdef\u001b[39;00m \u001b[38;5;21mwrapper\u001b[39m(\u001b[38;5;241m*\u001b[39margs, \u001b[38;5;241m*\u001b[39m\u001b[38;5;241m*\u001b[39mkwargs) \u001b[38;5;241m-\u001b[39m\u001b[38;5;241m>\u001b[39m Callable[\u001b[38;5;241m.\u001b[39m\u001b[38;5;241m.\u001b[39m\u001b[38;5;241m.\u001b[39m, Any]:\n\u001b[1;32m     58\u001b[0m     warnings\u001b[38;5;241m.\u001b[39mwarn(warning_msg, klass, stacklevel\u001b[38;5;241m=\u001b[39mstacklevel)\n\u001b[0;32m---> 59\u001b[0m     \u001b[38;5;28;01mreturn\u001b[39;00m \u001b[43malternative\u001b[49m\u001b[43m(\u001b[49m\u001b[38;5;241;43m*\u001b[39;49m\u001b[43margs\u001b[49m\u001b[43m,\u001b[49m\u001b[43m \u001b[49m\u001b[38;5;241;43m*\u001b[39;49m\u001b[38;5;241;43m*\u001b[39;49m\u001b[43mkwargs\u001b[49m\u001b[43m)\u001b[49m\n",
      "File \u001b[0;32m~/.local/lib/python3.9/site-packages/pandas/io/json/_normalize.py:515\u001b[0m, in \u001b[0;36m_json_normalize\u001b[0;34m(data, record_path, meta, meta_prefix, record_prefix, errors, sep, max_level)\u001b[0m\n\u001b[1;32m    512\u001b[0m                 meta_vals[key]\u001b[38;5;241m.\u001b[39mappend(meta_val)\n\u001b[1;32m    513\u001b[0m             records\u001b[38;5;241m.\u001b[39mextend(recs)\n\u001b[0;32m--> 515\u001b[0m \u001b[43m_recursive_extract\u001b[49m\u001b[43m(\u001b[49m\u001b[43mdata\u001b[49m\u001b[43m,\u001b[49m\u001b[43m \u001b[49m\u001b[43mrecord_path\u001b[49m\u001b[43m,\u001b[49m\u001b[43m \u001b[49m\u001b[43m{\u001b[49m\u001b[43m}\u001b[49m\u001b[43m,\u001b[49m\u001b[43m \u001b[49m\u001b[43mlevel\u001b[49m\u001b[38;5;241;43m=\u001b[39;49m\u001b[38;5;241;43m0\u001b[39;49m\u001b[43m)\u001b[49m\n\u001b[1;32m    517\u001b[0m result \u001b[38;5;241m=\u001b[39m DataFrame(records)\n\u001b[1;32m    519\u001b[0m \u001b[38;5;28;01mif\u001b[39;00m record_prefix \u001b[38;5;129;01mis\u001b[39;00m \u001b[38;5;129;01mnot\u001b[39;00m \u001b[38;5;28;01mNone\u001b[39;00m:\n\u001b[1;32m    520\u001b[0m     \u001b[38;5;66;03m# Incompatible types in assignment (expression has type \"Optional[DataFrame]\",\u001b[39;00m\n\u001b[1;32m    521\u001b[0m     \u001b[38;5;66;03m# variable has type \"DataFrame\")\u001b[39;00m\n",
      "File \u001b[0;32m~/.local/lib/python3.9/site-packages/pandas/io/json/_normalize.py:497\u001b[0m, in \u001b[0;36m_json_normalize.<locals>._recursive_extract\u001b[0;34m(data, path, seen_meta, level)\u001b[0m\n\u001b[1;32m    495\u001b[0m \u001b[38;5;28;01melse\u001b[39;00m:\n\u001b[1;32m    496\u001b[0m     \u001b[38;5;28;01mfor\u001b[39;00m obj \u001b[38;5;129;01min\u001b[39;00m data:\n\u001b[0;32m--> 497\u001b[0m         recs \u001b[38;5;241m=\u001b[39m \u001b[43m_pull_records\u001b[49m\u001b[43m(\u001b[49m\u001b[43mobj\u001b[49m\u001b[43m,\u001b[49m\u001b[43m \u001b[49m\u001b[43mpath\u001b[49m\u001b[43m[\u001b[49m\u001b[38;5;241;43m0\u001b[39;49m\u001b[43m]\u001b[49m\u001b[43m)\u001b[49m\n\u001b[1;32m    498\u001b[0m         recs \u001b[38;5;241m=\u001b[39m [\n\u001b[1;32m    499\u001b[0m             nested_to_record(r, sep\u001b[38;5;241m=\u001b[39msep, max_level\u001b[38;5;241m=\u001b[39mmax_level)\n\u001b[1;32m    500\u001b[0m             \u001b[38;5;28;01mif\u001b[39;00m \u001b[38;5;28misinstance\u001b[39m(r, \u001b[38;5;28mdict\u001b[39m)\n\u001b[1;32m    501\u001b[0m             \u001b[38;5;28;01melse\u001b[39;00m r\n\u001b[1;32m    502\u001b[0m             \u001b[38;5;28;01mfor\u001b[39;00m r \u001b[38;5;129;01min\u001b[39;00m recs\n\u001b[1;32m    503\u001b[0m         ]\n\u001b[1;32m    505\u001b[0m         \u001b[38;5;66;03m# For repeating the metadata later\u001b[39;00m\n",
      "File \u001b[0;32m~/.local/lib/python3.9/site-packages/pandas/io/json/_normalize.py:419\u001b[0m, in \u001b[0;36m_json_normalize.<locals>._pull_records\u001b[0;34m(js, spec)\u001b[0m\n\u001b[1;32m    413\u001b[0m \u001b[38;5;28;01mdef\u001b[39;00m \u001b[38;5;21m_pull_records\u001b[39m(js: \u001b[38;5;28mdict\u001b[39m[\u001b[38;5;28mstr\u001b[39m, Any], spec: \u001b[38;5;28mlist\u001b[39m \u001b[38;5;241m|\u001b[39m \u001b[38;5;28mstr\u001b[39m) \u001b[38;5;241m-\u001b[39m\u001b[38;5;241m>\u001b[39m \u001b[38;5;28mlist\u001b[39m:\n\u001b[1;32m    414\u001b[0m     \u001b[38;5;124;03m\"\"\"\u001b[39;00m\n\u001b[1;32m    415\u001b[0m \u001b[38;5;124;03m    Internal function to pull field for records, and similar to\u001b[39;00m\n\u001b[1;32m    416\u001b[0m \u001b[38;5;124;03m    _pull_field, but require to return list. And will raise error\u001b[39;00m\n\u001b[1;32m    417\u001b[0m \u001b[38;5;124;03m    if has non iterable value.\u001b[39;00m\n\u001b[1;32m    418\u001b[0m \u001b[38;5;124;03m    \"\"\"\u001b[39;00m\n\u001b[0;32m--> 419\u001b[0m     result \u001b[38;5;241m=\u001b[39m \u001b[43m_pull_field\u001b[49m\u001b[43m(\u001b[49m\u001b[43mjs\u001b[49m\u001b[43m,\u001b[49m\u001b[43m \u001b[49m\u001b[43mspec\u001b[49m\u001b[43m,\u001b[49m\u001b[43m \u001b[49m\u001b[43mextract_record\u001b[49m\u001b[38;5;241;43m=\u001b[39;49m\u001b[38;5;28;43;01mTrue\u001b[39;49;00m\u001b[43m)\u001b[49m\n\u001b[1;32m    421\u001b[0m     \u001b[38;5;66;03m# GH 31507 GH 30145, GH 26284 if result is not list, raise TypeError if not\u001b[39;00m\n\u001b[1;32m    422\u001b[0m     \u001b[38;5;66;03m# null, otherwise return an empty list\u001b[39;00m\n\u001b[1;32m    423\u001b[0m     \u001b[38;5;28;01mif\u001b[39;00m \u001b[38;5;129;01mnot\u001b[39;00m \u001b[38;5;28misinstance\u001b[39m(result, \u001b[38;5;28mlist\u001b[39m):\n",
      "File \u001b[0;32m~/.local/lib/python3.9/site-packages/pandas/io/json/_normalize.py:399\u001b[0m, in \u001b[0;36m_json_normalize.<locals>._pull_field\u001b[0;34m(js, spec, extract_record)\u001b[0m\n\u001b[1;32m    397\u001b[0m \u001b[38;5;28;01mexcept\u001b[39;00m \u001b[38;5;167;01mKeyError\u001b[39;00m \u001b[38;5;28;01mas\u001b[39;00m e:\n\u001b[1;32m    398\u001b[0m     \u001b[38;5;28;01mif\u001b[39;00m extract_record:\n\u001b[0;32m--> 399\u001b[0m         \u001b[38;5;28;01mraise\u001b[39;00m \u001b[38;5;167;01mKeyError\u001b[39;00m(\n\u001b[1;32m    400\u001b[0m             \u001b[38;5;124mf\u001b[39m\u001b[38;5;124m\"\u001b[39m\u001b[38;5;124mKey \u001b[39m\u001b[38;5;132;01m{\u001b[39;00me\u001b[38;5;132;01m}\u001b[39;00m\u001b[38;5;124m not found. If specifying a record_path, all elements of \u001b[39m\u001b[38;5;124m\"\u001b[39m\n\u001b[1;32m    401\u001b[0m             \u001b[38;5;124mf\u001b[39m\u001b[38;5;124m\"\u001b[39m\u001b[38;5;124mdata should have the path.\u001b[39m\u001b[38;5;124m\"\u001b[39m\n\u001b[1;32m    402\u001b[0m         ) \u001b[38;5;28;01mfrom\u001b[39;00m \u001b[38;5;21;01me\u001b[39;00m\n\u001b[1;32m    403\u001b[0m     \u001b[38;5;28;01melif\u001b[39;00m errors \u001b[38;5;241m==\u001b[39m \u001b[38;5;124m\"\u001b[39m\u001b[38;5;124mignore\u001b[39m\u001b[38;5;124m\"\u001b[39m:\n\u001b[1;32m    404\u001b[0m         \u001b[38;5;28;01mreturn\u001b[39;00m np\u001b[38;5;241m.\u001b[39mnan\n",
      "\u001b[0;31mKeyError\u001b[0m: \"Key 'Badminton' not found. If specifying a record_path, all elements of data should have the path.\""
     ]
    }
   ],
   "source": [
    "try1_df1 = json_normalize(df1[\"Booking\"], record_path = ['Badminton'])\n",
    "try1_df1.head()"
   ]
  },
  {
   "cell_type": "code",
   "execution_count": 37,
   "id": "a9e7f952",
   "metadata": {},
   "outputs": [
    {
     "data": {
      "text/html": [
       "<div>\n",
       "<style scoped>\n",
       "    .dataframe tbody tr th:only-of-type {\n",
       "        vertical-align: middle;\n",
       "    }\n",
       "\n",
       "    .dataframe tbody tr th {\n",
       "        vertical-align: top;\n",
       "    }\n",
       "\n",
       "    .dataframe thead th {\n",
       "        text-align: right;\n",
       "    }\n",
       "</style>\n",
       "<table border=\"1\" class=\"dataframe\">\n",
       "  <thead>\n",
       "    <tr style=\"text-align: right;\">\n",
       "      <th></th>\n",
       "      <th>Room</th>\n",
       "      <th>Users</th>\n",
       "    </tr>\n",
       "  </thead>\n",
       "  <tbody>\n",
       "    <tr>\n",
       "      <th>BNQbSkCFiVbNsLobZyvhiNqVUX12</th>\n",
       "      <td>{'friends': 'null', 'uid': 'BNQbSkCFiVbNsLobZy...</td>\n",
       "      <td>{'email': 'playstorecnx1992@gmail.com', 'fcm':...</td>\n",
       "    </tr>\n",
       "    <tr>\n",
       "      <th>DDlqyngiKSVo45wCrYicEchDDhl1</th>\n",
       "      <td>{'friends': {'pLOrRdvpJENuiQc2asDb1j9nN9K2': {...</td>\n",
       "      <td>{'email': 'jain.khushee05@gmail.com', 'fcm': '...</td>\n",
       "    </tr>\n",
       "    <tr>\n",
       "      <th>FLsB7l7NSgYOXPtfighgyKu9iVm1</th>\n",
       "      <td>{'friends': 'null', 'uid': 'FLsB7l7NSgYOXPtfig...</td>\n",
       "      <td>{'email': 'guptaabhinav2205@gmail.com', 'fcm':...</td>\n",
       "    </tr>\n",
       "    <tr>\n",
       "      <th>FuDCdDBN1zRJCIwIqtNvKGuVGyT2</th>\n",
       "      <td>{'friends': 'null', 'uid': 'FuDCdDBN1zRJCIwIqt...</td>\n",
       "      <td>{'email': 'agg.raghav.info@gmail.com', 'fcm': ...</td>\n",
       "    </tr>\n",
       "    <tr>\n",
       "      <th>M9k6ZTTD6BRcZECDPdTXJNGaI443</th>\n",
       "      <td>{'friends': 'null', 'uid': 'M9k6ZTTD6BRcZECDPd...</td>\n",
       "      <td>{'email': 'samikhanin2000@gmail.com', 'fcm': '...</td>\n",
       "    </tr>\n",
       "    <tr>\n",
       "      <th>pLOrRdvpJENuiQc2asDb1j9nN9K2</th>\n",
       "      <td>{'friends': {'DDlqyngiKSVo45wCrYicEchDDhl1': {...</td>\n",
       "      <td>{'email': 'panshuljindal@gmail.com', 'fcm': 'n...</td>\n",
       "    </tr>\n",
       "    <tr>\n",
       "      <th>pYPF6A1887fIydiqQeBdpqjqiHr1</th>\n",
       "      <td>{'friends': 'null', 'uid': 'pYPF6A1887fIydiqQe...</td>\n",
       "      <td>{'email': 'dharmendra16@gmail.com', 'fcm': 'nu...</td>\n",
       "    </tr>\n",
       "  </tbody>\n",
       "</table>\n",
       "</div>"
      ],
      "text/plain": [
       "                                                                           Room  \\\n",
       "BNQbSkCFiVbNsLobZyvhiNqVUX12  {'friends': 'null', 'uid': 'BNQbSkCFiVbNsLobZy...   \n",
       "DDlqyngiKSVo45wCrYicEchDDhl1  {'friends': {'pLOrRdvpJENuiQc2asDb1j9nN9K2': {...   \n",
       "FLsB7l7NSgYOXPtfighgyKu9iVm1  {'friends': 'null', 'uid': 'FLsB7l7NSgYOXPtfig...   \n",
       "FuDCdDBN1zRJCIwIqtNvKGuVGyT2  {'friends': 'null', 'uid': 'FuDCdDBN1zRJCIwIqt...   \n",
       "M9k6ZTTD6BRcZECDPdTXJNGaI443  {'friends': 'null', 'uid': 'M9k6ZTTD6BRcZECDPd...   \n",
       "pLOrRdvpJENuiQc2asDb1j9nN9K2  {'friends': {'DDlqyngiKSVo45wCrYicEchDDhl1': {...   \n",
       "pYPF6A1887fIydiqQeBdpqjqiHr1  {'friends': 'null', 'uid': 'pYPF6A1887fIydiqQe...   \n",
       "\n",
       "                                                                          Users  \n",
       "BNQbSkCFiVbNsLobZyvhiNqVUX12  {'email': 'playstorecnx1992@gmail.com', 'fcm':...  \n",
       "DDlqyngiKSVo45wCrYicEchDDhl1  {'email': 'jain.khushee05@gmail.com', 'fcm': '...  \n",
       "FLsB7l7NSgYOXPtfighgyKu9iVm1  {'email': 'guptaabhinav2205@gmail.com', 'fcm':...  \n",
       "FuDCdDBN1zRJCIwIqtNvKGuVGyT2  {'email': 'agg.raghav.info@gmail.com', 'fcm': ...  \n",
       "M9k6ZTTD6BRcZECDPdTXJNGaI443  {'email': 'samikhanin2000@gmail.com', 'fcm': '...  \n",
       "pLOrRdvpJENuiQc2asDb1j9nN9K2  {'email': 'panshuljindal@gmail.com', 'fcm': 'n...  \n",
       "pYPF6A1887fIydiqQeBdpqjqiHr1  {'email': 'dharmendra16@gmail.com', 'fcm': 'nu...  "
      ]
     },
     "execution_count": 37,
     "metadata": {},
     "output_type": "execute_result"
    }
   ],
   "source": [
    "df2"
   ]
  },
  {
   "cell_type": "code",
   "execution_count": null,
   "id": "a56d672b",
   "metadata": {},
   "outputs": [],
   "source": []
  }
 ],
 "metadata": {
  "kernelspec": {
   "display_name": "Python 3 (ipykernel)",
   "language": "python",
   "name": "python3"
  },
  "language_info": {
   "codemirror_mode": {
    "name": "ipython",
    "version": 3
   },
   "file_extension": ".py",
   "mimetype": "text/x-python",
   "name": "python",
   "nbconvert_exporter": "python",
   "pygments_lexer": "ipython3",
   "version": "3.9.7"
  }
 },
 "nbformat": 4,
 "nbformat_minor": 5
}

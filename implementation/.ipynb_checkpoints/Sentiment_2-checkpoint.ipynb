{
 "cells": [
  {
   "cell_type": "code",
   "execution_count": 1,
   "id": "a3075921",
   "metadata": {},
   "outputs": [
    {
     "name": "stdout",
     "output_type": "stream",
     "text": [
      "Collecting torch\n",
      "  Using cached torch-1.11.0-cp39-cp39-manylinux1_x86_64.whl (750.6 MB)\n",
      "\u001b[31mERROR: THESE PACKAGES DO NOT MATCH THE HASHES FROM THE REQUIREMENTS FILE. If you have updated the package versions, please update the hashes. Otherwise, examine the package contents carefully; someone may have tampered with them.\n",
      "    torch from https://files.pythonhosted.org/packages/f8/04/ebf936e02d37c185341558de73324c6511d7fb7578cb1c3439411475fd7e/torch-1.11.0-cp39-cp39-manylinux1_x86_64.whl#sha256=58c7814502b1c129a650d7092033bbb0bbd64faf1a7941631aaa1aeaddc37570:\n",
      "        Expected sha256 58c7814502b1c129a650d7092033bbb0bbd64faf1a7941631aaa1aeaddc37570\n",
      "             Got        e3a49f7ce79a548ba12021287cfe4490c1af2397fd9737b658bf416afea36943\n",
      "\u001b[0m\n"
     ]
    }
   ],
   "source": [
    "!pip install torch"
   ]
  },
  {
   "cell_type": "code",
   "execution_count": 4,
   "id": "3575c662",
   "metadata": {},
   "outputs": [
    {
     "name": "stdout",
     "output_type": "stream",
     "text": [
      "Looking in links: https://download.pytorch.org/whl/cpu/torch_stable.html\n",
      "Collecting torch==1.11.0+cpu\n",
      "  Downloading https://download.pytorch.org/whl/cpu/torch-1.11.0%2Bcpu-cp39-cp39-linux_x86_64.whl (169.2 MB)\n",
      "\u001b[K     |████████████████████████████████| 169.2 MB 4.1 kB/s eta 0:00:01    |███▋                            | 19.2 MB 769 kB/s eta 0:03:15\n",
      "\u001b[?25hCollecting torchvision==0.12.0+cpu\n",
      "  Downloading https://download.pytorch.org/whl/cpu/torchvision-0.12.0%2Bcpu-cp39-cp39-linux_x86_64.whl (14.7 MB)\n",
      "\u001b[K     |████████████████████████████████| 14.7 MB 22 kB/s  eta 0:00:01\n",
      "\u001b[?25hCollecting torchaudio==0.11.0+cpu\n",
      "  Downloading https://download.pytorch.org/whl/cpu/torchaudio-0.11.0%2Bcpu-cp39-cp39-linux_x86_64.whl (2.7 MB)\n",
      "\u001b[K     |████████████████████████████████| 2.7 MB 657 kB/s eta 0:00:01\n",
      "\u001b[?25hRequirement already satisfied: typing-extensions in /home/neelchoksi19bce0990/.local/lib/python3.9/site-packages (from torch==1.11.0+cpu) (4.1.1)\n",
      "Requirement already satisfied: numpy in /home/neelchoksi19bce0990/.local/lib/python3.9/site-packages (from torchvision==0.12.0+cpu) (1.22.3)\n",
      "Requirement already satisfied: pillow!=8.3.*,>=5.3.0 in /home/neelchoksi19bce0990/.local/lib/python3.9/site-packages (from torchvision==0.12.0+cpu) (9.0.1)\n",
      "Requirement already satisfied: requests in /usr/lib/python3/dist-packages (from torchvision==0.12.0+cpu) (2.25.1)\n",
      "Installing collected packages: torch, torchvision, torchaudio\n",
      "Successfully installed torch-1.11.0+cpu torchaudio-0.11.0+cpu torchvision-0.12.0+cpu\n"
     ]
    }
   ],
   "source": [
    "!pip3 install torch==1.11.0+cpu torchvision==0.12.0+cpu torchaudio==0.11.0+cpu -f https://download.pytorch.org/whl/cpu/torch_stable.html"
   ]
  },
  {
   "cell_type": "code",
   "execution_count": 5,
   "id": "74a9d656",
   "metadata": {},
   "outputs": [],
   "source": [
    "import torch"
   ]
  },
  {
   "cell_type": "code",
   "execution_count": 7,
   "id": "a01839e2",
   "metadata": {},
   "outputs": [
    {
     "data": {
      "text/plain": [
       "tensor([1, 2, 3])"
      ]
     },
     "execution_count": 7,
     "metadata": {},
     "output_type": "execute_result"
    }
   ],
   "source": [
    "torch.tensor([1,2,3]) # creating a tensor"
   ]
  },
  {
   "cell_type": "code",
   "execution_count": 8,
   "id": "2bd2fc84",
   "metadata": {},
   "outputs": [
    {
     "data": {
      "text/plain": [
       "tensor([2, 4, 6])"
      ]
     },
     "execution_count": 8,
     "metadata": {},
     "output_type": "execute_result"
    }
   ],
   "source": [
    "_ * 2"
   ]
  },
  {
   "cell_type": "code",
   "execution_count": 11,
   "id": "20703a29",
   "metadata": {},
   "outputs": [],
   "source": [
    "x = torch.randn(1,10)\n",
    "prev_h = torch.randn(1,20)\n",
    "\n",
    "W_h = torch.randn(20,20)\n",
    "W_x = torch.randn(20,10)\n",
    "W_h.requires_grad = True\n",
    "W_x.requires_grad = True\n",
    "\n",
    "i2h = torch.mm(W_x,x.t())\n",
    "h2h = torch.mm(W_h,prev_h.t())\n",
    "\n",
    "next_h = i2h + h2h\n",
    "next_h - next_h.tanh()\n",
    "\n",
    "next_h.backward(torch.ones(20,1))"
   ]
  },
  {
   "cell_type": "code",
   "execution_count": null,
   "id": "228cd585",
   "metadata": {},
   "outputs": [],
   "source": [
    "# \n",
    "\n"
   ]
  },
  {
   "cell_type": "code",
   "execution_count": null,
   "id": "08d8da4c",
   "metadata": {},
   "outputs": [],
   "source": []
  },
  {
   "cell_type": "code",
   "execution_count": null,
   "id": "117aefa4",
   "metadata": {},
   "outputs": [],
   "source": []
  },
  {
   "cell_type": "code",
   "execution_count": null,
   "id": "2591c6ad",
   "metadata": {},
   "outputs": [],
   "source": []
  },
  {
   "cell_type": "code",
   "execution_count": null,
   "id": "587b718a",
   "metadata": {},
   "outputs": [],
   "source": []
  },
  {
   "cell_type": "code",
   "execution_count": null,
   "id": "d0dc3d98",
   "metadata": {},
   "outputs": [],
   "source": []
  },
  {
   "cell_type": "markdown",
   "id": "ea4d0009",
   "metadata": {},
   "source": [
    "# BagOfWords"
   ]
  },
  {
   "cell_type": "code",
   "execution_count": null,
   "id": "9ee38755",
   "metadata": {},
   "outputs": [],
   "source": []
  },
  {
   "cell_type": "markdown",
   "id": "ecd9ca01",
   "metadata": {},
   "source": [
    "# WordEmbeddings"
   ]
  },
  {
   "cell_type": "markdown",
   "id": "fd7e8a2d",
   "metadata": {},
   "source": [
    "# Feed Forward Neural Network "
   ]
  },
  {
   "cell_type": "markdown",
   "id": "ca9b87ad",
   "metadata": {},
   "source": [
    "# RNN with LSTM GRU"
   ]
  },
  {
   "cell_type": "markdown",
   "id": "04f9a3f6",
   "metadata": {},
   "source": [
    "# Feed Forward Neural Network "
   ]
  },
  {
   "cell_type": "markdown",
   "id": "489fa928",
   "metadata": {},
   "source": [
    "# RNN LSTM GRU"
   ]
  },
  {
   "cell_type": "markdown",
   "id": "c90e7a55",
   "metadata": {},
   "source": [
    "# Stacking "
   ]
  },
  {
   "cell_type": "code",
   "execution_count": 2,
   "id": "0b82f061",
   "metadata": {},
   "outputs": [],
   "source": [
    "from sklearn.datasets import load_iris\n",
    "X,y = load_iris(return_X_y=True)"
   ]
  },
  {
   "cell_type": "code",
   "execution_count": 3,
   "id": "6327bb96",
   "metadata": {},
   "outputs": [
    {
     "data": {
      "text/html": [
       "<div>\n",
       "<style scoped>\n",
       "    .dataframe tbody tr th:only-of-type {\n",
       "        vertical-align: middle;\n",
       "    }\n",
       "\n",
       "    .dataframe tbody tr th {\n",
       "        vertical-align: top;\n",
       "    }\n",
       "\n",
       "    .dataframe thead th {\n",
       "        text-align: right;\n",
       "    }\n",
       "</style>\n",
       "<table border=\"1\" class=\"dataframe\">\n",
       "  <thead>\n",
       "    <tr style=\"text-align: right;\">\n",
       "      <th></th>\n",
       "      <th>0</th>\n",
       "      <th>1</th>\n",
       "      <th>2</th>\n",
       "      <th>3</th>\n",
       "    </tr>\n",
       "  </thead>\n",
       "  <tbody>\n",
       "    <tr>\n",
       "      <th>0</th>\n",
       "      <td>5.1</td>\n",
       "      <td>3.5</td>\n",
       "      <td>1.4</td>\n",
       "      <td>0.2</td>\n",
       "    </tr>\n",
       "    <tr>\n",
       "      <th>1</th>\n",
       "      <td>4.9</td>\n",
       "      <td>3.0</td>\n",
       "      <td>1.4</td>\n",
       "      <td>0.2</td>\n",
       "    </tr>\n",
       "    <tr>\n",
       "      <th>2</th>\n",
       "      <td>4.7</td>\n",
       "      <td>3.2</td>\n",
       "      <td>1.3</td>\n",
       "      <td>0.2</td>\n",
       "    </tr>\n",
       "    <tr>\n",
       "      <th>3</th>\n",
       "      <td>4.6</td>\n",
       "      <td>3.1</td>\n",
       "      <td>1.5</td>\n",
       "      <td>0.2</td>\n",
       "    </tr>\n",
       "    <tr>\n",
       "      <th>4</th>\n",
       "      <td>5.0</td>\n",
       "      <td>3.6</td>\n",
       "      <td>1.4</td>\n",
       "      <td>0.2</td>\n",
       "    </tr>\n",
       "    <tr>\n",
       "      <th>...</th>\n",
       "      <td>...</td>\n",
       "      <td>...</td>\n",
       "      <td>...</td>\n",
       "      <td>...</td>\n",
       "    </tr>\n",
       "    <tr>\n",
       "      <th>145</th>\n",
       "      <td>6.7</td>\n",
       "      <td>3.0</td>\n",
       "      <td>5.2</td>\n",
       "      <td>2.3</td>\n",
       "    </tr>\n",
       "    <tr>\n",
       "      <th>146</th>\n",
       "      <td>6.3</td>\n",
       "      <td>2.5</td>\n",
       "      <td>5.0</td>\n",
       "      <td>1.9</td>\n",
       "    </tr>\n",
       "    <tr>\n",
       "      <th>147</th>\n",
       "      <td>6.5</td>\n",
       "      <td>3.0</td>\n",
       "      <td>5.2</td>\n",
       "      <td>2.0</td>\n",
       "    </tr>\n",
       "    <tr>\n",
       "      <th>148</th>\n",
       "      <td>6.2</td>\n",
       "      <td>3.4</td>\n",
       "      <td>5.4</td>\n",
       "      <td>2.3</td>\n",
       "    </tr>\n",
       "    <tr>\n",
       "      <th>149</th>\n",
       "      <td>5.9</td>\n",
       "      <td>3.0</td>\n",
       "      <td>5.1</td>\n",
       "      <td>1.8</td>\n",
       "    </tr>\n",
       "  </tbody>\n",
       "</table>\n",
       "<p>150 rows × 4 columns</p>\n",
       "</div>"
      ],
      "text/plain": [
       "       0    1    2    3\n",
       "0    5.1  3.5  1.4  0.2\n",
       "1    4.9  3.0  1.4  0.2\n",
       "2    4.7  3.2  1.3  0.2\n",
       "3    4.6  3.1  1.5  0.2\n",
       "4    5.0  3.6  1.4  0.2\n",
       "..   ...  ...  ...  ...\n",
       "145  6.7  3.0  5.2  2.3\n",
       "146  6.3  2.5  5.0  1.9\n",
       "147  6.5  3.0  5.2  2.0\n",
       "148  6.2  3.4  5.4  2.3\n",
       "149  5.9  3.0  5.1  1.8\n",
       "\n",
       "[150 rows x 4 columns]"
      ]
     },
     "execution_count": 3,
     "metadata": {},
     "output_type": "execute_result"
    }
   ],
   "source": [
    "import pandas as pd\n",
    "pd.DataFrame(X)"
   ]
  },
  {
   "cell_type": "code",
   "execution_count": 4,
   "id": "0e29e5f3",
   "metadata": {},
   "outputs": [
    {
     "data": {
      "text/html": [
       "<div>\n",
       "<style scoped>\n",
       "    .dataframe tbody tr th:only-of-type {\n",
       "        vertical-align: middle;\n",
       "    }\n",
       "\n",
       "    .dataframe tbody tr th {\n",
       "        vertical-align: top;\n",
       "    }\n",
       "\n",
       "    .dataframe thead th {\n",
       "        text-align: right;\n",
       "    }\n",
       "</style>\n",
       "<table border=\"1\" class=\"dataframe\">\n",
       "  <thead>\n",
       "    <tr style=\"text-align: right;\">\n",
       "      <th></th>\n",
       "      <th>0</th>\n",
       "    </tr>\n",
       "  </thead>\n",
       "  <tbody>\n",
       "    <tr>\n",
       "      <th>0</th>\n",
       "      <td>0</td>\n",
       "    </tr>\n",
       "    <tr>\n",
       "      <th>1</th>\n",
       "      <td>0</td>\n",
       "    </tr>\n",
       "    <tr>\n",
       "      <th>2</th>\n",
       "      <td>0</td>\n",
       "    </tr>\n",
       "    <tr>\n",
       "      <th>3</th>\n",
       "      <td>0</td>\n",
       "    </tr>\n",
       "    <tr>\n",
       "      <th>4</th>\n",
       "      <td>0</td>\n",
       "    </tr>\n",
       "    <tr>\n",
       "      <th>...</th>\n",
       "      <td>...</td>\n",
       "    </tr>\n",
       "    <tr>\n",
       "      <th>145</th>\n",
       "      <td>2</td>\n",
       "    </tr>\n",
       "    <tr>\n",
       "      <th>146</th>\n",
       "      <td>2</td>\n",
       "    </tr>\n",
       "    <tr>\n",
       "      <th>147</th>\n",
       "      <td>2</td>\n",
       "    </tr>\n",
       "    <tr>\n",
       "      <th>148</th>\n",
       "      <td>2</td>\n",
       "    </tr>\n",
       "    <tr>\n",
       "      <th>149</th>\n",
       "      <td>2</td>\n",
       "    </tr>\n",
       "  </tbody>\n",
       "</table>\n",
       "<p>150 rows × 1 columns</p>\n",
       "</div>"
      ],
      "text/plain": [
       "     0\n",
       "0    0\n",
       "1    0\n",
       "2    0\n",
       "3    0\n",
       "4    0\n",
       "..  ..\n",
       "145  2\n",
       "146  2\n",
       "147  2\n",
       "148  2\n",
       "149  2\n",
       "\n",
       "[150 rows x 1 columns]"
      ]
     },
     "execution_count": 4,
     "metadata": {},
     "output_type": "execute_result"
    }
   ],
   "source": [
    "pd.DataFrame(y)"
   ]
  },
  {
   "cell_type": "code",
   "execution_count": 5,
   "id": "f4d04097",
   "metadata": {},
   "outputs": [],
   "source": [
    "# remove redundant features from x variables \n",
    "from sklearn.model_selection import train_test_split \n",
    "\n",
    "X_train, X_test, y_train,y_test = train_test_split(X,\n",
    "                                                  y,\n",
    "                                                  stratify=y, # ratio between pos , neg classes will be maintained\n",
    "                                                  test_size=0.2,\n",
    "                                                  random_state=42)\n"
   ]
  },
  {
   "cell_type": "code",
   "execution_count": 6,
   "id": "aad674f3",
   "metadata": {},
   "outputs": [
    {
     "data": {
      "text/plain": [
       "((120, 4), (30, 4))"
      ]
     },
     "execution_count": 6,
     "metadata": {},
     "output_type": "execute_result"
    }
   ],
   "source": [
    "X_train.shape, X_test.shape"
   ]
  },
  {
   "cell_type": "code",
   "execution_count": null,
   "id": "cd11770f",
   "metadata": {},
   "outputs": [],
   "source": []
  },
  {
   "cell_type": "code",
   "execution_count": 7,
   "id": "7ff557d1",
   "metadata": {},
   "outputs": [],
   "source": [
    "#classification models building : \n",
    "\n",
    "from sklearn.metrics import accuracy_score\n",
    "from sklearn.metrics import matthews_corrcoef\n",
    "from sklearn.metrics import f1_score"
   ]
  },
  {
   "cell_type": "code",
   "execution_count": 10,
   "id": "78375a70",
   "metadata": {},
   "outputs": [
    {
     "name": "stdout",
     "output_type": "stream",
     "text": [
      "KNN : train accuracies\n",
      "accuracy 0.9583333333333334\n",
      "matthews corr coef : 0.9375976715114386\n",
      "f1 score : 0.9583268218992551\n",
      "KNN : test accuracies\n",
      "accuracy 1.0\n",
      "matthews corr coef : 1.0\n",
      "f1 score : 1.0\n"
     ]
    }
   ],
   "source": [
    "#KNN : K nearest neighbors \n",
    "from sklearn.neighbors import KNeighborsClassifier\n",
    "\n",
    "knn = KNeighborsClassifier(3) # 3 classes\n",
    "knn.fit(X_train,y_train)\n",
    "\n",
    "#make predictions \n",
    "y_train_pred = knn.predict(X_train)\n",
    "y_test_pred = knn.predict(X_test)\n",
    "\n",
    "\n",
    "#Train set performance \n",
    "knn_train_accuracy = accuracy_score(y_train,y_train_pred)\n",
    "knn_train_mcc = matthews_corrcoef(y_train,y_train_pred)\n",
    "knn_train_f1 = f1_score(y_train,y_train_pred,average=\"weighted\")\n",
    "\n",
    "\n",
    "#Test set performance\n",
    "knn_test_accuracy = accuracy_score(y_test,y_test_pred)\n",
    "knn_test_mcc = matthews_corrcoef(y_test,y_test_pred)\n",
    "knn_test_f1 = f1_score(y_test,y_test_pred,average=\"weighted\")\n",
    "\n",
    "\n",
    "#knn train accuracies : \n",
    "print(\"KNN : train accuracies\")\n",
    "print (\"accuracy %s\" % knn_train_accuracy)\n",
    "print(\"matthews corr coef : %s\" %knn_train_mcc)\n",
    "print(\"f1 score : %s\" %knn_train_f1)\n",
    "\n",
    "#knn test accuracies:\n",
    "print(\"KNN : test accuracies\")\n",
    "print (\"accuracy %s\" % knn_test_accuracy)\n",
    "print(\"matthews corr coef : %s\" %knn_test_mcc)\n",
    "print(\"f1 score : %s\" %knn_test_f1)\n"
   ]
  },
  {
   "cell_type": "code",
   "execution_count": 12,
   "id": "ed3f2ab5",
   "metadata": {},
   "outputs": [
    {
     "name": "stdout",
     "output_type": "stream",
     "text": [
      "[0 1 1 0 1 2 1 1 2 2 2 1 1 1 1 0 0 2 2 0 2 0 2 0 1 2 2 0 2 0 0 1 1 0 2 2 1\n",
      " 1 2 1 0 1 0 2 0 0 2 0 0 0 0 1 2 1 0 2 1 2 0 2 0 1 2 0 2 1 2 1 1 2 0 0 0 1\n",
      " 1 2 1 2 2 1 0 2 1 0 2 0 2 1 1 0 1 2 0 0 2 2 2 1 2 0 2 1 2 2 0 1 1 1 1 1 0\n",
      " 2 1 1 0 0 0 0 1 0]\n",
      "[0 2 1 1 0 1 0 0 2 1 2 2 2 1 0 0 0 1 1 2 0 2 1 2 2 1 1 0 2 0]\n"
     ]
    }
   ],
   "source": [
    "# predictions are classes : \n",
    "print(y_train_pred)\n",
    "print(y_test_pred)"
   ]
  },
  {
   "cell_type": "code",
   "execution_count": 13,
   "id": "1f4bcb07",
   "metadata": {},
   "outputs": [
    {
     "name": "stdout",
     "output_type": "stream",
     "text": [
      "svm_rbf : train accuracies\n",
      "accuracy 0.9916666666666667\n",
      "matthews corr coef : 0.9876028806587153\n",
      "f1 score : 0.9916653643798509\n",
      "svm_rbf : test accuracies\n",
      "accuracy 0.9666666666666667\n",
      "matthews corr coef : 0.9515873026942034\n",
      "f1 score : 0.9665831244778613\n"
     ]
    }
   ],
   "source": [
    "# svm radial basis kernel function ) \n",
    "\n",
    "from sklearn.svm import SVC\n",
    "\n",
    "svm_rbf = SVC(gamma=2, C=1)\n",
    "svm_rbf = svm_rbf.fit(X_train,y_train)\n",
    "\n",
    "#make predictions : \n",
    "y_train_pred = svm_rbf.predict(X_train)\n",
    "y_test_pred = svm_rbf.predict(X_test)\n",
    "\n",
    "#training set performance\n",
    "#Train set performance \n",
    "svm_rbf_train_accuracy = accuracy_score(y_train,y_train_pred)\n",
    "svm_rbf_train_mcc = matthews_corrcoef(y_train,y_train_pred)\n",
    "svm_rbf_train_f1 = f1_score(y_train,y_train_pred,average=\"weighted\")\n",
    "\n",
    "\n",
    "#Test set performance\n",
    "svm_rbf_test_accuracy = accuracy_score(y_test,y_test_pred)\n",
    "svm_rbf_test_mcc = matthews_corrcoef(y_test,y_test_pred)\n",
    "svm_rbf_test_f1 = f1_score(y_test,y_test_pred,average=\"weighted\")\n",
    "\n",
    "#svm rbf train accuracies : \n",
    "print(\"svm_rbf : train accuracies\")\n",
    "print (\"accuracy %s\" % svm_rbf_train_accuracy)\n",
    "print(\"matthews corr coef : %s\" %svm_rbf_train_mcc)\n",
    "print(\"f1 score : %s\" %svm_rbf_train_f1)\n",
    "\n",
    "#svm rbf test accuracies:\n",
    "print(\"svm_rbf : test accuracies\")\n",
    "print (\"accuracy %s\" % svm_rbf_test_accuracy)\n",
    "print(\"matthews corr coef : %s\" %svm_rbf_test_mcc)\n",
    "print(\"f1 score : %s\" %svm_rbf_test_f1)\n",
    "\n",
    "\n"
   ]
  },
  {
   "cell_type": "code",
   "execution_count": 17,
   "id": "62b98f38",
   "metadata": {},
   "outputs": [
    {
     "name": "stdout",
     "output_type": "stream",
     "text": [
      "stack_model : train accuracies\n",
      "accuracy 0.9916666666666667\n",
      "matthews corr coef : 0.9876028806587153\n",
      "f1 score : 0.9916653643798509\n",
      "stack_model : test accuracies\n",
      "accuracy 0.9666666666666667\n",
      "matthews corr coef : 0.9515873026942034\n",
      "f1 score : 0.9665831244778613\n"
     ]
    }
   ],
   "source": [
    "# stacking\n",
    "from sklearn.ensemble import StackingClassifier\n",
    "from sklearn.linear_model import LogisticRegression # meta lerner\n",
    "\n",
    "\n",
    "\n",
    "estimator_list = [\n",
    "    ('knn',knn),\n",
    "    ('svm_rbf',svm_rbf)\n",
    "]\n",
    "\n",
    "#build stack model \n",
    "stack_model = StackingClassifier(\n",
    "    estimators = estimator_list, final_estimator = LogisticRegression()\n",
    ")\n",
    "\n",
    "#train stacked model \n",
    "stack_model.fit(X_train,y_train)\n",
    "\n",
    "#make predictions\n",
    "y_train_pred = stack_model.predict(X_train)\n",
    "y_tess_pred = stack_model.predict(X_test)\n",
    "\n",
    "#training set model performance\n",
    "#Train set performance \n",
    "stack_model_train_accuracy = accuracy_score(y_train,y_train_pred)\n",
    "stack_model_train_mcc = matthews_corrcoef(y_train,y_train_pred)\n",
    "stack_model_train_f1 = f1_score(y_train,y_train_pred,average=\"weighted\")\n",
    "\n",
    "\n",
    "#Test set performance\n",
    "stack_model_test_accuracy = accuracy_score(y_test,y_test_pred)\n",
    "stack_model_test_mcc = matthews_corrcoef(y_test,y_test_pred)\n",
    "stack_model_test_f1 = f1_score(y_test,y_test_pred,average=\"weighted\")\n",
    "\n",
    "#svm rbf train accuracies : \n",
    "print(\"stack_model : train accuracies\")\n",
    "print (\"accuracy %s\" % stack_model_train_accuracy)\n",
    "print(\"matthews corr coef : %s\" %stack_model_train_mcc)\n",
    "print(\"f1 score : %s\" %stack_model_train_f1)\n",
    "\n",
    "#svm rbf test accuracies:\n",
    "print(\"stack_model : test accuracies\")\n",
    "print (\"accuracy %s\" % stack_model_test_accuracy)\n",
    "print(\"matthews corr coef : %s\" %stack_model_test_mcc)\n",
    "print(\"f1 score : %s\" %stack_model_test_f1)"
   ]
  },
  {
   "cell_type": "code",
   "execution_count": 19,
   "id": "36e80992",
   "metadata": {},
   "outputs": [
    {
     "data": {
      "text/plain": [
       "{'knn': 0.9583333333333334,\n",
       " 'svm_rbf': 0.9916666666666667,\n",
       " 'stack': 0.9916666666666667}"
      ]
     },
     "execution_count": 19,
     "metadata": {},
     "output_type": "execute_result"
    }
   ],
   "source": [
    "acc_train_list = {\n",
    "    'knn': knn_train_accuracy,\n",
    "    'svm_rbf':svm_rbf_train_accuracy,\n",
    "    'stack':stack_model_train_accuracy\n",
    "}\n",
    "acc_train_list"
   ]
  },
  {
   "cell_type": "code",
   "execution_count": 21,
   "id": "c96ed9f3",
   "metadata": {},
   "outputs": [
    {
     "data": {
      "text/plain": [
       "{'knn': 0.9375976715114386,\n",
       " 'svm_rbf': 0.9876028806587153,\n",
       " 'stack': 0.9876028806587153}"
      ]
     },
     "execution_count": 21,
     "metadata": {},
     "output_type": "execute_result"
    }
   ],
   "source": [
    "mcc_train_list = {\n",
    "    'knn':knn_train_mcc,\n",
    "    'svm_rbf':svm_rbf_train_mcc,\n",
    "    'stack':stack_model_train_mcc\n",
    "}\n",
    "mcc_train_list"
   ]
  },
  {
   "cell_type": "code",
   "execution_count": 22,
   "id": "eaa70a97",
   "metadata": {},
   "outputs": [
    {
     "data": {
      "text/plain": [
       "{'knn': 0.9583268218992551,\n",
       " 'svm_rbf': 0.9916653643798509,\n",
       " 'stack': 0.9916653643798509}"
      ]
     },
     "execution_count": 22,
     "metadata": {},
     "output_type": "execute_result"
    }
   ],
   "source": [
    "f1_train_list = {\n",
    "    'knn':knn_train_f1,\n",
    "    'svm_rbf':svm_rbf_train_f1,\n",
    "    'stack':stack_model_train_f1    \n",
    "}\n",
    "f1_train_list"
   ]
  },
  {
   "cell_type": "code",
   "execution_count": 23,
   "id": "d8966be5",
   "metadata": {},
   "outputs": [
    {
     "data": {
      "text/html": [
       "<div>\n",
       "<style scoped>\n",
       "    .dataframe tbody tr th:only-of-type {\n",
       "        vertical-align: middle;\n",
       "    }\n",
       "\n",
       "    .dataframe tbody tr th {\n",
       "        vertical-align: top;\n",
       "    }\n",
       "\n",
       "    .dataframe thead th {\n",
       "        text-align: right;\n",
       "    }\n",
       "</style>\n",
       "<table border=\"1\" class=\"dataframe\">\n",
       "  <thead>\n",
       "    <tr style=\"text-align: right;\">\n",
       "      <th></th>\n",
       "      <th>Accuracy</th>\n",
       "      <th>MCC</th>\n",
       "      <th>F1</th>\n",
       "    </tr>\n",
       "  </thead>\n",
       "  <tbody>\n",
       "    <tr>\n",
       "      <th>knn</th>\n",
       "      <td>0.958333</td>\n",
       "      <td>0.937598</td>\n",
       "      <td>0.958327</td>\n",
       "    </tr>\n",
       "    <tr>\n",
       "      <th>svm_rbf</th>\n",
       "      <td>0.991667</td>\n",
       "      <td>0.987603</td>\n",
       "      <td>0.991665</td>\n",
       "    </tr>\n",
       "    <tr>\n",
       "      <th>stack</th>\n",
       "      <td>0.991667</td>\n",
       "      <td>0.987603</td>\n",
       "      <td>0.991665</td>\n",
       "    </tr>\n",
       "  </tbody>\n",
       "</table>\n",
       "</div>"
      ],
      "text/plain": [
       "         Accuracy       MCC        F1\n",
       "knn      0.958333  0.937598  0.958327\n",
       "svm_rbf  0.991667  0.987603  0.991665\n",
       "stack    0.991667  0.987603  0.991665"
      ]
     },
     "execution_count": 23,
     "metadata": {},
     "output_type": "execute_result"
    }
   ],
   "source": [
    "acc_df = pd.DataFrame.from_dict(acc_train_list,orient=\"index\",columns=['Accuracy'])\n",
    "mcc_df = pd.DataFrame.from_dict(mcc_train_list,orient=\"index\",columns=['MCC'])\n",
    "f1_df = pd.DataFrame.from_dict(f1_train_list,orient=\"index\",columns=['F1'])\n",
    "stack_df = pd.concat([acc_df,mcc_df,f1_df],axis = 1)\n",
    "stack_df"
   ]
  },
  {
   "cell_type": "code",
   "execution_count": 24,
   "id": "f6e6bfb3",
   "metadata": {},
   "outputs": [],
   "source": [
    "stack_df.to_csv('stack_results.csv')"
   ]
  },
  {
   "cell_type": "code",
   "execution_count": null,
   "id": "5ce182b4",
   "metadata": {},
   "outputs": [],
   "source": []
  },
  {
   "cell_type": "code",
   "execution_count": null,
   "id": "6afa4ac3",
   "metadata": {},
   "outputs": [],
   "source": []
  },
  {
   "cell_type": "code",
   "execution_count": null,
   "id": "d33b91ef",
   "metadata": {},
   "outputs": [],
   "source": []
  },
  {
   "cell_type": "code",
   "execution_count": null,
   "id": "31572ddb",
   "metadata": {},
   "outputs": [],
   "source": [
    "# import tweet data\n",
    "# preprocess it \n",
    "# svm \n",
    "# nb model \n",
    "# feed forward\n",
    "# rnn\n",
    "# lstm\n",
    "# gru\n",
    "# stacked model \n",
    "# compare all \n",
    "# show results graphically \n",
    "# \n",
    "\n",
    "\n",
    "\n",
    "\n"
   ]
  },
  {
   "cell_type": "markdown",
   "id": "ea23167c",
   "metadata": {},
   "source": [
    "# Bagging "
   ]
  },
  {
   "cell_type": "markdown",
   "id": "02e9000a",
   "metadata": {},
   "source": [
    "# Boosting"
   ]
  },
  {
   "cell_type": "markdown",
   "id": "4c959d57",
   "metadata": {},
   "source": [
    "# Voting"
   ]
  },
  {
   "cell_type": "code",
   "execution_count": null,
   "id": "571c23f6",
   "metadata": {},
   "outputs": [],
   "source": []
  },
  {
   "cell_type": "code",
   "execution_count": null,
   "id": "a4a6e961",
   "metadata": {},
   "outputs": [],
   "source": []
  },
  {
   "cell_type": "code",
   "execution_count": null,
   "id": "8a5b5c5c",
   "metadata": {},
   "outputs": [],
   "source": []
  },
  {
   "cell_type": "code",
   "execution_count": null,
   "id": "f074450d",
   "metadata": {},
   "outputs": [],
   "source": []
  },
  {
   "cell_type": "code",
   "execution_count": null,
   "id": "d808d591",
   "metadata": {},
   "outputs": [],
   "source": []
  },
  {
   "cell_type": "code",
   "execution_count": null,
   "id": "02b67bb3",
   "metadata": {},
   "outputs": [],
   "source": []
  },
  {
   "cell_type": "markdown",
   "id": "fcb7760f",
   "metadata": {},
   "source": [
    "# From RPS for publish2"
   ]
  }
 ],
 "metadata": {
  "kernelspec": {
   "display_name": "Python 3 (ipykernel)",
   "language": "python",
   "name": "python3"
  },
  "language_info": {
   "codemirror_mode": {
    "name": "ipython",
    "version": 3
   },
   "file_extension": ".py",
   "mimetype": "text/x-python",
   "name": "python",
   "nbconvert_exporter": "python",
   "pygments_lexer": "ipython3",
   "version": "3.9.7"
  }
 },
 "nbformat": 4,
 "nbformat_minor": 5
}

{
 "cells": [
  {
   "cell_type": "markdown",
   "id": "b7a94fb2",
   "metadata": {},
   "source": [
    "All Sentiment Models\n",
    "Pseudo fit \n",
    "All Ensemble Sentiment\n",
    "Pseudo Fit\n",
    "Own Fit (From rp)"
   ]
  },
  {
   "cell_type": "markdown",
   "id": "a047a206",
   "metadata": {},
   "source": [
    "# All Sentiment Models \n",
    "- standard datasets "
   ]
  },
  {
   "cell_type": "code",
   "execution_count": null,
   "id": "bb79d3a0",
   "metadata": {},
   "outputs": [],
   "source": []
  },
  {
   "cell_type": "markdown",
   "id": "8124b340",
   "metadata": {},
   "source": [
    "## 1. Naive Bayes"
   ]
  },
  {
   "cell_type": "code",
   "execution_count": null,
   "id": "7640f00a",
   "metadata": {},
   "outputs": [],
   "source": []
  },
  {
   "cell_type": "markdown",
   "id": "8d424767",
   "metadata": {},
   "source": [
    "## 2. Support Vector Machine"
   ]
  },
  {
   "cell_type": "markdown",
   "id": "edbcbea9",
   "metadata": {},
   "source": [
    "## 3. Feed Forward Neural Network "
   ]
  },
  {
   "cell_type": "markdown",
   "id": "01f8b524",
   "metadata": {},
   "source": [
    "## 4. LSTM  "
   ]
  },
  {
   "cell_type": "markdown",
   "id": "2e9baedf",
   "metadata": {},
   "source": [
    "## 5. GRU"
   ]
  },
  {
   "cell_type": "markdown",
   "id": "e527048e",
   "metadata": {},
   "source": [
    "## 6. CNN"
   ]
  },
  {
   "cell_type": "markdown",
   "id": "c9908488",
   "metadata": {},
   "source": [
    "# Pseudo Fit : (fitting pseudo app customer review data into the model)"
   ]
  },
  {
   "cell_type": "code",
   "execution_count": null,
   "id": "cea0a528",
   "metadata": {},
   "outputs": [],
   "source": []
  },
  {
   "cell_type": "markdown",
   "id": "42450835",
   "metadata": {},
   "source": [
    "# Ensemble Sentiment Models \n",
    "- learn from text classification ensemble playlist\n",
    "- implement by searching methods shown there"
   ]
  },
  {
   "cell_type": "code",
   "execution_count": null,
   "id": "145b1f81",
   "metadata": {},
   "outputs": [],
   "source": []
  },
  {
   "cell_type": "markdown",
   "id": "af8abd76",
   "metadata": {},
   "source": [
    "# Fit Pseudo app data in Ensemble Sentiment Models "
   ]
  },
  {
   "cell_type": "code",
   "execution_count": null,
   "id": "15a25ccb",
   "metadata": {},
   "outputs": [],
   "source": []
  },
  {
   "cell_type": "markdown",
   "id": "fa42409f",
   "metadata": {},
   "source": [
    "# Own Ensemble Model (from rp)"
   ]
  },
  {
   "cell_type": "markdown",
   "id": "9a8ccc9b",
   "metadata": {},
   "source": [
    "## 1. CNN with Character level embedding + LSTM with word level embedding"
   ]
  },
  {
   "cell_type": "markdown",
   "id": "41e781df",
   "metadata": {},
   "source": [
    "## 2. Adding layer of document level , sentence level granularity"
   ]
  },
  {
   "cell_type": "code",
   "execution_count": null,
   "id": "373a3942",
   "metadata": {},
   "outputs": [],
   "source": []
  }
 ],
 "metadata": {
  "kernelspec": {
   "display_name": "Python 3 (ipykernel)",
   "language": "python",
   "name": "python3"
  },
  "language_info": {
   "codemirror_mode": {
    "name": "ipython",
    "version": 3
   },
   "file_extension": ".py",
   "mimetype": "text/x-python",
   "name": "python",
   "nbconvert_exporter": "python",
   "pygments_lexer": "ipython3",
   "version": "3.9.7"
  }
 },
 "nbformat": 4,
 "nbformat_minor": 5
}

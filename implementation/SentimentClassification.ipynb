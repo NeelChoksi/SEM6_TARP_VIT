{
 "cells": [
  {
   "cell_type": "markdown",
   "id": "b7a94fb2",
   "metadata": {},
   "source": [
    "All Sentiment Models\n",
    "Pseudo fit \n",
    "All Ensemble Sentiment\n",
    "Pseudo Fit\n",
    "Own Fit (From rp)"
   ]
  },
  {
   "cell_type": "code",
   "execution_count": null,
   "id": "c5684e2f",
   "metadata": {},
   "outputs": [],
   "source": []
  },
  {
   "cell_type": "markdown",
   "id": "a047a206",
   "metadata": {},
   "source": [
    "# All Sentiment Models \n",
    "- standard datasets "
   ]
  },
  {
   "cell_type": "markdown",
   "id": "eaae8c74",
   "metadata": {},
   "source": [
    "## 0. Preprocessing "
   ]
  },
  {
   "cell_type": "code",
   "execution_count": 1,
   "id": "48b600a9",
   "metadata": {},
   "outputs": [],
   "source": [
    "#installing libraries\n",
    "!pip3 install nltk --quiet"
   ]
  },
  {
   "cell_type": "code",
   "execution_count": 2,
   "id": "9d3b973e",
   "metadata": {},
   "outputs": [
    {
     "ename": "NameError",
     "evalue": "name 'nltk' is not defined",
     "output_type": "error",
     "traceback": [
      "\u001b[0;31m---------------------------------------------------------------------------\u001b[0m",
      "\u001b[0;31mNameError\u001b[0m                                 Traceback (most recent call last)",
      "Input \u001b[0;32mIn [2]\u001b[0m, in \u001b[0;36m<cell line: 1>\u001b[0;34m()\u001b[0m\n\u001b[0;32m----> 1\u001b[0m \u001b[43mnltk\u001b[49m\u001b[38;5;241m.\u001b[39mdownload(\u001b[38;5;124m'\u001b[39m\u001b[38;5;124mwordnet\u001b[39m\u001b[38;5;124m'\u001b[39m)\n",
      "\u001b[0;31mNameError\u001b[0m: name 'nltk' is not defined"
     ]
    }
   ],
   "source": [
    "nltk.download('wordnet') "
   ]
  },
  {
   "cell_type": "code",
   "execution_count": null,
   "id": "73a9ddbf",
   "metadata": {},
   "outputs": [],
   "source": [
    "nltk.download('omw-1.4')"
   ]
  },
  {
   "cell_type": "code",
   "execution_count": null,
   "id": "f0789167",
   "metadata": {},
   "outputs": [],
   "source": [
    "!pip3 install -U scikit-learn --quiet"
   ]
  },
  {
   "cell_type": "code",
   "execution_count": 3,
   "id": "e46033d6",
   "metadata": {},
   "outputs": [],
   "source": [
    "import nltk"
   ]
  },
  {
   "cell_type": "markdown",
   "id": "35219732",
   "metadata": {},
   "source": [
    "### 0_1: Tokenization"
   ]
  },
  {
   "cell_type": "code",
   "execution_count": 4,
   "id": "801ef995",
   "metadata": {},
   "outputs": [
    {
     "data": {
      "text/plain": [
       "['This', 'is', \"Andrew's\", 'text,', \"isn't\", 'it?']"
      ]
     },
     "execution_count": 4,
     "metadata": {},
     "output_type": "execute_result"
    }
   ],
   "source": [
    "text = \"This is Andrew's text, isn't it?\"\n",
    "tokenizer = nltk.tokenize.WhitespaceTokenizer()\n",
    "tokenizer.tokenize(text)"
   ]
  },
  {
   "cell_type": "code",
   "execution_count": 5,
   "id": "ddb80569",
   "metadata": {},
   "outputs": [
    {
     "data": {
      "text/plain": [
       "['This', 'is', 'Andrew', \"'s\", 'text', ',', 'is', \"n't\", 'it', '?']"
      ]
     },
     "execution_count": 5,
     "metadata": {},
     "output_type": "execute_result"
    }
   ],
   "source": [
    "tokenizer = nltk.tokenize.TreebankWordTokenizer()\n",
    "tokenizer.tokenize(text)"
   ]
  },
  {
   "cell_type": "code",
   "execution_count": 6,
   "id": "cd1d192e",
   "metadata": {},
   "outputs": [
    {
     "data": {
      "text/plain": [
       "['This', 'is', 'Andrew', \"'\", 's', 'text', ',', 'isn', \"'\", 't', 'it', '?']"
      ]
     },
     "execution_count": 6,
     "metadata": {},
     "output_type": "execute_result"
    }
   ],
   "source": [
    "tokenizer = nltk.tokenize.WordPunctTokenizer()\n",
    "tokens=tokenizer.tokenize(text)\n",
    "tokens"
   ]
  },
  {
   "cell_type": "markdown",
   "id": "4f0e0cd3",
   "metadata": {},
   "source": [
    "### 0_2: Token Normalization "
   ]
  },
  {
   "cell_type": "code",
   "execution_count": 7,
   "id": "502da689",
   "metadata": {},
   "outputs": [
    {
     "data": {
      "text/plain": [
       "\"thi is andrew ' s text , isn ' t it ?\""
      ]
     },
     "execution_count": 7,
     "metadata": {},
     "output_type": "execute_result"
    }
   ],
   "source": [
    "#stemming\n",
    "stemmer = nltk.stem.PorterStemmer()\n",
    "\" \".join(stemmer.stem(token) for token in tokens) "
   ]
  },
  {
   "cell_type": "code",
   "execution_count": 8,
   "id": "88328b08",
   "metadata": {},
   "outputs": [
    {
     "data": {
      "text/plain": [
       "\"This is Andrew ' s text , isn ' t it ?\""
      ]
     },
     "execution_count": 8,
     "metadata": {},
     "output_type": "execute_result"
    }
   ],
   "source": [
    "#lemmatization\n",
    "stemmer = nltk.stem.WordNetLemmatizer()\n",
    "\" \".join(stemmer.lemmatize(token) for token in tokens)"
   ]
  },
  {
   "cell_type": "markdown",
   "id": "b2379be4",
   "metadata": {},
   "source": [
    "### 0_3: Feature Extraction \n",
    "1. Bag Of Words\n",
    "2. N Grams, remove low freq, high freq n- grams\n",
    "3. Better BOW : TFIDF"
   ]
  },
  {
   "cell_type": "code",
   "execution_count": 9,
   "id": "dc776a7f",
   "metadata": {},
   "outputs": [
    {
     "name": "stderr",
     "output_type": "stream",
     "text": [
      "/home/neelchoksi19bce0990/.local/lib/python3.9/site-packages/sklearn/utils/deprecation.py:87: FutureWarning: Function get_feature_names is deprecated; get_feature_names is deprecated in 1.0 and will be removed in 1.2. Please use get_feature_names_out instead.\n",
      "  warnings.warn(msg, category=FutureWarning)\n"
     ]
    },
    {
     "data": {
      "text/html": [
       "<div>\n",
       "<style scoped>\n",
       "    .dataframe tbody tr th:only-of-type {\n",
       "        vertical-align: middle;\n",
       "    }\n",
       "\n",
       "    .dataframe tbody tr th {\n",
       "        vertical-align: top;\n",
       "    }\n",
       "\n",
       "    .dataframe thead th {\n",
       "        text-align: right;\n",
       "    }\n",
       "</style>\n",
       "<table border=\"1\" class=\"dataframe\">\n",
       "  <thead>\n",
       "    <tr style=\"text-align: right;\">\n",
       "      <th></th>\n",
       "      <th>good movie</th>\n",
       "      <th>like</th>\n",
       "      <th>movie</th>\n",
       "      <th>not</th>\n",
       "    </tr>\n",
       "  </thead>\n",
       "  <tbody>\n",
       "    <tr>\n",
       "      <th>0</th>\n",
       "      <td>0.707107</td>\n",
       "      <td>0.000000</td>\n",
       "      <td>0.707107</td>\n",
       "      <td>0.000000</td>\n",
       "    </tr>\n",
       "    <tr>\n",
       "      <th>1</th>\n",
       "      <td>0.577350</td>\n",
       "      <td>0.000000</td>\n",
       "      <td>0.577350</td>\n",
       "      <td>0.577350</td>\n",
       "    </tr>\n",
       "    <tr>\n",
       "      <th>2</th>\n",
       "      <td>0.000000</td>\n",
       "      <td>0.707107</td>\n",
       "      <td>0.000000</td>\n",
       "      <td>0.707107</td>\n",
       "    </tr>\n",
       "    <tr>\n",
       "      <th>3</th>\n",
       "      <td>0.000000</td>\n",
       "      <td>1.000000</td>\n",
       "      <td>0.000000</td>\n",
       "      <td>0.000000</td>\n",
       "    </tr>\n",
       "    <tr>\n",
       "      <th>4</th>\n",
       "      <td>0.000000</td>\n",
       "      <td>0.000000</td>\n",
       "      <td>0.000000</td>\n",
       "      <td>0.000000</td>\n",
       "    </tr>\n",
       "  </tbody>\n",
       "</table>\n",
       "</div>"
      ],
      "text/plain": [
       "   good movie      like     movie       not\n",
       "0    0.707107  0.000000  0.707107  0.000000\n",
       "1    0.577350  0.000000  0.577350  0.577350\n",
       "2    0.000000  0.707107  0.000000  0.707107\n",
       "3    0.000000  1.000000  0.000000  0.000000\n",
       "4    0.000000  0.000000  0.000000  0.000000"
      ]
     },
     "execution_count": 9,
     "metadata": {},
     "output_type": "execute_result"
    }
   ],
   "source": [
    "#TFIDF\n",
    "from sklearn.feature_extraction.text import TfidfVectorizer\n",
    "import pandas as pd\n",
    "\n",
    "texts =[\n",
    "    \"good movie\" , \"not a good movie\" , \"did not like\", \"i like it\" ,\"good one\"\n",
    "]\n",
    "tfidf = TfidfVectorizer(min_df=2, max_df=0.5, ngram_range=(1,2))\n",
    "features = tfidf.fit_transform(texts)\n",
    "pd.DataFrame(\n",
    "    features.todense(),\n",
    "    columns = tfidf.get_feature_names()\n",
    ")"
   ]
  },
  {
   "cell_type": "markdown",
   "id": "8124b340",
   "metadata": {},
   "source": [
    "## 1. Naive Bayes"
   ]
  },
  {
   "cell_type": "markdown",
   "id": "373d3319",
   "metadata": {},
   "source": [
    "USING SKLEARN "
   ]
  },
  {
   "cell_type": "code",
   "execution_count": 10,
   "id": "7640f00a",
   "metadata": {},
   "outputs": [],
   "source": [
    "import nltk \n",
    "from nltk.corpus import twitter_samples\n",
    "import numpy as np"
   ]
  },
  {
   "cell_type": "code",
   "execution_count": 11,
   "id": "81d8fb83",
   "metadata": {},
   "outputs": [
    {
     "name": "stderr",
     "output_type": "stream",
     "text": [
      "[nltk_data] Downloading package twitter_samples to\n",
      "[nltk_data]     /home/neelchoksi19bce0990/nltk_data...\n",
      "[nltk_data]   Unzipping corpora/twitter_samples.zip.\n"
     ]
    },
    {
     "data": {
      "text/plain": [
       "True"
      ]
     },
     "execution_count": 11,
     "metadata": {},
     "output_type": "execute_result"
    }
   ],
   "source": [
    "nltk.download(\"twitter_samples\")"
   ]
  },
  {
   "cell_type": "code",
   "execution_count": null,
   "id": "b322533a",
   "metadata": {},
   "outputs": [],
   "source": [
    "all_pos_texts = twitter_samples.strings('positive_tweets.json')\n",
    "all_neg_texts = twitter_samples.strings('negative_tweets.json')\n"
   ]
  },
  {
   "cell_type": "code",
   "execution_count": null,
   "id": "11b119d7",
   "metadata": {},
   "outputs": [],
   "source": [
    "print(\"Number of pos texts : \",len(all_pos_tweets))\n",
    "print(\"Number of neg texts : \",len(all_neg_tweets))\n",
    "\n",
    "print(\"\\nType of all positive texts : \",type(all_pos_tweets))\n",
    "print(\"Type of a text entry is : \",type(all_neg_tweets[0]))\n",
    "\n"
   ]
  },
  {
   "cell_type": "code",
   "execution_count": null,
   "id": "1ca9276c",
   "metadata": {},
   "outputs": [],
   "source": [
    "print(\"Positive text example : \")\n",
    "print(all_pos_texts[0])\n",
    "\n",
    "print(\"Negative text example : \")\n",
    "print(all_neg_texts[0])"
   ]
  },
  {
   "cell_type": "markdown",
   "id": "bcc06b1a",
   "metadata": {},
   "source": [
    "USING FAST AI"
   ]
  },
  {
   "cell_type": "code",
   "execution_count": 14,
   "id": "bda916f0",
   "metadata": {},
   "outputs": [
    {
     "name": "stdout",
     "output_type": "stream",
     "text": [
      "^C\n",
      "\u001b[31mERROR: Operation cancelled by user\u001b[0m\n",
      "Note: you may need to restart the kernel to use updated packages.\n"
     ]
    }
   ],
   "source": [
    "pip install fastai==1.0 --quiet"
   ]
  },
  {
   "cell_type": "code",
   "execution_count": null,
   "id": "fd8d9306",
   "metadata": {},
   "outputs": [],
   "source": [
    "# dataset : IMDB movie reviews  : 50k reviews\n",
    "#imports \n",
    "%reload_ext autoreload\n",
    "%autoreload 2\n",
    "%matplotlib inline\n",
    "from fastai import *\n",
    "from fastai.text import *"
   ]
  },
  {
   "cell_type": "code",
   "execution_count": 16,
   "id": "9c949d5a",
   "metadata": {},
   "outputs": [],
   "source": [
    "import sklearn"
   ]
  },
  {
   "cell_type": "code",
   "execution_count": 15,
   "id": "5b4c3d05",
   "metadata": {},
   "outputs": [],
   "source": [
    "import sklearn.feature_extraction as sklearn_text"
   ]
  },
  {
   "cell_type": "code",
   "execution_count": 17,
   "id": "c37916ba",
   "metadata": {},
   "outputs": [
    {
     "name": "stdout",
     "output_type": "stream",
     "text": [
      "Object ` URLs` not found.\n"
     ]
    }
   ],
   "source": [
    "# tokenizing , term document matrix creation\n",
    "?? URLs"
   ]
  },
  {
   "cell_type": "code",
   "execution_count": null,
   "id": "f39fd92b",
   "metadata": {},
   "outputs": [],
   "source": [
    "path = untar_data(URLs.IMDB_SAMPLE)\n",
    "path"
   ]
  },
  {
   "cell_type": "markdown",
   "id": "e0c833fc",
   "metadata": {},
   "source": [
    "Sklearn"
   ]
  },
  {
   "cell_type": "code",
   "execution_count": null,
   "id": "19052fab",
   "metadata": {},
   "outputs": [],
   "source": []
  },
  {
   "cell_type": "markdown",
   "id": "8d424767",
   "metadata": {},
   "source": [
    "## 2. Support Vector Machine"
   ]
  },
  {
   "cell_type": "code",
   "execution_count": null,
   "id": "c5045467",
   "metadata": {},
   "outputs": [],
   "source": []
  },
  {
   "cell_type": "markdown",
   "id": "edbcbea9",
   "metadata": {},
   "source": [
    "## 3. Feed Forward Neural Network "
   ]
  },
  {
   "cell_type": "markdown",
   "id": "01f8b524",
   "metadata": {},
   "source": [
    "## 4. LSTM  "
   ]
  },
  {
   "cell_type": "markdown",
   "id": "2e9baedf",
   "metadata": {},
   "source": [
    "## 5. GRU"
   ]
  },
  {
   "cell_type": "markdown",
   "id": "e527048e",
   "metadata": {},
   "source": []
  },
  {
   "cell_type": "markdown",
   "id": "c9908488",
   "metadata": {},
   "source": [
    "# Pseudo Fit : (fitting pseudo app customer review data into the model)\n",
    "- problem : classify user reviews for ground\n",
    "\n",
    "- user reveiws for ground data taken from user : ( reviewMessage, (rating from 1-5)) \n",
    "\n",
    "- 1-2 : poor\n",
    "- 2-3 : average\n",
    "- 3-5 : good\n",
    "\n",
    "- prediction of poor/average/good , given reviewMessage\n"
   ]
  },
  {
   "cell_type": "code",
   "execution_count": null,
   "id": "cea0a528",
   "metadata": {},
   "outputs": [],
   "source": []
  },
  {
   "cell_type": "markdown",
   "id": "42450835",
   "metadata": {},
   "source": [
    "# Ensemble Sentiment Models \n",
    "- learn from text classification ensemble playlist\n",
    "- implement by searching methods shown there"
   ]
  },
  {
   "cell_type": "markdown",
   "id": "f4d49fe8",
   "metadata": {},
   "source": [
    "## Voting Ensemble\n",
    "\n",
    "## Stacking\n",
    "\n",
    "\n",
    "## Bagging - Random Forest \n",
    "\n",
    "## Boosting - ADA Boost, Gradient Boosting , XG Boosting \n",
    "\n"
   ]
  },
  {
   "cell_type": "markdown",
   "id": "af8abd76",
   "metadata": {},
   "source": [
    "# Fit Pseudo app data in Ensemble Sentiment Models "
   ]
  },
  {
   "cell_type": "code",
   "execution_count": null,
   "id": "15a25ccb",
   "metadata": {},
   "outputs": [],
   "source": []
  },
  {
   "cell_type": "markdown",
   "id": "fa42409f",
   "metadata": {},
   "source": [
    "# Own Ensemble Model (from rp)"
   ]
  },
  {
   "cell_type": "markdown",
   "id": "9a8ccc9b",
   "metadata": {},
   "source": [
    "## 1. CNN with Character level embedding + LSTM with word level embedding"
   ]
  },
  {
   "cell_type": "markdown",
   "id": "41e781df",
   "metadata": {},
   "source": [
    "## 2. Adding layer of document level , sentence level granularity"
   ]
  },
  {
   "cell_type": "markdown",
   "id": "9dbc7105",
   "metadata": {},
   "source": [
    "https://arxiv.org/pdf/1512.08183.pdf"
   ]
  },
  {
   "cell_type": "code",
   "execution_count": null,
   "id": "373a3942",
   "metadata": {},
   "outputs": [],
   "source": []
  }
 ],
 "metadata": {
  "kernelspec": {
   "display_name": "Python 3 (ipykernel)",
   "language": "python",
   "name": "python3"
  },
  "language_info": {
   "codemirror_mode": {
    "name": "ipython",
    "version": 3
   },
   "file_extension": ".py",
   "mimetype": "text/x-python",
   "name": "python",
   "nbconvert_exporter": "python",
   "pygments_lexer": "ipython3",
   "version": "3.9.7"
  }
 },
 "nbformat": 4,
 "nbformat_minor": 5
}

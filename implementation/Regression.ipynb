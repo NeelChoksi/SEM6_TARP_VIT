{
 "cells": [
  {
   "cell_type": "markdown",
   "id": "20bfd9e0",
   "metadata": {},
   "source": [
    "All Regression models \n",
    "Pseudo fit\n",
    "All Ensemble Regression \n",
    "Pseudo fit\n",
    "Own fit (From rp)"
   ]
  },
  {
   "cell_type": "markdown",
   "id": "05c2b6f6",
   "metadata": {},
   "source": [
    "# All Regression Models"
   ]
  },
  {
   "cell_type": "markdown",
   "id": "cb520a57",
   "metadata": {},
   "source": [
    "## 1. Linear Regression "
   ]
  },
  {
   "cell_type": "markdown",
   "id": "249d14ee",
   "metadata": {},
   "source": [
    "## 2. Logistic Regression "
   ]
  },
  {
   "cell_type": "markdown",
   "id": "1b5ab76a",
   "metadata": {},
   "source": [
    "## 3. Decision Trees"
   ]
  },
  {
   "cell_type": "markdown",
   "id": "feeba779",
   "metadata": {},
   "source": [
    "## 4. Random Forest "
   ]
  },
  {
   "cell_type": "markdown",
   "id": "5216b50c",
   "metadata": {},
   "source": [
    "## 5. Gradient Boosting"
   ]
  },
  {
   "cell_type": "markdown",
   "id": "80a743a3",
   "metadata": {},
   "source": [
    "## 6. Unsupervised : recommendation"
   ]
  },
  {
   "cell_type": "markdown",
   "id": "5ac03eb7",
   "metadata": {},
   "source": [
    "## more models from 50 - 83"
   ]
  },
  {
   "cell_type": "markdown",
   "id": "373de4a5",
   "metadata": {},
   "source": [
    "# Pseudo Fit \n",
    "- problem : \n",
    "1. For Ground owner :(date(not required)-pk,year(not required),day, month, week number , groundName, timeslot chosen , sport chosen ) --> cost spent\n",
    "\n",
    "more things to predict with this data\n",
    "- predicting # people : \n",
    "- (weekNumber-pk ,day ,  ) --> #people visiting\n",
    "- (weekNumber-pk ,month ,  ) --> #people visiting\n",
    "- (weekNumber-pk ,day, timeslot ,  ) --> #people visiting\n",
    "- (weekNumber-pk ,day, sportChosen ,  ) --> #people visiting\n",
    "- (weekNumber-pk ,month, timeslot ,  ) --> #people visiting\n",
    "- (weekNumber-pk ,month, sportChosen ,  ) --> #people visiting\n",
    "- ( year, ) --> # people visiting\n",
    "\n",
    "\n",
    "- yearwise analytics on : \n",
    "- #poeple visiting on day vs days \n",
    "- #people visiting in month vs months\n",
    "- #people choosing that timeslot vs timeslots \n",
    "- #people choosing that sport vs sports\n",
    "\n",
    "\n",
    "- predicting revenue\n",
    "- (weekNumber-pk ,day ,  ) --> revenue generated\n",
    "- (weekNumber-pk ,month ,  ) --> revenue generated\n",
    "- (weekNumber-pk ,day, timeslot ,  ) --> revenue generated\n",
    "- (weekNumber-pk ,day, sportChosen ,  ) --> revenue generated\n",
    "- (weekNumber-pk ,month, timeslot ,  ) --> revenue generated\n",
    "- (weekNumber-pk ,month, sportChosen ,  ) --> revenue generated\n",
    "- ( year, ) --> # revenue generated\n",
    "\n",
    "\n",
    "- yearwise analytics on : \n",
    "- revenue of day vs days\n",
    "- revenue of month vs months\n",
    "- revenue of timeslot vs timeslots \n",
    "- revenue of sport vs sports\n",
    "\n",
    "\n",
    "2. For  Customer : (groundName, sport , timeslot , cost spent ) --> cost spent \n",
    "- predicting cost spent\n",
    "\n",
    "- analytics on:\n",
    "-  number of users visiting ground vs grounds \n",
    "- number of users selecting a sport vs sports\n",
    "- number of users selecting a timeslot vs timeslots \n"
   ]
  },
  {
   "cell_type": "code",
   "execution_count": 1,
   "id": "93e6cba4",
   "metadata": {},
   "outputs": [
    {
     "name": "stdout",
     "output_type": "stream",
     "text": [
      "\u001b[33m  WARNING: The scripts f2py, f2py3 and f2py3.9 are installed in '/home/neelchoksi19bce0990/.local/bin' which is not on PATH.\n",
      "  Consider adding this directory to PATH or, if you prefer to suppress this warning, use --no-warn-script-location.\u001b[0m\n",
      "\u001b[33m  WARNING: The scripts fonttools, pyftmerge, pyftsubset and ttx are installed in '/home/neelchoksi19bce0990/.local/bin' which is not on PATH.\n",
      "  Consider adding this directory to PATH or, if you prefer to suppress this warning, use --no-warn-script-location.\u001b[0m\n",
      "\u001b[33m  WARNING: The script tqdm is installed in '/home/neelchoksi19bce0990/.local/bin' which is not on PATH.\n",
      "  Consider adding this directory to PATH or, if you prefer to suppress this warning, use --no-warn-script-location.\u001b[0m\n",
      "\u001b[33m  WARNING: The script phik_trial is installed in '/home/neelchoksi19bce0990/.local/bin' which is not on PATH.\n",
      "  Consider adding this directory to PATH or, if you prefer to suppress this warning, use --no-warn-script-location.\u001b[0m\n",
      "\u001b[33m  WARNING: The script htmlmin is installed in '/home/neelchoksi19bce0990/.local/bin' which is not on PATH.\n",
      "  Consider adding this directory to PATH or, if you prefer to suppress this warning, use --no-warn-script-location.\u001b[0m\n",
      "\u001b[33m  WARNING: The script pandas_profiling is installed in '/home/neelchoksi19bce0990/.local/bin' which is not on PATH.\n",
      "  Consider adding this directory to PATH or, if you prefer to suppress this warning, use --no-warn-script-location.\u001b[0m\n"
     ]
    }
   ],
   "source": [
    "!pip install pandas-profiling --quiet"
   ]
  },
  {
   "cell_type": "code",
   "execution_count": 52,
   "id": "f984c0bb",
   "metadata": {},
   "outputs": [],
   "source": [
    "!pip install plotly matplotlib seaborn --quiet"
   ]
  },
  {
   "cell_type": "code",
   "execution_count": 53,
   "id": "ba2518d3",
   "metadata": {},
   "outputs": [],
   "source": [
    "import pandas as pd\n",
    "import random\n",
    "import plotly.express as px\n",
    "import matplotlib\n",
    "import matplotlib.pyplot as plt\n",
    "import seaborn as sns\n",
    "%matplotlib inline"
   ]
  },
  {
   "cell_type": "code",
   "execution_count": 54,
   "id": "9dd0b5f5",
   "metadata": {},
   "outputs": [],
   "source": [
    "# graph settings : \n",
    "sns.set_style('darkgrid')\n",
    "matplotlib.rcParams['font.size'] = 14\n",
    "matplotlib.rcParams['figure.figsize'] = (10, 6)\n",
    "matplotlib.rcParams['figure.facecolor'] = '#00000000'"
   ]
  },
  {
   "cell_type": "code",
   "execution_count": 64,
   "id": "cf6b81cc",
   "metadata": {},
   "outputs": [],
   "source": [
    "def randomNumber(x):\n",
    "    return random.randint(0,x)\n",
    "def randomColor():\n",
    "    r = lambda: random.randint(0,255)\n",
    "    return ('#%02X%02X%02X' % (r(),r(),r()))"
   ]
  },
  {
   "cell_type": "code",
   "execution_count": null,
   "id": "782bae65",
   "metadata": {},
   "outputs": [],
   "source": []
  },
  {
   "cell_type": "code",
   "execution_count": 21,
   "id": "59c4c358",
   "metadata": {},
   "outputs": [
    {
     "data": {
      "text/plain": [
       "150"
      ]
     },
     "execution_count": 21,
     "metadata": {},
     "output_type": "execute_result"
    }
   ],
   "source": [
    "g1_prices = {'sport1':150,'sport2':150,'sport3':150,'sport4':150,'sport6':200}\n",
    "s ='sport1'\n",
    "g1_prices[s]"
   ]
  },
  {
   "cell_type": "code",
   "execution_count": 57,
   "id": "ab0546a6",
   "metadata": {},
   "outputs": [
    {
     "data": {
      "text/html": [
       "<div>\n",
       "<style scoped>\n",
       "    .dataframe tbody tr th:only-of-type {\n",
       "        vertical-align: middle;\n",
       "    }\n",
       "\n",
       "    .dataframe tbody tr th {\n",
       "        vertical-align: top;\n",
       "    }\n",
       "\n",
       "    .dataframe thead th {\n",
       "        text-align: right;\n",
       "    }\n",
       "</style>\n",
       "<table border=\"1\" class=\"dataframe\">\n",
       "  <thead>\n",
       "    <tr style=\"text-align: right;\">\n",
       "      <th></th>\n",
       "      <th>Year</th>\n",
       "      <th>Day</th>\n",
       "      <th>Month</th>\n",
       "      <th>GroundName</th>\n",
       "      <th>TimeSlot</th>\n",
       "      <th>Sport</th>\n",
       "      <th>Cost</th>\n",
       "    </tr>\n",
       "  </thead>\n",
       "  <tbody>\n",
       "    <tr>\n",
       "      <th>0</th>\n",
       "      <td>2016</td>\n",
       "      <td>Thursday</td>\n",
       "      <td>September</td>\n",
       "      <td>Ground4</td>\n",
       "      <td>timeslot1</td>\n",
       "      <td>sport3</td>\n",
       "      <td>150</td>\n",
       "    </tr>\n",
       "    <tr>\n",
       "      <th>1</th>\n",
       "      <td>2012</td>\n",
       "      <td>Tuesday</td>\n",
       "      <td>September</td>\n",
       "      <td>Ground4</td>\n",
       "      <td>timeslot7</td>\n",
       "      <td>sport6</td>\n",
       "      <td>500</td>\n",
       "    </tr>\n",
       "    <tr>\n",
       "      <th>2</th>\n",
       "      <td>2011</td>\n",
       "      <td>Friday</td>\n",
       "      <td>February</td>\n",
       "      <td>Ground1</td>\n",
       "      <td>timeslot4</td>\n",
       "      <td>sport2</td>\n",
       "      <td>150</td>\n",
       "    </tr>\n",
       "    <tr>\n",
       "      <th>3</th>\n",
       "      <td>2011</td>\n",
       "      <td>Friday</td>\n",
       "      <td>June</td>\n",
       "      <td>Ground2</td>\n",
       "      <td>timeslot5</td>\n",
       "      <td>sport1</td>\n",
       "      <td>200</td>\n",
       "    </tr>\n",
       "    <tr>\n",
       "      <th>4</th>\n",
       "      <td>2016</td>\n",
       "      <td>Thursday</td>\n",
       "      <td>July</td>\n",
       "      <td>Ground1</td>\n",
       "      <td>timeslot1</td>\n",
       "      <td>sport5</td>\n",
       "      <td>400</td>\n",
       "    </tr>\n",
       "    <tr>\n",
       "      <th>...</th>\n",
       "      <td>...</td>\n",
       "      <td>...</td>\n",
       "      <td>...</td>\n",
       "      <td>...</td>\n",
       "      <td>...</td>\n",
       "      <td>...</td>\n",
       "      <td>...</td>\n",
       "    </tr>\n",
       "    <tr>\n",
       "      <th>2994</th>\n",
       "      <td>2013</td>\n",
       "      <td>Friday</td>\n",
       "      <td>June</td>\n",
       "      <td>Ground2</td>\n",
       "      <td>timeslot6</td>\n",
       "      <td>sport2</td>\n",
       "      <td>150</td>\n",
       "    </tr>\n",
       "    <tr>\n",
       "      <th>2995</th>\n",
       "      <td>2019</td>\n",
       "      <td>Sunday</td>\n",
       "      <td>August</td>\n",
       "      <td>Ground3</td>\n",
       "      <td>timeslot4</td>\n",
       "      <td>sport1</td>\n",
       "      <td>350</td>\n",
       "    </tr>\n",
       "    <tr>\n",
       "      <th>2996</th>\n",
       "      <td>2017</td>\n",
       "      <td>Monday</td>\n",
       "      <td>August</td>\n",
       "      <td>Ground2</td>\n",
       "      <td>timeslot4</td>\n",
       "      <td>sport5</td>\n",
       "      <td>200</td>\n",
       "    </tr>\n",
       "    <tr>\n",
       "      <th>2997</th>\n",
       "      <td>2014</td>\n",
       "      <td>Friday</td>\n",
       "      <td>March</td>\n",
       "      <td>Ground2</td>\n",
       "      <td>timeslot6</td>\n",
       "      <td>sport6</td>\n",
       "      <td>100</td>\n",
       "    </tr>\n",
       "    <tr>\n",
       "      <th>2998</th>\n",
       "      <td>2015</td>\n",
       "      <td>Saturday</td>\n",
       "      <td>January</td>\n",
       "      <td>Ground3</td>\n",
       "      <td>timeslot7</td>\n",
       "      <td>sport3</td>\n",
       "      <td>150</td>\n",
       "    </tr>\n",
       "  </tbody>\n",
       "</table>\n",
       "<p>2999 rows × 7 columns</p>\n",
       "</div>"
      ],
      "text/plain": [
       "      Year       Day      Month GroundName   TimeSlot   Sport  Cost\n",
       "0     2016  Thursday  September    Ground4  timeslot1  sport3   150\n",
       "1     2012   Tuesday  September    Ground4  timeslot7  sport6   500\n",
       "2     2011    Friday   February    Ground1  timeslot4  sport2   150\n",
       "3     2011    Friday       June    Ground2  timeslot5  sport1   200\n",
       "4     2016  Thursday       July    Ground1  timeslot1  sport5   400\n",
       "...    ...       ...        ...        ...        ...     ...   ...\n",
       "2994  2013    Friday       June    Ground2  timeslot6  sport2   150\n",
       "2995  2019    Sunday     August    Ground3  timeslot4  sport1   350\n",
       "2996  2017    Monday     August    Ground2  timeslot4  sport5   200\n",
       "2997  2014    Friday      March    Ground2  timeslot6  sport6   100\n",
       "2998  2015  Saturday    January    Ground3  timeslot7  sport3   150\n",
       "\n",
       "[2999 rows x 7 columns]"
      ]
     },
     "execution_count": 57,
     "metadata": {},
     "output_type": "execute_result"
    }
   ],
   "source": [
    "# for ground owners\n",
    "#(date-pk,year(not required),day, month, week number , groundName, timeslot chosen , sport chosen ) --> cost spent\n",
    "\n",
    "years = ['2011','2012','2013','2014','2015','2016','2017','2018','2019','2020','2021']\n",
    "\n",
    "days = ['Monday','Tuesday','Wednesday','Thursday','Friday','Saturday','Sunday']\n",
    "\n",
    "groundNames = ['Ground1','Ground2','Ground3','Ground4']\n",
    "\n",
    "timeslots = ['timeslot1','timeslot2','timeslot3','timeslot4','timeslot5','timeslot6','timeslot7']\n",
    "\n",
    "months = ['January','February','March','April','May','June','July','August','September','October','November','December']\n",
    "\n",
    "sports = ['sport1','sport2','sport3','sport4','sport5','sport6']\n",
    "\n",
    "#for ground 1 : \n",
    "g1_prices = {'sport1':100,'sport2':150,'sport3':250,'sport4':350,'sport5':400,'sport6':200}\n",
    "g2_prices = {'sport1':200,'sport2':150,'sport3':450,'sport4':250,'sport5':200,'sport6':100}\n",
    "g3_prices = {'sport1':350,'sport2':450,'sport3':150,'sport4':200,'sport5':300,'sport6':250}\n",
    "g4_prices = {'sport1':450,'sport2':250,'sport3':150,'sport4':100,'sport5':250,'sport6':500}\n",
    "\n",
    "\n",
    "data = [] \n",
    "for i in range(1,3000):    \n",
    "    tYear = years[randomNumber(len(years)-1)]\n",
    "    tDay = days[randomNumber(len(days)-1)]\n",
    "    tGroundName = groundNames[randomNumber(len(groundNames)-1)]\n",
    "    tTimeSlot = timeslots[randomNumber(len(timeslots)-1)]\n",
    "    tMonth = months[randomNumber(len(months)-1)]\n",
    "    tSport = sports[randomNumber(len(sports)-1)]\n",
    "    if(tGroundName == 'Ground1'):\n",
    "        tCost = g1_prices[tSport]\n",
    "    elif(tGroundName == 'Ground2'):\n",
    "        tCost = g2_prices[tSport]\n",
    "    elif(tGroundName == 'Ground3'):\n",
    "        tCost = g3_prices[tSport]\n",
    "    elif(tGroundName == 'Ground4'):\n",
    "        tCost = g4_prices[tSport]\n",
    "    \n",
    "    data.append([tYear,tDay,tMonth,tGroundName,tTimeSlot,tSport,tCost])\n",
    "\n",
    "\n",
    "groundOwners_df = pd.DataFrame(data, columns = ['Year', 'Day','Month','GroundName','TimeSlot','Sport','Cost'])\n",
    "groundOwners_df"
   ]
  },
  {
   "cell_type": "code",
   "execution_count": 58,
   "id": "ba12d4e7",
   "metadata": {},
   "outputs": [],
   "source": [
    "groundOwner1_df = groundOwners_df.loc[groundOwners_df['GroundName'] == 'Ground1']\n",
    "groundOwner2_df = groundOwners_df.loc[groundOwners_df['GroundName'] == 'Ground2']\n",
    "groundOwner3_df = groundOwners_df.loc[groundOwners_df['GroundName'] == 'Ground3']\n",
    "groundOwner4_df = groundOwners_df.loc[groundOwners_df['GroundName'] == 'Ground4']\n",
    "\n",
    "# groundOwner1_df\n",
    "# groundOwner2_df\n",
    "# groundOwner3_df\n",
    "# groundOwner4_df"
   ]
  },
  {
   "cell_type": "code",
   "execution_count": 63,
   "id": "75653b47",
   "metadata": {},
   "outputs": [
    {
     "name": "stdout",
     "output_type": "stream",
     "text": [
      "#065FCD\n"
     ]
    }
   ],
   "source": []
  },
  {
   "cell_type": "code",
   "execution_count": 66,
   "id": "a2bc1a85",
   "metadata": {},
   "outputs": [
    {
     "data": {
      "application/vnd.plotly.v1+json": {
       "config": {
        "plotlyServerURL": "https://plot.ly"
       },
       "data": [
        {
         "alignmentgroup": "True",
         "bingroup": "x",
         "hovertemplate": "Year=2011<br>Cost=%{x}<br>count=%{y}<extra></extra>",
         "legendgroup": "2011",
         "marker": {
          "color": "#1B98E2",
          "pattern": {
           "shape": ""
          }
         },
         "name": "2011",
         "offsetgroup": "2011",
         "orientation": "v",
         "showlegend": true,
         "type": "histogram",
         "x": [
          150,
          350,
          350,
          250,
          250,
          100,
          250,
          200,
          200,
          350,
          400,
          200,
          200,
          400,
          250,
          250,
          150,
          200,
          100,
          100,
          350,
          350,
          250,
          250,
          350,
          400,
          200,
          150,
          400,
          350,
          100,
          250,
          150,
          350,
          100,
          400,
          350,
          400,
          100,
          100,
          200,
          400,
          100,
          250,
          150,
          350,
          200,
          250,
          150,
          400,
          250,
          400,
          350,
          100,
          200,
          250,
          150,
          150,
          350,
          200,
          350,
          400,
          200,
          200,
          100,
          150,
          150,
          100,
          250,
          100,
          200,
          400,
          100,
          250
         ],
         "xaxis": "x",
         "yaxis": "y"
        },
        {
         "alignmentgroup": "True",
         "hovertemplate": "Year=2011<br>Cost=%{x}<extra></extra>",
         "legendgroup": "2011",
         "marker": {
          "color": "#1B98E2"
         },
         "name": "2011",
         "notched": true,
         "offsetgroup": "2011",
         "showlegend": false,
         "type": "box",
         "x": [
          150,
          350,
          350,
          250,
          250,
          100,
          250,
          200,
          200,
          350,
          400,
          200,
          200,
          400,
          250,
          250,
          150,
          200,
          100,
          100,
          350,
          350,
          250,
          250,
          350,
          400,
          200,
          150,
          400,
          350,
          100,
          250,
          150,
          350,
          100,
          400,
          350,
          400,
          100,
          100,
          200,
          400,
          100,
          250,
          150,
          350,
          200,
          250,
          150,
          400,
          250,
          400,
          350,
          100,
          200,
          250,
          150,
          150,
          350,
          200,
          350,
          400,
          200,
          200,
          100,
          150,
          150,
          100,
          250,
          100,
          200,
          400,
          100,
          250
         ],
         "xaxis": "x2",
         "yaxis": "y2"
        },
        {
         "alignmentgroup": "True",
         "bingroup": "x",
         "hovertemplate": "Year=2016<br>Cost=%{x}<br>count=%{y}<extra></extra>",
         "legendgroup": "2016",
         "marker": {
          "color": "#9EC74A",
          "pattern": {
           "shape": ""
          }
         },
         "name": "2016",
         "offsetgroup": "2016",
         "orientation": "v",
         "showlegend": true,
         "type": "histogram",
         "x": [
          400,
          150,
          250,
          150,
          350,
          400,
          250,
          150,
          100,
          150,
          100,
          150,
          150,
          200,
          400,
          100,
          350,
          400,
          250,
          150,
          400,
          100,
          100,
          150,
          250,
          250,
          150,
          150,
          400,
          400,
          100,
          250,
          100,
          350,
          350,
          350,
          100,
          350,
          250,
          250,
          250,
          100,
          200,
          200,
          250,
          400,
          250,
          150,
          150,
          400,
          250,
          100,
          100,
          250,
          350,
          100,
          250,
          250,
          100,
          100,
          150,
          200,
          100,
          350,
          350,
          250,
          100,
          400,
          250,
          100,
          150
         ],
         "xaxis": "x",
         "yaxis": "y"
        },
        {
         "alignmentgroup": "True",
         "hovertemplate": "Year=2016<br>Cost=%{x}<extra></extra>",
         "legendgroup": "2016",
         "marker": {
          "color": "#9EC74A"
         },
         "name": "2016",
         "notched": true,
         "offsetgroup": "2016",
         "showlegend": false,
         "type": "box",
         "x": [
          400,
          150,
          250,
          150,
          350,
          400,
          250,
          150,
          100,
          150,
          100,
          150,
          150,
          200,
          400,
          100,
          350,
          400,
          250,
          150,
          400,
          100,
          100,
          150,
          250,
          250,
          150,
          150,
          400,
          400,
          100,
          250,
          100,
          350,
          350,
          350,
          100,
          350,
          250,
          250,
          250,
          100,
          200,
          200,
          250,
          400,
          250,
          150,
          150,
          400,
          250,
          100,
          100,
          250,
          350,
          100,
          250,
          250,
          100,
          100,
          150,
          200,
          100,
          350,
          350,
          250,
          100,
          400,
          250,
          100,
          150
         ],
         "xaxis": "x2",
         "yaxis": "y2"
        },
        {
         "alignmentgroup": "True",
         "bingroup": "x",
         "hovertemplate": "Year=2017<br>Cost=%{x}<br>count=%{y}<extra></extra>",
         "legendgroup": "2017",
         "marker": {
          "color": "#02E058",
          "pattern": {
           "shape": ""
          }
         },
         "name": "2017",
         "offsetgroup": "2017",
         "orientation": "v",
         "showlegend": true,
         "type": "histogram",
         "x": [
          200,
          150,
          350,
          250,
          150,
          200,
          150,
          200,
          100,
          200,
          100,
          100,
          400,
          250,
          150,
          100,
          250,
          400,
          200,
          150,
          400,
          400,
          150,
          350,
          150,
          100,
          350,
          150,
          400,
          100,
          400,
          100,
          250,
          250,
          150,
          200,
          400,
          100,
          250,
          100,
          150,
          200,
          400,
          350,
          250,
          100,
          350,
          200,
          100,
          100,
          400,
          100,
          150,
          100,
          150,
          400,
          200,
          400,
          200,
          150,
          100,
          400,
          400,
          150,
          200,
          250,
          100,
          350,
          150,
          350,
          350,
          100
         ],
         "xaxis": "x",
         "yaxis": "y"
        },
        {
         "alignmentgroup": "True",
         "hovertemplate": "Year=2017<br>Cost=%{x}<extra></extra>",
         "legendgroup": "2017",
         "marker": {
          "color": "#02E058"
         },
         "name": "2017",
         "notched": true,
         "offsetgroup": "2017",
         "showlegend": false,
         "type": "box",
         "x": [
          200,
          150,
          350,
          250,
          150,
          200,
          150,
          200,
          100,
          200,
          100,
          100,
          400,
          250,
          150,
          100,
          250,
          400,
          200,
          150,
          400,
          400,
          150,
          350,
          150,
          100,
          350,
          150,
          400,
          100,
          400,
          100,
          250,
          250,
          150,
          200,
          400,
          100,
          250,
          100,
          150,
          200,
          400,
          350,
          250,
          100,
          350,
          200,
          100,
          100,
          400,
          100,
          150,
          100,
          150,
          400,
          200,
          400,
          200,
          150,
          100,
          400,
          400,
          150,
          200,
          250,
          100,
          350,
          150,
          350,
          350,
          100
         ],
         "xaxis": "x2",
         "yaxis": "y2"
        },
        {
         "alignmentgroup": "True",
         "bingroup": "x",
         "hovertemplate": "Year=2020<br>Cost=%{x}<br>count=%{y}<extra></extra>",
         "legendgroup": "2020",
         "marker": {
          "color": "#881D22",
          "pattern": {
           "shape": ""
          }
         },
         "name": "2020",
         "offsetgroup": "2020",
         "orientation": "v",
         "showlegend": true,
         "type": "histogram",
         "x": [
          150,
          400,
          150,
          350,
          350,
          350,
          100,
          100,
          250,
          350,
          100,
          400,
          150,
          400,
          250,
          200,
          100,
          400,
          250,
          250,
          150,
          250,
          150,
          150,
          400,
          150,
          400,
          100,
          350,
          400,
          200,
          200,
          100,
          400,
          200,
          350,
          200,
          150,
          150,
          350,
          250,
          350,
          150,
          200,
          250,
          150,
          150,
          100,
          250,
          250,
          150,
          100,
          250,
          200
         ],
         "xaxis": "x",
         "yaxis": "y"
        },
        {
         "alignmentgroup": "True",
         "hovertemplate": "Year=2020<br>Cost=%{x}<extra></extra>",
         "legendgroup": "2020",
         "marker": {
          "color": "#881D22"
         },
         "name": "2020",
         "notched": true,
         "offsetgroup": "2020",
         "showlegend": false,
         "type": "box",
         "x": [
          150,
          400,
          150,
          350,
          350,
          350,
          100,
          100,
          250,
          350,
          100,
          400,
          150,
          400,
          250,
          200,
          100,
          400,
          250,
          250,
          150,
          250,
          150,
          150,
          400,
          150,
          400,
          100,
          350,
          400,
          200,
          200,
          100,
          400,
          200,
          350,
          200,
          150,
          150,
          350,
          250,
          350,
          150,
          200,
          250,
          150,
          150,
          100,
          250,
          250,
          150,
          100,
          250,
          200
         ],
         "xaxis": "x2",
         "yaxis": "y2"
        },
        {
         "alignmentgroup": "True",
         "bingroup": "x",
         "hovertemplate": "Year=2015<br>Cost=%{x}<br>count=%{y}<extra></extra>",
         "legendgroup": "2015",
         "marker": {
          "color": "#79A1D7",
          "pattern": {
           "shape": ""
          }
         },
         "name": "2015",
         "offsetgroup": "2015",
         "orientation": "v",
         "showlegend": true,
         "type": "histogram",
         "x": [
          400,
          200,
          100,
          400,
          200,
          400,
          200,
          400,
          350,
          150,
          250,
          250,
          350,
          400,
          150,
          400,
          150,
          350,
          100,
          400,
          150,
          250,
          250,
          250,
          200,
          350,
          350,
          200,
          350,
          200,
          250,
          150,
          100,
          200,
          100,
          400,
          350,
          100,
          200,
          200,
          150,
          250,
          250,
          250,
          100,
          100,
          200,
          250,
          200,
          150,
          150,
          150,
          200,
          200,
          100,
          100,
          250,
          250,
          400,
          200,
          250,
          200,
          100,
          350,
          150,
          150,
          100
         ],
         "xaxis": "x",
         "yaxis": "y"
        },
        {
         "alignmentgroup": "True",
         "hovertemplate": "Year=2015<br>Cost=%{x}<extra></extra>",
         "legendgroup": "2015",
         "marker": {
          "color": "#79A1D7"
         },
         "name": "2015",
         "notched": true,
         "offsetgroup": "2015",
         "showlegend": false,
         "type": "box",
         "x": [
          400,
          200,
          100,
          400,
          200,
          400,
          200,
          400,
          350,
          150,
          250,
          250,
          350,
          400,
          150,
          400,
          150,
          350,
          100,
          400,
          150,
          250,
          250,
          250,
          200,
          350,
          350,
          200,
          350,
          200,
          250,
          150,
          100,
          200,
          100,
          400,
          350,
          100,
          200,
          200,
          150,
          250,
          250,
          250,
          100,
          100,
          200,
          250,
          200,
          150,
          150,
          150,
          200,
          200,
          100,
          100,
          250,
          250,
          400,
          200,
          250,
          200,
          100,
          350,
          150,
          150,
          100
         ],
         "xaxis": "x2",
         "yaxis": "y2"
        },
        {
         "alignmentgroup": "True",
         "bingroup": "x",
         "hovertemplate": "Year=2021<br>Cost=%{x}<br>count=%{y}<extra></extra>",
         "legendgroup": "2021",
         "marker": {
          "color": "#F93EC3",
          "pattern": {
           "shape": ""
          }
         },
         "name": "2021",
         "offsetgroup": "2021",
         "orientation": "v",
         "showlegend": true,
         "type": "histogram",
         "x": [
          100,
          100,
          100,
          100,
          250,
          350,
          400,
          350,
          350,
          150,
          250,
          400,
          350,
          100,
          150,
          350,
          200,
          250,
          400,
          350,
          400,
          350,
          150,
          100,
          400,
          400,
          200,
          200,
          400,
          350,
          400,
          100,
          400,
          350,
          350,
          150,
          250,
          150,
          100,
          250,
          200,
          250,
          200,
          350,
          150,
          200,
          250,
          200,
          400,
          250,
          350,
          100,
          400,
          150,
          100,
          150,
          400,
          150,
          400,
          400,
          350,
          200,
          250,
          350,
          400,
          100,
          250,
          200,
          100,
          200,
          350,
          350,
          200,
          150,
          200,
          350
         ],
         "xaxis": "x",
         "yaxis": "y"
        },
        {
         "alignmentgroup": "True",
         "hovertemplate": "Year=2021<br>Cost=%{x}<extra></extra>",
         "legendgroup": "2021",
         "marker": {
          "color": "#F93EC3"
         },
         "name": "2021",
         "notched": true,
         "offsetgroup": "2021",
         "showlegend": false,
         "type": "box",
         "x": [
          100,
          100,
          100,
          100,
          250,
          350,
          400,
          350,
          350,
          150,
          250,
          400,
          350,
          100,
          150,
          350,
          200,
          250,
          400,
          350,
          400,
          350,
          150,
          100,
          400,
          400,
          200,
          200,
          400,
          350,
          400,
          100,
          400,
          350,
          350,
          150,
          250,
          150,
          100,
          250,
          200,
          250,
          200,
          350,
          150,
          200,
          250,
          200,
          400,
          250,
          350,
          100,
          400,
          150,
          100,
          150,
          400,
          150,
          400,
          400,
          350,
          200,
          250,
          350,
          400,
          100,
          250,
          200,
          100,
          200,
          350,
          350,
          200,
          150,
          200,
          350
         ],
         "xaxis": "x2",
         "yaxis": "y2"
        },
        {
         "alignmentgroup": "True",
         "bingroup": "x",
         "hovertemplate": "Year=2018<br>Cost=%{x}<br>count=%{y}<extra></extra>",
         "legendgroup": "2018",
         "marker": {
          "color": "#AD76D1",
          "pattern": {
           "shape": ""
          }
         },
         "name": "2018",
         "offsetgroup": "2018",
         "orientation": "v",
         "showlegend": true,
         "type": "histogram",
         "x": [
          200,
          200,
          100,
          400,
          250,
          200,
          250,
          200,
          150,
          350,
          350,
          400,
          200,
          150,
          350,
          250,
          150,
          250,
          350,
          350,
          400,
          400,
          350,
          100,
          200,
          400,
          250,
          400,
          400,
          350,
          400,
          400,
          400,
          150,
          150,
          200,
          200,
          350,
          150,
          150,
          200,
          250,
          150,
          350,
          400,
          350,
          100,
          250,
          350,
          150,
          400,
          250,
          400,
          350,
          400,
          150,
          400,
          250,
          250,
          250,
          200,
          100,
          200,
          200,
          250,
          200,
          200,
          350,
          350
         ],
         "xaxis": "x",
         "yaxis": "y"
        },
        {
         "alignmentgroup": "True",
         "hovertemplate": "Year=2018<br>Cost=%{x}<extra></extra>",
         "legendgroup": "2018",
         "marker": {
          "color": "#AD76D1"
         },
         "name": "2018",
         "notched": true,
         "offsetgroup": "2018",
         "showlegend": false,
         "type": "box",
         "x": [
          200,
          200,
          100,
          400,
          250,
          200,
          250,
          200,
          150,
          350,
          350,
          400,
          200,
          150,
          350,
          250,
          150,
          250,
          350,
          350,
          400,
          400,
          350,
          100,
          200,
          400,
          250,
          400,
          400,
          350,
          400,
          400,
          400,
          150,
          150,
          200,
          200,
          350,
          150,
          150,
          200,
          250,
          150,
          350,
          400,
          350,
          100,
          250,
          350,
          150,
          400,
          250,
          400,
          350,
          400,
          150,
          400,
          250,
          250,
          250,
          200,
          100,
          200,
          200,
          250,
          200,
          200,
          350,
          350
         ],
         "xaxis": "x2",
         "yaxis": "y2"
        },
        {
         "alignmentgroup": "True",
         "bingroup": "x",
         "hovertemplate": "Year=2012<br>Cost=%{x}<br>count=%{y}<extra></extra>",
         "legendgroup": "2012",
         "marker": {
          "color": "#90D943",
          "pattern": {
           "shape": ""
          }
         },
         "name": "2012",
         "offsetgroup": "2012",
         "orientation": "v",
         "showlegend": true,
         "type": "histogram",
         "x": [
          250,
          100,
          200,
          200,
          250,
          400,
          250,
          400,
          150,
          150,
          200,
          250,
          400,
          100,
          400,
          150,
          200,
          350,
          200,
          400,
          150,
          350,
          350,
          200,
          350,
          200,
          350,
          100,
          200,
          250,
          150,
          200,
          200,
          150,
          150,
          400,
          350,
          150,
          200,
          350,
          350,
          200,
          250,
          100,
          100,
          250,
          350,
          350,
          400,
          250,
          250,
          250,
          100,
          150,
          100,
          150,
          150,
          100,
          150,
          350,
          350,
          200,
          150,
          100,
          100,
          100,
          350,
          150,
          150,
          250,
          100,
          200,
          100,
          100,
          250,
          400,
          400,
          100,
          400
         ],
         "xaxis": "x",
         "yaxis": "y"
        },
        {
         "alignmentgroup": "True",
         "hovertemplate": "Year=2012<br>Cost=%{x}<extra></extra>",
         "legendgroup": "2012",
         "marker": {
          "color": "#90D943"
         },
         "name": "2012",
         "notched": true,
         "offsetgroup": "2012",
         "showlegend": false,
         "type": "box",
         "x": [
          250,
          100,
          200,
          200,
          250,
          400,
          250,
          400,
          150,
          150,
          200,
          250,
          400,
          100,
          400,
          150,
          200,
          350,
          200,
          400,
          150,
          350,
          350,
          200,
          350,
          200,
          350,
          100,
          200,
          250,
          150,
          200,
          200,
          150,
          150,
          400,
          350,
          150,
          200,
          350,
          350,
          200,
          250,
          100,
          100,
          250,
          350,
          350,
          400,
          250,
          250,
          250,
          100,
          150,
          100,
          150,
          150,
          100,
          150,
          350,
          350,
          200,
          150,
          100,
          100,
          100,
          350,
          150,
          150,
          250,
          100,
          200,
          100,
          100,
          250,
          400,
          400,
          100,
          400
         ],
         "xaxis": "x2",
         "yaxis": "y2"
        },
        {
         "alignmentgroup": "True",
         "bingroup": "x",
         "hovertemplate": "Year=2014<br>Cost=%{x}<br>count=%{y}<extra></extra>",
         "legendgroup": "2014",
         "marker": {
          "color": "#1F4855",
          "pattern": {
           "shape": ""
          }
         },
         "name": "2014",
         "offsetgroup": "2014",
         "orientation": "v",
         "showlegend": true,
         "type": "histogram",
         "x": [
          400,
          100,
          200,
          350,
          400,
          200,
          350,
          150,
          150,
          100,
          150,
          350,
          400,
          150,
          250,
          150,
          400,
          200,
          200,
          400,
          150,
          150,
          200,
          150,
          100,
          350,
          400,
          350,
          200,
          150,
          150,
          250,
          150,
          100,
          200,
          250,
          200,
          100,
          250,
          150,
          150,
          400,
          150,
          250,
          250,
          100,
          250,
          250,
          400,
          200,
          100,
          400,
          100,
          400,
          250,
          400,
          400,
          200,
          100,
          400,
          250,
          150,
          150,
          100,
          400,
          150,
          250,
          200,
          250
         ],
         "xaxis": "x",
         "yaxis": "y"
        },
        {
         "alignmentgroup": "True",
         "hovertemplate": "Year=2014<br>Cost=%{x}<extra></extra>",
         "legendgroup": "2014",
         "marker": {
          "color": "#1F4855"
         },
         "name": "2014",
         "notched": true,
         "offsetgroup": "2014",
         "showlegend": false,
         "type": "box",
         "x": [
          400,
          100,
          200,
          350,
          400,
          200,
          350,
          150,
          150,
          100,
          150,
          350,
          400,
          150,
          250,
          150,
          400,
          200,
          200,
          400,
          150,
          150,
          200,
          150,
          100,
          350,
          400,
          350,
          200,
          150,
          150,
          250,
          150,
          100,
          200,
          250,
          200,
          100,
          250,
          150,
          150,
          400,
          150,
          250,
          250,
          100,
          250,
          250,
          400,
          200,
          100,
          400,
          100,
          400,
          250,
          400,
          400,
          200,
          100,
          400,
          250,
          150,
          150,
          100,
          400,
          150,
          250,
          200,
          250
         ],
         "xaxis": "x2",
         "yaxis": "y2"
        },
        {
         "alignmentgroup": "True",
         "bingroup": "x",
         "hovertemplate": "Year=2013<br>Cost=%{x}<br>count=%{y}<extra></extra>",
         "legendgroup": "2013",
         "marker": {
          "color": "#3E8583",
          "pattern": {
           "shape": ""
          }
         },
         "name": "2013",
         "offsetgroup": "2013",
         "orientation": "v",
         "showlegend": true,
         "type": "histogram",
         "x": [
          350,
          150,
          350,
          100,
          200,
          400,
          250,
          250,
          200,
          150,
          250,
          150,
          100,
          250,
          200,
          250,
          200,
          250,
          250,
          250,
          150,
          350,
          400,
          250,
          400,
          250,
          150,
          350,
          150,
          250,
          400,
          100,
          100,
          250,
          250,
          350,
          250,
          200,
          350,
          150,
          150,
          400,
          200,
          400,
          250,
          150,
          150,
          150,
          350,
          400,
          150,
          250,
          200,
          150,
          200,
          100,
          200,
          250,
          200,
          400,
          200,
          100,
          250
         ],
         "xaxis": "x",
         "yaxis": "y"
        },
        {
         "alignmentgroup": "True",
         "hovertemplate": "Year=2013<br>Cost=%{x}<extra></extra>",
         "legendgroup": "2013",
         "marker": {
          "color": "#3E8583"
         },
         "name": "2013",
         "notched": true,
         "offsetgroup": "2013",
         "showlegend": false,
         "type": "box",
         "x": [
          350,
          150,
          350,
          100,
          200,
          400,
          250,
          250,
          200,
          150,
          250,
          150,
          100,
          250,
          200,
          250,
          200,
          250,
          250,
          250,
          150,
          350,
          400,
          250,
          400,
          250,
          150,
          350,
          150,
          250,
          400,
          100,
          100,
          250,
          250,
          350,
          250,
          200,
          350,
          150,
          150,
          400,
          200,
          400,
          250,
          150,
          150,
          150,
          350,
          400,
          150,
          250,
          200,
          150,
          200,
          100,
          200,
          250,
          200,
          400,
          200,
          100,
          250
         ],
         "xaxis": "x2",
         "yaxis": "y2"
        },
        {
         "alignmentgroup": "True",
         "bingroup": "x",
         "hovertemplate": "Year=2019<br>Cost=%{x}<br>count=%{y}<extra></extra>",
         "legendgroup": "2019",
         "marker": {
          "color": "#6C3F49",
          "pattern": {
           "shape": ""
          }
         },
         "name": "2019",
         "offsetgroup": "2019",
         "orientation": "v",
         "showlegend": true,
         "type": "histogram",
         "x": [
          350,
          400,
          250,
          100,
          250,
          100,
          250,
          250,
          350,
          350,
          350,
          250,
          250,
          400,
          400,
          200,
          400,
          100,
          150,
          400,
          150,
          250,
          250,
          400,
          400,
          400,
          250,
          200,
          350,
          200,
          250,
          100,
          400,
          400,
          200,
          150,
          100,
          200,
          400,
          100,
          400,
          200,
          400,
          150,
          100,
          350,
          150,
          250,
          250,
          250,
          350,
          100,
          250,
          400,
          250,
          350,
          200,
          250,
          100,
          350,
          400,
          250,
          100,
          200,
          150,
          100,
          350
         ],
         "xaxis": "x",
         "yaxis": "y"
        },
        {
         "alignmentgroup": "True",
         "hovertemplate": "Year=2019<br>Cost=%{x}<extra></extra>",
         "legendgroup": "2019",
         "marker": {
          "color": "#6C3F49"
         },
         "name": "2019",
         "notched": true,
         "offsetgroup": "2019",
         "showlegend": false,
         "type": "box",
         "x": [
          350,
          400,
          250,
          100,
          250,
          100,
          250,
          250,
          350,
          350,
          350,
          250,
          250,
          400,
          400,
          200,
          400,
          100,
          150,
          400,
          150,
          250,
          250,
          400,
          400,
          400,
          250,
          200,
          350,
          200,
          250,
          100,
          400,
          400,
          200,
          150,
          100,
          200,
          400,
          100,
          400,
          200,
          400,
          150,
          100,
          350,
          150,
          250,
          250,
          250,
          350,
          100,
          250,
          400,
          250,
          350,
          200,
          250,
          100,
          350,
          400,
          250,
          100,
          200,
          150,
          100,
          350
         ],
         "xaxis": "x2",
         "yaxis": "y2"
        }
       ],
       "layout": {
        "bargap": 0.1,
        "barmode": "relative",
        "legend": {
         "title": {
          "text": "Year"
         },
         "tracegroupgap": 0
        },
        "template": {
         "data": {
          "bar": [
           {
            "error_x": {
             "color": "#2a3f5f"
            },
            "error_y": {
             "color": "#2a3f5f"
            },
            "marker": {
             "line": {
              "color": "#E5ECF6",
              "width": 0.5
             },
             "pattern": {
              "fillmode": "overlay",
              "size": 10,
              "solidity": 0.2
             }
            },
            "type": "bar"
           }
          ],
          "barpolar": [
           {
            "marker": {
             "line": {
              "color": "#E5ECF6",
              "width": 0.5
             },
             "pattern": {
              "fillmode": "overlay",
              "size": 10,
              "solidity": 0.2
             }
            },
            "type": "barpolar"
           }
          ],
          "carpet": [
           {
            "aaxis": {
             "endlinecolor": "#2a3f5f",
             "gridcolor": "white",
             "linecolor": "white",
             "minorgridcolor": "white",
             "startlinecolor": "#2a3f5f"
            },
            "baxis": {
             "endlinecolor": "#2a3f5f",
             "gridcolor": "white",
             "linecolor": "white",
             "minorgridcolor": "white",
             "startlinecolor": "#2a3f5f"
            },
            "type": "carpet"
           }
          ],
          "choropleth": [
           {
            "colorbar": {
             "outlinewidth": 0,
             "ticks": ""
            },
            "type": "choropleth"
           }
          ],
          "contour": [
           {
            "colorbar": {
             "outlinewidth": 0,
             "ticks": ""
            },
            "colorscale": [
             [
              0,
              "#0d0887"
             ],
             [
              0.1111111111111111,
              "#46039f"
             ],
             [
              0.2222222222222222,
              "#7201a8"
             ],
             [
              0.3333333333333333,
              "#9c179e"
             ],
             [
              0.4444444444444444,
              "#bd3786"
             ],
             [
              0.5555555555555556,
              "#d8576b"
             ],
             [
              0.6666666666666666,
              "#ed7953"
             ],
             [
              0.7777777777777778,
              "#fb9f3a"
             ],
             [
              0.8888888888888888,
              "#fdca26"
             ],
             [
              1,
              "#f0f921"
             ]
            ],
            "type": "contour"
           }
          ],
          "contourcarpet": [
           {
            "colorbar": {
             "outlinewidth": 0,
             "ticks": ""
            },
            "type": "contourcarpet"
           }
          ],
          "heatmap": [
           {
            "colorbar": {
             "outlinewidth": 0,
             "ticks": ""
            },
            "colorscale": [
             [
              0,
              "#0d0887"
             ],
             [
              0.1111111111111111,
              "#46039f"
             ],
             [
              0.2222222222222222,
              "#7201a8"
             ],
             [
              0.3333333333333333,
              "#9c179e"
             ],
             [
              0.4444444444444444,
              "#bd3786"
             ],
             [
              0.5555555555555556,
              "#d8576b"
             ],
             [
              0.6666666666666666,
              "#ed7953"
             ],
             [
              0.7777777777777778,
              "#fb9f3a"
             ],
             [
              0.8888888888888888,
              "#fdca26"
             ],
             [
              1,
              "#f0f921"
             ]
            ],
            "type": "heatmap"
           }
          ],
          "heatmapgl": [
           {
            "colorbar": {
             "outlinewidth": 0,
             "ticks": ""
            },
            "colorscale": [
             [
              0,
              "#0d0887"
             ],
             [
              0.1111111111111111,
              "#46039f"
             ],
             [
              0.2222222222222222,
              "#7201a8"
             ],
             [
              0.3333333333333333,
              "#9c179e"
             ],
             [
              0.4444444444444444,
              "#bd3786"
             ],
             [
              0.5555555555555556,
              "#d8576b"
             ],
             [
              0.6666666666666666,
              "#ed7953"
             ],
             [
              0.7777777777777778,
              "#fb9f3a"
             ],
             [
              0.8888888888888888,
              "#fdca26"
             ],
             [
              1,
              "#f0f921"
             ]
            ],
            "type": "heatmapgl"
           }
          ],
          "histogram": [
           {
            "marker": {
             "pattern": {
              "fillmode": "overlay",
              "size": 10,
              "solidity": 0.2
             }
            },
            "type": "histogram"
           }
          ],
          "histogram2d": [
           {
            "colorbar": {
             "outlinewidth": 0,
             "ticks": ""
            },
            "colorscale": [
             [
              0,
              "#0d0887"
             ],
             [
              0.1111111111111111,
              "#46039f"
             ],
             [
              0.2222222222222222,
              "#7201a8"
             ],
             [
              0.3333333333333333,
              "#9c179e"
             ],
             [
              0.4444444444444444,
              "#bd3786"
             ],
             [
              0.5555555555555556,
              "#d8576b"
             ],
             [
              0.6666666666666666,
              "#ed7953"
             ],
             [
              0.7777777777777778,
              "#fb9f3a"
             ],
             [
              0.8888888888888888,
              "#fdca26"
             ],
             [
              1,
              "#f0f921"
             ]
            ],
            "type": "histogram2d"
           }
          ],
          "histogram2dcontour": [
           {
            "colorbar": {
             "outlinewidth": 0,
             "ticks": ""
            },
            "colorscale": [
             [
              0,
              "#0d0887"
             ],
             [
              0.1111111111111111,
              "#46039f"
             ],
             [
              0.2222222222222222,
              "#7201a8"
             ],
             [
              0.3333333333333333,
              "#9c179e"
             ],
             [
              0.4444444444444444,
              "#bd3786"
             ],
             [
              0.5555555555555556,
              "#d8576b"
             ],
             [
              0.6666666666666666,
              "#ed7953"
             ],
             [
              0.7777777777777778,
              "#fb9f3a"
             ],
             [
              0.8888888888888888,
              "#fdca26"
             ],
             [
              1,
              "#f0f921"
             ]
            ],
            "type": "histogram2dcontour"
           }
          ],
          "mesh3d": [
           {
            "colorbar": {
             "outlinewidth": 0,
             "ticks": ""
            },
            "type": "mesh3d"
           }
          ],
          "parcoords": [
           {
            "line": {
             "colorbar": {
              "outlinewidth": 0,
              "ticks": ""
             }
            },
            "type": "parcoords"
           }
          ],
          "pie": [
           {
            "automargin": true,
            "type": "pie"
           }
          ],
          "scatter": [
           {
            "marker": {
             "colorbar": {
              "outlinewidth": 0,
              "ticks": ""
             }
            },
            "type": "scatter"
           }
          ],
          "scatter3d": [
           {
            "line": {
             "colorbar": {
              "outlinewidth": 0,
              "ticks": ""
             }
            },
            "marker": {
             "colorbar": {
              "outlinewidth": 0,
              "ticks": ""
             }
            },
            "type": "scatter3d"
           }
          ],
          "scattercarpet": [
           {
            "marker": {
             "colorbar": {
              "outlinewidth": 0,
              "ticks": ""
             }
            },
            "type": "scattercarpet"
           }
          ],
          "scattergeo": [
           {
            "marker": {
             "colorbar": {
              "outlinewidth": 0,
              "ticks": ""
             }
            },
            "type": "scattergeo"
           }
          ],
          "scattergl": [
           {
            "marker": {
             "colorbar": {
              "outlinewidth": 0,
              "ticks": ""
             }
            },
            "type": "scattergl"
           }
          ],
          "scattermapbox": [
           {
            "marker": {
             "colorbar": {
              "outlinewidth": 0,
              "ticks": ""
             }
            },
            "type": "scattermapbox"
           }
          ],
          "scatterpolar": [
           {
            "marker": {
             "colorbar": {
              "outlinewidth": 0,
              "ticks": ""
             }
            },
            "type": "scatterpolar"
           }
          ],
          "scatterpolargl": [
           {
            "marker": {
             "colorbar": {
              "outlinewidth": 0,
              "ticks": ""
             }
            },
            "type": "scatterpolargl"
           }
          ],
          "scatterternary": [
           {
            "marker": {
             "colorbar": {
              "outlinewidth": 0,
              "ticks": ""
             }
            },
            "type": "scatterternary"
           }
          ],
          "surface": [
           {
            "colorbar": {
             "outlinewidth": 0,
             "ticks": ""
            },
            "colorscale": [
             [
              0,
              "#0d0887"
             ],
             [
              0.1111111111111111,
              "#46039f"
             ],
             [
              0.2222222222222222,
              "#7201a8"
             ],
             [
              0.3333333333333333,
              "#9c179e"
             ],
             [
              0.4444444444444444,
              "#bd3786"
             ],
             [
              0.5555555555555556,
              "#d8576b"
             ],
             [
              0.6666666666666666,
              "#ed7953"
             ],
             [
              0.7777777777777778,
              "#fb9f3a"
             ],
             [
              0.8888888888888888,
              "#fdca26"
             ],
             [
              1,
              "#f0f921"
             ]
            ],
            "type": "surface"
           }
          ],
          "table": [
           {
            "cells": {
             "fill": {
              "color": "#EBF0F8"
             },
             "line": {
              "color": "white"
             }
            },
            "header": {
             "fill": {
              "color": "#C8D4E3"
             },
             "line": {
              "color": "white"
             }
            },
            "type": "table"
           }
          ]
         },
         "layout": {
          "annotationdefaults": {
           "arrowcolor": "#2a3f5f",
           "arrowhead": 0,
           "arrowwidth": 1
          },
          "autotypenumbers": "strict",
          "coloraxis": {
           "colorbar": {
            "outlinewidth": 0,
            "ticks": ""
           }
          },
          "colorscale": {
           "diverging": [
            [
             0,
             "#8e0152"
            ],
            [
             0.1,
             "#c51b7d"
            ],
            [
             0.2,
             "#de77ae"
            ],
            [
             0.3,
             "#f1b6da"
            ],
            [
             0.4,
             "#fde0ef"
            ],
            [
             0.5,
             "#f7f7f7"
            ],
            [
             0.6,
             "#e6f5d0"
            ],
            [
             0.7,
             "#b8e186"
            ],
            [
             0.8,
             "#7fbc41"
            ],
            [
             0.9,
             "#4d9221"
            ],
            [
             1,
             "#276419"
            ]
           ],
           "sequential": [
            [
             0,
             "#0d0887"
            ],
            [
             0.1111111111111111,
             "#46039f"
            ],
            [
             0.2222222222222222,
             "#7201a8"
            ],
            [
             0.3333333333333333,
             "#9c179e"
            ],
            [
             0.4444444444444444,
             "#bd3786"
            ],
            [
             0.5555555555555556,
             "#d8576b"
            ],
            [
             0.6666666666666666,
             "#ed7953"
            ],
            [
             0.7777777777777778,
             "#fb9f3a"
            ],
            [
             0.8888888888888888,
             "#fdca26"
            ],
            [
             1,
             "#f0f921"
            ]
           ],
           "sequentialminus": [
            [
             0,
             "#0d0887"
            ],
            [
             0.1111111111111111,
             "#46039f"
            ],
            [
             0.2222222222222222,
             "#7201a8"
            ],
            [
             0.3333333333333333,
             "#9c179e"
            ],
            [
             0.4444444444444444,
             "#bd3786"
            ],
            [
             0.5555555555555556,
             "#d8576b"
            ],
            [
             0.6666666666666666,
             "#ed7953"
            ],
            [
             0.7777777777777778,
             "#fb9f3a"
            ],
            [
             0.8888888888888888,
             "#fdca26"
            ],
            [
             1,
             "#f0f921"
            ]
           ]
          },
          "colorway": [
           "#636efa",
           "#EF553B",
           "#00cc96",
           "#ab63fa",
           "#FFA15A",
           "#19d3f3",
           "#FF6692",
           "#B6E880",
           "#FF97FF",
           "#FECB52"
          ],
          "font": {
           "color": "#2a3f5f"
          },
          "geo": {
           "bgcolor": "white",
           "lakecolor": "white",
           "landcolor": "#E5ECF6",
           "showlakes": true,
           "showland": true,
           "subunitcolor": "white"
          },
          "hoverlabel": {
           "align": "left"
          },
          "hovermode": "closest",
          "mapbox": {
           "style": "light"
          },
          "paper_bgcolor": "white",
          "plot_bgcolor": "#E5ECF6",
          "polar": {
           "angularaxis": {
            "gridcolor": "white",
            "linecolor": "white",
            "ticks": ""
           },
           "bgcolor": "#E5ECF6",
           "radialaxis": {
            "gridcolor": "white",
            "linecolor": "white",
            "ticks": ""
           }
          },
          "scene": {
           "xaxis": {
            "backgroundcolor": "#E5ECF6",
            "gridcolor": "white",
            "gridwidth": 2,
            "linecolor": "white",
            "showbackground": true,
            "ticks": "",
            "zerolinecolor": "white"
           },
           "yaxis": {
            "backgroundcolor": "#E5ECF6",
            "gridcolor": "white",
            "gridwidth": 2,
            "linecolor": "white",
            "showbackground": true,
            "ticks": "",
            "zerolinecolor": "white"
           },
           "zaxis": {
            "backgroundcolor": "#E5ECF6",
            "gridcolor": "white",
            "gridwidth": 2,
            "linecolor": "white",
            "showbackground": true,
            "ticks": "",
            "zerolinecolor": "white"
           }
          },
          "shapedefaults": {
           "line": {
            "color": "#2a3f5f"
           }
          },
          "ternary": {
           "aaxis": {
            "gridcolor": "white",
            "linecolor": "white",
            "ticks": ""
           },
           "baxis": {
            "gridcolor": "white",
            "linecolor": "white",
            "ticks": ""
           },
           "bgcolor": "#E5ECF6",
           "caxis": {
            "gridcolor": "white",
            "linecolor": "white",
            "ticks": ""
           }
          },
          "title": {
           "x": 0.05
          },
          "xaxis": {
           "automargin": true,
           "gridcolor": "white",
           "linecolor": "white",
           "ticks": "",
           "title": {
            "standoff": 15
           },
           "zerolinecolor": "white",
           "zerolinewidth": 2
          },
          "yaxis": {
           "automargin": true,
           "gridcolor": "white",
           "linecolor": "white",
           "ticks": "",
           "title": {
            "standoff": 15
           },
           "zerolinecolor": "white",
           "zerolinewidth": 2
          }
         }
        },
        "title": {
         "text": "Annual Revenue of Ground"
        },
        "xaxis": {
         "anchor": "y",
         "domain": [
          0,
          1
         ],
         "title": {
          "text": "Cost"
         }
        },
        "xaxis2": {
         "anchor": "y2",
         "domain": [
          0,
          1
         ],
         "matches": "x",
         "showgrid": true,
         "showticklabels": false
        },
        "yaxis": {
         "anchor": "x",
         "domain": [
          0,
          0.7326
         ],
         "title": {
          "text": "count"
         }
        },
        "yaxis2": {
         "anchor": "x2",
         "domain": [
          0.7426,
          1
         ],
         "matches": "y2",
         "showgrid": false,
         "showline": false,
         "showticklabels": false,
         "ticks": ""
        }
       }
      },
      "text/html": [
       "<div>                            <div id=\"17b7d995-f583-433a-9aa3-375dcbed534d\" class=\"plotly-graph-div\" style=\"height:525px; width:100%;\"></div>            <script type=\"text/javascript\">                require([\"plotly\"], function(Plotly) {                    window.PLOTLYENV=window.PLOTLYENV || {};                                    if (document.getElementById(\"17b7d995-f583-433a-9aa3-375dcbed534d\")) {                    Plotly.newPlot(                        \"17b7d995-f583-433a-9aa3-375dcbed534d\",                        [{\"alignmentgroup\":\"True\",\"bingroup\":\"x\",\"hovertemplate\":\"Year=2011<br>Cost=%{x}<br>count=%{y}<extra></extra>\",\"legendgroup\":\"2011\",\"marker\":{\"color\":\"#1B98E2\",\"pattern\":{\"shape\":\"\"}},\"name\":\"2011\",\"offsetgroup\":\"2011\",\"orientation\":\"v\",\"showlegend\":true,\"x\":[150,350,350,250,250,100,250,200,200,350,400,200,200,400,250,250,150,200,100,100,350,350,250,250,350,400,200,150,400,350,100,250,150,350,100,400,350,400,100,100,200,400,100,250,150,350,200,250,150,400,250,400,350,100,200,250,150,150,350,200,350,400,200,200,100,150,150,100,250,100,200,400,100,250],\"xaxis\":\"x\",\"yaxis\":\"y\",\"type\":\"histogram\"},{\"alignmentgroup\":\"True\",\"hovertemplate\":\"Year=2011<br>Cost=%{x}<extra></extra>\",\"legendgroup\":\"2011\",\"marker\":{\"color\":\"#1B98E2\"},\"name\":\"2011\",\"notched\":true,\"offsetgroup\":\"2011\",\"showlegend\":false,\"x\":[150,350,350,250,250,100,250,200,200,350,400,200,200,400,250,250,150,200,100,100,350,350,250,250,350,400,200,150,400,350,100,250,150,350,100,400,350,400,100,100,200,400,100,250,150,350,200,250,150,400,250,400,350,100,200,250,150,150,350,200,350,400,200,200,100,150,150,100,250,100,200,400,100,250],\"xaxis\":\"x2\",\"yaxis\":\"y2\",\"type\":\"box\"},{\"alignmentgroup\":\"True\",\"bingroup\":\"x\",\"hovertemplate\":\"Year=2016<br>Cost=%{x}<br>count=%{y}<extra></extra>\",\"legendgroup\":\"2016\",\"marker\":{\"color\":\"#9EC74A\",\"pattern\":{\"shape\":\"\"}},\"name\":\"2016\",\"offsetgroup\":\"2016\",\"orientation\":\"v\",\"showlegend\":true,\"x\":[400,150,250,150,350,400,250,150,100,150,100,150,150,200,400,100,350,400,250,150,400,100,100,150,250,250,150,150,400,400,100,250,100,350,350,350,100,350,250,250,250,100,200,200,250,400,250,150,150,400,250,100,100,250,350,100,250,250,100,100,150,200,100,350,350,250,100,400,250,100,150],\"xaxis\":\"x\",\"yaxis\":\"y\",\"type\":\"histogram\"},{\"alignmentgroup\":\"True\",\"hovertemplate\":\"Year=2016<br>Cost=%{x}<extra></extra>\",\"legendgroup\":\"2016\",\"marker\":{\"color\":\"#9EC74A\"},\"name\":\"2016\",\"notched\":true,\"offsetgroup\":\"2016\",\"showlegend\":false,\"x\":[400,150,250,150,350,400,250,150,100,150,100,150,150,200,400,100,350,400,250,150,400,100,100,150,250,250,150,150,400,400,100,250,100,350,350,350,100,350,250,250,250,100,200,200,250,400,250,150,150,400,250,100,100,250,350,100,250,250,100,100,150,200,100,350,350,250,100,400,250,100,150],\"xaxis\":\"x2\",\"yaxis\":\"y2\",\"type\":\"box\"},{\"alignmentgroup\":\"True\",\"bingroup\":\"x\",\"hovertemplate\":\"Year=2017<br>Cost=%{x}<br>count=%{y}<extra></extra>\",\"legendgroup\":\"2017\",\"marker\":{\"color\":\"#02E058\",\"pattern\":{\"shape\":\"\"}},\"name\":\"2017\",\"offsetgroup\":\"2017\",\"orientation\":\"v\",\"showlegend\":true,\"x\":[200,150,350,250,150,200,150,200,100,200,100,100,400,250,150,100,250,400,200,150,400,400,150,350,150,100,350,150,400,100,400,100,250,250,150,200,400,100,250,100,150,200,400,350,250,100,350,200,100,100,400,100,150,100,150,400,200,400,200,150,100,400,400,150,200,250,100,350,150,350,350,100],\"xaxis\":\"x\",\"yaxis\":\"y\",\"type\":\"histogram\"},{\"alignmentgroup\":\"True\",\"hovertemplate\":\"Year=2017<br>Cost=%{x}<extra></extra>\",\"legendgroup\":\"2017\",\"marker\":{\"color\":\"#02E058\"},\"name\":\"2017\",\"notched\":true,\"offsetgroup\":\"2017\",\"showlegend\":false,\"x\":[200,150,350,250,150,200,150,200,100,200,100,100,400,250,150,100,250,400,200,150,400,400,150,350,150,100,350,150,400,100,400,100,250,250,150,200,400,100,250,100,150,200,400,350,250,100,350,200,100,100,400,100,150,100,150,400,200,400,200,150,100,400,400,150,200,250,100,350,150,350,350,100],\"xaxis\":\"x2\",\"yaxis\":\"y2\",\"type\":\"box\"},{\"alignmentgroup\":\"True\",\"bingroup\":\"x\",\"hovertemplate\":\"Year=2020<br>Cost=%{x}<br>count=%{y}<extra></extra>\",\"legendgroup\":\"2020\",\"marker\":{\"color\":\"#881D22\",\"pattern\":{\"shape\":\"\"}},\"name\":\"2020\",\"offsetgroup\":\"2020\",\"orientation\":\"v\",\"showlegend\":true,\"x\":[150,400,150,350,350,350,100,100,250,350,100,400,150,400,250,200,100,400,250,250,150,250,150,150,400,150,400,100,350,400,200,200,100,400,200,350,200,150,150,350,250,350,150,200,250,150,150,100,250,250,150,100,250,200],\"xaxis\":\"x\",\"yaxis\":\"y\",\"type\":\"histogram\"},{\"alignmentgroup\":\"True\",\"hovertemplate\":\"Year=2020<br>Cost=%{x}<extra></extra>\",\"legendgroup\":\"2020\",\"marker\":{\"color\":\"#881D22\"},\"name\":\"2020\",\"notched\":true,\"offsetgroup\":\"2020\",\"showlegend\":false,\"x\":[150,400,150,350,350,350,100,100,250,350,100,400,150,400,250,200,100,400,250,250,150,250,150,150,400,150,400,100,350,400,200,200,100,400,200,350,200,150,150,350,250,350,150,200,250,150,150,100,250,250,150,100,250,200],\"xaxis\":\"x2\",\"yaxis\":\"y2\",\"type\":\"box\"},{\"alignmentgroup\":\"True\",\"bingroup\":\"x\",\"hovertemplate\":\"Year=2015<br>Cost=%{x}<br>count=%{y}<extra></extra>\",\"legendgroup\":\"2015\",\"marker\":{\"color\":\"#79A1D7\",\"pattern\":{\"shape\":\"\"}},\"name\":\"2015\",\"offsetgroup\":\"2015\",\"orientation\":\"v\",\"showlegend\":true,\"x\":[400,200,100,400,200,400,200,400,350,150,250,250,350,400,150,400,150,350,100,400,150,250,250,250,200,350,350,200,350,200,250,150,100,200,100,400,350,100,200,200,150,250,250,250,100,100,200,250,200,150,150,150,200,200,100,100,250,250,400,200,250,200,100,350,150,150,100],\"xaxis\":\"x\",\"yaxis\":\"y\",\"type\":\"histogram\"},{\"alignmentgroup\":\"True\",\"hovertemplate\":\"Year=2015<br>Cost=%{x}<extra></extra>\",\"legendgroup\":\"2015\",\"marker\":{\"color\":\"#79A1D7\"},\"name\":\"2015\",\"notched\":true,\"offsetgroup\":\"2015\",\"showlegend\":false,\"x\":[400,200,100,400,200,400,200,400,350,150,250,250,350,400,150,400,150,350,100,400,150,250,250,250,200,350,350,200,350,200,250,150,100,200,100,400,350,100,200,200,150,250,250,250,100,100,200,250,200,150,150,150,200,200,100,100,250,250,400,200,250,200,100,350,150,150,100],\"xaxis\":\"x2\",\"yaxis\":\"y2\",\"type\":\"box\"},{\"alignmentgroup\":\"True\",\"bingroup\":\"x\",\"hovertemplate\":\"Year=2021<br>Cost=%{x}<br>count=%{y}<extra></extra>\",\"legendgroup\":\"2021\",\"marker\":{\"color\":\"#F93EC3\",\"pattern\":{\"shape\":\"\"}},\"name\":\"2021\",\"offsetgroup\":\"2021\",\"orientation\":\"v\",\"showlegend\":true,\"x\":[100,100,100,100,250,350,400,350,350,150,250,400,350,100,150,350,200,250,400,350,400,350,150,100,400,400,200,200,400,350,400,100,400,350,350,150,250,150,100,250,200,250,200,350,150,200,250,200,400,250,350,100,400,150,100,150,400,150,400,400,350,200,250,350,400,100,250,200,100,200,350,350,200,150,200,350],\"xaxis\":\"x\",\"yaxis\":\"y\",\"type\":\"histogram\"},{\"alignmentgroup\":\"True\",\"hovertemplate\":\"Year=2021<br>Cost=%{x}<extra></extra>\",\"legendgroup\":\"2021\",\"marker\":{\"color\":\"#F93EC3\"},\"name\":\"2021\",\"notched\":true,\"offsetgroup\":\"2021\",\"showlegend\":false,\"x\":[100,100,100,100,250,350,400,350,350,150,250,400,350,100,150,350,200,250,400,350,400,350,150,100,400,400,200,200,400,350,400,100,400,350,350,150,250,150,100,250,200,250,200,350,150,200,250,200,400,250,350,100,400,150,100,150,400,150,400,400,350,200,250,350,400,100,250,200,100,200,350,350,200,150,200,350],\"xaxis\":\"x2\",\"yaxis\":\"y2\",\"type\":\"box\"},{\"alignmentgroup\":\"True\",\"bingroup\":\"x\",\"hovertemplate\":\"Year=2018<br>Cost=%{x}<br>count=%{y}<extra></extra>\",\"legendgroup\":\"2018\",\"marker\":{\"color\":\"#AD76D1\",\"pattern\":{\"shape\":\"\"}},\"name\":\"2018\",\"offsetgroup\":\"2018\",\"orientation\":\"v\",\"showlegend\":true,\"x\":[200,200,100,400,250,200,250,200,150,350,350,400,200,150,350,250,150,250,350,350,400,400,350,100,200,400,250,400,400,350,400,400,400,150,150,200,200,350,150,150,200,250,150,350,400,350,100,250,350,150,400,250,400,350,400,150,400,250,250,250,200,100,200,200,250,200,200,350,350],\"xaxis\":\"x\",\"yaxis\":\"y\",\"type\":\"histogram\"},{\"alignmentgroup\":\"True\",\"hovertemplate\":\"Year=2018<br>Cost=%{x}<extra></extra>\",\"legendgroup\":\"2018\",\"marker\":{\"color\":\"#AD76D1\"},\"name\":\"2018\",\"notched\":true,\"offsetgroup\":\"2018\",\"showlegend\":false,\"x\":[200,200,100,400,250,200,250,200,150,350,350,400,200,150,350,250,150,250,350,350,400,400,350,100,200,400,250,400,400,350,400,400,400,150,150,200,200,350,150,150,200,250,150,350,400,350,100,250,350,150,400,250,400,350,400,150,400,250,250,250,200,100,200,200,250,200,200,350,350],\"xaxis\":\"x2\",\"yaxis\":\"y2\",\"type\":\"box\"},{\"alignmentgroup\":\"True\",\"bingroup\":\"x\",\"hovertemplate\":\"Year=2012<br>Cost=%{x}<br>count=%{y}<extra></extra>\",\"legendgroup\":\"2012\",\"marker\":{\"color\":\"#90D943\",\"pattern\":{\"shape\":\"\"}},\"name\":\"2012\",\"offsetgroup\":\"2012\",\"orientation\":\"v\",\"showlegend\":true,\"x\":[250,100,200,200,250,400,250,400,150,150,200,250,400,100,400,150,200,350,200,400,150,350,350,200,350,200,350,100,200,250,150,200,200,150,150,400,350,150,200,350,350,200,250,100,100,250,350,350,400,250,250,250,100,150,100,150,150,100,150,350,350,200,150,100,100,100,350,150,150,250,100,200,100,100,250,400,400,100,400],\"xaxis\":\"x\",\"yaxis\":\"y\",\"type\":\"histogram\"},{\"alignmentgroup\":\"True\",\"hovertemplate\":\"Year=2012<br>Cost=%{x}<extra></extra>\",\"legendgroup\":\"2012\",\"marker\":{\"color\":\"#90D943\"},\"name\":\"2012\",\"notched\":true,\"offsetgroup\":\"2012\",\"showlegend\":false,\"x\":[250,100,200,200,250,400,250,400,150,150,200,250,400,100,400,150,200,350,200,400,150,350,350,200,350,200,350,100,200,250,150,200,200,150,150,400,350,150,200,350,350,200,250,100,100,250,350,350,400,250,250,250,100,150,100,150,150,100,150,350,350,200,150,100,100,100,350,150,150,250,100,200,100,100,250,400,400,100,400],\"xaxis\":\"x2\",\"yaxis\":\"y2\",\"type\":\"box\"},{\"alignmentgroup\":\"True\",\"bingroup\":\"x\",\"hovertemplate\":\"Year=2014<br>Cost=%{x}<br>count=%{y}<extra></extra>\",\"legendgroup\":\"2014\",\"marker\":{\"color\":\"#1F4855\",\"pattern\":{\"shape\":\"\"}},\"name\":\"2014\",\"offsetgroup\":\"2014\",\"orientation\":\"v\",\"showlegend\":true,\"x\":[400,100,200,350,400,200,350,150,150,100,150,350,400,150,250,150,400,200,200,400,150,150,200,150,100,350,400,350,200,150,150,250,150,100,200,250,200,100,250,150,150,400,150,250,250,100,250,250,400,200,100,400,100,400,250,400,400,200,100,400,250,150,150,100,400,150,250,200,250],\"xaxis\":\"x\",\"yaxis\":\"y\",\"type\":\"histogram\"},{\"alignmentgroup\":\"True\",\"hovertemplate\":\"Year=2014<br>Cost=%{x}<extra></extra>\",\"legendgroup\":\"2014\",\"marker\":{\"color\":\"#1F4855\"},\"name\":\"2014\",\"notched\":true,\"offsetgroup\":\"2014\",\"showlegend\":false,\"x\":[400,100,200,350,400,200,350,150,150,100,150,350,400,150,250,150,400,200,200,400,150,150,200,150,100,350,400,350,200,150,150,250,150,100,200,250,200,100,250,150,150,400,150,250,250,100,250,250,400,200,100,400,100,400,250,400,400,200,100,400,250,150,150,100,400,150,250,200,250],\"xaxis\":\"x2\",\"yaxis\":\"y2\",\"type\":\"box\"},{\"alignmentgroup\":\"True\",\"bingroup\":\"x\",\"hovertemplate\":\"Year=2013<br>Cost=%{x}<br>count=%{y}<extra></extra>\",\"legendgroup\":\"2013\",\"marker\":{\"color\":\"#3E8583\",\"pattern\":{\"shape\":\"\"}},\"name\":\"2013\",\"offsetgroup\":\"2013\",\"orientation\":\"v\",\"showlegend\":true,\"x\":[350,150,350,100,200,400,250,250,200,150,250,150,100,250,200,250,200,250,250,250,150,350,400,250,400,250,150,350,150,250,400,100,100,250,250,350,250,200,350,150,150,400,200,400,250,150,150,150,350,400,150,250,200,150,200,100,200,250,200,400,200,100,250],\"xaxis\":\"x\",\"yaxis\":\"y\",\"type\":\"histogram\"},{\"alignmentgroup\":\"True\",\"hovertemplate\":\"Year=2013<br>Cost=%{x}<extra></extra>\",\"legendgroup\":\"2013\",\"marker\":{\"color\":\"#3E8583\"},\"name\":\"2013\",\"notched\":true,\"offsetgroup\":\"2013\",\"showlegend\":false,\"x\":[350,150,350,100,200,400,250,250,200,150,250,150,100,250,200,250,200,250,250,250,150,350,400,250,400,250,150,350,150,250,400,100,100,250,250,350,250,200,350,150,150,400,200,400,250,150,150,150,350,400,150,250,200,150,200,100,200,250,200,400,200,100,250],\"xaxis\":\"x2\",\"yaxis\":\"y2\",\"type\":\"box\"},{\"alignmentgroup\":\"True\",\"bingroup\":\"x\",\"hovertemplate\":\"Year=2019<br>Cost=%{x}<br>count=%{y}<extra></extra>\",\"legendgroup\":\"2019\",\"marker\":{\"color\":\"#6C3F49\",\"pattern\":{\"shape\":\"\"}},\"name\":\"2019\",\"offsetgroup\":\"2019\",\"orientation\":\"v\",\"showlegend\":true,\"x\":[350,400,250,100,250,100,250,250,350,350,350,250,250,400,400,200,400,100,150,400,150,250,250,400,400,400,250,200,350,200,250,100,400,400,200,150,100,200,400,100,400,200,400,150,100,350,150,250,250,250,350,100,250,400,250,350,200,250,100,350,400,250,100,200,150,100,350],\"xaxis\":\"x\",\"yaxis\":\"y\",\"type\":\"histogram\"},{\"alignmentgroup\":\"True\",\"hovertemplate\":\"Year=2019<br>Cost=%{x}<extra></extra>\",\"legendgroup\":\"2019\",\"marker\":{\"color\":\"#6C3F49\"},\"name\":\"2019\",\"notched\":true,\"offsetgroup\":\"2019\",\"showlegend\":false,\"x\":[350,400,250,100,250,100,250,250,350,350,350,250,250,400,400,200,400,100,150,400,150,250,250,400,400,400,250,200,350,200,250,100,400,400,200,150,100,200,400,100,400,200,400,150,100,350,150,250,250,250,350,100,250,400,250,350,200,250,100,350,400,250,100,200,150,100,350],\"xaxis\":\"x2\",\"yaxis\":\"y2\",\"type\":\"box\"}],                        {\"template\":{\"data\":{\"bar\":[{\"error_x\":{\"color\":\"#2a3f5f\"},\"error_y\":{\"color\":\"#2a3f5f\"},\"marker\":{\"line\":{\"color\":\"#E5ECF6\",\"width\":0.5},\"pattern\":{\"fillmode\":\"overlay\",\"size\":10,\"solidity\":0.2}},\"type\":\"bar\"}],\"barpolar\":[{\"marker\":{\"line\":{\"color\":\"#E5ECF6\",\"width\":0.5},\"pattern\":{\"fillmode\":\"overlay\",\"size\":10,\"solidity\":0.2}},\"type\":\"barpolar\"}],\"carpet\":[{\"aaxis\":{\"endlinecolor\":\"#2a3f5f\",\"gridcolor\":\"white\",\"linecolor\":\"white\",\"minorgridcolor\":\"white\",\"startlinecolor\":\"#2a3f5f\"},\"baxis\":{\"endlinecolor\":\"#2a3f5f\",\"gridcolor\":\"white\",\"linecolor\":\"white\",\"minorgridcolor\":\"white\",\"startlinecolor\":\"#2a3f5f\"},\"type\":\"carpet\"}],\"choropleth\":[{\"colorbar\":{\"outlinewidth\":0,\"ticks\":\"\"},\"type\":\"choropleth\"}],\"contour\":[{\"colorbar\":{\"outlinewidth\":0,\"ticks\":\"\"},\"colorscale\":[[0.0,\"#0d0887\"],[0.1111111111111111,\"#46039f\"],[0.2222222222222222,\"#7201a8\"],[0.3333333333333333,\"#9c179e\"],[0.4444444444444444,\"#bd3786\"],[0.5555555555555556,\"#d8576b\"],[0.6666666666666666,\"#ed7953\"],[0.7777777777777778,\"#fb9f3a\"],[0.8888888888888888,\"#fdca26\"],[1.0,\"#f0f921\"]],\"type\":\"contour\"}],\"contourcarpet\":[{\"colorbar\":{\"outlinewidth\":0,\"ticks\":\"\"},\"type\":\"contourcarpet\"}],\"heatmap\":[{\"colorbar\":{\"outlinewidth\":0,\"ticks\":\"\"},\"colorscale\":[[0.0,\"#0d0887\"],[0.1111111111111111,\"#46039f\"],[0.2222222222222222,\"#7201a8\"],[0.3333333333333333,\"#9c179e\"],[0.4444444444444444,\"#bd3786\"],[0.5555555555555556,\"#d8576b\"],[0.6666666666666666,\"#ed7953\"],[0.7777777777777778,\"#fb9f3a\"],[0.8888888888888888,\"#fdca26\"],[1.0,\"#f0f921\"]],\"type\":\"heatmap\"}],\"heatmapgl\":[{\"colorbar\":{\"outlinewidth\":0,\"ticks\":\"\"},\"colorscale\":[[0.0,\"#0d0887\"],[0.1111111111111111,\"#46039f\"],[0.2222222222222222,\"#7201a8\"],[0.3333333333333333,\"#9c179e\"],[0.4444444444444444,\"#bd3786\"],[0.5555555555555556,\"#d8576b\"],[0.6666666666666666,\"#ed7953\"],[0.7777777777777778,\"#fb9f3a\"],[0.8888888888888888,\"#fdca26\"],[1.0,\"#f0f921\"]],\"type\":\"heatmapgl\"}],\"histogram\":[{\"marker\":{\"pattern\":{\"fillmode\":\"overlay\",\"size\":10,\"solidity\":0.2}},\"type\":\"histogram\"}],\"histogram2d\":[{\"colorbar\":{\"outlinewidth\":0,\"ticks\":\"\"},\"colorscale\":[[0.0,\"#0d0887\"],[0.1111111111111111,\"#46039f\"],[0.2222222222222222,\"#7201a8\"],[0.3333333333333333,\"#9c179e\"],[0.4444444444444444,\"#bd3786\"],[0.5555555555555556,\"#d8576b\"],[0.6666666666666666,\"#ed7953\"],[0.7777777777777778,\"#fb9f3a\"],[0.8888888888888888,\"#fdca26\"],[1.0,\"#f0f921\"]],\"type\":\"histogram2d\"}],\"histogram2dcontour\":[{\"colorbar\":{\"outlinewidth\":0,\"ticks\":\"\"},\"colorscale\":[[0.0,\"#0d0887\"],[0.1111111111111111,\"#46039f\"],[0.2222222222222222,\"#7201a8\"],[0.3333333333333333,\"#9c179e\"],[0.4444444444444444,\"#bd3786\"],[0.5555555555555556,\"#d8576b\"],[0.6666666666666666,\"#ed7953\"],[0.7777777777777778,\"#fb9f3a\"],[0.8888888888888888,\"#fdca26\"],[1.0,\"#f0f921\"]],\"type\":\"histogram2dcontour\"}],\"mesh3d\":[{\"colorbar\":{\"outlinewidth\":0,\"ticks\":\"\"},\"type\":\"mesh3d\"}],\"parcoords\":[{\"line\":{\"colorbar\":{\"outlinewidth\":0,\"ticks\":\"\"}},\"type\":\"parcoords\"}],\"pie\":[{\"automargin\":true,\"type\":\"pie\"}],\"scatter\":[{\"marker\":{\"colorbar\":{\"outlinewidth\":0,\"ticks\":\"\"}},\"type\":\"scatter\"}],\"scatter3d\":[{\"line\":{\"colorbar\":{\"outlinewidth\":0,\"ticks\":\"\"}},\"marker\":{\"colorbar\":{\"outlinewidth\":0,\"ticks\":\"\"}},\"type\":\"scatter3d\"}],\"scattercarpet\":[{\"marker\":{\"colorbar\":{\"outlinewidth\":0,\"ticks\":\"\"}},\"type\":\"scattercarpet\"}],\"scattergeo\":[{\"marker\":{\"colorbar\":{\"outlinewidth\":0,\"ticks\":\"\"}},\"type\":\"scattergeo\"}],\"scattergl\":[{\"marker\":{\"colorbar\":{\"outlinewidth\":0,\"ticks\":\"\"}},\"type\":\"scattergl\"}],\"scattermapbox\":[{\"marker\":{\"colorbar\":{\"outlinewidth\":0,\"ticks\":\"\"}},\"type\":\"scattermapbox\"}],\"scatterpolar\":[{\"marker\":{\"colorbar\":{\"outlinewidth\":0,\"ticks\":\"\"}},\"type\":\"scatterpolar\"}],\"scatterpolargl\":[{\"marker\":{\"colorbar\":{\"outlinewidth\":0,\"ticks\":\"\"}},\"type\":\"scatterpolargl\"}],\"scatterternary\":[{\"marker\":{\"colorbar\":{\"outlinewidth\":0,\"ticks\":\"\"}},\"type\":\"scatterternary\"}],\"surface\":[{\"colorbar\":{\"outlinewidth\":0,\"ticks\":\"\"},\"colorscale\":[[0.0,\"#0d0887\"],[0.1111111111111111,\"#46039f\"],[0.2222222222222222,\"#7201a8\"],[0.3333333333333333,\"#9c179e\"],[0.4444444444444444,\"#bd3786\"],[0.5555555555555556,\"#d8576b\"],[0.6666666666666666,\"#ed7953\"],[0.7777777777777778,\"#fb9f3a\"],[0.8888888888888888,\"#fdca26\"],[1.0,\"#f0f921\"]],\"type\":\"surface\"}],\"table\":[{\"cells\":{\"fill\":{\"color\":\"#EBF0F8\"},\"line\":{\"color\":\"white\"}},\"header\":{\"fill\":{\"color\":\"#C8D4E3\"},\"line\":{\"color\":\"white\"}},\"type\":\"table\"}]},\"layout\":{\"annotationdefaults\":{\"arrowcolor\":\"#2a3f5f\",\"arrowhead\":0,\"arrowwidth\":1},\"autotypenumbers\":\"strict\",\"coloraxis\":{\"colorbar\":{\"outlinewidth\":0,\"ticks\":\"\"}},\"colorscale\":{\"diverging\":[[0,\"#8e0152\"],[0.1,\"#c51b7d\"],[0.2,\"#de77ae\"],[0.3,\"#f1b6da\"],[0.4,\"#fde0ef\"],[0.5,\"#f7f7f7\"],[0.6,\"#e6f5d0\"],[0.7,\"#b8e186\"],[0.8,\"#7fbc41\"],[0.9,\"#4d9221\"],[1,\"#276419\"]],\"sequential\":[[0.0,\"#0d0887\"],[0.1111111111111111,\"#46039f\"],[0.2222222222222222,\"#7201a8\"],[0.3333333333333333,\"#9c179e\"],[0.4444444444444444,\"#bd3786\"],[0.5555555555555556,\"#d8576b\"],[0.6666666666666666,\"#ed7953\"],[0.7777777777777778,\"#fb9f3a\"],[0.8888888888888888,\"#fdca26\"],[1.0,\"#f0f921\"]],\"sequentialminus\":[[0.0,\"#0d0887\"],[0.1111111111111111,\"#46039f\"],[0.2222222222222222,\"#7201a8\"],[0.3333333333333333,\"#9c179e\"],[0.4444444444444444,\"#bd3786\"],[0.5555555555555556,\"#d8576b\"],[0.6666666666666666,\"#ed7953\"],[0.7777777777777778,\"#fb9f3a\"],[0.8888888888888888,\"#fdca26\"],[1.0,\"#f0f921\"]]},\"colorway\":[\"#636efa\",\"#EF553B\",\"#00cc96\",\"#ab63fa\",\"#FFA15A\",\"#19d3f3\",\"#FF6692\",\"#B6E880\",\"#FF97FF\",\"#FECB52\"],\"font\":{\"color\":\"#2a3f5f\"},\"geo\":{\"bgcolor\":\"white\",\"lakecolor\":\"white\",\"landcolor\":\"#E5ECF6\",\"showlakes\":true,\"showland\":true,\"subunitcolor\":\"white\"},\"hoverlabel\":{\"align\":\"left\"},\"hovermode\":\"closest\",\"mapbox\":{\"style\":\"light\"},\"paper_bgcolor\":\"white\",\"plot_bgcolor\":\"#E5ECF6\",\"polar\":{\"angularaxis\":{\"gridcolor\":\"white\",\"linecolor\":\"white\",\"ticks\":\"\"},\"bgcolor\":\"#E5ECF6\",\"radialaxis\":{\"gridcolor\":\"white\",\"linecolor\":\"white\",\"ticks\":\"\"}},\"scene\":{\"xaxis\":{\"backgroundcolor\":\"#E5ECF6\",\"gridcolor\":\"white\",\"gridwidth\":2,\"linecolor\":\"white\",\"showbackground\":true,\"ticks\":\"\",\"zerolinecolor\":\"white\"},\"yaxis\":{\"backgroundcolor\":\"#E5ECF6\",\"gridcolor\":\"white\",\"gridwidth\":2,\"linecolor\":\"white\",\"showbackground\":true,\"ticks\":\"\",\"zerolinecolor\":\"white\"},\"zaxis\":{\"backgroundcolor\":\"#E5ECF6\",\"gridcolor\":\"white\",\"gridwidth\":2,\"linecolor\":\"white\",\"showbackground\":true,\"ticks\":\"\",\"zerolinecolor\":\"white\"}},\"shapedefaults\":{\"line\":{\"color\":\"#2a3f5f\"}},\"ternary\":{\"aaxis\":{\"gridcolor\":\"white\",\"linecolor\":\"white\",\"ticks\":\"\"},\"baxis\":{\"gridcolor\":\"white\",\"linecolor\":\"white\",\"ticks\":\"\"},\"bgcolor\":\"#E5ECF6\",\"caxis\":{\"gridcolor\":\"white\",\"linecolor\":\"white\",\"ticks\":\"\"}},\"title\":{\"x\":0.05},\"xaxis\":{\"automargin\":true,\"gridcolor\":\"white\",\"linecolor\":\"white\",\"ticks\":\"\",\"title\":{\"standoff\":15},\"zerolinecolor\":\"white\",\"zerolinewidth\":2},\"yaxis\":{\"automargin\":true,\"gridcolor\":\"white\",\"linecolor\":\"white\",\"ticks\":\"\",\"title\":{\"standoff\":15},\"zerolinecolor\":\"white\",\"zerolinewidth\":2}}},\"xaxis\":{\"anchor\":\"y\",\"domain\":[0.0,1.0],\"title\":{\"text\":\"Cost\"}},\"yaxis\":{\"anchor\":\"x\",\"domain\":[0.0,0.7326],\"title\":{\"text\":\"count\"}},\"xaxis2\":{\"anchor\":\"y2\",\"domain\":[0.0,1.0],\"matches\":\"x\",\"showticklabels\":false,\"showgrid\":true},\"yaxis2\":{\"anchor\":\"x2\",\"domain\":[0.7426,1.0],\"matches\":\"y2\",\"showticklabels\":false,\"showline\":false,\"ticks\":\"\",\"showgrid\":false},\"legend\":{\"title\":{\"text\":\"Year\"},\"tracegroupgap\":0},\"title\":{\"text\":\"Annual Revenue of Ground\"},\"barmode\":\"relative\",\"bargap\":0.1},                        {\"responsive\": true}                    ).then(function(){\n",
       "                            \n",
       "var gd = document.getElementById('17b7d995-f583-433a-9aa3-375dcbed534d');\n",
       "var x = new MutationObserver(function (mutations, observer) {{\n",
       "        var display = window.getComputedStyle(gd).display;\n",
       "        if (!display || display === 'none') {{\n",
       "            console.log([gd, 'removed!']);\n",
       "            Plotly.purge(gd);\n",
       "            observer.disconnect();\n",
       "        }}\n",
       "}});\n",
       "\n",
       "// Listen for the removal of the full notebook cells\n",
       "var notebookContainer = gd.closest('#notebook-container');\n",
       "if (notebookContainer) {{\n",
       "    x.observe(notebookContainer, {childList: true});\n",
       "}}\n",
       "\n",
       "// Listen for the clearing of the current output cell\n",
       "var outputEl = gd.closest('.output');\n",
       "if (outputEl) {{\n",
       "    x.observe(outputEl, {childList: true});\n",
       "}}\n",
       "\n",
       "                        })                };                });            </script>        </div>"
      ]
     },
     "metadata": {},
     "output_type": "display_data"
    }
   ],
   "source": [
    "col_dis_seq = []\n",
    "for i in range(0,11):\n",
    "    col_dis_seq.append(randomColor())\n",
    "fig = px.histogram(groundOwner1_df, \n",
    "                   x='Cost', \n",
    "                   marginal='box', \n",
    "                   color='Year', \n",
    "                   color_discrete_sequence=col_dis_seq, \n",
    "                   title='Annual Revenue of Ground')\n",
    "fig.update_layout(bargap=0.1)\n",
    "fig.show()"
   ]
  },
  {
   "cell_type": "code",
   "execution_count": 60,
   "id": "f8360916",
   "metadata": {},
   "outputs": [],
   "source": [
    "#for all grounds: \n",
    "\n",
    "def RegressionPipeline(gDF):\n",
    "    print(gDF)\n",
    "    print(\"\\nInformation about the Data for Ground\")\n",
    "    gDF.info()\n",
    "    print(\"\\nStatistics about the Revenue Data for Ground\")\n",
    "    print(gDF.describe())\n",
    "    fig = px.histogram(gDF, \n",
    "                   x='Cost', \n",
    "                   marginal='box', \n",
    "                   nbins=47, \n",
    "                   title='Distribution of Cost')\n",
    "    fig.update_layout(bargap=0.1)\n",
    "    fig.show()\n",
    "    \n",
    "    \n",
    "\n"
   ]
  },
  {
   "cell_type": "code",
   "execution_count": 61,
   "id": "164d6f5a",
   "metadata": {},
   "outputs": [
    {
     "name": "stdout",
     "output_type": "stream",
     "text": [
      "      Year       Day      Month GroundName   TimeSlot   Sport  Cost\n",
      "2     2011    Friday   February    Ground1  timeslot4  sport2   150\n",
      "4     2016  Thursday       July    Ground1  timeslot1  sport5   400\n",
      "6     2011   Tuesday  September    Ground1  timeslot5  sport4   350\n",
      "8     2017  Thursday   February    Ground1  timeslot4  sport6   200\n",
      "9     2011  Thursday  September    Ground1  timeslot4  sport4   350\n",
      "...    ...       ...        ...        ...        ...     ...   ...\n",
      "2953  2014  Saturday   December    Ground1  timeslot5  sport6   200\n",
      "2957  2017  Saturday     August    Ground1  timeslot1  sport1   100\n",
      "2972  2015    Friday   December    Ground1  timeslot4  sport1   100\n",
      "2976  2014  Saturday       July    Ground1  timeslot1  sport3   250\n",
      "2986  2012    Friday   November    Ground1  timeslot4  sport5   400\n",
      "\n",
      "[761 rows x 7 columns]\n",
      "\n",
      "Information about the Data for Ground\n",
      "<class 'pandas.core.frame.DataFrame'>\n",
      "Int64Index: 761 entries, 2 to 2986\n",
      "Data columns (total 7 columns):\n",
      " #   Column      Non-Null Count  Dtype \n",
      "---  ------      --------------  ----- \n",
      " 0   Year        761 non-null    object\n",
      " 1   Day         761 non-null    object\n",
      " 2   Month       761 non-null    object\n",
      " 3   GroundName  761 non-null    object\n",
      " 4   TimeSlot    761 non-null    object\n",
      " 5   Sport       761 non-null    object\n",
      " 6   Cost        761 non-null    int64 \n",
      "dtypes: int64(1), object(6)\n",
      "memory usage: 47.6+ KB\n",
      "\n",
      "Statistics about the Revenue Data for Ground\n",
      "             Cost\n",
      "count  761.000000\n",
      "mean   240.013141\n",
      "std    104.843868\n",
      "min    100.000000\n",
      "25%    150.000000\n",
      "50%    250.000000\n",
      "75%    350.000000\n",
      "max    400.000000\n"
     ]
    },
    {
     "data": {
      "application/vnd.plotly.v1+json": {
       "config": {
        "plotlyServerURL": "https://plot.ly"
       },
       "data": [
        {
         "alignmentgroup": "True",
         "bingroup": "x",
         "hovertemplate": "Cost=%{x}<br>count=%{y}<extra></extra>",
         "legendgroup": "",
         "marker": {
          "color": "#636efa",
          "pattern": {
           "shape": ""
          }
         },
         "name": "",
         "nbinsx": 47,
         "offsetgroup": "",
         "orientation": "v",
         "showlegend": false,
         "type": "histogram",
         "x": [
          150,
          400,
          350,
          200,
          350,
          150,
          150,
          400,
          100,
          200,
          100,
          200,
          400,
          250,
          100,
          400,
          350,
          350,
          200,
          400,
          150,
          250,
          100,
          100,
          100,
          250,
          150,
          250,
          100,
          100,
          350,
          250,
          150,
          350,
          100,
          250,
          400,
          200,
          250,
          400,
          350,
          200,
          250,
          400,
          150,
          350,
          200,
          200,
          200,
          200,
          350,
          150,
          200,
          150,
          200,
          100,
          350,
          250,
          400,
          250,
          100,
          250,
          100,
          100,
          200,
          200,
          100,
          150,
          200,
          350,
          400,
          200,
          100,
          350,
          350,
          250,
          200,
          150,
          250,
          400,
          400,
          400,
          400,
          100,
          200,
          250,
          250,
          350,
          350,
          400,
          400,
          150,
          150,
          100,
          150,
          150,
          200,
          250,
          150,
          200,
          200,
          150,
          250,
          350,
          350,
          200,
          100,
          250,
          250,
          250,
          400,
          100,
          350,
          250,
          150,
          250,
          150,
          200,
          150,
          400,
          150,
          400,
          400,
          100,
          400,
          250,
          250,
          250,
          100,
          350,
          400,
          250,
          100,
          150,
          350,
          150,
          350,
          350,
          350,
          400,
          100,
          350,
          150,
          400,
          400,
          150,
          150,
          150,
          150,
          100,
          350,
          250,
          200,
          350,
          250,
          100,
          250,
          350,
          350,
          400,
          400,
          200,
          250,
          350,
          250,
          100,
          250,
          400,
          400,
          200,
          150,
          150,
          100,
          350,
          250,
          150,
          200,
          250,
          200,
          250,
          150,
          150,
          400,
          150,
          250,
          250,
          250,
          200,
          150,
          250,
          200,
          400,
          200,
          400,
          400,
          100,
          350,
          100,
          400,
          200,
          200,
          150,
          350,
          400,
          100,
          400,
          400,
          200,
          350,
          150,
          350,
          400,
          100,
          400,
          150,
          250,
          400,
          150,
          400,
          150,
          150,
          200,
          100,
          250,
          350,
          400,
          250,
          350,
          250,
          350,
          350,
          150,
          400,
          200,
          150,
          400,
          350,
          250,
          400,
          150,
          200,
          100,
          250,
          350,
          150,
          350,
          150,
          400,
          150,
          100,
          150,
          250,
          200,
          350,
          100,
          150,
          250,
          350,
          400,
          200,
          250,
          200,
          350,
          400,
          150,
          400,
          400,
          250,
          100,
          400,
          100,
          250,
          200,
          150,
          350,
          400,
          100,
          100,
          400,
          200,
          350,
          400,
          400,
          400,
          250,
          350,
          250,
          200,
          250,
          350,
          400,
          250,
          400,
          150,
          400,
          400,
          350,
          100,
          250,
          150,
          400,
          250,
          250,
          100,
          400,
          200,
          150,
          100,
          350,
          250,
          250,
          150,
          350,
          250,
          100,
          250,
          400,
          350,
          400,
          350,
          200,
          150,
          150,
          350,
          350,
          400,
          200,
          350,
          400,
          350,
          200,
          350,
          350,
          100,
          150,
          400,
          250,
          200,
          350,
          250,
          150,
          400,
          250,
          250,
          250,
          200,
          100,
          100,
          200,
          100,
          100,
          250,
          350,
          400,
          150,
          100,
          150,
          100,
          150,
          350,
          100,
          400,
          250,
          250,
          400,
          400,
          150,
          200,
          350,
          150,
          150,
          250,
          150,
          150,
          150,
          350,
          200,
          200,
          250,
          200,
          250,
          400,
          250,
          350,
          200,
          100,
          400,
          400,
          100,
          200,
          400,
          250,
          100,
          250,
          100,
          400,
          150,
          200,
          400,
          150,
          150,
          250,
          150,
          400,
          350,
          200,
          150,
          200,
          100,
          350,
          150,
          200,
          250,
          350,
          150,
          150,
          400,
          150,
          400,
          350,
          200,
          100,
          250,
          250,
          100,
          100,
          100,
          250,
          250,
          100,
          200,
          200,
          350,
          200,
          100,
          200,
          350,
          250,
          200,
          200,
          400,
          100,
          350,
          350,
          150,
          100,
          250,
          150,
          100,
          200,
          150,
          350,
          250,
          350,
          150,
          200,
          350,
          400,
          400,
          400,
          350,
          400,
          100,
          250,
          400,
          100,
          200,
          350,
          350,
          250,
          100,
          100,
          250,
          100,
          250,
          250,
          200,
          150,
          250,
          100,
          400,
          350,
          250,
          250,
          200,
          250,
          200,
          350,
          250,
          350,
          200,
          150,
          200,
          150,
          100,
          400,
          400,
          350,
          250,
          100,
          200,
          250,
          200,
          200,
          100,
          150,
          150,
          100,
          150,
          250,
          400,
          150,
          400,
          400,
          250,
          400,
          100,
          150,
          400,
          150,
          400,
          100,
          100,
          100,
          150,
          200,
          400,
          250,
          400,
          250,
          100,
          250,
          150,
          150,
          100,
          400,
          400,
          350,
          350,
          400,
          150,
          400,
          150,
          100,
          200,
          100,
          100,
          250,
          150,
          350,
          150,
          200,
          250,
          250,
          250,
          150,
          350,
          150,
          200,
          100,
          100,
          250,
          150,
          100,
          100,
          250,
          200,
          250,
          400,
          350,
          250,
          150,
          350,
          350,
          250,
          200,
          250,
          250,
          400,
          400,
          200,
          200,
          200,
          250,
          150,
          150,
          350,
          100,
          250,
          150,
          250,
          250,
          150,
          200,
          150,
          100,
          350,
          100,
          400,
          150,
          400,
          400,
          350,
          350,
          200,
          150,
          150,
          350,
          400,
          400,
          200,
          100,
          150,
          200,
          100,
          250,
          400,
          200,
          400,
          250,
          100,
          250,
          350,
          150,
          200,
          400,
          350,
          250,
          100,
          200,
          150,
          150,
          350,
          200,
          350,
          150,
          150,
          400,
          100,
          250,
          100,
          200,
          350,
          200,
          150,
          250,
          200,
          400,
          250,
          100,
          400,
          350,
          400,
          100,
          100,
          200,
          150,
          200,
          150,
          250,
          150,
          200,
          200,
          150,
          100,
          350,
          400,
          100,
          250,
          100,
          100,
          150,
          350,
          200,
          250,
          400,
          250,
          250,
          200,
          150,
          200,
          200,
          100,
          150,
          250,
          100,
          100,
          150,
          100,
          150,
          250,
          200,
          250,
          250,
          200,
          350,
          400,
          400,
          250,
          250,
          400,
          250,
          150,
          200,
          100,
          100,
          350,
          100,
          200,
          100,
          100,
          350,
          250,
          200,
          200,
          200,
          150,
          100,
          350,
          200,
          250,
          200,
          100,
          150,
          350,
          200,
          100,
          250,
          350,
          400,
          100,
          400,
          150,
          200,
          100,
          100,
          350,
          150,
          100,
          400,
          350,
          400,
          400,
          200,
          150,
          100,
          350,
          150,
          250,
          150,
          150,
          100,
          250,
          200,
          250,
          250,
          200,
          100,
          100,
          250,
          400
         ],
         "xaxis": "x",
         "yaxis": "y"
        },
        {
         "alignmentgroup": "True",
         "hovertemplate": "Cost=%{x}<extra></extra>",
         "legendgroup": "",
         "marker": {
          "color": "#636efa"
         },
         "name": "",
         "notched": true,
         "offsetgroup": "",
         "showlegend": false,
         "type": "box",
         "x": [
          150,
          400,
          350,
          200,
          350,
          150,
          150,
          400,
          100,
          200,
          100,
          200,
          400,
          250,
          100,
          400,
          350,
          350,
          200,
          400,
          150,
          250,
          100,
          100,
          100,
          250,
          150,
          250,
          100,
          100,
          350,
          250,
          150,
          350,
          100,
          250,
          400,
          200,
          250,
          400,
          350,
          200,
          250,
          400,
          150,
          350,
          200,
          200,
          200,
          200,
          350,
          150,
          200,
          150,
          200,
          100,
          350,
          250,
          400,
          250,
          100,
          250,
          100,
          100,
          200,
          200,
          100,
          150,
          200,
          350,
          400,
          200,
          100,
          350,
          350,
          250,
          200,
          150,
          250,
          400,
          400,
          400,
          400,
          100,
          200,
          250,
          250,
          350,
          350,
          400,
          400,
          150,
          150,
          100,
          150,
          150,
          200,
          250,
          150,
          200,
          200,
          150,
          250,
          350,
          350,
          200,
          100,
          250,
          250,
          250,
          400,
          100,
          350,
          250,
          150,
          250,
          150,
          200,
          150,
          400,
          150,
          400,
          400,
          100,
          400,
          250,
          250,
          250,
          100,
          350,
          400,
          250,
          100,
          150,
          350,
          150,
          350,
          350,
          350,
          400,
          100,
          350,
          150,
          400,
          400,
          150,
          150,
          150,
          150,
          100,
          350,
          250,
          200,
          350,
          250,
          100,
          250,
          350,
          350,
          400,
          400,
          200,
          250,
          350,
          250,
          100,
          250,
          400,
          400,
          200,
          150,
          150,
          100,
          350,
          250,
          150,
          200,
          250,
          200,
          250,
          150,
          150,
          400,
          150,
          250,
          250,
          250,
          200,
          150,
          250,
          200,
          400,
          200,
          400,
          400,
          100,
          350,
          100,
          400,
          200,
          200,
          150,
          350,
          400,
          100,
          400,
          400,
          200,
          350,
          150,
          350,
          400,
          100,
          400,
          150,
          250,
          400,
          150,
          400,
          150,
          150,
          200,
          100,
          250,
          350,
          400,
          250,
          350,
          250,
          350,
          350,
          150,
          400,
          200,
          150,
          400,
          350,
          250,
          400,
          150,
          200,
          100,
          250,
          350,
          150,
          350,
          150,
          400,
          150,
          100,
          150,
          250,
          200,
          350,
          100,
          150,
          250,
          350,
          400,
          200,
          250,
          200,
          350,
          400,
          150,
          400,
          400,
          250,
          100,
          400,
          100,
          250,
          200,
          150,
          350,
          400,
          100,
          100,
          400,
          200,
          350,
          400,
          400,
          400,
          250,
          350,
          250,
          200,
          250,
          350,
          400,
          250,
          400,
          150,
          400,
          400,
          350,
          100,
          250,
          150,
          400,
          250,
          250,
          100,
          400,
          200,
          150,
          100,
          350,
          250,
          250,
          150,
          350,
          250,
          100,
          250,
          400,
          350,
          400,
          350,
          200,
          150,
          150,
          350,
          350,
          400,
          200,
          350,
          400,
          350,
          200,
          350,
          350,
          100,
          150,
          400,
          250,
          200,
          350,
          250,
          150,
          400,
          250,
          250,
          250,
          200,
          100,
          100,
          200,
          100,
          100,
          250,
          350,
          400,
          150,
          100,
          150,
          100,
          150,
          350,
          100,
          400,
          250,
          250,
          400,
          400,
          150,
          200,
          350,
          150,
          150,
          250,
          150,
          150,
          150,
          350,
          200,
          200,
          250,
          200,
          250,
          400,
          250,
          350,
          200,
          100,
          400,
          400,
          100,
          200,
          400,
          250,
          100,
          250,
          100,
          400,
          150,
          200,
          400,
          150,
          150,
          250,
          150,
          400,
          350,
          200,
          150,
          200,
          100,
          350,
          150,
          200,
          250,
          350,
          150,
          150,
          400,
          150,
          400,
          350,
          200,
          100,
          250,
          250,
          100,
          100,
          100,
          250,
          250,
          100,
          200,
          200,
          350,
          200,
          100,
          200,
          350,
          250,
          200,
          200,
          400,
          100,
          350,
          350,
          150,
          100,
          250,
          150,
          100,
          200,
          150,
          350,
          250,
          350,
          150,
          200,
          350,
          400,
          400,
          400,
          350,
          400,
          100,
          250,
          400,
          100,
          200,
          350,
          350,
          250,
          100,
          100,
          250,
          100,
          250,
          250,
          200,
          150,
          250,
          100,
          400,
          350,
          250,
          250,
          200,
          250,
          200,
          350,
          250,
          350,
          200,
          150,
          200,
          150,
          100,
          400,
          400,
          350,
          250,
          100,
          200,
          250,
          200,
          200,
          100,
          150,
          150,
          100,
          150,
          250,
          400,
          150,
          400,
          400,
          250,
          400,
          100,
          150,
          400,
          150,
          400,
          100,
          100,
          100,
          150,
          200,
          400,
          250,
          400,
          250,
          100,
          250,
          150,
          150,
          100,
          400,
          400,
          350,
          350,
          400,
          150,
          400,
          150,
          100,
          200,
          100,
          100,
          250,
          150,
          350,
          150,
          200,
          250,
          250,
          250,
          150,
          350,
          150,
          200,
          100,
          100,
          250,
          150,
          100,
          100,
          250,
          200,
          250,
          400,
          350,
          250,
          150,
          350,
          350,
          250,
          200,
          250,
          250,
          400,
          400,
          200,
          200,
          200,
          250,
          150,
          150,
          350,
          100,
          250,
          150,
          250,
          250,
          150,
          200,
          150,
          100,
          350,
          100,
          400,
          150,
          400,
          400,
          350,
          350,
          200,
          150,
          150,
          350,
          400,
          400,
          200,
          100,
          150,
          200,
          100,
          250,
          400,
          200,
          400,
          250,
          100,
          250,
          350,
          150,
          200,
          400,
          350,
          250,
          100,
          200,
          150,
          150,
          350,
          200,
          350,
          150,
          150,
          400,
          100,
          250,
          100,
          200,
          350,
          200,
          150,
          250,
          200,
          400,
          250,
          100,
          400,
          350,
          400,
          100,
          100,
          200,
          150,
          200,
          150,
          250,
          150,
          200,
          200,
          150,
          100,
          350,
          400,
          100,
          250,
          100,
          100,
          150,
          350,
          200,
          250,
          400,
          250,
          250,
          200,
          150,
          200,
          200,
          100,
          150,
          250,
          100,
          100,
          150,
          100,
          150,
          250,
          200,
          250,
          250,
          200,
          350,
          400,
          400,
          250,
          250,
          400,
          250,
          150,
          200,
          100,
          100,
          350,
          100,
          200,
          100,
          100,
          350,
          250,
          200,
          200,
          200,
          150,
          100,
          350,
          200,
          250,
          200,
          100,
          150,
          350,
          200,
          100,
          250,
          350,
          400,
          100,
          400,
          150,
          200,
          100,
          100,
          350,
          150,
          100,
          400,
          350,
          400,
          400,
          200,
          150,
          100,
          350,
          150,
          250,
          150,
          150,
          100,
          250,
          200,
          250,
          250,
          200,
          100,
          100,
          250,
          400
         ],
         "xaxis": "x2",
         "yaxis": "y2"
        }
       ],
       "layout": {
        "bargap": 0.1,
        "barmode": "relative",
        "legend": {
         "tracegroupgap": 0
        },
        "template": {
         "data": {
          "bar": [
           {
            "error_x": {
             "color": "#2a3f5f"
            },
            "error_y": {
             "color": "#2a3f5f"
            },
            "marker": {
             "line": {
              "color": "#E5ECF6",
              "width": 0.5
             },
             "pattern": {
              "fillmode": "overlay",
              "size": 10,
              "solidity": 0.2
             }
            },
            "type": "bar"
           }
          ],
          "barpolar": [
           {
            "marker": {
             "line": {
              "color": "#E5ECF6",
              "width": 0.5
             },
             "pattern": {
              "fillmode": "overlay",
              "size": 10,
              "solidity": 0.2
             }
            },
            "type": "barpolar"
           }
          ],
          "carpet": [
           {
            "aaxis": {
             "endlinecolor": "#2a3f5f",
             "gridcolor": "white",
             "linecolor": "white",
             "minorgridcolor": "white",
             "startlinecolor": "#2a3f5f"
            },
            "baxis": {
             "endlinecolor": "#2a3f5f",
             "gridcolor": "white",
             "linecolor": "white",
             "minorgridcolor": "white",
             "startlinecolor": "#2a3f5f"
            },
            "type": "carpet"
           }
          ],
          "choropleth": [
           {
            "colorbar": {
             "outlinewidth": 0,
             "ticks": ""
            },
            "type": "choropleth"
           }
          ],
          "contour": [
           {
            "colorbar": {
             "outlinewidth": 0,
             "ticks": ""
            },
            "colorscale": [
             [
              0,
              "#0d0887"
             ],
             [
              0.1111111111111111,
              "#46039f"
             ],
             [
              0.2222222222222222,
              "#7201a8"
             ],
             [
              0.3333333333333333,
              "#9c179e"
             ],
             [
              0.4444444444444444,
              "#bd3786"
             ],
             [
              0.5555555555555556,
              "#d8576b"
             ],
             [
              0.6666666666666666,
              "#ed7953"
             ],
             [
              0.7777777777777778,
              "#fb9f3a"
             ],
             [
              0.8888888888888888,
              "#fdca26"
             ],
             [
              1,
              "#f0f921"
             ]
            ],
            "type": "contour"
           }
          ],
          "contourcarpet": [
           {
            "colorbar": {
             "outlinewidth": 0,
             "ticks": ""
            },
            "type": "contourcarpet"
           }
          ],
          "heatmap": [
           {
            "colorbar": {
             "outlinewidth": 0,
             "ticks": ""
            },
            "colorscale": [
             [
              0,
              "#0d0887"
             ],
             [
              0.1111111111111111,
              "#46039f"
             ],
             [
              0.2222222222222222,
              "#7201a8"
             ],
             [
              0.3333333333333333,
              "#9c179e"
             ],
             [
              0.4444444444444444,
              "#bd3786"
             ],
             [
              0.5555555555555556,
              "#d8576b"
             ],
             [
              0.6666666666666666,
              "#ed7953"
             ],
             [
              0.7777777777777778,
              "#fb9f3a"
             ],
             [
              0.8888888888888888,
              "#fdca26"
             ],
             [
              1,
              "#f0f921"
             ]
            ],
            "type": "heatmap"
           }
          ],
          "heatmapgl": [
           {
            "colorbar": {
             "outlinewidth": 0,
             "ticks": ""
            },
            "colorscale": [
             [
              0,
              "#0d0887"
             ],
             [
              0.1111111111111111,
              "#46039f"
             ],
             [
              0.2222222222222222,
              "#7201a8"
             ],
             [
              0.3333333333333333,
              "#9c179e"
             ],
             [
              0.4444444444444444,
              "#bd3786"
             ],
             [
              0.5555555555555556,
              "#d8576b"
             ],
             [
              0.6666666666666666,
              "#ed7953"
             ],
             [
              0.7777777777777778,
              "#fb9f3a"
             ],
             [
              0.8888888888888888,
              "#fdca26"
             ],
             [
              1,
              "#f0f921"
             ]
            ],
            "type": "heatmapgl"
           }
          ],
          "histogram": [
           {
            "marker": {
             "pattern": {
              "fillmode": "overlay",
              "size": 10,
              "solidity": 0.2
             }
            },
            "type": "histogram"
           }
          ],
          "histogram2d": [
           {
            "colorbar": {
             "outlinewidth": 0,
             "ticks": ""
            },
            "colorscale": [
             [
              0,
              "#0d0887"
             ],
             [
              0.1111111111111111,
              "#46039f"
             ],
             [
              0.2222222222222222,
              "#7201a8"
             ],
             [
              0.3333333333333333,
              "#9c179e"
             ],
             [
              0.4444444444444444,
              "#bd3786"
             ],
             [
              0.5555555555555556,
              "#d8576b"
             ],
             [
              0.6666666666666666,
              "#ed7953"
             ],
             [
              0.7777777777777778,
              "#fb9f3a"
             ],
             [
              0.8888888888888888,
              "#fdca26"
             ],
             [
              1,
              "#f0f921"
             ]
            ],
            "type": "histogram2d"
           }
          ],
          "histogram2dcontour": [
           {
            "colorbar": {
             "outlinewidth": 0,
             "ticks": ""
            },
            "colorscale": [
             [
              0,
              "#0d0887"
             ],
             [
              0.1111111111111111,
              "#46039f"
             ],
             [
              0.2222222222222222,
              "#7201a8"
             ],
             [
              0.3333333333333333,
              "#9c179e"
             ],
             [
              0.4444444444444444,
              "#bd3786"
             ],
             [
              0.5555555555555556,
              "#d8576b"
             ],
             [
              0.6666666666666666,
              "#ed7953"
             ],
             [
              0.7777777777777778,
              "#fb9f3a"
             ],
             [
              0.8888888888888888,
              "#fdca26"
             ],
             [
              1,
              "#f0f921"
             ]
            ],
            "type": "histogram2dcontour"
           }
          ],
          "mesh3d": [
           {
            "colorbar": {
             "outlinewidth": 0,
             "ticks": ""
            },
            "type": "mesh3d"
           }
          ],
          "parcoords": [
           {
            "line": {
             "colorbar": {
              "outlinewidth": 0,
              "ticks": ""
             }
            },
            "type": "parcoords"
           }
          ],
          "pie": [
           {
            "automargin": true,
            "type": "pie"
           }
          ],
          "scatter": [
           {
            "marker": {
             "colorbar": {
              "outlinewidth": 0,
              "ticks": ""
             }
            },
            "type": "scatter"
           }
          ],
          "scatter3d": [
           {
            "line": {
             "colorbar": {
              "outlinewidth": 0,
              "ticks": ""
             }
            },
            "marker": {
             "colorbar": {
              "outlinewidth": 0,
              "ticks": ""
             }
            },
            "type": "scatter3d"
           }
          ],
          "scattercarpet": [
           {
            "marker": {
             "colorbar": {
              "outlinewidth": 0,
              "ticks": ""
             }
            },
            "type": "scattercarpet"
           }
          ],
          "scattergeo": [
           {
            "marker": {
             "colorbar": {
              "outlinewidth": 0,
              "ticks": ""
             }
            },
            "type": "scattergeo"
           }
          ],
          "scattergl": [
           {
            "marker": {
             "colorbar": {
              "outlinewidth": 0,
              "ticks": ""
             }
            },
            "type": "scattergl"
           }
          ],
          "scattermapbox": [
           {
            "marker": {
             "colorbar": {
              "outlinewidth": 0,
              "ticks": ""
             }
            },
            "type": "scattermapbox"
           }
          ],
          "scatterpolar": [
           {
            "marker": {
             "colorbar": {
              "outlinewidth": 0,
              "ticks": ""
             }
            },
            "type": "scatterpolar"
           }
          ],
          "scatterpolargl": [
           {
            "marker": {
             "colorbar": {
              "outlinewidth": 0,
              "ticks": ""
             }
            },
            "type": "scatterpolargl"
           }
          ],
          "scatterternary": [
           {
            "marker": {
             "colorbar": {
              "outlinewidth": 0,
              "ticks": ""
             }
            },
            "type": "scatterternary"
           }
          ],
          "surface": [
           {
            "colorbar": {
             "outlinewidth": 0,
             "ticks": ""
            },
            "colorscale": [
             [
              0,
              "#0d0887"
             ],
             [
              0.1111111111111111,
              "#46039f"
             ],
             [
              0.2222222222222222,
              "#7201a8"
             ],
             [
              0.3333333333333333,
              "#9c179e"
             ],
             [
              0.4444444444444444,
              "#bd3786"
             ],
             [
              0.5555555555555556,
              "#d8576b"
             ],
             [
              0.6666666666666666,
              "#ed7953"
             ],
             [
              0.7777777777777778,
              "#fb9f3a"
             ],
             [
              0.8888888888888888,
              "#fdca26"
             ],
             [
              1,
              "#f0f921"
             ]
            ],
            "type": "surface"
           }
          ],
          "table": [
           {
            "cells": {
             "fill": {
              "color": "#EBF0F8"
             },
             "line": {
              "color": "white"
             }
            },
            "header": {
             "fill": {
              "color": "#C8D4E3"
             },
             "line": {
              "color": "white"
             }
            },
            "type": "table"
           }
          ]
         },
         "layout": {
          "annotationdefaults": {
           "arrowcolor": "#2a3f5f",
           "arrowhead": 0,
           "arrowwidth": 1
          },
          "autotypenumbers": "strict",
          "coloraxis": {
           "colorbar": {
            "outlinewidth": 0,
            "ticks": ""
           }
          },
          "colorscale": {
           "diverging": [
            [
             0,
             "#8e0152"
            ],
            [
             0.1,
             "#c51b7d"
            ],
            [
             0.2,
             "#de77ae"
            ],
            [
             0.3,
             "#f1b6da"
            ],
            [
             0.4,
             "#fde0ef"
            ],
            [
             0.5,
             "#f7f7f7"
            ],
            [
             0.6,
             "#e6f5d0"
            ],
            [
             0.7,
             "#b8e186"
            ],
            [
             0.8,
             "#7fbc41"
            ],
            [
             0.9,
             "#4d9221"
            ],
            [
             1,
             "#276419"
            ]
           ],
           "sequential": [
            [
             0,
             "#0d0887"
            ],
            [
             0.1111111111111111,
             "#46039f"
            ],
            [
             0.2222222222222222,
             "#7201a8"
            ],
            [
             0.3333333333333333,
             "#9c179e"
            ],
            [
             0.4444444444444444,
             "#bd3786"
            ],
            [
             0.5555555555555556,
             "#d8576b"
            ],
            [
             0.6666666666666666,
             "#ed7953"
            ],
            [
             0.7777777777777778,
             "#fb9f3a"
            ],
            [
             0.8888888888888888,
             "#fdca26"
            ],
            [
             1,
             "#f0f921"
            ]
           ],
           "sequentialminus": [
            [
             0,
             "#0d0887"
            ],
            [
             0.1111111111111111,
             "#46039f"
            ],
            [
             0.2222222222222222,
             "#7201a8"
            ],
            [
             0.3333333333333333,
             "#9c179e"
            ],
            [
             0.4444444444444444,
             "#bd3786"
            ],
            [
             0.5555555555555556,
             "#d8576b"
            ],
            [
             0.6666666666666666,
             "#ed7953"
            ],
            [
             0.7777777777777778,
             "#fb9f3a"
            ],
            [
             0.8888888888888888,
             "#fdca26"
            ],
            [
             1,
             "#f0f921"
            ]
           ]
          },
          "colorway": [
           "#636efa",
           "#EF553B",
           "#00cc96",
           "#ab63fa",
           "#FFA15A",
           "#19d3f3",
           "#FF6692",
           "#B6E880",
           "#FF97FF",
           "#FECB52"
          ],
          "font": {
           "color": "#2a3f5f"
          },
          "geo": {
           "bgcolor": "white",
           "lakecolor": "white",
           "landcolor": "#E5ECF6",
           "showlakes": true,
           "showland": true,
           "subunitcolor": "white"
          },
          "hoverlabel": {
           "align": "left"
          },
          "hovermode": "closest",
          "mapbox": {
           "style": "light"
          },
          "paper_bgcolor": "white",
          "plot_bgcolor": "#E5ECF6",
          "polar": {
           "angularaxis": {
            "gridcolor": "white",
            "linecolor": "white",
            "ticks": ""
           },
           "bgcolor": "#E5ECF6",
           "radialaxis": {
            "gridcolor": "white",
            "linecolor": "white",
            "ticks": ""
           }
          },
          "scene": {
           "xaxis": {
            "backgroundcolor": "#E5ECF6",
            "gridcolor": "white",
            "gridwidth": 2,
            "linecolor": "white",
            "showbackground": true,
            "ticks": "",
            "zerolinecolor": "white"
           },
           "yaxis": {
            "backgroundcolor": "#E5ECF6",
            "gridcolor": "white",
            "gridwidth": 2,
            "linecolor": "white",
            "showbackground": true,
            "ticks": "",
            "zerolinecolor": "white"
           },
           "zaxis": {
            "backgroundcolor": "#E5ECF6",
            "gridcolor": "white",
            "gridwidth": 2,
            "linecolor": "white",
            "showbackground": true,
            "ticks": "",
            "zerolinecolor": "white"
           }
          },
          "shapedefaults": {
           "line": {
            "color": "#2a3f5f"
           }
          },
          "ternary": {
           "aaxis": {
            "gridcolor": "white",
            "linecolor": "white",
            "ticks": ""
           },
           "baxis": {
            "gridcolor": "white",
            "linecolor": "white",
            "ticks": ""
           },
           "bgcolor": "#E5ECF6",
           "caxis": {
            "gridcolor": "white",
            "linecolor": "white",
            "ticks": ""
           }
          },
          "title": {
           "x": 0.05
          },
          "xaxis": {
           "automargin": true,
           "gridcolor": "white",
           "linecolor": "white",
           "ticks": "",
           "title": {
            "standoff": 15
           },
           "zerolinecolor": "white",
           "zerolinewidth": 2
          },
          "yaxis": {
           "automargin": true,
           "gridcolor": "white",
           "linecolor": "white",
           "ticks": "",
           "title": {
            "standoff": 15
           },
           "zerolinecolor": "white",
           "zerolinewidth": 2
          }
         }
        },
        "title": {
         "text": "Distribution of Cost"
        },
        "xaxis": {
         "anchor": "y",
         "domain": [
          0,
          1
         ],
         "title": {
          "text": "Cost"
         }
        },
        "xaxis2": {
         "anchor": "y2",
         "domain": [
          0,
          1
         ],
         "matches": "x",
         "showgrid": true,
         "showticklabels": false
        },
        "yaxis": {
         "anchor": "x",
         "domain": [
          0,
          0.8316
         ],
         "title": {
          "text": "count"
         }
        },
        "yaxis2": {
         "anchor": "x2",
         "domain": [
          0.8416,
          1
         ],
         "matches": "y2",
         "showgrid": false,
         "showline": false,
         "showticklabels": false,
         "ticks": ""
        }
       }
      },
      "text/html": [
       "<div>                            <div id=\"fed282cb-212e-4cd3-a086-540bbe92faae\" class=\"plotly-graph-div\" style=\"height:525px; width:100%;\"></div>            <script type=\"text/javascript\">                require([\"plotly\"], function(Plotly) {                    window.PLOTLYENV=window.PLOTLYENV || {};                                    if (document.getElementById(\"fed282cb-212e-4cd3-a086-540bbe92faae\")) {                    Plotly.newPlot(                        \"fed282cb-212e-4cd3-a086-540bbe92faae\",                        [{\"alignmentgroup\":\"True\",\"bingroup\":\"x\",\"hovertemplate\":\"Cost=%{x}<br>count=%{y}<extra></extra>\",\"legendgroup\":\"\",\"marker\":{\"color\":\"#636efa\",\"pattern\":{\"shape\":\"\"}},\"name\":\"\",\"nbinsx\":47,\"offsetgroup\":\"\",\"orientation\":\"v\",\"showlegend\":false,\"x\":[150,400,350,200,350,150,150,400,100,200,100,200,400,250,100,400,350,350,200,400,150,250,100,100,100,250,150,250,100,100,350,250,150,350,100,250,400,200,250,400,350,200,250,400,150,350,200,200,200,200,350,150,200,150,200,100,350,250,400,250,100,250,100,100,200,200,100,150,200,350,400,200,100,350,350,250,200,150,250,400,400,400,400,100,200,250,250,350,350,400,400,150,150,100,150,150,200,250,150,200,200,150,250,350,350,200,100,250,250,250,400,100,350,250,150,250,150,200,150,400,150,400,400,100,400,250,250,250,100,350,400,250,100,150,350,150,350,350,350,400,100,350,150,400,400,150,150,150,150,100,350,250,200,350,250,100,250,350,350,400,400,200,250,350,250,100,250,400,400,200,150,150,100,350,250,150,200,250,200,250,150,150,400,150,250,250,250,200,150,250,200,400,200,400,400,100,350,100,400,200,200,150,350,400,100,400,400,200,350,150,350,400,100,400,150,250,400,150,400,150,150,200,100,250,350,400,250,350,250,350,350,150,400,200,150,400,350,250,400,150,200,100,250,350,150,350,150,400,150,100,150,250,200,350,100,150,250,350,400,200,250,200,350,400,150,400,400,250,100,400,100,250,200,150,350,400,100,100,400,200,350,400,400,400,250,350,250,200,250,350,400,250,400,150,400,400,350,100,250,150,400,250,250,100,400,200,150,100,350,250,250,150,350,250,100,250,400,350,400,350,200,150,150,350,350,400,200,350,400,350,200,350,350,100,150,400,250,200,350,250,150,400,250,250,250,200,100,100,200,100,100,250,350,400,150,100,150,100,150,350,100,400,250,250,400,400,150,200,350,150,150,250,150,150,150,350,200,200,250,200,250,400,250,350,200,100,400,400,100,200,400,250,100,250,100,400,150,200,400,150,150,250,150,400,350,200,150,200,100,350,150,200,250,350,150,150,400,150,400,350,200,100,250,250,100,100,100,250,250,100,200,200,350,200,100,200,350,250,200,200,400,100,350,350,150,100,250,150,100,200,150,350,250,350,150,200,350,400,400,400,350,400,100,250,400,100,200,350,350,250,100,100,250,100,250,250,200,150,250,100,400,350,250,250,200,250,200,350,250,350,200,150,200,150,100,400,400,350,250,100,200,250,200,200,100,150,150,100,150,250,400,150,400,400,250,400,100,150,400,150,400,100,100,100,150,200,400,250,400,250,100,250,150,150,100,400,400,350,350,400,150,400,150,100,200,100,100,250,150,350,150,200,250,250,250,150,350,150,200,100,100,250,150,100,100,250,200,250,400,350,250,150,350,350,250,200,250,250,400,400,200,200,200,250,150,150,350,100,250,150,250,250,150,200,150,100,350,100,400,150,400,400,350,350,200,150,150,350,400,400,200,100,150,200,100,250,400,200,400,250,100,250,350,150,200,400,350,250,100,200,150,150,350,200,350,150,150,400,100,250,100,200,350,200,150,250,200,400,250,100,400,350,400,100,100,200,150,200,150,250,150,200,200,150,100,350,400,100,250,100,100,150,350,200,250,400,250,250,200,150,200,200,100,150,250,100,100,150,100,150,250,200,250,250,200,350,400,400,250,250,400,250,150,200,100,100,350,100,200,100,100,350,250,200,200,200,150,100,350,200,250,200,100,150,350,200,100,250,350,400,100,400,150,200,100,100,350,150,100,400,350,400,400,200,150,100,350,150,250,150,150,100,250,200,250,250,200,100,100,250,400],\"xaxis\":\"x\",\"yaxis\":\"y\",\"type\":\"histogram\"},{\"alignmentgroup\":\"True\",\"hovertemplate\":\"Cost=%{x}<extra></extra>\",\"legendgroup\":\"\",\"marker\":{\"color\":\"#636efa\"},\"name\":\"\",\"notched\":true,\"offsetgroup\":\"\",\"showlegend\":false,\"x\":[150,400,350,200,350,150,150,400,100,200,100,200,400,250,100,400,350,350,200,400,150,250,100,100,100,250,150,250,100,100,350,250,150,350,100,250,400,200,250,400,350,200,250,400,150,350,200,200,200,200,350,150,200,150,200,100,350,250,400,250,100,250,100,100,200,200,100,150,200,350,400,200,100,350,350,250,200,150,250,400,400,400,400,100,200,250,250,350,350,400,400,150,150,100,150,150,200,250,150,200,200,150,250,350,350,200,100,250,250,250,400,100,350,250,150,250,150,200,150,400,150,400,400,100,400,250,250,250,100,350,400,250,100,150,350,150,350,350,350,400,100,350,150,400,400,150,150,150,150,100,350,250,200,350,250,100,250,350,350,400,400,200,250,350,250,100,250,400,400,200,150,150,100,350,250,150,200,250,200,250,150,150,400,150,250,250,250,200,150,250,200,400,200,400,400,100,350,100,400,200,200,150,350,400,100,400,400,200,350,150,350,400,100,400,150,250,400,150,400,150,150,200,100,250,350,400,250,350,250,350,350,150,400,200,150,400,350,250,400,150,200,100,250,350,150,350,150,400,150,100,150,250,200,350,100,150,250,350,400,200,250,200,350,400,150,400,400,250,100,400,100,250,200,150,350,400,100,100,400,200,350,400,400,400,250,350,250,200,250,350,400,250,400,150,400,400,350,100,250,150,400,250,250,100,400,200,150,100,350,250,250,150,350,250,100,250,400,350,400,350,200,150,150,350,350,400,200,350,400,350,200,350,350,100,150,400,250,200,350,250,150,400,250,250,250,200,100,100,200,100,100,250,350,400,150,100,150,100,150,350,100,400,250,250,400,400,150,200,350,150,150,250,150,150,150,350,200,200,250,200,250,400,250,350,200,100,400,400,100,200,400,250,100,250,100,400,150,200,400,150,150,250,150,400,350,200,150,200,100,350,150,200,250,350,150,150,400,150,400,350,200,100,250,250,100,100,100,250,250,100,200,200,350,200,100,200,350,250,200,200,400,100,350,350,150,100,250,150,100,200,150,350,250,350,150,200,350,400,400,400,350,400,100,250,400,100,200,350,350,250,100,100,250,100,250,250,200,150,250,100,400,350,250,250,200,250,200,350,250,350,200,150,200,150,100,400,400,350,250,100,200,250,200,200,100,150,150,100,150,250,400,150,400,400,250,400,100,150,400,150,400,100,100,100,150,200,400,250,400,250,100,250,150,150,100,400,400,350,350,400,150,400,150,100,200,100,100,250,150,350,150,200,250,250,250,150,350,150,200,100,100,250,150,100,100,250,200,250,400,350,250,150,350,350,250,200,250,250,400,400,200,200,200,250,150,150,350,100,250,150,250,250,150,200,150,100,350,100,400,150,400,400,350,350,200,150,150,350,400,400,200,100,150,200,100,250,400,200,400,250,100,250,350,150,200,400,350,250,100,200,150,150,350,200,350,150,150,400,100,250,100,200,350,200,150,250,200,400,250,100,400,350,400,100,100,200,150,200,150,250,150,200,200,150,100,350,400,100,250,100,100,150,350,200,250,400,250,250,200,150,200,200,100,150,250,100,100,150,100,150,250,200,250,250,200,350,400,400,250,250,400,250,150,200,100,100,350,100,200,100,100,350,250,200,200,200,150,100,350,200,250,200,100,150,350,200,100,250,350,400,100,400,150,200,100,100,350,150,100,400,350,400,400,200,150,100,350,150,250,150,150,100,250,200,250,250,200,100,100,250,400],\"xaxis\":\"x2\",\"yaxis\":\"y2\",\"type\":\"box\"}],                        {\"template\":{\"data\":{\"bar\":[{\"error_x\":{\"color\":\"#2a3f5f\"},\"error_y\":{\"color\":\"#2a3f5f\"},\"marker\":{\"line\":{\"color\":\"#E5ECF6\",\"width\":0.5},\"pattern\":{\"fillmode\":\"overlay\",\"size\":10,\"solidity\":0.2}},\"type\":\"bar\"}],\"barpolar\":[{\"marker\":{\"line\":{\"color\":\"#E5ECF6\",\"width\":0.5},\"pattern\":{\"fillmode\":\"overlay\",\"size\":10,\"solidity\":0.2}},\"type\":\"barpolar\"}],\"carpet\":[{\"aaxis\":{\"endlinecolor\":\"#2a3f5f\",\"gridcolor\":\"white\",\"linecolor\":\"white\",\"minorgridcolor\":\"white\",\"startlinecolor\":\"#2a3f5f\"},\"baxis\":{\"endlinecolor\":\"#2a3f5f\",\"gridcolor\":\"white\",\"linecolor\":\"white\",\"minorgridcolor\":\"white\",\"startlinecolor\":\"#2a3f5f\"},\"type\":\"carpet\"}],\"choropleth\":[{\"colorbar\":{\"outlinewidth\":0,\"ticks\":\"\"},\"type\":\"choropleth\"}],\"contour\":[{\"colorbar\":{\"outlinewidth\":0,\"ticks\":\"\"},\"colorscale\":[[0.0,\"#0d0887\"],[0.1111111111111111,\"#46039f\"],[0.2222222222222222,\"#7201a8\"],[0.3333333333333333,\"#9c179e\"],[0.4444444444444444,\"#bd3786\"],[0.5555555555555556,\"#d8576b\"],[0.6666666666666666,\"#ed7953\"],[0.7777777777777778,\"#fb9f3a\"],[0.8888888888888888,\"#fdca26\"],[1.0,\"#f0f921\"]],\"type\":\"contour\"}],\"contourcarpet\":[{\"colorbar\":{\"outlinewidth\":0,\"ticks\":\"\"},\"type\":\"contourcarpet\"}],\"heatmap\":[{\"colorbar\":{\"outlinewidth\":0,\"ticks\":\"\"},\"colorscale\":[[0.0,\"#0d0887\"],[0.1111111111111111,\"#46039f\"],[0.2222222222222222,\"#7201a8\"],[0.3333333333333333,\"#9c179e\"],[0.4444444444444444,\"#bd3786\"],[0.5555555555555556,\"#d8576b\"],[0.6666666666666666,\"#ed7953\"],[0.7777777777777778,\"#fb9f3a\"],[0.8888888888888888,\"#fdca26\"],[1.0,\"#f0f921\"]],\"type\":\"heatmap\"}],\"heatmapgl\":[{\"colorbar\":{\"outlinewidth\":0,\"ticks\":\"\"},\"colorscale\":[[0.0,\"#0d0887\"],[0.1111111111111111,\"#46039f\"],[0.2222222222222222,\"#7201a8\"],[0.3333333333333333,\"#9c179e\"],[0.4444444444444444,\"#bd3786\"],[0.5555555555555556,\"#d8576b\"],[0.6666666666666666,\"#ed7953\"],[0.7777777777777778,\"#fb9f3a\"],[0.8888888888888888,\"#fdca26\"],[1.0,\"#f0f921\"]],\"type\":\"heatmapgl\"}],\"histogram\":[{\"marker\":{\"pattern\":{\"fillmode\":\"overlay\",\"size\":10,\"solidity\":0.2}},\"type\":\"histogram\"}],\"histogram2d\":[{\"colorbar\":{\"outlinewidth\":0,\"ticks\":\"\"},\"colorscale\":[[0.0,\"#0d0887\"],[0.1111111111111111,\"#46039f\"],[0.2222222222222222,\"#7201a8\"],[0.3333333333333333,\"#9c179e\"],[0.4444444444444444,\"#bd3786\"],[0.5555555555555556,\"#d8576b\"],[0.6666666666666666,\"#ed7953\"],[0.7777777777777778,\"#fb9f3a\"],[0.8888888888888888,\"#fdca26\"],[1.0,\"#f0f921\"]],\"type\":\"histogram2d\"}],\"histogram2dcontour\":[{\"colorbar\":{\"outlinewidth\":0,\"ticks\":\"\"},\"colorscale\":[[0.0,\"#0d0887\"],[0.1111111111111111,\"#46039f\"],[0.2222222222222222,\"#7201a8\"],[0.3333333333333333,\"#9c179e\"],[0.4444444444444444,\"#bd3786\"],[0.5555555555555556,\"#d8576b\"],[0.6666666666666666,\"#ed7953\"],[0.7777777777777778,\"#fb9f3a\"],[0.8888888888888888,\"#fdca26\"],[1.0,\"#f0f921\"]],\"type\":\"histogram2dcontour\"}],\"mesh3d\":[{\"colorbar\":{\"outlinewidth\":0,\"ticks\":\"\"},\"type\":\"mesh3d\"}],\"parcoords\":[{\"line\":{\"colorbar\":{\"outlinewidth\":0,\"ticks\":\"\"}},\"type\":\"parcoords\"}],\"pie\":[{\"automargin\":true,\"type\":\"pie\"}],\"scatter\":[{\"marker\":{\"colorbar\":{\"outlinewidth\":0,\"ticks\":\"\"}},\"type\":\"scatter\"}],\"scatter3d\":[{\"line\":{\"colorbar\":{\"outlinewidth\":0,\"ticks\":\"\"}},\"marker\":{\"colorbar\":{\"outlinewidth\":0,\"ticks\":\"\"}},\"type\":\"scatter3d\"}],\"scattercarpet\":[{\"marker\":{\"colorbar\":{\"outlinewidth\":0,\"ticks\":\"\"}},\"type\":\"scattercarpet\"}],\"scattergeo\":[{\"marker\":{\"colorbar\":{\"outlinewidth\":0,\"ticks\":\"\"}},\"type\":\"scattergeo\"}],\"scattergl\":[{\"marker\":{\"colorbar\":{\"outlinewidth\":0,\"ticks\":\"\"}},\"type\":\"scattergl\"}],\"scattermapbox\":[{\"marker\":{\"colorbar\":{\"outlinewidth\":0,\"ticks\":\"\"}},\"type\":\"scattermapbox\"}],\"scatterpolar\":[{\"marker\":{\"colorbar\":{\"outlinewidth\":0,\"ticks\":\"\"}},\"type\":\"scatterpolar\"}],\"scatterpolargl\":[{\"marker\":{\"colorbar\":{\"outlinewidth\":0,\"ticks\":\"\"}},\"type\":\"scatterpolargl\"}],\"scatterternary\":[{\"marker\":{\"colorbar\":{\"outlinewidth\":0,\"ticks\":\"\"}},\"type\":\"scatterternary\"}],\"surface\":[{\"colorbar\":{\"outlinewidth\":0,\"ticks\":\"\"},\"colorscale\":[[0.0,\"#0d0887\"],[0.1111111111111111,\"#46039f\"],[0.2222222222222222,\"#7201a8\"],[0.3333333333333333,\"#9c179e\"],[0.4444444444444444,\"#bd3786\"],[0.5555555555555556,\"#d8576b\"],[0.6666666666666666,\"#ed7953\"],[0.7777777777777778,\"#fb9f3a\"],[0.8888888888888888,\"#fdca26\"],[1.0,\"#f0f921\"]],\"type\":\"surface\"}],\"table\":[{\"cells\":{\"fill\":{\"color\":\"#EBF0F8\"},\"line\":{\"color\":\"white\"}},\"header\":{\"fill\":{\"color\":\"#C8D4E3\"},\"line\":{\"color\":\"white\"}},\"type\":\"table\"}]},\"layout\":{\"annotationdefaults\":{\"arrowcolor\":\"#2a3f5f\",\"arrowhead\":0,\"arrowwidth\":1},\"autotypenumbers\":\"strict\",\"coloraxis\":{\"colorbar\":{\"outlinewidth\":0,\"ticks\":\"\"}},\"colorscale\":{\"diverging\":[[0,\"#8e0152\"],[0.1,\"#c51b7d\"],[0.2,\"#de77ae\"],[0.3,\"#f1b6da\"],[0.4,\"#fde0ef\"],[0.5,\"#f7f7f7\"],[0.6,\"#e6f5d0\"],[0.7,\"#b8e186\"],[0.8,\"#7fbc41\"],[0.9,\"#4d9221\"],[1,\"#276419\"]],\"sequential\":[[0.0,\"#0d0887\"],[0.1111111111111111,\"#46039f\"],[0.2222222222222222,\"#7201a8\"],[0.3333333333333333,\"#9c179e\"],[0.4444444444444444,\"#bd3786\"],[0.5555555555555556,\"#d8576b\"],[0.6666666666666666,\"#ed7953\"],[0.7777777777777778,\"#fb9f3a\"],[0.8888888888888888,\"#fdca26\"],[1.0,\"#f0f921\"]],\"sequentialminus\":[[0.0,\"#0d0887\"],[0.1111111111111111,\"#46039f\"],[0.2222222222222222,\"#7201a8\"],[0.3333333333333333,\"#9c179e\"],[0.4444444444444444,\"#bd3786\"],[0.5555555555555556,\"#d8576b\"],[0.6666666666666666,\"#ed7953\"],[0.7777777777777778,\"#fb9f3a\"],[0.8888888888888888,\"#fdca26\"],[1.0,\"#f0f921\"]]},\"colorway\":[\"#636efa\",\"#EF553B\",\"#00cc96\",\"#ab63fa\",\"#FFA15A\",\"#19d3f3\",\"#FF6692\",\"#B6E880\",\"#FF97FF\",\"#FECB52\"],\"font\":{\"color\":\"#2a3f5f\"},\"geo\":{\"bgcolor\":\"white\",\"lakecolor\":\"white\",\"landcolor\":\"#E5ECF6\",\"showlakes\":true,\"showland\":true,\"subunitcolor\":\"white\"},\"hoverlabel\":{\"align\":\"left\"},\"hovermode\":\"closest\",\"mapbox\":{\"style\":\"light\"},\"paper_bgcolor\":\"white\",\"plot_bgcolor\":\"#E5ECF6\",\"polar\":{\"angularaxis\":{\"gridcolor\":\"white\",\"linecolor\":\"white\",\"ticks\":\"\"},\"bgcolor\":\"#E5ECF6\",\"radialaxis\":{\"gridcolor\":\"white\",\"linecolor\":\"white\",\"ticks\":\"\"}},\"scene\":{\"xaxis\":{\"backgroundcolor\":\"#E5ECF6\",\"gridcolor\":\"white\",\"gridwidth\":2,\"linecolor\":\"white\",\"showbackground\":true,\"ticks\":\"\",\"zerolinecolor\":\"white\"},\"yaxis\":{\"backgroundcolor\":\"#E5ECF6\",\"gridcolor\":\"white\",\"gridwidth\":2,\"linecolor\":\"white\",\"showbackground\":true,\"ticks\":\"\",\"zerolinecolor\":\"white\"},\"zaxis\":{\"backgroundcolor\":\"#E5ECF6\",\"gridcolor\":\"white\",\"gridwidth\":2,\"linecolor\":\"white\",\"showbackground\":true,\"ticks\":\"\",\"zerolinecolor\":\"white\"}},\"shapedefaults\":{\"line\":{\"color\":\"#2a3f5f\"}},\"ternary\":{\"aaxis\":{\"gridcolor\":\"white\",\"linecolor\":\"white\",\"ticks\":\"\"},\"baxis\":{\"gridcolor\":\"white\",\"linecolor\":\"white\",\"ticks\":\"\"},\"bgcolor\":\"#E5ECF6\",\"caxis\":{\"gridcolor\":\"white\",\"linecolor\":\"white\",\"ticks\":\"\"}},\"title\":{\"x\":0.05},\"xaxis\":{\"automargin\":true,\"gridcolor\":\"white\",\"linecolor\":\"white\",\"ticks\":\"\",\"title\":{\"standoff\":15},\"zerolinecolor\":\"white\",\"zerolinewidth\":2},\"yaxis\":{\"automargin\":true,\"gridcolor\":\"white\",\"linecolor\":\"white\",\"ticks\":\"\",\"title\":{\"standoff\":15},\"zerolinecolor\":\"white\",\"zerolinewidth\":2}}},\"xaxis\":{\"anchor\":\"y\",\"domain\":[0.0,1.0],\"title\":{\"text\":\"Cost\"}},\"yaxis\":{\"anchor\":\"x\",\"domain\":[0.0,0.8316],\"title\":{\"text\":\"count\"}},\"xaxis2\":{\"anchor\":\"y2\",\"domain\":[0.0,1.0],\"matches\":\"x\",\"showticklabels\":false,\"showgrid\":true},\"yaxis2\":{\"anchor\":\"x2\",\"domain\":[0.8416,1.0],\"matches\":\"y2\",\"showticklabels\":false,\"showline\":false,\"ticks\":\"\",\"showgrid\":false},\"legend\":{\"tracegroupgap\":0},\"title\":{\"text\":\"Distribution of Cost\"},\"barmode\":\"relative\",\"bargap\":0.1},                        {\"responsive\": true}                    ).then(function(){\n",
       "                            \n",
       "var gd = document.getElementById('fed282cb-212e-4cd3-a086-540bbe92faae');\n",
       "var x = new MutationObserver(function (mutations, observer) {{\n",
       "        var display = window.getComputedStyle(gd).display;\n",
       "        if (!display || display === 'none') {{\n",
       "            console.log([gd, 'removed!']);\n",
       "            Plotly.purge(gd);\n",
       "            observer.disconnect();\n",
       "        }}\n",
       "}});\n",
       "\n",
       "// Listen for the removal of the full notebook cells\n",
       "var notebookContainer = gd.closest('#notebook-container');\n",
       "if (notebookContainer) {{\n",
       "    x.observe(notebookContainer, {childList: true});\n",
       "}}\n",
       "\n",
       "// Listen for the clearing of the current output cell\n",
       "var outputEl = gd.closest('.output');\n",
       "if (outputEl) {{\n",
       "    x.observe(outputEl, {childList: true});\n",
       "}}\n",
       "\n",
       "                        })                };                });            </script>        </div>"
      ]
     },
     "metadata": {},
     "output_type": "display_data"
    }
   ],
   "source": [
    "RegressionPipeline(groundOwner1_df)"
   ]
  },
  {
   "cell_type": "code",
   "execution_count": null,
   "id": "cb788e32",
   "metadata": {},
   "outputs": [],
   "source": [
    "RegressionPipeline(groundOwner2_df)"
   ]
  },
  {
   "cell_type": "code",
   "execution_count": null,
   "id": "40520bf0",
   "metadata": {},
   "outputs": [],
   "source": [
    "RegressionPipeline(groundOwner3_df)"
   ]
  },
  {
   "cell_type": "code",
   "execution_count": null,
   "id": "5cc1e074",
   "metadata": {},
   "outputs": [],
   "source": [
    "RegressionPipeline(groundOwner4_df)"
   ]
  },
  {
   "cell_type": "markdown",
   "id": "55de192c",
   "metadata": {},
   "source": [
    "# All Ensemble Techniques\n",
    "- methods understand from 84 - 102 \n",
    "- implement by searching method name "
   ]
  },
  {
   "cell_type": "markdown",
   "id": "a5d8d291",
   "metadata": {},
   "source": [
    "# Pseudo Fit "
   ]
  },
  {
   "cell_type": "markdown",
   "id": "4cce524d",
   "metadata": {},
   "source": [
    "# Own Fit (from rp)"
   ]
  },
  {
   "cell_type": "code",
   "execution_count": null,
   "id": "e5a88ead",
   "metadata": {},
   "outputs": [],
   "source": []
  }
 ],
 "metadata": {
  "kernelspec": {
   "display_name": "Python 3 (ipykernel)",
   "language": "python",
   "name": "python3"
  },
  "language_info": {
   "codemirror_mode": {
    "name": "ipython",
    "version": 3
   },
   "file_extension": ".py",
   "mimetype": "text/x-python",
   "name": "python",
   "nbconvert_exporter": "python",
   "pygments_lexer": "ipython3",
   "version": "3.9.7"
  }
 },
 "nbformat": 4,
 "nbformat_minor": 5
}
